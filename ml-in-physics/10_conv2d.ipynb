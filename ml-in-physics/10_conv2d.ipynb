{
 "cells": [
  {
   "cell_type": "code",
   "execution_count": 7,
   "metadata": {},
   "outputs": [],
   "source": [
    "import numpy as np\n",
    "import matplotlib.pyplot as plt\n",
    "\n",
    "import tensorflow as tf\n",
    "\n",
    "from tensorflow.keras.datasets import mnist #to import our dataset\n",
    "from tensorflow.keras.models import Sequential, Model # imports our type of network\n",
    "from tensorflow.keras.layers import Dense, Flatten,Conv2D, MaxPooling2D, Input, Lambda, Layer, ReLU # imports our layers we want to use\n",
    "\n",
    "from tensorflow.keras.losses import categorical_crossentropy #loss function\n",
    "from tensorflow.keras.optimizers import Adam, SGD #optimisers\n",
    "from tensorflow.keras.utils import to_categorical #some function for data preparation\n",
    "\n",
    "\n",
    "\n"
   ]
  },
  {
   "cell_type": "code",
   "execution_count": 8,
   "metadata": {
    "collapsed": true
   },
   "outputs": [],
   "source": [
    "from scipy.ndimage import rotate\n",
    "\n",
    "def rotate_img(img, angle):\n",
    "    #angle in degree\n",
    "    return rotate(img, angle)\n",
    "\n",
    "# number of classes of the mnist dataset\n",
    "num_classes = 10\n",
    "\n",
    "# input image dimensions\n",
    "img_rows, img_cols = 28, 28\n",
    "\n",
    "# load mnist data, split between train and test sets\n",
    "(x_train, y_train), (x_test, y_test) = mnist.load_data()\n",
    "\n",
    "#prepare the data\n",
    "x_train = x_train.astype('float32')\n",
    "x_test = x_test.astype('float32')\n",
    "x_train /= 255\n",
    "x_test /= 255\n",
    "\n",
    "# convert class vectors to binary class matrices\n",
    "y_train = to_categorical(y_train, num_classes)\n",
    "y_test = to_categorical(y_test, num_classes)\n",
    "\n",
    "x_train = x_train.reshape(len(x_train),28,28,1)\n",
    "x_test = x_test.reshape(len(x_test),28,28,1)"
   ]
  },
  {
   "cell_type": "code",
   "execution_count": 9,
   "metadata": {},
   "outputs": [
    {
     "name": "stdout",
     "output_type": "stream",
     "text": [
      "Model: \"functional_3\"\n",
      "_________________________________________________________________\n",
      "Layer (type)                 Output Shape              Param #   \n",
      "=================================================================\n",
      "input_2 (InputLayer)         [(None, 28, 28, 1)]       0         \n",
      "_________________________________________________________________\n",
      "conv2d_1 (Conv2D)            (None, 28, 28, 2)         52        \n",
      "=================================================================\n",
      "Total params: 52\n",
      "Trainable params: 52\n",
      "Non-trainable params: 0\n",
      "_________________________________________________________________\n"
     ]
    }
   ],
   "source": [
    "input_network = Input(shape=(28,28,1)) #(length,width,channels)\n",
    "x = Conv2D(2,(5,5),activation='relu',use_bias=True,padding='same')(input_network)\n",
    "#x = MaxPooling2D()(x)\n",
    "#x = Conv2D(200,(5,5),activation='relu',use_bias=True)(x)\n",
    "#x = Lambda(lambda x: tf.einsum('ijkl->ijlk',x))(x)\n",
    "#x = Conv2D(100,(5,5),activation='relu',use_bias=False)(x)\n",
    "#x = Lambda(lambda x: tf.stack([x[0],x[1]],axis=-1))([x,x])\n",
    "#x = MaxPooling2D()(x)\n",
    "model= Model(input_network,outputs=x)\n",
    "model.summary()"
   ]
  },
  {
   "cell_type": "code",
   "execution_count": 10,
   "metadata": {},
   "outputs": [
    {
     "data": {
      "text/plain": "(5, 5, 1, 2)"
     },
     "execution_count": 10,
     "metadata": {},
     "output_type": "execute_result"
    }
   ],
   "source": [
    "weights=model.layers[1].get_weights()\n",
    "np.shape(weights[0])"
   ]
  },
  {
   "cell_type": "code",
   "execution_count": 11,
   "metadata": {
    "collapsed": true
   },
   "outputs": [],
   "source": [
    "# Hyperparameter tuning:\n",
    "# scan over hyperparameters.\n",
    "# - start with a couple of architectures and check their performance on some short runs\n",
    "# -> to get a feeling for how sensitive the performance is to certain hyperparameters\n",
    "# - which parameters would I be changing? layer dimensions, architecture. 2 hidden dense layers, 5 hidden dense layers\n",
    "# - change the dimension from 100 hidden units to 1000 hidden units.\n",
    "# - optimiser, I usually start with Adam\n",
    "# - how is my performance of these architectures? can i see some pattern?\n",
    "# - weight-initialisation\n",
    "\n",
    "# Initial guess for the architecture: in particular for CNNs\n",
    "# - to look in the literature for successful architectures (e.g. by looking in benchmark performances)\n",
    "\n",
    "# 100% performance: you always should ask whether this is expected?\n",
    "\n",
    "# performance in classification: check accuracy (loss might be mis-leading e.g. when including regularisation)\n",
    "\n",
    "# hardware issues: try your code on different platforms\n",
    "\n",
    "#Conv2D filter and kernel size: \n",
    "#if you don't want to loose information you can increase the number filters in deeper layers\n",
    "#. kernel size often fixed by physics problem at hand (nearest neighbour interaction in lattice models)\n"
   ]
  },
  {
   "cell_type": "code",
   "execution_count": 12,
   "metadata": {
    "collapsed": true
   },
   "outputs": [],
   "source": [
    "# Remote Jupyter notebook\n",
    "# you can run your jupyter notebook remotely in the cip-lab\n",
    "\n",
    "# - vpn connection\n",
    "# - ssh into the machine you want to run on it\n",
    "# - screen #allows you to close the connection and come back to it (e.g. when internet breaks down)\n",
    "# - module load tensorflow/1.12.3\n",
    "# - jupyter notebook --no-browser --port=8888 (for example)\n",
    "# - on your local machine: ssh -N -f -L localhost:8888:localhost:8888 username@machinecip.physik.uni-muenchen.de (generates ssh tunnel)\n",
    "# - access the remote kernel in your browser: localhost:8888 (password was displayed on remote machine)\n",
    "\n",
    "# GPU: google collab"
   ]
  }
 ],
 "metadata": {
  "kernelspec": {
   "name": "pycharm-c4f24b27",
   "language": "python",
   "display_name": "PyCharm (MLinPhysics)"
  },
  "language_info": {
   "codemirror_mode": {
    "name": "ipython",
    "version": 3
   },
   "file_extension": ".py",
   "mimetype": "text/x-python",
   "name": "python",
   "nbconvert_exporter": "python",
   "pygments_lexer": "ipython3",
   "version": "3.6.1"
  }
 },
 "nbformat": 4,
 "nbformat_minor": 2
}