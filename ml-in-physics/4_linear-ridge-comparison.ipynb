{
 "cells": [
  {
   "cell_type": "code",
   "execution_count": 1,
   "metadata": {
    "collapsed": true
   },
   "outputs": [],
   "source": [
    "import numpy as np\n",
    "import matplotlib.pyplot as plt"
   ]
  },
  {
   "cell_type": "code",
   "execution_count": null,
   "metadata": {
    "collapsed": true
   },
   "outputs": [],
   "source": [
    "## Linear regression"
   ]
  },
  {
   "cell_type": "code",
   "execution_count": 4,
   "metadata": {},
   "outputs": [
    {
     "name": "stdout",
     "output_type": "stream",
     "text": [
      "Our true weights\n",
      "[1. 1. 1. 1. 1. 1. 1. 1. 1. 1.]\n"
     ]
    }
   ],
   "source": [
    "#p=10, n=1000\n",
    "X=np.random.uniform(-10,10,size=(1000,10))\n",
    "\n",
    "wtrue=np.ones(10)\n",
    "print('Our true weights')\n",
    "print(wtrue)\n",
    "\n",
    "#noise\n",
    "noise=np.random.normal(scale=10,size=1000)\n",
    "\n",
    "#our data\n",
    "Y=np.einsum('ij,j->i',X,wtrue)+noise"
   ]
  },
  {
   "cell_type": "code",
   "execution_count": null,
   "metadata": {
    "collapsed": true
   },
   "outputs": [],
   "source": [
    "## Linear regression"
   ]
  },
  {
   "cell_type": "code",
   "execution_count": 5,
   "metadata": {},
   "outputs": [
    {
     "data": {
      "text/plain": [
       "array([1.06486102, 0.97986004, 1.02239283, 1.00500987, 0.96763664,\n",
       "       0.92202621, 0.9961868 , 1.06001138, 1.04145662, 1.0737295 ])"
      ]
     },
     "execution_count": 5,
     "metadata": {},
     "output_type": "execute_result"
    }
   ],
   "source": [
    "#(X^T X)^{-1}\n",
    "XtX_inv=np.linalg.inv(np.einsum('ij,jk->ik',np.transpose(X),X))\n",
    "\n",
    "wLR=np.einsum('ij,jk,k->i',XtX_inv,np.transpose(X),Y)\n",
    "wLR"
   ]
  },
  {
   "cell_type": "code",
   "execution_count": 34,
   "metadata": {
    "collapsed": true
   },
   "outputs": [],
   "source": [
    "## Ridge regression"
   ]
  },
  {
   "cell_type": "code",
   "execution_count": 6,
   "metadata": {},
   "outputs": [
    {
     "data": {
      "text/plain": [
       "array([1.06453518, 0.97958347, 1.02206952, 1.00471765, 0.96730786,\n",
       "       0.92170824, 0.99592169, 1.0597    , 1.04117237, 1.07340055])"
      ]
     },
     "execution_count": 6,
     "metadata": {},
     "output_type": "execute_result"
    }
   ],
   "source": [
    "Lambda=10\n",
    "\n",
    "XtXLambda_inv=np.linalg.inv(np.einsum('ij,jk->ik',np.transpose(X),X)+Lambda*np.diag(np.ones(10)))\n",
    "\n",
    "wRidge=np.einsum('ij,jk,k->i',XtXLambda_inv,np.transpose(X),Y)\n",
    "wRidge"
   ]
  },
  {
   "cell_type": "code",
   "execution_count": 41,
   "metadata": {
    "collapsed": true
   },
   "outputs": [],
   "source": [
    "## Comparing linear and ridge regression"
   ]
  },
  {
   "cell_type": "code",
   "execution_count": 7,
   "metadata": {
    "collapsed": true
   },
   "outputs": [],
   "source": [
    "yRidge=np.einsum('ij,j->i',X,wRidge)\n",
    "yLR=np.einsum('ij,j->i',X,wLR)"
   ]
  },
  {
   "cell_type": "code",
   "execution_count": 8,
   "metadata": {},
   "outputs": [
    {
     "data": {
      "text/plain": [
       "0.004456752423717003"
      ]
     },
     "execution_count": 8,
     "metadata": {},
     "output_type": "execute_result"
    }
   ],
   "source": [
    "# just to get a glimpse (repeat this multiple times for robust results):\n",
    "np.mean(np.abs(yLR)-np.abs(yRidge))"
   ]
  },
  {
   "cell_type": "code",
   "execution_count": 60,
   "metadata": {},
   "outputs": [
    {
     "name": "stdout",
     "output_type": "stream",
     "text": [
      "(1000, 1000)\n",
      "(10,)\n",
      "(10, 10)\n"
     ]
    }
   ],
   "source": [
    "U, D, Vt = np.linalg.svd(X, full_matrices=True)\n",
    "print(np.shape(U))\n",
    "print(np.shape(D))\n",
    "print(np.shape(Vt))"
   ]
  },
  {
   "cell_type": "code",
   "execution_count": 64,
   "metadata": {},
   "outputs": [
    {
     "name": "stdout",
     "output_type": "stream",
     "text": [
      "[[-1.09139364e-10  3.75166564e-11  1.19371180e-11  3.06954462e-12\n",
      "  -1.88720151e-11  8.86757334e-12 -4.09272616e-12 -2.09183781e-11\n",
      "   1.59161573e-11  1.70530257e-11]\n",
      " [ 3.69482223e-11  7.27595761e-12 -1.53477231e-11  1.40971679e-11\n",
      "  -1.73372428e-12  4.18367563e-11  1.95541361e-11  7.50333129e-12\n",
      "   1.43245416e-11 -1.50066626e-11]\n",
      " [ 1.28466127e-11 -1.35287337e-11 -1.01863407e-10 -1.05870868e-11\n",
      "   7.16227078e-12 -4.00177669e-11 -1.36424205e-11 -3.52429197e-12\n",
      "   7.73070497e-12  1.70530257e-11]\n",
      " [ 2.16004992e-12  1.54614099e-11 -1.04733999e-11  4.72937245e-11\n",
      "  -3.92219590e-11 -3.06954462e-12  1.79625204e-11  4.12114787e-12\n",
      "   4.54747351e-13  1.18234311e-11]\n",
      " [-1.79625204e-11 -1.27897692e-12  6.93489710e-12 -4.14956958e-11\n",
      "  -6.54836185e-11  2.98996383e-11 -5.22959454e-12  5.45696821e-12\n",
      "   1.02318154e-12  5.00222086e-11]\n",
      " [ 8.86757334e-12  4.18367563e-11 -4.00177669e-11 -3.06954462e-12\n",
      "   2.98996383e-11 -2.91038305e-11 -3.41060513e-12 -6.13908924e-12\n",
      "   1.42108547e-12 -2.52384780e-11]\n",
      " [-4.09272616e-12  2.00088834e-11 -1.25055521e-11  1.79625204e-11\n",
      "  -5.22959454e-12 -4.32009983e-12 -2.18278728e-11  1.20508048e-11\n",
      "  -8.07176548e-12 -7.04858394e-12]\n",
      " [-1.86446414e-11  7.50333129e-12 -3.52429197e-12  4.12114787e-12\n",
      "   5.45696821e-12 -7.04858394e-12  1.29602995e-11 -8.73114914e-11\n",
      "  -2.38742359e-12  7.73070497e-12]\n",
      " [ 1.50066626e-11  1.34150469e-11  9.09494702e-12  0.00000000e+00\n",
      "   1.02318154e-12  1.87583282e-12 -8.98126018e-12 -2.38742359e-12\n",
      "  -8.73114914e-11 -1.00044417e-11]\n",
      " [ 1.70530257e-11 -1.52340363e-11  1.69961822e-11  1.20508048e-11\n",
      "   4.86579665e-11 -2.52384780e-11 -5.68434189e-12  7.73070497e-12\n",
      "  -1.02318154e-11 -9.09494702e-11]]\n"
     ]
    },
    {
     "data": {
      "text/plain": [
       "array([[ 1.00000000e+00,  0.00000000e+00,  1.94289029e-16,\n",
       "         2.91433544e-16, -1.11022302e-16, -2.77555756e-17,\n",
       "         1.52655666e-16, -1.11022302e-16,  4.16333634e-17,\n",
       "         1.38777878e-16],\n",
       "       [ 0.00000000e+00,  1.00000000e+00, -4.57966998e-16,\n",
       "        -4.16333634e-16,  5.55111512e-17,  2.98372438e-16,\n",
       "         0.00000000e+00, -4.16333634e-16,  3.05311332e-16,\n",
       "        -4.02455846e-16],\n",
       "       [ 1.94289029e-16, -4.57966998e-16,  1.00000000e+00,\n",
       "        -1.21430643e-16, -1.11022302e-16,  1.38777878e-17,\n",
       "        -8.32667268e-17,  2.77555756e-17,  6.93889390e-18,\n",
       "         1.38777878e-17],\n",
       "       [ 2.91433544e-16, -4.16333634e-16, -1.21430643e-16,\n",
       "         1.00000000e+00,  3.05311332e-16, -4.09394740e-16,\n",
       "        -6.24500451e-17, -1.80411242e-16,  2.87964097e-16,\n",
       "        -3.19189120e-16],\n",
       "       [-1.11022302e-16,  5.55111512e-17, -1.11022302e-16,\n",
       "         3.05311332e-16,  1.00000000e+00,  1.04083409e-16,\n",
       "        -1.24900090e-16, -1.66533454e-16, -1.38777878e-17,\n",
       "        -2.77555756e-16],\n",
       "       [-2.77555756e-17,  2.98372438e-16,  1.38777878e-17,\n",
       "        -4.09394740e-16,  1.04083409e-16,  1.00000000e+00,\n",
       "        -5.23886490e-16,  3.33066907e-16,  2.42861287e-17,\n",
       "         4.23272528e-16],\n",
       "       [ 1.52655666e-16,  0.00000000e+00, -8.32667268e-17,\n",
       "        -6.24500451e-17, -1.24900090e-16, -5.23886490e-16,\n",
       "         1.00000000e+00, -2.84494650e-16, -1.24900090e-16,\n",
       "         2.49800181e-16],\n",
       "       [-1.11022302e-16, -4.16333634e-16,  2.77555756e-17,\n",
       "        -1.80411242e-16, -1.66533454e-16,  3.33066907e-16,\n",
       "        -2.84494650e-16,  1.00000000e+00,  3.26128013e-16,\n",
       "        -9.71445147e-17],\n",
       "       [ 4.16333634e-17,  3.05311332e-16,  6.93889390e-18,\n",
       "         2.87964097e-16, -1.38777878e-17,  2.42861287e-17,\n",
       "        -1.24900090e-16,  3.26128013e-16,  1.00000000e+00,\n",
       "        -2.35922393e-16],\n",
       "       [ 1.38777878e-16, -4.02455846e-16,  1.38777878e-17,\n",
       "        -3.19189120e-16, -2.77555756e-16,  4.23272528e-16,\n",
       "         2.49800181e-16, -9.71445147e-17, -2.35922393e-16,\n",
       "         1.00000000e+00]])"
      ]
     },
     "execution_count": 64,
     "metadata": {},
     "output_type": "execute_result"
    }
   ],
   "source": [
    "# X^T X = V D^2 V^T\n",
    "np.einsum('ij,jk->ik',np.transpose(X),X)-np.einsum('ij,j,jk->ik',np.transpose(Vt),D**2,Vt)\n",
    "# V^T V\n",
    "np.einsum('ij,jk->ik',Vt,np.transpose(Vt))"
   ]
  },
  {
   "cell_type": "code",
   "execution_count": null,
   "metadata": {
    "collapsed": true
   },
   "outputs": [],
   "source": []
  }
 ],
 "metadata": {
  "kernelspec": {
   "display_name": "Python 3",
   "language": "python",
   "name": "python3"
  },
  "language_info": {
   "codemirror_mode": {
    "name": "ipython",
    "version": 3
   },
   "file_extension": ".py",
   "mimetype": "text/x-python",
   "name": "python",
   "nbconvert_exporter": "python",
   "pygments_lexer": "ipython3",
   "version": "3.6.1"
  }
 },
 "nbformat": 4,
 "nbformat_minor": 2
}
