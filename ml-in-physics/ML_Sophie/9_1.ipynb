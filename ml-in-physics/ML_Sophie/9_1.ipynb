{
 "cells": [
  {
   "cell_type": "code",
   "execution_count": 1,
   "metadata": {
    "colab": {},
    "colab_type": "code",
    "id": "j4LNESu5AkQy"
   },
   "outputs": [],
   "source": [
    "import numpy as np"
   ]
  },
  {
   "cell_type": "code",
   "execution_count": 2,
   "metadata": {
    "colab": {},
    "colab_type": "code",
    "id": "oj237PkWAnwT"
   },
   "outputs": [],
   "source": [
    "class Gridworld:\n",
    "    def __init__(self,size=(5,5), init=(0,0), Epsilon=0, Gamma = 1, Alpha = 0.2):\n",
    "      self.map = np.array([[Gridworld.Obstacle(\"floor\") for x in range(size[0])] for y in range(size[1])])\n",
    "      self.acter = self.Acteur(self, init, epsilon=Epsilon, gamma=Gamma, alpha=Alpha)\n",
    "      self.wall_penalty = -0\n",
    "    \"returns map with objects as strings\"\n",
    "    def get_map(self):\n",
    "      tmp = np.array([[obstacle.type for obstacle in self.map[y,:]] for y in range(self.map.shape[1])])\n",
    "      return tmp\n",
    "\n",
    "    \"returns map shape\"\n",
    "    def get_map_shape(self):\n",
    "      return self.map.shape\n",
    "    \n",
    "    \"places an object(Obstacle) at a position\"\n",
    "    def set_object(self, object, position):\n",
    "      self.map[position] = object\n",
    "\n",
    "    \"parent class for all Obstacles\"\n",
    "    class Obstacle:\n",
    "      \"init fixes type, reward and code(for a color map)\"\n",
    "      def __init__(self, type, code=0, reward=None):\n",
    "        self.type = type\n",
    "        if reward is not None:\n",
    "          self.reward = reward\n",
    "        else:\n",
    "          self.reward = 0\n",
    "        self.code = code\n",
    "      \"What happens when i land on the Field, Will be overwritten\"\n",
    "      def action(self):\n",
    "        return None\n",
    "\n",
    "\n",
    "\n",
    "    class pit(Obstacle):\n",
    "      \"A pit\"\n",
    "      def __init__(self, reward = -50):\n",
    "        code = 1\n",
    "        super().__init__(\"pit\", code,  reward)\n",
    "      def action(self):\n",
    "        return \"End\"\n",
    "\n",
    "    class exit(Obstacle):\n",
    "      \"An Exit\"\n",
    "      def __init__(self, reward = 100):\n",
    "        code = 100\n",
    "        super().__init__(\"exit\", code, reward)\n",
    "      def action(self):\n",
    "        return \"End\"\n",
    "\n",
    "    class center(Obstacle):\n",
    "      \"An 'Center' Object\"\n",
    "      def __init__(self, reward = 5):\n",
    "        code = 10\n",
    "        super().__init__(\"center\", code, reward)\n",
    "\n",
    "    class corner(Obstacle):\n",
    "      \"for 9.1 an corner object\"\n",
    "      def __init__(self, reward = 1):\n",
    "          code = 15\n",
    "          super().__init__(\"corner\", code, reward)\n",
    "\n",
    "    class Acteur:\n",
    "      def __init__(self,parent, init, epsilon=0, gamma=1, alpha=0.2):\n",
    "        self.gridworld = parent\n",
    "        self.pos = init\n",
    "        self.init_pos = init\n",
    "        self.map_shape = parent.get_map_shape()\n",
    "        self.moves = {0:\"up\", 1:\"right\", 2:\"down\", 3:\"left\"}\n",
    "        self.Q = self.make_Q_Matrix()\n",
    "        self.epsilon = epsilon\n",
    "        self.gamma = gamma\n",
    "        self.alpha = alpha\n",
    "\n",
    "      def get_map(self):\n",
    "        tmp = self.gridworld.get_map()\n",
    "        tmp[self.pos] = \"XXXXX\"\n",
    "        return tmp\n",
    "      \"Moving when possible\"\n",
    "      def step(self,direction):\n",
    "        if direction == \"up\":\n",
    "          if self.pos[0] > 0:\n",
    "            self.pos = (self.pos[0]-1, self.pos[1])\n",
    "          else:\n",
    "            raise Exception(\"Invalid Move\")\n",
    "        if direction == \"down\":\n",
    "          if self.pos[0] < self.map_shape[0]-1:\n",
    "            self.pos = (self.pos[0]+1, self.pos[1])\n",
    "          else:\n",
    "            raise Exception(\"Invalid Move\")\n",
    "        if direction == \"left\":\n",
    "          if self.pos[1] > 0:\n",
    "            self.pos = (self.pos[0], self.pos[1]-1)\n",
    "          else:\n",
    "            raise Exception(\"Invalid Move\")\n",
    "        if direction == \"right\":\n",
    "          if self.pos[1] < self.map_shape[1]-1:\n",
    "            self.pos = (self.pos[0], self.pos[1]+1)\n",
    "          else:\n",
    "            raise Exception(\"Invalid Move\")\n",
    "\n",
    "      \"Attempts to move in a direction, returns the Reward for that step. Does not interact with the tile\"\n",
    "      def move(self, direction):\n",
    "          try:\n",
    "            self.step(direction)\n",
    "            return self.gridworld.map[self.pos].reward\n",
    "            \"if the move is not possible\"\n",
    "          except:\n",
    "            return self.gridworld.wall_penalty\n",
    "      \n",
    "      def make_Q_Matrix(self):\n",
    "        \"Q_Matrix is a 3-D Array\"\n",
    "        Q_Matrix = np.zeros(shape=(self.map_shape[0],self.map_shape[1], len(self.moves)))\n",
    "        return Q_Matrix\n",
    "    \n",
    "      def make_V_Matrix(self):\n",
    "        pass\n",
    "\n",
    "      def make_episode(self, algorithm=True, max_steps = 10000):\n",
    "        \"returns an episode and trains the Q matrix in the process.\"\n",
    "\n",
    "        \"return to start\"\n",
    "        self.pos = self.init_pos\n",
    "\n",
    "        \"define the transistion rules\"\n",
    "\n",
    "        def get_move_Q():\n",
    "          epsilon = self.epsilon\n",
    "          \"if random number is smaller than epsilon, explore, else go for max Q\"\n",
    "          if np.random.rand() > epsilon:\n",
    "            possible_moves = np.argwhere(self.Q[self.pos] == np.max(self.Q[self.pos]))\n",
    "            move = possible_moves[np.random.randint(0,high=len(possible_moves))]\n",
    "            move = move[0]\n",
    "          else:\n",
    "            move = np.random.randint(0, high=len(possible_moves))\n",
    "          return move\n",
    "        \n",
    "        def get_move_uniform():\n",
    "          return np.random.randint(0, len(self.moves))\n",
    "\n",
    "\n",
    "        if algorithm == True:\n",
    "          next_step = get_move_Q\n",
    "        else:\n",
    "          next_step = get_move_uniform\n",
    "        trace = [(self.pos, 0)]\n",
    "\n",
    "        curr_action = next_step()\n",
    "        step = 0\n",
    "        while step < max_steps:\n",
    "          old_pos = self.pos\n",
    "          \"gets action to do\"\n",
    "          next_action = next_step()\n",
    "          \"moves us and returns reward\"\n",
    "          reward = self.move(self.moves[curr_action])\n",
    "          \"check interactions\"\n",
    "          if self.gridworld.map[self.pos].action() == \"End\":\n",
    "            break;\n",
    "\n",
    "          \"saves new position and the rewardobtained\"\n",
    "          trace.append((self.pos,reward))\n",
    "\n",
    "          \"\"\"Update Q matrix\n",
    "          for Q learning we take max_a'(q(s',a')), which is\n",
    "          automatically the next step for epsilon = 0\"\"\"\n",
    "          self.Q[old_pos][curr_action] = self.Q[old_pos][curr_action]*(1-self.alpha) +\\\n",
    "           self.alpha*(reward + self.gamma*self.Q[self.pos][next_action])\n",
    "\n",
    "          \"update steps, action\"\n",
    "          step += 1\n",
    "          curr_action = next_action\n",
    "\n",
    "        return trace "
   ]
  },
  {
   "cell_type": "code",
   "execution_count": 3,
   "metadata": {
    "colab": {},
    "colab_type": "code",
    "id": "LRiNxUXHA6hU"
   },
   "outputs": [],
   "source": [
    "\"make a map\"\n",
    "grid = Gridworld()"
   ]
  },
  {
   "cell_type": "code",
   "execution_count": 4,
   "metadata": {
    "colab": {
     "base_uri": "https://localhost:8080/",
     "height": 109
    },
    "colab_type": "code",
    "id": "lBtTz20eCYDO",
    "outputId": "43be73bb-bd13-4c86-ef6f-bffb79d8487e"
   },
   "outputs": [
    {
     "data": {
      "text/plain": [
       "array([['corner', 'floor', 'floor', 'floor', 'corner'],\n",
       "       ['floor', 'floor', 'floor', 'floor', 'floor'],\n",
       "       ['floor', 'floor', 'center', 'floor', 'floor'],\n",
       "       ['floor', 'floor', 'floor', 'floor', 'floor'],\n",
       "       ['corner', 'floor', 'floor', 'floor', 'corner']], dtype='<U6')"
      ]
     },
     "execution_count": 4,
     "metadata": {},
     "output_type": "execute_result"
    }
   ],
   "source": [
    "\"modify the map for exercise 9.1\"\n",
    "grid.set_object(Gridworld.corner(), (0,0))\n",
    "grid.set_object(Gridworld.corner(), (0,4))\n",
    "grid.set_object(Gridworld.corner(), (4,0))\n",
    "grid.set_object(Gridworld.corner(), (4,4))\n",
    "grid.set_object(Gridworld.center(), (2,2))\n",
    "grid.get_map()"
   ]
  },
  {
   "cell_type": "markdown",
   "metadata": {
    "colab_type": "text",
    "id": "hC67EteCvN9g"
   },
   "source": [
    "a)\n",
    "For the Problem stated here the Transistionmatrix is 0.25 for each direction and p(s'/s,a) = 1 for s+a=s', 0 else.\n",
    "(with s = (x,y), a in {(0,1),(1,0),(0,-1),(-1,0)}"
   ]
  },
  {
   "cell_type": "code",
   "execution_count": 5,
   "metadata": {
    "colab": {},
    "colab_type": "code",
    "id": "C3fKu2oDCdto"
   },
   "outputs": [],
   "source": [
    "\"b&c\"\n",
    "traces = []\n",
    "returns = []\n",
    "for episode in range(10):\n",
    "\n",
    "  trace = (grid.acter.make_episode(algorithm=False))\n",
    "  traces.append(trace)\n",
    "  return_val = 0\n",
    "  for i in trace:\n",
    "    \"in this deterministic problem we can use gamma=1\"\n",
    "    \n",
    "    return_val += grid.acter.gamma*i[1]\n",
    "  returns.append(return_val)"
   ]
  },
  {
   "cell_type": "code",
   "execution_count": 6,
   "metadata": {
    "colab": {
     "base_uri": "https://localhost:8080/",
     "height": 35
    },
    "colab_type": "code",
    "id": "UjTD_vm5HTzR",
    "outputId": "bf50f74f-c85e-4698-aaa7-51f7ad729b96"
   },
   "outputs": [
    {
     "data": {
      "text/plain": [
       "[2638, 2980, 2946, 2678, 2836, 2930, 2538, 2919, 2816, 2750]"
      ]
     },
     "execution_count": 6,
     "metadata": {},
     "output_type": "execute_result"
    }
   ],
   "source": [
    "returns"
   ]
  },
  {
   "cell_type": "markdown",
   "metadata": {
    "colab_type": "text",
    "id": "1NXCBrz6iQY3"
   },
   "source": [
    "Now we calculate the State-Value-function, which is just the max Q-value for each state."
   ]
  },
  {
   "cell_type": "code",
   "execution_count": 7,
   "metadata": {
    "colab": {},
    "colab_type": "code",
    "id": "GVzhcoKjy3eD"
   },
   "outputs": [],
   "source": [
    "Q = grid.acter.Q\n",
    "V = np.sum(Q, axis = 2)"
   ]
  },
  {
   "cell_type": "code",
   "execution_count": 8,
   "metadata": {
    "colab": {
     "base_uri": "https://localhost:8080/",
     "height": 201
    },
    "colab_type": "code",
    "id": "iY8eUjWuzDNr",
    "outputId": "f18402e6-29d2-4af9-d91f-32d16138ea10"
   },
   "outputs": [
    {
     "data": {
      "text/plain": [
       "array([[220.4281004 , 223.31420419, 224.67802944, 222.63219224,\n",
       "        221.24053919],\n",
       "       [222.72990231, 225.41878095, 228.89167963, 223.50416498,\n",
       "        223.2030323 ],\n",
       "       [223.61628755, 228.85394148, 226.8041611 , 230.12346783,\n",
       "        225.70020747],\n",
       "       [224.01341699, 226.24521118, 229.89447316, 227.66896762,\n",
       "        224.23738772],\n",
       "       [221.96637381, 224.11886174, 222.99767811, 224.60410107,\n",
       "        222.83977574]])"
      ]
     },
     "execution_count": 8,
     "metadata": {},
     "output_type": "execute_result"
    }
   ],
   "source": [
    "V"
   ]
  },
  {
   "cell_type": "code",
   "execution_count": null,
   "metadata": {
    "colab": {},
    "colab_type": "code",
    "id": "7jQTAlO9zDpC"
   },
   "outputs": [],
   "source": []
  }
 ],
 "metadata": {
  "colab": {
   "collapsed_sections": [],
   "name": "9.1",
   "provenance": []
  },
  "kernelspec": {
   "display_name": "ml37",
   "language": "python",
   "name": "ml37"
  },
  "language_info": {
   "codemirror_mode": {
    "name": "ipython",
    "version": 3
   },
   "file_extension": ".py",
   "mimetype": "text/x-python",
   "name": "python",
   "nbconvert_exporter": "python",
   "pygments_lexer": "ipython3",
   "version": "3.7.7"
  }
 },
 "nbformat": 4,
 "nbformat_minor": 1
}
