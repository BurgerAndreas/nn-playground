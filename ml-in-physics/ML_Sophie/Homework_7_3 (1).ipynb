{
 "cells": [
  {
   "cell_type": "markdown",
   "metadata": {
    "colab_type": "text",
    "id": "sywWm9O2JUi8"
   },
   "source": [
    "Show by example that DKL(Q||P) != DKL(P||Q) in general.\n"
   ]
  },
  {
   "cell_type": "markdown",
   "metadata": {
    "colab_type": "text",
    "id": "71ZMxUCmJeZl"
   },
   "source": [
    "This is quite easy to show since $D_{KL}(p||q)=\\int dxp(x)log(\\frac{p(x)}{q(x)})$. Let us now just assume some exponential distributions: $p(x)=\\frac{1}{c}e^{-cx}$ and $p(x)=\\frac{1}{2c}e^{-2cx}$ then we find by simply plugging in:\n",
    "$D_{KL}(p||q)=log(2)+\\frac{1}{c^2}\\quad D_{KL}(q||p)=-log(2)+\\frac{1}{8*c^2}$ where I only plugged this in and calculated the integral! Obviously also from the form we directly see that it is non symmetric!"
   ]
  },
  {
   "cell_type": "code",
   "execution_count": null,
   "metadata": {
    "colab": {},
    "colab_type": "code",
    "id": "EfCJ17wlLrqG"
   },
   "outputs": [],
   "source": []
  }
 ],
 "metadata": {
  "colab": {
   "collapsed_sections": [],
   "name": "Homework 7_3.ipynb",
   "provenance": []
  },
  "kernelspec": {
   "display_name": "Python 3",
   "language": "python",
   "name": "python3"
  },
  "language_info": {
   "codemirror_mode": {
    "name": "ipython",
    "version": 3
   },
   "file_extension": ".py",
   "mimetype": "text/x-python",
   "name": "python",
   "nbconvert_exporter": "python",
   "pygments_lexer": "ipython3",
   "version": "3.7.4"
  }
 },
 "nbformat": 4,
 "nbformat_minor": 1
}
