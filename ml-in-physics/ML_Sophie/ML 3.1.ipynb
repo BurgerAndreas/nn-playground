{
 "cells": [
  {
   "cell_type": "code",
   "execution_count": 1,
   "metadata": {},
   "outputs": [],
   "source": [
    "# If you are correctiong my sheet. I would be interessted in knowing if you also used tensorflow to import the data?\n",
    "# Maybe you could put that in your comment"
   ]
  },
  {
   "cell_type": "markdown",
   "metadata": {},
   "source": [
    "## Logistic Regression\n",
    "- Dependent variable is categorical --> predicts if sth. is true or false\n",
    "- MNIST database: large database of handwritten digits that is commonly used for training various image processing systems\n",
    "- How many features is too many? And which features are most important to include? Regularization can help.\n",
    "- Ridge and Lasso regularization both work by adding a new term to the cost function"
   ]
  },
  {
   "cell_type": "code",
   "execution_count": 2,
   "metadata": {},
   "outputs": [],
   "source": [
    "import numpy as np # images are numpy arrays\n",
    "from sklearn.linear_model import LogisticRegression\n",
    "import tensorflow as tf # needed for the MNIST data set \n",
    "import matplotlib.pyplot as plt\n",
    "\n",
    "# clf=classifier"
   ]
  },
  {
   "cell_type": "code",
   "execution_count": 3,
   "metadata": {},
   "outputs": [],
   "source": [
    "mnist = tf.keras.datasets.mnist # our data set"
   ]
  },
  {
   "cell_type": "code",
   "execution_count": 5,
   "metadata": {},
   "outputs": [],
   "source": [
    "(x_train, y_train), (x_test, y_test) = mnist.load_data() # documentation of load_data function shows how it loads data\n",
    "# x: images are np arrays\n",
    "# y: corressponding number "
   ]
  },
  {
   "cell_type": "code",
   "execution_count": 6,
   "metadata": {
    "scrolled": true
   },
   "outputs": [
    {
     "name": "stdout",
     "output_type": "stream",
     "text": [
      "(60000, 28, 28)\n",
      "(10000, 28, 28)\n"
     ]
    }
   ],
   "source": [
    "# look at data \n",
    "\n",
    "print(np.shape(x_train)) # 60.000 train images\n",
    "print(np.shape(x_test)) # 10.000 test images"
   ]
  },
  {
   "cell_type": "code",
   "execution_count": 7,
   "metadata": {},
   "outputs": [],
   "source": [
    "x_train, x_test = x_train / 255.0, x_test / 255.0 # seems like this value normalises the data. Is 255=std?\n",
    "# print(x_train[0].round(1)) # round to given number of decimals"
   ]
  },
  {
   "cell_type": "code",
   "execution_count": 8,
   "metadata": {},
   "outputs": [
    {
     "data": {
      "text/plain": [
       "5"
      ]
     },
     "execution_count": 8,
     "metadata": {},
     "output_type": "execute_result"
    },
    {
     "data": {
      "image/png": "[encoded data removed]",
      "text/plain": [
       "<Figure size 432x288 with 1 Axes>"
      ]
     },
     "metadata": {},
     "output_type": "display_data"
    }
   ],
   "source": [
    "plt.imshow(x_train[0],cmap='gray')\n",
    "plt.xticks([])\n",
    "plt.yticks([])\n",
    "y_train[0]"
   ]
  },
  {
   "cell_type": "code",
   "execution_count": 9,
   "metadata": {},
   "outputs": [
    {
     "name": "stdout",
     "output_type": "stream",
     "text": [
      "[[[ 0  1]\n",
      "  [ 2  3]]\n",
      "\n",
      " [[ 4  5]\n",
      "  [ 6  7]]\n",
      "\n",
      " [[ 8  9]\n",
      "  [10 11]]\n",
      "\n",
      " [[12 13]\n",
      "  [14 15]]\n",
      "\n",
      " [[16 17]\n",
      "  [18 19]]]\n",
      "(5, 2, 2)\n",
      "(5, 4)\n",
      "[[ 0  1  2  3]\n",
      " [ 4  5  6  7]\n",
      " [ 8  9 10 11]\n",
      " [12 13 14 15]\n",
      " [16 17 18 19]]\n"
     ]
    }
   ],
   "source": [
    "# side note: testing what np.reshape actually does \n",
    "\n",
    "a1 = np.arange(20).reshape((5,2,2))\n",
    "print(a1)\n",
    "print(np.shape(a1))\n",
    "a2 = a1.reshape(5,4)\n",
    "print(np.shape(a2))\n",
    "print(a2)"
   ]
  },
  {
   "cell_type": "code",
   "execution_count": 12,
   "metadata": {},
   "outputs": [
    {
     "name": "stdout",
     "output_type": "stream",
     "text": [
      "score: 0.9265\n"
     ]
    }
   ],
   "source": [
    "# create classifier with LogisticRegression\n",
    "clf = LogisticRegression(C=1e15, multi_class='multinomial', penalty='l2', solver='sag', tol=0.01)\n",
    "# C = Inverse of regularization strength; must be a positive float.\n",
    "# multi_class = choose binary or ‘multinomial’ problem\n",
    "# solver = Algorithm to use in the optimization problem \n",
    "# for small datasets, ‘liblinear’ is a good choice, whereas ‘sag’ and ‘saga’ are faster for large ones\n",
    "# Tolerance for stopping criteria\n",
    "# fit model according to given training data\n",
    "\n",
    "# the clf fit takes the images as long 1D arrays, \n",
    "# print(np.shape(x_train)) # --> we reshape this so we have long 1D arrays: 60.000 arrays of length 784\n",
    "\n",
    "clf.fit(x_train.reshape(60000,784), y_train) # reshaped x_train\n",
    "score1 = clf.score(x_test.reshape((10000,784)), y_test) # reshaped x_train\n",
    "print(f\"score: {score1}\") # the score returs R^2 which gives information about the goodness of fit. Best possible value=1 for perfect fit"
   ]
  },
  {
   "cell_type": "code",
   "execution_count": 11,
   "metadata": {},
   "outputs": [
    {
     "name": "stdout",
     "output_type": "stream",
     "text": [
      "score, C: 0.9263\n"
     ]
    }
   ],
   "source": [
    "# change some of the hyper parameters: \n",
    "# small value for C\n",
    "clf = LogisticRegression(C=50, multi_class='multinomial', penalty='l2', solver='sag', tol=0.01)\n",
    "clf.fit(x_train.reshape(60000,784), y_train)\n",
    "score1 = clf.score(x_test.reshape((10000,784)), y_test)\n",
    "print(f\"score, C: {score1}\")\n",
    "\n",
    "# does not seem to make a big difference"
   ]
  },
  {
   "cell_type": "code",
   "execution_count": null,
   "metadata": {},
   "outputs": [],
   "source": [
    "# small value for C\n",
    "clf = LogisticRegression(C=1e15, multi_class='multinomial', penalty='l1', solver='saga', tol=0.01)\n",
    "clf.fit(x_train.reshape(60000,784), y_train)\n",
    "score1 = clf.score(x_test.reshape((10000,784)), y_test)\n",
    "print(f\"score, L1: {score1}\") # solver saga accepts L1 penalty"
   ]
  },
  {
   "cell_type": "markdown",
   "metadata": {},
   "source": [
    "### Find some digest that were not correctly classified"
   ]
  },
  {
   "cell_type": "code",
   "execution_count": 28,
   "metadata": {},
   "outputs": [
    {
     "name": "stdout",
     "output_type": "stream",
     "text": [
      "[False False False False False False False False  True False False False\n",
      " False False False]\n",
      "(735, 784)\n"
     ]
    }
   ],
   "source": [
    "x_test = x_test.reshape((10000,784))\n",
    "\n",
    "# boolean mask\n",
    "predictions = clf.predict(x_test)\n",
    "mask = (predictions != y_test) # list of true and false\n",
    "# true = classified wrong, is not y_test\n",
    "\n",
    "# look at result\n",
    "print(mask[0:15])\n",
    "\n",
    "x_true = x_test[mask]\n",
    "y_true = y_test[mask]\n",
    "predictions_true = predictions[mask]\n",
    "\n",
    "print(np.shape(x_true)) # wrongly classified "
   ]
  },
  {
   "cell_type": "code",
   "execution_count": 33,
   "metadata": {},
   "outputs": [
    {
     "data": {
      "image/png": "[encoded data removed]",
      "text/plain": [
       "<Figure size 432x288 with 1 Axes>"
      ]
     },
     "metadata": {
      "needs_background": "light"
     },
     "output_type": "display_data"
    },
    {
     "data": {
      "image/png": "[encoded data removed]",
      "text/plain": [
       "<Figure size 432x288 with 1 Axes>"
      ]
     },
     "metadata": {
      "needs_background": "light"
     },
     "output_type": "display_data"
    },
    {
     "data": {
      "image/png": "[encoded data removed]",
      "text/plain": [
       "<Figure size 432x288 with 1 Axes>"
      ]
     },
     "metadata": {
      "needs_background": "light"
     },
     "output_type": "display_data"
    },
    {
     "data": {
      "image/png": "[encoded data removed]",
      "text/plain": [
       "<Figure size 432x288 with 1 Axes>"
      ]
     },
     "metadata": {
      "needs_background": "light"
     },
     "output_type": "display_data"
    },
    {
     "data": {
      "image/png": "[encoded data removed]",
      "text/plain": [
       "<Figure size 432x288 with 1 Axes>"
      ]
     },
     "metadata": {
      "needs_background": "light"
     },
     "output_type": "display_data"
    },
    {
     "data": {
      "image/png": "[encoded data removed]",
      "text/plain": [
       "<Figure size 432x288 with 1 Axes>"
      ]
     },
     "metadata": {
      "needs_background": "light"
     },
     "output_type": "display_data"
    },
    {
     "data": {
      "image/png": "[encoded data removed]",
      "text/plain": [
       "<Figure size 432x288 with 1 Axes>"
      ]
     },
     "metadata": {
      "needs_background": "light"
     },
     "output_type": "display_data"
    },
    {
     "data": {
      "image/png": "[encoded data removed]",
      "text/plain": [
       "<Figure size 432x288 with 1 Axes>"
      ]
     },
     "metadata": {
      "needs_background": "light"
     },
     "output_type": "display_data"
    },
    {
     "data": {
      "image/png": "[encoded data removed]",
      "text/plain": [
       "<Figure size 432x288 with 1 Axes>"
      ]
     },
     "metadata": {
      "needs_background": "light"
     },
     "output_type": "display_data"
    },
    {
     "data": {
      "image/png": "[encoded data removed]",
      "text/plain": [
       "<Figure size 432x288 with 1 Axes>"
      ]
     },
     "metadata": {
      "needs_background": "light"
     },
     "output_type": "display_data"
    }
   ],
   "source": [
    "for i in range(10):\n",
    "    fig = plt.figure()\n",
    "    ax = fig.add_subplot()\n",
    "    ax.imshow(x_true[i,].reshape(28,28))\n",
    "    ax.set_title(f\"classified as {predictions_true[i]}, true number: {y_true[i]}\")"
   ]
  },
  {
   "cell_type": "markdown",
   "metadata": {},
   "source": [
    "## SGDClassifier\n",
    "- stochastic gradient descent"
   ]
  },
  {
   "cell_type": "code",
   "execution_count": 34,
   "metadata": {},
   "outputs": [],
   "source": [
    "from sklearn.linear_model import SGDClassifier"
   ]
  },
  {
   "cell_type": "code",
   "execution_count": 35,
   "metadata": {},
   "outputs": [
    {
     "name": "stdout",
     "output_type": "stream",
     "text": [
      "score: 0.896\n"
     ]
    }
   ],
   "source": [
    "# create classifier and \n",
    "clf = (SGDClassifier(alpha=0.0001, class_weight=None, epsilon=0.1, eta0=0.0, fit_intercept=True,\n",
    "                     l1_ratio=0.15, learning_rate='optimal', loss='hinge', n_jobs=1, \n",
    "                     penalty='l2', power_t=0.5, random_state=None, shuffle=False, \n",
    "                     verbose=0, warm_start=False))\n",
    "clf.fit(x_train.reshape(60000,784), y_train)\n",
    "score2 = clf.score(np.array(x_test).reshape((10000,784)), y_test)\n",
    "print(f\"score: {score2}\")"
   ]
  },
  {
   "cell_type": "code",
   "execution_count": null,
   "metadata": {},
   "outputs": [],
   "source": []
  }
 ],
 "metadata": {
  "kernelspec": {
   "display_name": "ml37",
   "language": "python",
   "name": "ml37"
  },
  "language_info": {
   "codemirror_mode": {
    "name": "ipython",
    "version": 3
   },
   "file_extension": ".py",
   "mimetype": "text/x-python",
   "name": "python",
   "nbconvert_exporter": "python",
   "pygments_lexer": "ipython3",
   "version": "3.7.7"
  }
 },
 "nbformat": 4,
 "nbformat_minor": 2
}
