{
 "cells": [
  {
   "cell_type": "markdown",
   "metadata": {},
   "source": [
    "## MNIST – Conv2D\n",
    " - compare the performance of convolutional neural networks vs fully connected networks.\n",
    "\n",
    "### Create new dataset"
   ]
  },
  {
   "cell_type": "code",
   "execution_count": 1,
   "metadata": {},
   "outputs": [],
   "source": [
    "import numpy as np # images are numpy arrays\n",
    "# import tensorflow as tf # needed for the MNIST data set, not used this time!\n",
    "\n",
    "from sklearn.datasets import fetch_openml # MNIST data\n",
    "import matplotlib.pyplot as plt\n",
    "from sklearn.model_selection import train_test_split\n",
    "from sklearn.preprocessing import StandardScaler\n",
    "\n",
    "from tensorflow.keras.models import Sequential\n",
    "from tensorflow.keras.layers import Dense, Flatten, Input, Dropout, Activation, MaxPooling2D\n",
    "# imports our layers we want to use\n",
    "\n",
    "from tensorflow.python.keras.losses import categorical_crossentropy #loss function\n",
    "from tensorflow.python.keras.optimizers import Adam, SGD #optimisers\n",
    "from tensorflow.keras.utils import to_categorical #some function for data preparation\n",
    "\n",
    "from tensorflow.compat.v1 import disable_eager_execution\n",
    "from tensorflow.keras.layers import Conv2D, MaxPooling2D\n",
    "from tensorflow.python.keras.optimizers import RMSprop"
   ]
  },
  {
   "cell_type": "code",
   "execution_count": 2,
   "metadata": {},
   "outputs": [],
   "source": [
    "# MNIST Dataset was already used in Sheet 3, import dataset again, this time try method in sample solution\n",
    "# all in sklearn\n",
    "\n",
    "X, y = fetch_openml('mnist_784', version=1, return_X_y=True)"
   ]
  },
  {
   "cell_type": "code",
   "execution_count": 3,
   "metadata": {},
   "outputs": [
    {
     "name": "stdout",
     "output_type": "stream",
     "text": [
      "<class 'numpy.ndarray'> <class 'numpy.ndarray'>\n",
      "(70000, 784) (70000,)\n",
      "[  0.   0.   0.   0.   0.   0.   0.   0.   0.   0.   0.   0.   0.   0.\n",
      "   0.   0.   0.   0.   0.   0.   0.   0.   0.   0.   0.   0.   0.   0.\n",
      "   0.   0.   0.   0.   0.   0.   0.   0.   0.   0.   0.   0.   0.   0.\n",
      "   0.   0.   0.   0.   0.   0.   0.   0.   0.   0.   0.   0.   0.   0.\n",
      "   0.   0.   0.   0.   0.   0.   0.   0.   0.   0.   0.   0.   0.   0.\n",
      "   0.   0.   0.   0.   0.   0.   0.   0.   0.   0.   0.   0.   0.   0.\n",
      "   0.   0.   0.   0.   0.   0.   0.   0.   0.   0.   0.   0.   0.   0.\n",
      "   0.   0.   0.   0.   0.   0.   0.   0.   0.   0.   0.   0.   0.   0.\n",
      "   0.   0.   0.   0.   0.   0.   0.   0.   0.   0.   0.   0.   0.   0.\n",
      "   0.   0.   0.   0.   0.   0.   0.   0.   0.   0.   0.   0.   0.   0.\n",
      "   0.   0.   0.   0.   0.   0.   0.   0.   0.   0.   0.   0.   3.  18.\n",
      "  18.  18. 126. 136. 175.  26. 166. 255. 247. 127.   0.   0.   0.   0.\n",
      "   0.   0.   0.   0.   0.   0.   0.   0.  30.  36.  94. 154. 170. 253.\n",
      " 253. 253. 253. 253. 225. 172. 253. 242. 195.  64.   0.   0.   0.   0.\n",
      "   0.   0.   0.   0.   0.   0.   0.  49. 238. 253. 253. 253. 253. 253.\n",
      " 253. 253. 253. 251.  93.  82.  82.  56.  39.   0.   0.   0.   0.   0.\n",
      "   0.   0.   0.   0.   0.   0.   0.  18. 219. 253. 253. 253. 253. 253.\n",
      " 198. 182. 247. 241.   0.   0.   0.   0.   0.   0.   0.   0.   0.   0.\n",
      "   0.   0.   0.   0.   0.   0.   0.   0.  80. 156. 107. 253. 253. 205.\n",
      "  11.   0.  43. 154.   0.   0.   0.   0.   0.   0.   0.   0.   0.   0.\n",
      "   0.   0.   0.   0.   0.   0.   0.   0.   0.  14.   1. 154. 253.  90.\n",
      "   0.   0.   0.   0.   0.   0.   0.   0.   0.   0.   0.   0.   0.   0.\n",
      "   0.   0.   0.   0.   0.   0.   0.   0.   0.   0.   0. 139. 253. 190.\n",
      "   2.   0.   0.   0.   0.   0.   0.   0.   0.   0.   0.   0.   0.   0.\n",
      "   0.   0.   0.   0.   0.   0.   0.   0.   0.   0.   0.  11. 190. 253.\n",
      "  70.   0.   0.   0.   0.   0.   0.   0.   0.   0.   0.   0.   0.   0.\n",
      "   0.   0.   0.   0.   0.   0.   0.   0.   0.   0.   0.   0.  35. 241.\n",
      " 225. 160. 108.   1.   0.   0.   0.   0.   0.   0.   0.   0.   0.   0.\n",
      "   0.   0.   0.   0.   0.   0.   0.   0.   0.   0.   0.   0.   0.  81.\n",
      " 240. 253. 253. 119.  25.   0.   0.   0.   0.   0.   0.   0.   0.   0.\n",
      "   0.   0.   0.   0.   0.   0.   0.   0.   0.   0.   0.   0.   0.   0.\n",
      "  45. 186. 253. 253. 150.  27.   0.   0.   0.   0.   0.   0.   0.   0.\n",
      "   0.   0.   0.   0.   0.   0.   0.   0.   0.   0.   0.   0.   0.   0.\n",
      "   0.  16.  93. 252. 253. 187.   0.   0.   0.   0.   0.   0.   0.   0.\n",
      "   0.   0.   0.   0.   0.   0.   0.   0.   0.   0.   0.   0.   0.   0.\n",
      "   0.   0.   0. 249. 253. 249.  64.   0.   0.   0.   0.   0.   0.   0.\n",
      "   0.   0.   0.   0.   0.   0.   0.   0.   0.   0.   0.   0.   0.   0.\n",
      "  46. 130. 183. 253. 253. 207.   2.   0.   0.   0.   0.   0.   0.   0.\n",
      "   0.   0.   0.   0.   0.   0.   0.   0.   0.   0.   0.   0.  39. 148.\n",
      " 229. 253. 253. 253. 250. 182.   0.   0.   0.   0.   0.   0.   0.   0.\n",
      "   0.   0.   0.   0.   0.   0.   0.   0.   0.   0.  24. 114. 221. 253.\n",
      " 253. 253. 253. 201.  78.   0.   0.   0.   0.   0.   0.   0.   0.   0.\n",
      "   0.   0.   0.   0.   0.   0.   0.   0.  23.  66. 213. 253. 253. 253.\n",
      " 253. 198.  81.   2.   0.   0.   0.   0.   0.   0.   0.   0.   0.   0.\n",
      "   0.   0.   0.   0.   0.   0.  18. 171. 219. 253. 253. 253. 253. 195.\n",
      "  80.   9.   0.   0.   0.   0.   0.   0.   0.   0.   0.   0.   0.   0.\n",
      "   0.   0.   0.   0.  55. 172. 226. 253. 253. 253. 253. 244. 133.  11.\n",
      "   0.   0.   0.   0.   0.   0.   0.   0.   0.   0.   0.   0.   0.   0.\n",
      "   0.   0.   0.   0. 136. 253. 253. 253. 212. 135. 132.  16.   0.   0.\n",
      "   0.   0.   0.   0.   0.   0.   0.   0.   0.   0.   0.   0.   0.   0.\n",
      "   0.   0.   0.   0.   0.   0.   0.   0.   0.   0.   0.   0.   0.   0.\n",
      "   0.   0.   0.   0.   0.   0.   0.   0.   0.   0.   0.   0.   0.   0.\n",
      "   0.   0.   0.   0.   0.   0.   0.   0.   0.   0.   0.   0.   0.   0.\n",
      "   0.   0.   0.   0.   0.   0.   0.   0.   0.   0.   0.   0.   0.   0.\n",
      "   0.   0.   0.   0.   0.   0.   0.   0.   0.   0.   0.   0.   0.   0.\n",
      "   0.   0.   0.   0.   0.   0.   0.   0.   0.   0.   0.   0.   0.   0.]\n"
     ]
    },
    {
     "data": {
      "image/png": "[encoded data removed]",
      "text/plain": [
       "<Figure size 432x288 with 1 Axes>"
      ]
     },
     "metadata": {
      "needs_background": "light"
     },
     "output_type": "display_data"
    }
   ],
   "source": [
    "print(type(X), type(y))\n",
    "print(np.shape(X), np.shape(y))\n",
    "\n",
    "# print one example \n",
    "print(X[0])\n",
    "\n",
    "plt.imshow(X[0].reshape(28,28))\n",
    "plt.show()\n",
    "\n",
    "# backround has to be simply zero"
   ]
  },
  {
   "cell_type": "code",
   "execution_count": 4,
   "metadata": {},
   "outputs": [],
   "source": [
    "# reshape, place and reshape X\n",
    "# how efficient is this actually\n",
    "\n",
    "X_padded = np.zeros((70000,2500))\n",
    "for i in range(70000):\n",
    "    # reshape to square\n",
    "    square = X[i].reshape(28,28)\n",
    "    o = np.random.randint(22) #padding above, 50-28 = 22\n",
    "    u = 22-o\n",
    "    l = np.random.randint(22) #padding above, 50-28 = 22\n",
    "    r = 22-l\n",
    "    padded = np.pad(square, ((o,u), (l,r)), 'constant', constant_values=0)\n",
    "    X_padded[i] = padded.reshape(2500,)"
   ]
  },
  {
   "cell_type": "code",
   "execution_count": 5,
   "metadata": {},
   "outputs": [
    {
     "name": "stdout",
     "output_type": "stream",
     "text": [
      "(70000, 2500)\n"
     ]
    }
   ],
   "source": [
    "print(np.shape(X_padded))"
   ]
  },
  {
   "cell_type": "code",
   "execution_count": 6,
   "metadata": {},
   "outputs": [
    {
     "name": "stdout",
     "output_type": "stream",
     "text": [
      "(60000, 2500)\n"
     ]
    }
   ],
   "source": [
    "train_size = 60000\n",
    "test_size = 10000\n",
    "\n",
    "# divide into train and test set\n",
    "X_train, X_test, y_train, y_test = train_test_split(X_padded, y, train_size=train_size, test_size=test_size)\n",
    "\n",
    "# this rescales the images; does not change the shape, only values of entries\n",
    "# scale data to have zero mean and unit variance [required by regressor]\n",
    "scaler = StandardScaler()\n",
    "X_train = scaler.fit_transform(X_train) # fit AND transform\n",
    "X_test = scaler.transform(X_test)\n",
    "\n",
    "print(np.shape(X_train))"
   ]
  },
  {
   "cell_type": "markdown",
   "metadata": {},
   "source": [
    "### Train simple dense neural network"
   ]
  },
  {
   "cell_type": "code",
   "execution_count": 7,
   "metadata": {},
   "outputs": [
    {
     "name": "stdout",
     "output_type": "stream",
     "text": [
      "(10000, 10)\n"
     ]
    }
   ],
   "source": [
    "# single hidden dense layer\n",
    "\n",
    "batch_size = 128\n",
    "num_classes = 10\n",
    "epochs = 20\n",
    "\n",
    "# convert class vectors to binary class matrices\n",
    "# one-hot encode target column \n",
    "y_train = to_categorical(y_train, num_classes)\n",
    "y_test = to_categorical(y_test, num_classes)\n",
    "\n",
    "print(np.shape(y_test))"
   ]
  },
  {
   "cell_type": "code",
   "execution_count": 8,
   "metadata": {},
   "outputs": [
    {
     "name": "stdout",
     "output_type": "stream",
     "text": [
      "WARNING:tensorflow:From C:\\Users\\Sophie\\Anaconda3\\envs\\ml37\\lib\\site-packages\\tensorflow_core\\python\\ops\\resource_variable_ops.py:1635: calling BaseResourceVariable.__init__ (from tensorflow.python.ops.resource_variable_ops) with constraint is deprecated and will be removed in a future version.\n",
      "Instructions for updating:\n",
      "If using Keras pass *_constraint arguments to layers.\n"
     ]
    }
   ],
   "source": [
    "disable_eager_execution() # this had to be added to avoid error message\n",
    "\n",
    "#Neural network with single dense hidden layer\n",
    "\n",
    "model = Sequential()\n",
    "model.add(Flatten())\n",
    "model.add(Dense(128, activation='relu'))\n",
    "model.add(Dense(num_classes, activation='softmax'))\n",
    "\n",
    "model.compile(loss=categorical_crossentropy,\n",
    "              optimizer=SGD(), metrics=['accuracy'])"
   ]
  },
  {
   "cell_type": "code",
   "execution_count": 9,
   "metadata": {},
   "outputs": [
    {
     "name": "stdout",
     "output_type": "stream",
     "text": [
      "10000/10000 [==============================] - 2s 158us/sample - loss: 2.9656 - accuracy: 0.0943\n",
      "\n",
      "Test loss: 2.965608910751343\n",
      "Test accuracy: 0.0943\n"
     ]
    }
   ],
   "source": [
    "# evaluate model\n",
    "score = model.evaluate(X_test, y_test, verbose=1)\n",
    "\n",
    "# print performance\n",
    "print()\n",
    "print('Test loss:', score[0])\n",
    "print('Test accuracy:', score[1])"
   ]
  },
  {
   "cell_type": "markdown",
   "metadata": {},
   "source": [
    "It can be seen that the accuracy is very low."
   ]
  },
  {
   "cell_type": "markdown",
   "metadata": {},
   "source": [
    "### Improvement with convolutional neural network\n",
    "\n",
    "I decided to test a network with two convolutional layers. "
   ]
  },
  {
   "cell_type": "code",
   "execution_count": 10,
   "metadata": {},
   "outputs": [],
   "source": [
    "# data preprocessing\n",
    "\n",
    "# shape that our model expects is different from what we have so far\n",
    "X_train = X_train.reshape(60000,50,50,1)\n",
    "X_test = X_test.reshape(10000,50,50,1)\n",
    "\n",
    "# first number: number of images (60,000 for X_train and 10,000 for X_test). \n",
    "# Then comes the shape of each image (28x28). \n",
    "# The last number is 1, which signifies that the images are greyscale."
   ]
  },
  {
   "cell_type": "code",
   "execution_count": 11,
   "metadata": {},
   "outputs": [
    {
     "name": "stdout",
     "output_type": "stream",
     "text": [
      "(50, 50, 1)\n"
     ]
    }
   ],
   "source": [
    "# build model\n",
    "\n",
    "# input shape is shape of one image, one single array\n",
    "print(X_train.shape[1:])\n",
    "\n",
    "model = Sequential()\n",
    "# Sequential is the easiest way to build a model in Keras. \n",
    "# It allows you to build a model layer by layer.\n",
    "\n",
    "# first layer \n",
    "# maybe try size 64 later\n",
    "model.add(Conv2D(32, (3, 3), padding='same', input_shape=X_train.shape[1:]))\n",
    "# 32 is output shape\n",
    "model.add(Activation('relu'))\n",
    "# Rectified Linear Activation. \n",
    "# This activation function has been proven to work well in neural networks.\n",
    "\n",
    "# second layer\n",
    "model.add(Conv2D(32, (3, 3)))\n",
    "model.add(Activation('relu'))\n",
    "\n",
    "model.add(Flatten())\n",
    "model.add(Dense(10, activation='softmax'))   "
   ]
  },
  {
   "cell_type": "code",
   "execution_count": 12,
   "metadata": {},
   "outputs": [
    {
     "name": "stdout",
     "output_type": "stream",
     "text": [
      "Train on 60000 samples, validate on 10000 samples\n",
      "Epoch 1/3\n",
      "60000/60000 [==============================] - 322s 5ms/sample - loss: 1.4581 - accuracy: 0.5058 - val_loss: 1.0273 - val_accuracy: 0.6752\n",
      "Epoch 2/3\n",
      "60000/60000 [==============================] - 364s 6ms/sample - loss: 0.8865 - accuracy: 0.7294 - val_loss: 0.8287 - val_accuracy: 0.7542\n",
      "Epoch 3/3\n",
      "60000/60000 [==============================] - 357s 6ms/sample - loss: 0.7138 - accuracy: 0.7959 - val_loss: 0.7105 - val_accuracy: 0.7946\n"
     ]
    },
    {
     "data": {
      "text/plain": [
       "<tensorflow.python.keras.callbacks.History at 0x23344402fc8>"
      ]
     },
     "execution_count": 12,
     "metadata": {},
     "output_type": "execute_result"
    }
   ],
   "source": [
    "# training the model\n",
    "\n",
    "# initiate RMSprop optimizer\n",
    "opt = RMSprop(lr=0.0001, decay=1e-6)\n",
    "\n",
    "# Let's train the model using RMSprop\n",
    "model.compile(loss='categorical_crossentropy',\n",
    "              optimizer=opt,\n",
    "              metrics=['accuracy']) \n",
    "\n",
    "model.fit(X_train, y_train, validation_data=(X_test, y_test), epochs=3)"
   ]
  },
  {
   "cell_type": "code",
   "execution_count": 13,
   "metadata": {},
   "outputs": [
    {
     "name": "stdout",
     "output_type": "stream",
     "text": [
      "10000/10000 [==============================] - 14s 1ms/sample - loss: 0.7105 - accuracy: 0.7946\n",
      "\n",
      "Test loss: 0.7104521778106689\n",
      "Test accuracy: 0.7946\n"
     ]
    }
   ],
   "source": [
    "# evaluate model\n",
    "score = model.evaluate(X_test, y_test, verbose=1)\n",
    "\n",
    "# print performance\n",
    "print()\n",
    "print('Test loss:', score[0])\n",
    "print('Test accuracy:', score[1])"
   ]
  },
  {
   "cell_type": "markdown",
   "metadata": {},
   "source": [
    "Even with only 3 epochs the accuracy is improved about ten times compared to the normal dense layers."
   ]
  },
  {
   "cell_type": "markdown",
   "metadata": {},
   "source": [
    "### finetuning: Improve network performance \n",
    "The changes I tried were\n",
    "- MaxPooling added as extra layer\n",
    "- exchanged one convolutional layer to MaxPooling \n",
    "- adding two more convolutional layers --> deeper architecture\n",
    "- dropout for both convolutional layers \n",
    "\n",
    "To compare the results just look at the accuracy of each of the trained network. \n",
    "Only a deeper architecture imporoves the result in my very simple natwork, but takes a lot longer. For the other changes I played around with the accuracy wasn't improved. Due to the long runtime I couldn't really investigate deeper networks or use a higher number of epochs. "
   ]
  },
  {
   "cell_type": "code",
   "execution_count": 14,
   "metadata": {},
   "outputs": [
    {
     "name": "stdout",
     "output_type": "stream",
     "text": [
      "(50, 50, 1)\n",
      "Train on 60000 samples, validate on 10000 samples\n",
      "Epoch 1/3\n",
      "60000/60000 [==============================] - 495s 8ms/sample - loss: 1.1670 - accuracy: 0.6264 - val_loss: 0.7668 - val_accuracy: 0.7739\n",
      "Epoch 2/3\n",
      "60000/60000 [==============================] - 484s 8ms/sample - loss: 0.6062 - accuracy: 0.8294 - val_loss: 0.5348 - val_accuracy: 0.8552\n",
      "Epoch 3/3\n",
      "60000/60000 [==============================] - 481s 8ms/sample - loss: 0.4502 - accuracy: 0.8780 - val_loss: 0.4325 - val_accuracy: 0.8870\n"
     ]
    },
    {
     "data": {
      "text/plain": [
       "<tensorflow.python.keras.callbacks.History at 0x23344a58e08>"
      ]
     },
     "execution_count": 14,
     "metadata": {},
     "output_type": "execute_result"
    }
   ],
   "source": [
    "# Pooling, add one layer\n",
    "\n",
    "# In \"pool\" of the 3x3 matrix of the convolution the highest value is selected\n",
    "# same network as before but add pooling\n",
    "\n",
    "# build model\n",
    "\n",
    "# input shape is shape of one image, one single array\n",
    "print(X_train.shape[1:])\n",
    "\n",
    "model = Sequential()\n",
    "\n",
    "# keep the first regular convolutional layer \n",
    "model.add(Conv2D(32, (3, 3), padding='same', input_shape=X_train.shape[1:]))\n",
    "model.add(Activation('relu'))\n",
    "\n",
    "# add one pooling layer \n",
    "model.add(MaxPooling2D(pool_size =(3, 3), padding='same', strides=(1, 1)))\n",
    "model.add(Activation('relu'))\n",
    "\n",
    "# normal convolutional layer\n",
    "model.add(Conv2D(32, (3, 3)))\n",
    "model.add(Activation('relu'))\n",
    "\n",
    "model.add(Flatten())\n",
    "model.add(Dense(10, activation='softmax'))\n",
    "\n",
    "# training the model\n",
    "\n",
    "# initiate RMSprop optimizer\n",
    "opt = RMSprop(lr=0.0001, decay=1e-6)\n",
    "\n",
    "# Let's train the model using RMSprop\n",
    "model.compile(loss='categorical_crossentropy',\n",
    "              optimizer=opt,\n",
    "              metrics=['accuracy']) \n",
    "\n",
    "model.fit(X_train, y_train, validation_data=(X_test, y_test), epochs=3)"
   ]
  },
  {
   "cell_type": "code",
   "execution_count": 82,
   "metadata": {},
   "outputs": [
    {
     "name": "stdout",
     "output_type": "stream",
     "text": [
      "(50, 50, 1)\n",
      "Train on 60000 samples, validate on 10000 samples\n",
      "Epoch 1/3\n",
      "60000/60000 [==============================] - 114s 2ms/sample - loss: 1.6913 - accuracy: 0.4393 - val_loss: 1.3612 - val_accuracy: 0.5967\n",
      "Epoch 2/3\n",
      "60000/60000 [==============================] - 108s 2ms/sample - loss: 1.1325 - accuracy: 0.6561 - val_loss: 1.0960 - val_accuracy: 0.6676\n",
      "Epoch 3/3\n",
      "60000/60000 [==============================] - 104s 2ms/sample - loss: 0.9535 - accuracy: 0.7136 - val_loss: 1.0008 - val_accuracy: 0.6941\n"
     ]
    },
    {
     "data": {
      "text/plain": [
       "<tensorflow.python.keras.callbacks.History at 0x215b6233808>"
      ]
     },
     "execution_count": 82,
     "metadata": {},
     "output_type": "execute_result"
    }
   ],
   "source": [
    "# Pooling, replace one layer\n",
    "\n",
    "# In \"pool\" of the 3x3 matrix of the convolution the highest value is selected\n",
    "# same network as before but add pooling\n",
    "\n",
    "# build model\n",
    "\n",
    "# input shape is shape of one image, one single array\n",
    "print(X_train.shape[1:])\n",
    "\n",
    "model = Sequential()\n",
    "\n",
    "# first layer \n",
    "model.add(MaxPooling2D(pool_size =(3, 3), padding='same', strides=(1, 1)))\n",
    "# 32 is output shape\n",
    "model.add(Activation('relu'))\n",
    "# Rectified Linear Activation. \n",
    "# This activation function has been proven to work well in neural networks.\n",
    "\n",
    "# second layer\n",
    "model.add(Conv2D(32, (3, 3)))\n",
    "model.add(Activation('relu'))\n",
    "\n",
    "model.add(Flatten())\n",
    "model.add(Dense(10, activation='softmax'))\n",
    "\n",
    "# training the model\n",
    "\n",
    "# initiate RMSprop optimizer\n",
    "opt = RMSprop(lr=0.0001, decay=1e-6)\n",
    "\n",
    "# Let's train the model using RMSprop\n",
    "model.compile(loss='categorical_crossentropy',\n",
    "              optimizer=opt,\n",
    "              metrics=['accuracy']) \n",
    "\n",
    "model.fit(X_train, y_train, validation_data=(X_test, y_test), epochs=3)"
   ]
  },
  {
   "cell_type": "code",
   "execution_count": 83,
   "metadata": {
    "scrolled": true
   },
   "outputs": [
    {
     "name": "stdout",
     "output_type": "stream",
     "text": [
      "(50, 50, 1)\n",
      "Train on 60000 samples, validate on 10000 samples\n",
      "Epoch 1/3\n",
      "60000/60000 [==============================] - 791s 13ms/sample - loss: 1.1312 - accuracy: 0.6297 - val_loss: 0.6641 - val_accuracy: 0.8253\n",
      "Epoch 2/3\n",
      "60000/60000 [==============================] - 781s 13ms/sample - loss: 0.4906 - accuracy: 0.8663 - val_loss: 0.4180 - val_accuracy: 0.8851\n",
      "Epoch 3/3\n",
      "60000/60000 [==============================] - 828s 14ms/sample - loss: 0.3169 - accuracy: 0.9149 - val_loss: 0.2980 - val_accuracy: 0.9199\n"
     ]
    },
    {
     "data": {
      "text/plain": [
       "<tensorflow.python.keras.callbacks.History at 0x215b6579d48>"
      ]
     },
     "execution_count": 83,
     "metadata": {},
     "output_type": "execute_result"
    }
   ],
   "source": [
    "### Trying a deeper architecture\n",
    "# just add two more layers\n",
    "\n",
    "# build model\n",
    "\n",
    "# input shape is shape of one image, one single array\n",
    "print(X_train.shape[1:])\n",
    "\n",
    "model = Sequential()\n",
    "# Sequential is the easiest way to build a model in Keras. \n",
    "# It allows you to build a model layer by layer.\n",
    "\n",
    "# first layer \n",
    "model.add(Conv2D(32, (3, 3), padding='same', input_shape=X_train.shape[1:]))\n",
    "# 32 is output shape\n",
    "model.add(Activation('relu'))\n",
    "# Rectified Linear Activation. \n",
    "# This activation function has been proven to work well in neural networks.\n",
    "\n",
    "# second layer\n",
    "model.add(Conv2D(32, (3, 3)))\n",
    "model.add(Activation('relu'))\n",
    "\n",
    "model.add(Conv2D(32, (3, 3)))\n",
    "model.add(Activation('relu'))\n",
    "\n",
    "model.add(Conv2D(32, (3, 3)))\n",
    "model.add(Activation('relu'))\n",
    "\n",
    "model.add(Flatten())\n",
    "model.add(Dense(10, activation='softmax'))   \n",
    "\n",
    "# training the model\n",
    "\n",
    "# initiate RMSprop optimizer\n",
    "opt = RMSprop(lr=0.0001, decay=1e-6)\n",
    "\n",
    "# Let's train the model using RMSprop\n",
    "model.compile(loss='categorical_crossentropy',\n",
    "              optimizer=opt,\n",
    "              metrics=['accuracy']) \n",
    "\n",
    "model.fit(X_train, y_train, validation_data=(X_test, y_test), epochs=3)"
   ]
  },
  {
   "cell_type": "code",
   "execution_count": 85,
   "metadata": {},
   "outputs": [
    {
     "name": "stdout",
     "output_type": "stream",
     "text": [
      "(50, 50, 1)\n",
      "Train on 60000 samples, validate on 10000 samples\n",
      "Epoch 1/3\n",
      "60000/60000 [==============================] - 555s 9ms/sample - loss: 1.5550 - accuracy: 0.4602 - val_loss: 1.1659 - val_accuracy: 0.6058\n",
      "Epoch 2/3\n",
      "60000/60000 [==============================] - 570s 9ms/sample - loss: 0.9938 - accuracy: 0.6877 - val_loss: 0.9057 - val_accuracy: 0.7232\n",
      "Epoch 3/3\n",
      "60000/60000 [==============================] - 618s 10ms/sample - loss: 0.8071 - accuracy: 0.7620 - val_loss: 0.7636 - val_accuracy: 0.7768\n"
     ]
    },
    {
     "data": {
      "text/plain": [
       "<tensorflow.python.keras.callbacks.History at 0x215b7da1bc8>"
      ]
     },
     "execution_count": 85,
     "metadata": {},
     "output_type": "execute_result"
    }
   ],
   "source": [
    "# dropout on convolutional layers\n",
    "\n",
    "# deactivating certain individual nodes at random during training \n",
    "# we can simulate an ensemble of neural network with different architectures.\n",
    "\n",
    "# build model\n",
    "\n",
    "# input shape is shape of one image, one single array\n",
    "print(X_train.shape[1:])\n",
    "\n",
    "model = Sequential()\n",
    "\n",
    "model.add(Conv2D(32, (3, 3), padding='same', input_shape=X_train.shape[1:]))\n",
    "model.add(Activation('relu'))\n",
    "model.add(Dropout(0.25))\n",
    "\n",
    "model.add(Conv2D(32, (3, 3)))\n",
    "model.add(Activation('relu'))\n",
    "model.add(Dropout(0.25))\n",
    "\n",
    "model.add(Flatten())\n",
    "model.add(Dense(10, activation='softmax'))   \n",
    "\n",
    "# training the model\n",
    "\n",
    "# initiate RMSprop optimizer\n",
    "opt = RMSprop(lr=0.0001, decay=1e-6)\n",
    "\n",
    "# Let's train the model using RMSprop\n",
    "model.compile(loss='categorical_crossentropy',\n",
    "              optimizer=opt,\n",
    "              metrics=['accuracy']) \n",
    "\n",
    "model.fit(X_train, y_train, validation_data=(X_test, y_test), epochs=3)"
   ]
  },
  {
   "cell_type": "code",
   "execution_count": 84,
   "metadata": {},
   "outputs": [
    {
     "name": "stdout",
     "output_type": "stream",
     "text": [
      "(50, 50, 1)\n",
      "Train on 60000 samples, validate on 10000 samples\n",
      "Epoch 1/3\n",
      "60000/60000 [==============================] - 488s 8ms/sample - loss: 1.1381 - accuracy: 0.6378 - val_loss: 0.7503 - val_accuracy: 0.7936\n",
      "Epoch 2/3\n",
      "60000/60000 [==============================] - 433s 7ms/sample - loss: 0.5734 - accuracy: 0.8399 - val_loss: 0.5442 - val_accuracy: 0.8604\n",
      "Epoch 3/3\n",
      "60000/60000 [==============================] - 462s 8ms/sample - loss: 0.4178 - accuracy: 0.8867 - val_loss: 0.4492 - val_accuracy: 0.8918\n"
     ]
    },
    {
     "data": {
      "text/plain": [
       "<tensorflow.python.keras.callbacks.History at 0x215b6974dc8>"
      ]
     },
     "execution_count": 84,
     "metadata": {},
     "output_type": "execute_result"
    }
   ],
   "source": [
    "# Pooling, replace one layer, no activations fct. after MaxPooling\n",
    "\n",
    "# In \"pool\" of the 3x3 matrix of the convolution the highest value is selected\n",
    "# same network as before but add pooling\n",
    "\n",
    "# build model\n",
    "\n",
    "# input shape is shape of one image, one single array\n",
    "print(X_train.shape[1:])\n",
    "\n",
    "model = Sequential()\n",
    "\n",
    "model.add(Conv2D(32, (3, 3)))\n",
    "model.add(Activation('relu'))\n",
    "\n",
    "model.add(Conv2D(32, (3, 3)))\n",
    "model.add(Activation('relu'))\n",
    "model.add(MaxPooling2D(pool_size =(3, 3), padding='same', strides=(1, 1)))\n",
    "# does max pooling need no activation function???? Does it have to be in combination woth the Conv2\n",
    "# or does the entire thing work just by using the MaxPooling2D fct\n",
    "\n",
    "model.add(Flatten())\n",
    "model.add(Dense(10, activation='softmax'))\n",
    "\n",
    "# training the model\n",
    "\n",
    "# initiate RMSprop optimizer\n",
    "opt = RMSprop(lr=0.0001, decay=1e-6)\n",
    "\n",
    "# Let's train the model using RMSprop\n",
    "model.compile(loss='categorical_crossentropy',\n",
    "              optimizer=opt,\n",
    "              metrics=['accuracy']) \n",
    "\n",
    "model.fit(X_train, y_train, validation_data=(X_test, y_test), epochs=3)"
   ]
  }
 ],
 "metadata": {
  "kernelspec": {
   "display_name": "ml37",
   "language": "python",
   "name": "ml37"
  },
  "language_info": {
   "codemirror_mode": {
    "name": "ipython",
    "version": 3
   },
   "file_extension": ".py",
   "mimetype": "text/x-python",
   "name": "python",
   "nbconvert_exporter": "python",
   "pygments_lexer": "ipython3",
   "version": "3.7.7"
  }
 },
 "nbformat": 4,
 "nbformat_minor": 2
}
