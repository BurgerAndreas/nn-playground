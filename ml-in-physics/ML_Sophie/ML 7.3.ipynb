{
 "cells": [
  {
   "cell_type": "markdown",
   "metadata": {},
   "source": [
    "# KL – divergence\n",
    "\n",
    "- discrete probability distributions P and Q, on the same probability space Ω\n",
    "- KL = expectation of the logarithmic difference between the probabilities P and Q\n",
    "- how one probability distribution is different from a second\n",
    "- Show that it is not symmetric"
   ]
  },
  {
   "cell_type": "markdown",
   "metadata": {},
   "source": [
    "Ω={A,B}, P(A)=0.2, P(B)=0.8, Q(A)=Q(B)=0.5.\n",
    "\n",
    "Calculate both cases\n",
    "\n",
    "KL(P,Q) = P(A) log(P(A)/Q(A)) + P(B) log(P(B)/Q(B)) ≈ 0.19\n",
    "and\n",
    "\n",
    "KL(Q,P) = Q(A) log(Q(A)/P(A)) + Q(B) log(Q(B)/P(B)) ≈ 0.22"
   ]
  }
 ],
 "metadata": {
  "kernelspec": {
   "display_name": "ml37",
   "language": "python",
   "name": "ml37"
  },
  "language_info": {
   "codemirror_mode": {
    "name": "ipython",
    "version": 3
   },
   "file_extension": ".py",
   "mimetype": "text/x-python",
   "name": "python",
   "nbconvert_exporter": "python",
   "pygments_lexer": "ipython3",
   "version": "3.7.7"
  }
 },
 "nbformat": 4,
 "nbformat_minor": 2
}
