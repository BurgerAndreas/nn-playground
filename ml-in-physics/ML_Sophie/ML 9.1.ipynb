{
 "cells": [
  {
   "cell_type": "markdown",
   "metadata": {},
   "source": [
    "# Gridworld"
   ]
  },
  {
   "cell_type": "code",
   "execution_count": 1,
   "metadata": {},
   "outputs": [],
   "source": [
    "import numpy as np"
   ]
  },
  {
   "cell_type": "code",
   "execution_count": 22,
   "metadata": {},
   "outputs": [
    {
     "name": "stdout",
     "output_type": "stream",
     "text": [
      "(1, 1)\n"
     ]
    }
   ],
   "source": [
    "rows = 5\n",
    "columns = 5\n",
    "\n",
    "start = (np.random.randint(6),np.random.randint(6))\n",
    "print(start)"
   ]
  },
  {
   "cell_type": "markdown",
   "metadata": {},
   "source": [
    "### Dynamics\n",
    "- How to walk\n",
    "- Stay inside walls"
   ]
  },
  {
   "cell_type": "code",
   "execution_count": 43,
   "metadata": {},
   "outputs": [],
   "source": [
    "def nextPos(pos):\n",
    "    '''input: Pos1=(x,y), output: Pos2; We go up, down, left or right '''\n",
    "    \n",
    "    d = np.random.randint(4)\n",
    "    \n",
    "    # 'up', \n",
    "    if d == 0:\n",
    "        pos = (pos[0],pos[1]+1)\n",
    "    \n",
    "    # 'down'\n",
    "    elif d == 1:\n",
    "        pos = (pos[0],pos[1]-1)\n",
    "        \n",
    "    # 'left'\n",
    "    elif d == 2:\n",
    "        pos = (pos[0]-1,pos[1])\n",
    "        \n",
    "    # 'right'\n",
    "    elif d == 3:\n",
    "        pos = (pos[0]+1,pos[1])\n",
    "    \n",
    "    return pos\n",
    "\n",
    "\n",
    "def walk(pos): \n",
    "    '''input: Pos1, checks if Pos2 has value greater than 5, then return Pos1'''\n",
    "    # we can still walk up, down if we have a wall to the left. \n",
    "    \n",
    "    test_pos = nextPos(pos)\n",
    "    # 0-4 x 0-4 --> 5x5 grid\n",
    "    if test_pos[0]>4 or test_pos[1]>4 or test_pos[0]<0 or test_pos[1]<0:\n",
    "        pos2 = pos\n",
    "    else:\n",
    "        pos2 = test_pos\n",
    "        \n",
    "    return pos2 \n",
    "    "
   ]
  },
  {
   "cell_type": "markdown",
   "metadata": {},
   "source": [
    "### 10 sample episodes\n",
    "- Let's do 25 steps in each episode"
   ]
  },
  {
   "cell_type": "code",
   "execution_count": 44,
   "metadata": {},
   "outputs": [
    {
     "name": "stdout",
     "output_type": "stream",
     "text": [
      "(3, 4)\n",
      "(3, 4)\n",
      "(2, 4)\n",
      "(3, 4)\n",
      "(4, 4)\n",
      "(4, 4)\n",
      "(4, 4)\n",
      "(3, 4)\n",
      "(3, 4)\n",
      "(2, 4)\n",
      "(2, 4)\n",
      "(3, 4)\n",
      "(3, 3)\n",
      "(2, 3)\n",
      "(2, 2)\n",
      "(2, 1)\n",
      "(3, 1)\n",
      "(3, 2)\n",
      "(3, 3)\n",
      "(2, 3)\n",
      "(3, 3)\n",
      "(2, 3)\n",
      "(2, 4)\n",
      "(2, 4)\n",
      "(2, 4)\n"
     ]
    }
   ],
   "source": [
    "def play(pos):\n",
    "    for _ in range(25):\n",
    "        pos = walk(pos)\n",
    "        print(pos)\n",
    "        \n",
    "play((3,3))"
   ]
  },
  {
   "cell_type": "code",
   "execution_count": 51,
   "metadata": {},
   "outputs": [
    {
     "name": "stdout",
     "output_type": "stream",
     "text": [
      "start:(1, 1)\n",
      "no reward for this step\n",
      "pos: (1, 0)\n",
      "reward: 0\n",
      "no reward for this step\n",
      "pos: (1, 1)\n",
      "reward: 0\n",
      "no reward for this step\n",
      "pos: (0, 1)\n",
      "reward: 0\n",
      "Yayyy +1\n",
      "pos: (0, 0)\n",
      "reward: 1\n",
      "Yayyy +1\n",
      "pos: (0, 0)\n",
      "reward: 2\n",
      "no reward for this step\n",
      "pos: (0, 1)\n",
      "reward: 2\n",
      "no reward for this step\n",
      "pos: (0, 2)\n",
      "reward: 2\n",
      "no reward for this step\n",
      "pos: (0, 3)\n",
      "reward: 2\n",
      "no reward for this step\n",
      "pos: (0, 3)\n",
      "reward: 2\n",
      "no reward for this step\n",
      "pos: (1, 3)\n",
      "reward: 2\n"
     ]
    }
   ],
   "source": [
    "def play_reward(pos):\n",
    "    '''add a reward to the play function\n",
    "    +5 in central pixel --> 2x2 \n",
    "    + 1 in corner --> '''\n",
    "    print(f'start:{pos}')\n",
    "    steps = 10 \n",
    "    reward = 0\n",
    "    for _ in range(steps):\n",
    "        pos = walk(pos)\n",
    "        if pos == (2,2): \n",
    "            reward = reward+5\n",
    "            print('Yayyy +5')\n",
    "            \n",
    "        elif pos==(0,0) or pos==(0,4) or pos==(4,0) or pos==(4,4):\n",
    "            reward = reward+1\n",
    "            print('Yayyy +1')\n",
    "            \n",
    "        else: \n",
    "            print('no reward for this step')\n",
    "        print(f'pos: {pos}')\n",
    "        print(f'reward: {reward}')\n",
    "        \n",
    "play_reward((1,1))"
   ]
  },
  {
   "cell_type": "code",
   "execution_count": null,
   "metadata": {},
   "outputs": [],
   "source": []
  }
 ],
 "metadata": {
  "kernelspec": {
   "display_name": "ml37",
   "language": "python",
   "name": "ml37"
  },
  "language_info": {
   "codemirror_mode": {
    "name": "ipython",
    "version": 3
   },
   "file_extension": ".py",
   "mimetype": "text/x-python",
   "name": "python",
   "nbconvert_exporter": "python",
   "pygments_lexer": "ipython3",
   "version": "3.7.7"
  }
 },
 "nbformat": 4,
 "nbformat_minor": 4
}
