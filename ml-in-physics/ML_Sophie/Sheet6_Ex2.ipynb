{
 "cells": [
  {
   "cell_type": "code",
   "execution_count": 1,
   "metadata": {
    "pycharm": {
     "name": "#%%\n"
    }
   },
   "outputs": [],
   "source": [
    "from tensorflow.keras.models import Model # imports our type of network\n",
    "from tensorflow.keras.layers import Flatten, Dropout, Dense, Input, Conv2D, MaxPooling2D\n",
    "from tensorflow.keras.optimizers import SGD\n",
    "from tensorflow.python.ops.nn_ops import local_response_normalization"
   ]
  },
  {
   "cell_type": "code",
   "execution_count": 2,
   "metadata": {
    "pycharm": {
     "name": "#%%\n"
    }
   },
   "outputs": [],
   "source": [
    "numclasses = 1000\n",
    "inputs = Input((224,224,3))\n",
    "# Layer 1\n",
    "conv1 = Conv2D(96, (11,11), strides=4 , activation = 'relu')(inputs)\n",
    "re1 = local_response_normalization(conv1, depth_radius=5, bias=2, alpha= 10**(-4) , beta=0.75)\n",
    "pl1 = MaxPooling2D((5,5), strides=2)(re1)\n",
    "# Layer 2\n",
    "conv2 = Conv2D(256, (5,5), activation = 'relu')(pl1)\n",
    "re2 = local_response_normalization(conv2, depth_radius=5, bias=2, alpha= 10**(-4) , beta=0.75)\n",
    "pl2 = MaxPooling2D((3,3), strides=2)(re2)\n",
    "# Layer 3\n",
    "con3 = Conv2D(384, (3,3), activation = 'relu')(pl2)\n",
    "# Layer 4\n",
    "con4 = Conv2D(384, (3,3), activation = 'relu')(con3)\n",
    "# Layer 5\n",
    "con5 = Conv2D(256, (3,3), activation = 'relu')(con4)\n",
    "pl5 = MaxPooling2D((3,3), strides=2)(con5)\n",
    "pl5 = Flatten()(pl5)\n",
    "# Layer 6\n",
    "lay6 = Dense(4096, activation='relu')(pl5)\n",
    "lay6 = Dropout(0.5)(lay6)\n",
    "# Layer 7\n",
    "lay7 = Dense(4096, activation='relu')(lay6)\n",
    "lay7 = Dropout(0.5)(lay7)\n",
    "# Layer 8\n",
    "lay8 = Dense(numclasses, activation='softmax')(lay7)\n",
    "\n",
    "model = Model(inputs = inputs, outputs = lay8)"
   ]
  },
  {
   "cell_type": "code",
   "execution_count": 3,
   "metadata": {
    "pycharm": {
     "name": "#%%\n"
    }
   },
   "outputs": [],
   "source": [
    "model.compile(loss='binary_crossentropy',\n",
    "            optimizer=SGD(), metrics=['accuracy'])"
   ]
  },
  {
   "cell_type": "code",
   "execution_count": 4,
   "metadata": {
    "pycharm": {
     "name": "#%%\n"
    }
   },
   "outputs": [
    {
     "name": "stdout",
     "output_type": "stream",
     "text": [
      "Model: \"model\"\n",
      "_________________________________________________________________\n",
      "Layer (type)                 Output Shape              Param #   \n",
      "=================================================================\n",
      "input_1 (InputLayer)         [(None, 224, 224, 3)]     0         \n",
      "_________________________________________________________________\n",
      "conv2d (Conv2D)              (None, 54, 54, 96)        34944     \n",
      "_________________________________________________________________\n",
      "tf_op_layer_LRN (TensorFlowO [(None, 54, 54, 96)]      0         \n",
      "_________________________________________________________________\n",
      "max_pooling2d (MaxPooling2D) (None, 25, 25, 96)        0         \n",
      "_________________________________________________________________\n",
      "conv2d_1 (Conv2D)            (None, 21, 21, 256)       614656    \n",
      "_________________________________________________________________\n",
      "tf_op_layer_LRN_1 (TensorFlo [(None, 21, 21, 256)]     0         \n",
      "_________________________________________________________________\n",
      "max_pooling2d_1 (MaxPooling2 (None, 10, 10, 256)       0         \n",
      "_________________________________________________________________\n",
      "conv2d_2 (Conv2D)            (None, 8, 8, 384)         885120    \n",
      "_________________________________________________________________\n",
      "conv2d_3 (Conv2D)            (None, 6, 6, 384)         1327488   \n",
      "_________________________________________________________________\n",
      "conv2d_4 (Conv2D)            (None, 4, 4, 256)         884992    \n",
      "_________________________________________________________________\n",
      "max_pooling2d_2 (MaxPooling2 (None, 1, 1, 256)         0         \n",
      "_________________________________________________________________\n",
      "flatten (Flatten)            (None, 256)               0         \n",
      "_________________________________________________________________\n",
      "dense (Dense)                (None, 4096)              1052672   \n",
      "_________________________________________________________________\n",
      "dropout (Dropout)            (None, 4096)              0         \n",
      "_________________________________________________________________\n",
      "dense_1 (Dense)              (None, 4096)              16781312  \n",
      "_________________________________________________________________\n",
      "dropout_1 (Dropout)          (None, 4096)              0         \n",
      "_________________________________________________________________\n",
      "dense_2 (Dense)              (None, 1000)              4097000   \n",
      "=================================================================\n",
      "Total params: 25,678,184\n",
      "Trainable params: 25,678,184\n",
      "Non-trainable params: 0\n",
      "_________________________________________________________________\n"
     ]
    }
   ],
   "source": [
    "model.summary()\n",
    "\n"
   ]
  },
  {
   "cell_type": "code",
   "execution_count": 4,
   "metadata": {
    "pycharm": {
     "name": "#%%\n"
    }
   },
   "outputs": [],
   "source": [
    "\n"
   ]
  }
 ],
 "metadata": {
  "kernelspec": {
   "display_name": "Python 3",
   "language": "python",
   "name": "python3"
  },
  "language_info": {
   "codemirror_mode": {
    "name": "ipython",
    "version": 3
   },
   "file_extension": ".py",
   "mimetype": "text/x-python",
   "name": "python",
   "nbconvert_exporter": "python",
   "pygments_lexer": "ipython3",
   "version": "3.7.4"
  }
 },
 "nbformat": 4,
 "nbformat_minor": 1
}
