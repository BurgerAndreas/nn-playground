{
 "cells": [
  {
   "cell_type": "markdown",
   "metadata": {},
   "source": [
    "# Exercise Sheet 5"
   ]
  },
  {
   "cell_type": "code",
   "execution_count": 7,
   "metadata": {},
   "outputs": [],
   "source": [
    "import numpy as np\n",
    "import matplotlib.pyplot as plt\n",
    "import tensorflow as tf\n",
    "from tensorflow.keras.datasets import mnist  # MNIST data\n",
    "# from tensorflow.python.keras.utils import to_categorical\n",
    "# from tensorflow.python.keras.losses import categorical_crossentropy #loss function\n",
    "# from tensorflow.python.keras.optimizers import Adam, SGD #optimisers\n",
    "\n",
    "from tensorflow.keras.utils import to_categorical\n",
    "from tensorflow.keras.losses import categorical_crossentropy #loss function\n",
    "from tensorflow.keras.optimizers import Adam, SGD #optimisers"
   ]
  },
  {
   "cell_type": "markdown",
   "metadata": {},
   "source": [
    "## [1] MNIST - Conv2D"
   ]
  },
  {
   "cell_type": "markdown",
   "metadata": {},
   "source": [
    "The digits in the MNIST dataset are in the center. Here we will undo this operation and compare the performance of convolutional neural networks vs fully connected networks.  \n",
    "* Create a new dataset of size 50x50 where you place the handwritten digit at different random positions in the dataset.\n",
    "* Now train a neural network with a single hidden dense layer (as on the original MNIST dataset in the lectures).\n",
    "* Now try to improve your performance in comparison to your previous layout by using an architecture involving convolutional layers (Conv2D).\n",
    "* $\\star$ We have mentioned various options to improve the performance of networks. Check whether methods like Dropout, BatchNormalization, Pooling layers can improve your results. Try to fine-tune the performance (you may also try deeper architectures, i.e. with more hidden layers.)"
   ]
  },
  {
   "cell_type": "markdown",
   "metadata": {},
   "source": [
    "### Solution"
   ]
  },
  {
   "cell_type": "markdown",
   "metadata": {},
   "source": [
    "For a very accessible explanation of CNNs, see e.g. [link](https://ujjwalkarn.me/2016/08/11/intuitive-explanation-convnets/).  \n",
    "\n",
    "You can have a look at some architectures in the literature:  \n",
    "[LeNet5](http://yann.lecun.com/exdb/publis/pdf/lecun-01a.pdf)  \n",
    "[GoogLeNet](https://arxiv.org/pdf/1409.4842.pdf)"
   ]
  },
  {
   "cell_type": "markdown",
   "metadata": {},
   "source": [
    "See also: [Why is training loss higher than testing loss?](https://keras.io/getting-started/faq/#why-is-the-training-loss-much-higher-than-the-testing-loss)  \n",
    "Very useful when training takes long: [Keras Callbacks](https://keras.io/callbacks/)"
   ]
  },
  {
   "cell_type": "markdown",
   "metadata": {},
   "source": [
    "Fun stuff about fruit flies: [link](https://journals.plos.org/plosone/article?id=10.1371/journal.pone.0205043)"
   ]
  },
  {
   "cell_type": "markdown",
   "metadata": {},
   "source": [
    "Copy code from lecture"
   ]
  },
  {
   "cell_type": "code",
   "execution_count": 8,
   "metadata": {},
   "outputs": [
    {
     "name": "stdout",
     "output_type": "stream",
     "text": [
      "x_train shape: (60000, 28, 28)\n",
      "60000 train samples\n",
      "10000 test samples\n"
     ]
    }
   ],
   "source": [
    "batch_size = 128\n",
    "num_classes = 10\n",
    "epochs = 20\n",
    "\n",
    "# input image dimensions\n",
    "img_rows, img_cols = 28, 28\n",
    "\n",
    "# the data, split between train and test sets\n",
    "(x_train, y_train), (x_test, y_test) = mnist.load_data()\n",
    "\n",
    "\n",
    "x_train = x_train.astype('float32')\n",
    "x_test = x_test.astype('float32')\n",
    "x_train /= 255\n",
    "x_test /= 255\n",
    "print('x_train shape:', x_train.shape)\n",
    "print(x_train.shape[0], 'train samples')\n",
    "print(x_test.shape[0], 'test samples')\n",
    "\n",
    "# convert class vectors to binary class matrices\n",
    "y_train = to_categorical(y_train, num_classes)\n",
    "y_test = to_categorical(y_test, num_classes)"
   ]
  },
  {
   "cell_type": "markdown",
   "metadata": {},
   "source": [
    "Set up some code for random positioning in a 50x50 initialized with 0"
   ]
  },
  {
   "cell_type": "code",
   "execution_count": 9,
   "metadata": {},
   "outputs": [],
   "source": [
    "picx = 28\n",
    "picy = 28\n",
    "bigpicx = 50\n",
    "bigpicy = 50\n",
    "\n",
    "def embed(pic, pos):\n",
    "    # pos expects a tuple of slice objects\n",
    "    bigpic = np.zeros((bigpicx, bigpicy))\n",
    "    bigpic[pos] = pic\n",
    "    return bigpic\n",
    "\n",
    "def randpos():\n",
    "    xpos = np.random.randint(0, (bigpicx-picx))\n",
    "    ypos = np.random.randint(0, (bigpicy-picy))\n",
    "    # we use np.s_ to return a tuple of slice objects\n",
    "    return np.s_[xpos:xpos+picx, ypos:ypos+picy]"
   ]
  },
  {
   "cell_type": "markdown",
   "metadata": {},
   "source": [
    "Create the dataset"
   ]
  },
  {
   "cell_type": "code",
   "execution_count": 10,
   "metadata": {},
   "outputs": [],
   "source": [
    "# the final processing of the data is quite compact using list comprehensions\n",
    "x_train_original = x_train\n",
    "x_test_original = x_test\n",
    "x_train = np.array([embed(pic, randpos()) for pic in x_train])\n",
    "x_test = np.array([embed(pic, randpos()) for pic in x_test])\n",
    "x_train_conv = np.expand_dims(x_train, axis=3)\n",
    "x_test_conv = np.expand_dims(x_test, axis=3)\n",
    "x_train_original_conv = np.expand_dims(x_train_original, axis=3)\n",
    "x_test_original_conv = np.expand_dims(x_test_original, axis=3)"
   ]
  },
  {
   "cell_type": "markdown",
   "metadata": {},
   "source": [
    "#### Try with only dense layers:"
   ]
  },
  {
   "cell_type": "code",
   "execution_count": 11,
   "metadata": {},
   "outputs": [],
   "source": [
    "model1 = tf.keras.Sequential()\n",
    "model1.add(tf.keras.layers.Flatten())\n",
    "model1.add(tf.keras.layers.Dense(250, activation='relu'))\n",
    "model1.add(tf.keras.layers.Dense(10, activation='softmax'))\n",
    "model1.compile(loss=categorical_crossentropy, optimizer=Adam(), metrics=['accuracy'])"
   ]
  },
  {
   "cell_type": "code",
   "execution_count": 14,
   "metadata": {
    "scrolled": false
   },
   "outputs": [
    {
     "name": "stdout",
     "output_type": "stream",
     "text": [
      "Train on 60000 samples, validate on 10000 samples\n",
      "Epoch 1/3\n",
      "60000/60000 [==============================] - 7s 119us/sample - loss: 0.2803 - accuracy: 0.9197 - val_loss: 0.3730 - val_accuracy: 0.8889\n",
      "Epoch 2/3\n",
      "60000/60000 [==============================] - 7s 116us/sample - loss: 0.2242 - accuracy: 0.9377 - val_loss: 0.3554 - val_accuracy: 0.8911\n",
      "Epoch 3/3\n",
      "60000/60000 [==============================] - 7s 115us/sample - loss: 0.1814 - accuracy: 0.9509 - val_loss: 0.3502 - val_accuracy: 0.8955\n"
     ]
    },
    {
     "data": {
      "image/png": "[encoded data removed]",
      "text/plain": [
       "<Figure size 432x288 with 1 Axes>"
      ]
     },
     "metadata": {
      "needs_background": "light"
     },
     "output_type": "display_data"
    },
    {
     "data": {
      "image/png": "[encoded data removed]",
      "text/plain": [
       "<Figure size 432x288 with 1 Axes>"
      ]
     },
     "metadata": {
      "needs_background": "light"
     },
     "output_type": "display_data"
    }
   ],
   "source": [
    "batch_size = 128\n",
    "epochs = 3\n",
    "\n",
    "hist1 = model1.fit(x_train, y_train,\n",
    "          batch_size=batch_size,\n",
    "          epochs=epochs,\n",
    "          verbose=1,\n",
    "          validation_data=(x_test, y_test))\n",
    "\n",
    "# summarize history for accuracy\n",
    "plt.plot(hist1.history['accuracy'])\n",
    "plt.plot(hist1.history['val_accuracy'])\n",
    "plt.ylabel('model accuracy')\n",
    "plt.xlabel('epoch')\n",
    "plt.legend(['train', 'test'], loc='best')\n",
    "plt.show()\n",
    "\n",
    "# summarize history for loss\n",
    "plt.plot(hist1.history['loss'])\n",
    "plt.plot(hist1.history['val_loss'])\n",
    "plt.ylabel('model loss')\n",
    "plt.xlabel('epoch')\n",
    "plt.legend(['train', 'test'], loc='best')\n",
    "plt.show()"
   ]
  },
  {
   "cell_type": "markdown",
   "metadata": {},
   "source": [
    "The result is not bad, training is fast, but it is hard to go significantly beyond 90% accuracy on the test data"
   ]
  },
  {
   "cell_type": "markdown",
   "metadata": {},
   "source": [
    "#### Now also add convolutional layers"
   ]
  },
  {
   "cell_type": "code",
   "execution_count": 15,
   "metadata": {},
   "outputs": [
    {
     "name": "stdout",
     "output_type": "stream",
     "text": [
      "Model: \"sequential_2\"\n",
      "_________________________________________________________________\n",
      "Layer (type)                 Output Shape              Param #   \n",
      "=================================================================\n",
      "conv2d (Conv2D)              (None, 46, 46, 16)        416       \n",
      "_________________________________________________________________\n",
      "max_pooling2d (MaxPooling2D) (None, 23, 23, 16)        0         \n",
      "_________________________________________________________________\n",
      "conv2d_1 (Conv2D)            (None, 19, 19, 16)        6416      \n",
      "_________________________________________________________________\n",
      "max_pooling2d_1 (MaxPooling2 (None, 9, 9, 16)          0         \n",
      "_________________________________________________________________\n",
      "flatten_2 (Flatten)          (None, 1296)              0         \n",
      "_________________________________________________________________\n",
      "dense_4 (Dense)              (None, 648)               840456    \n",
      "_________________________________________________________________\n",
      "dense_5 (Dense)              (None, 10)                6490      \n",
      "=================================================================\n",
      "Total params: 853,778\n",
      "Trainable params: 853,778\n",
      "Non-trainable params: 0\n",
      "_________________________________________________________________\n"
     ]
    }
   ],
   "source": [
    "model_conv1 = tf.keras.Sequential()\n",
    "\n",
    "# Convolutional preprocessing\n",
    "model_conv1.add(tf.keras.layers.Conv2D(16, (5,5), input_shape=(50,50,1), activation='relu'))\n",
    "model_conv1.add(tf.keras.layers.MaxPooling2D(pool_size=2))\n",
    "\n",
    "model_conv1.add(tf.keras.layers.Conv2D(16, (5,5), input_shape=(50,50,1), activation='relu'))\n",
    "model_conv1.add(tf.keras.layers.MaxPooling2D(pool_size=2))\n",
    "\n",
    "# Flatten to prepare for dense layers\n",
    "model_conv1.add(tf.keras.layers.Flatten())\n",
    "\n",
    "# Dense postprocessing\n",
    "model_conv1.add(tf.keras.layers.Dense(648, activation='relu'))\n",
    "\n",
    "model_conv1.add(tf.keras.layers.Dense(10, activation='softmax'))\n",
    "\n",
    "model_conv1.compile(loss=categorical_crossentropy, optimizer=Adam(), metrics=['accuracy'])\n",
    "\n",
    "model_conv1.summary()"
   ]
  },
  {
   "cell_type": "code",
   "execution_count": 16,
   "metadata": {},
   "outputs": [
    {
     "name": "stdout",
     "output_type": "stream",
     "text": [
      "Train on 60000 samples, validate on 10000 samples\n",
      "Epoch 1/3\n",
      "60000/60000 [==============================] - 114s 2ms/sample - loss: 0.5674 - accuracy: 0.8122 - val_loss: 0.1741 - val_accuracy: 0.9452\n",
      "Epoch 2/3\n",
      "60000/60000 [==============================] - 110s 2ms/sample - loss: 0.1469 - accuracy: 0.9555 - val_loss: 0.1094 - val_accuracy: 0.9650\n",
      "Epoch 3/3\n",
      "60000/60000 [==============================] - 106s 2ms/sample - loss: 0.0902 - accuracy: 0.9714 - val_loss: 0.1164 - val_accuracy: 0.9644\n"
     ]
    },
    {
     "data": {
      "image/png": "[encoded data removed]",
      "text/plain": [
       "<Figure size 432x288 with 1 Axes>"
      ]
     },
     "metadata": {
      "needs_background": "light"
     },
     "output_type": "display_data"
    },
    {
     "data": {
      "image/png": "[encoded data removed]",
      "text/plain": [
       "<Figure size 432x288 with 1 Axes>"
      ]
     },
     "metadata": {
      "needs_background": "light"
     },
     "output_type": "display_data"
    }
   ],
   "source": [
    "batch_size = 128\n",
    "epochs = 3\n",
    "\n",
    "hist_conv1 = model_conv1.fit(x_train_conv, y_train,\n",
    "          batch_size=batch_size,\n",
    "          epochs=epochs,\n",
    "          verbose=1,\n",
    "          validation_data=(x_test_conv, y_test))\n",
    "\n",
    "# summarize history for accuracy\n",
    "plt.plot(hist_conv1.history['accuracy'])\n",
    "plt.plot(hist_conv1.history['val_accuracy'])\n",
    "plt.ylabel('model accuracy')\n",
    "plt.xlabel('epoch')\n",
    "plt.legend(['train', 'test'], loc='best')\n",
    "plt.show()\n",
    "\n",
    "# summarize history for loss\n",
    "plt.plot(hist_conv1.history['loss'])\n",
    "plt.plot(hist_conv1.history['val_loss'])\n",
    "plt.ylabel('model loss')\n",
    "plt.xlabel('epoch')\n",
    "plt.legend(['train', 'test'], loc='best')\n",
    "plt.show()"
   ]
  },
  {
   "cell_type": "markdown",
   "metadata": {},
   "source": [
    "Try another architecture"
   ]
  },
  {
   "cell_type": "code",
   "execution_count": 17,
   "metadata": {
    "scrolled": true
   },
   "outputs": [
    {
     "name": "stdout",
     "output_type": "stream",
     "text": [
      "Model: \"sequential_3\"\n",
      "_________________________________________________________________\n",
      "Layer (type)                 Output Shape              Param #   \n",
      "=================================================================\n",
      "conv2d_2 (Conv2D)            (None, 44, 44, 64)        3200      \n",
      "_________________________________________________________________\n",
      "max_pooling2d_2 (MaxPooling2 (None, 14, 14, 64)        0         \n",
      "_________________________________________________________________\n",
      "conv2d_3 (Conv2D)            (None, 12, 12, 128)       73856     \n",
      "_________________________________________________________________\n",
      "max_pooling2d_3 (MaxPooling2 (None, 4, 4, 128)         0         \n",
      "_________________________________________________________________\n",
      "conv2d_4 (Conv2D)            (None, 2, 2, 192)         221376    \n",
      "_________________________________________________________________\n",
      "max_pooling2d_4 (MaxPooling2 (None, 1, 1, 192)         0         \n",
      "_________________________________________________________________\n",
      "flatten_3 (Flatten)          (None, 192)               0         \n",
      "_________________________________________________________________\n",
      "dense_6 (Dense)              (None, 128)               24704     \n",
      "_________________________________________________________________\n",
      "dense_7 (Dense)              (None, 10)                1290      \n",
      "=================================================================\n",
      "Total params: 324,426\n",
      "Trainable params: 324,426\n",
      "Non-trainable params: 0\n",
      "_________________________________________________________________\n"
     ]
    }
   ],
   "source": [
    "model_conv2 = tf.keras.Sequential()\n",
    "\n",
    "# Convolutional preprocessing\n",
    "model_conv2.add(tf.keras.layers.Conv2D(64, (7,7), input_shape=(50,50,1), activation='relu'))\n",
    "model_conv2.add(tf.keras.layers.MaxPooling2D(pool_size=3))\n",
    "model_conv2.add(tf.keras.layers.Conv2D(128, (3,3), activation='relu'))\n",
    "model_conv2.add(tf.keras.layers.MaxPooling2D(pool_size=3))\n",
    "model_conv2.add(tf.keras.layers.Conv2D(192, (3,3), activation='relu'))\n",
    "model_conv2.add(tf.keras.layers.MaxPooling2D(pool_size=2))\n",
    "\n",
    "# Flatten to prepare for dense layers\n",
    "model_conv2.add(tf.keras.layers.Flatten())\n",
    "\n",
    "# Dense postprocessing\n",
    "model_conv2.add(tf.keras.layers.Dense(128, activation='relu'))\n",
    "\n",
    "model_conv2.add(tf.keras.layers.Dense(10, activation='softmax'))\n",
    "\n",
    "model_conv2.compile(loss=categorical_crossentropy, optimizer=Adam(), metrics=['accuracy'])\n",
    "\n",
    "model_conv2.summary()"
   ]
  },
  {
   "cell_type": "code",
   "execution_count": null,
   "metadata": {},
   "outputs": [],
   "source": [
    "batch_size = 128\n",
    "epochs = 3\n",
    "\n",
    "hist_conv2 = model_conv2.fit(x_train_conv, y_train,\n",
    "          batch_size=batch_size,\n",
    "          epochs=epochs,\n",
    "          verbose=1,\n",
    "          validation_data=(x_test_conv, y_test))\n",
    "\n",
    "# summarize history for accuracy\n",
    "plt.plot(hist_conv2.history['acc'])\n",
    "plt.plot(hist_conv2.history['val_acc'])\n",
    "plt.ylabel('model accuracy')\n",
    "plt.xlabel('epoch')\n",
    "plt.legend(['train', 'test'], loc='best')\n",
    "plt.show()\n",
    "\n",
    "# summarize history for loss\n",
    "plt.plot(hist_conv2.history['loss'])\n",
    "plt.plot(hist_conv2.history['val_loss'])\n",
    "plt.ylabel('model loss')\n",
    "plt.xlabel('epoch')\n",
    "plt.legend(['train', 'test'], loc='best')\n",
    "plt.show()"
   ]
  },
  {
   "cell_type": "markdown",
   "metadata": {},
   "source": [
    "Add batch normalization and dropout."
   ]
  },
  {
   "cell_type": "code",
   "execution_count": 18,
   "metadata": {},
   "outputs": [
    {
     "name": "stdout",
     "output_type": "stream",
     "text": [
      "Model: \"sequential_4\"\n",
      "_________________________________________________________________\n",
      "Layer (type)                 Output Shape              Param #   \n",
      "=================================================================\n",
      "conv2d_5 (Conv2D)            (None, 44, 44, 64)        3136      \n",
      "_________________________________________________________________\n",
      "batch_normalization (BatchNo (None, 44, 44, 64)        256       \n",
      "_________________________________________________________________\n",
      "activation (Activation)      (None, 44, 44, 64)        0         \n",
      "_________________________________________________________________\n",
      "max_pooling2d_5 (MaxPooling2 (None, 14, 14, 64)        0         \n",
      "_________________________________________________________________\n",
      "conv2d_6 (Conv2D)            (None, 12, 12, 128)       73728     \n",
      "_________________________________________________________________\n",
      "batch_normalization_1 (Batch (None, 12, 12, 128)       512       \n",
      "_________________________________________________________________\n",
      "activation_1 (Activation)    (None, 12, 12, 128)       0         \n",
      "_________________________________________________________________\n",
      "max_pooling2d_6 (MaxPooling2 (None, 4, 4, 128)         0         \n",
      "_________________________________________________________________\n",
      "conv2d_7 (Conv2D)            (None, 2, 2, 192)         221184    \n",
      "_________________________________________________________________\n",
      "batch_normalization_2 (Batch (None, 2, 2, 192)         768       \n",
      "_________________________________________________________________\n",
      "activation_2 (Activation)    (None, 2, 2, 192)         0         \n",
      "_________________________________________________________________\n",
      "dropout (Dropout)            (None, 2, 2, 192)         0         \n",
      "_________________________________________________________________\n",
      "max_pooling2d_7 (MaxPooling2 (None, 1, 1, 192)         0         \n",
      "_________________________________________________________________\n",
      "flatten_4 (Flatten)          (None, 192)               0         \n",
      "_________________________________________________________________\n",
      "dense_8 (Dense)              (None, 128)               24576     \n",
      "_________________________________________________________________\n",
      "batch_normalization_3 (Batch (None, 128)               512       \n",
      "_________________________________________________________________\n",
      "activation_3 (Activation)    (None, 128)               0         \n",
      "_________________________________________________________________\n",
      "dense_9 (Dense)              (None, 10)                1290      \n",
      "=================================================================\n",
      "Total params: 325,962\n",
      "Trainable params: 324,938\n",
      "Non-trainable params: 1,024\n",
      "_________________________________________________________________\n"
     ]
    }
   ],
   "source": [
    "model_conv3 = tf.keras.Sequential()\n",
    "\n",
    "# Convolutional preprocessing\n",
    "model_conv3.add(tf.keras.layers.Conv2D(64, (7,7), input_shape=(50,50,1), use_bias=False))\n",
    "model_conv3.add(tf.keras.layers.BatchNormalization())\n",
    "model_conv3.add(tf.keras.layers.Activation('relu'))\n",
    "\n",
    "model_conv3.add(tf.keras.layers.MaxPooling2D(pool_size=3))\n",
    "\n",
    "model_conv3.add(tf.keras.layers.Conv2D(128, (3,3), use_bias=False))\n",
    "model_conv3.add(tf.keras.layers.BatchNormalization())\n",
    "model_conv3.add(tf.keras.layers.Activation('relu'))\n",
    "\n",
    "model_conv3.add(tf.keras.layers.MaxPooling2D(pool_size=3))\n",
    "\n",
    "model_conv3.add(tf.keras.layers.Conv2D(192, (3,3), use_bias=False))\n",
    "model_conv3.add(tf.keras.layers.BatchNormalization())\n",
    "model_conv3.add(tf.keras.layers.Activation('relu'))\n",
    "model_conv3.add(tf.keras.layers.Dropout(0.5))\n",
    "\n",
    "model_conv3.add(tf.keras.layers.MaxPooling2D(pool_size=2))\n",
    "\n",
    "# Flatten to prepare for dense layers\n",
    "model_conv3.add(tf.keras.layers.Flatten())\n",
    "\n",
    "# Dense postprocessing\n",
    "model_conv3.add(tf.keras.layers.Dense(128, use_bias=False))\n",
    "model_conv3.add(tf.keras.layers.BatchNormalization())\n",
    "model_conv3.add(tf.keras.layers.Activation('relu'))\n",
    "\n",
    "model_conv3.add(tf.keras.layers.Dense(10, activation='softmax'))\n",
    "\n",
    "model_conv3.compile(loss=categorical_crossentropy, optimizer=Adam(), metrics=['accuracy'])\n",
    "\n",
    "model_conv3.summary()"
   ]
  },
  {
   "cell_type": "code",
   "execution_count": 19,
   "metadata": {},
   "outputs": [
    {
     "name": "stdout",
     "output_type": "stream",
     "text": [
      "Train on 60000 samples, validate on 10000 samples\n",
      "Epoch 1/2\n",
      "60000/60000 [==============================] - 544s 9ms/sample - loss: 0.2963 - accuracy: 0.9105 - val_loss: 0.1538 - val_accuracy: 0.9531\n",
      "Epoch 2/2\n",
      "60000/60000 [==============================] - 654s 11ms/sample - loss: 0.0874 - accuracy: 0.9732 - val_loss: 0.1291 - val_accuracy: 0.9573\n"
     ]
    }
   ],
   "source": [
    "batch_size = 64\n",
    "epochs = 2\n",
    "\n",
    "hist_conv3 = model_conv3.fit(x_train_conv, y_train,\n",
    "          batch_size=batch_size,\n",
    "          epochs=epochs,\n",
    "          verbose=1,\n",
    "          validation_data=(x_test_conv, y_test))"
   ]
  },
  {
   "cell_type": "code",
   "execution_count": 21,
   "metadata": {},
   "outputs": [
    {
     "data": {
      "image/png": "[encoded data removed]",
      "text/plain": [
       "<Figure size 432x288 with 1 Axes>"
      ]
     },
     "metadata": {
      "needs_background": "light"
     },
     "output_type": "display_data"
    },
    {
     "data": {
      "image/png": "[encoded data removed]",
      "text/plain": [
       "<Figure size 432x288 with 1 Axes>"
      ]
     },
     "metadata": {
      "needs_background": "light"
     },
     "output_type": "display_data"
    }
   ],
   "source": [
    "\n",
    "# summarize history for accuracy\n",
    "plt.plot(hist_conv3.history['accuracy'])\n",
    "plt.plot(hist_conv3.history['val_accuracy'])\n",
    "plt.ylabel('model accuracy')\n",
    "plt.xlabel('epoch')\n",
    "plt.legend(['train', 'test'], loc='best')\n",
    "plt.show()\n",
    "\n",
    "# summarize history for loss\n",
    "plt.plot(hist_conv3.history['loss'])\n",
    "plt.plot(hist_conv3.history['val_loss'])\n",
    "plt.ylabel('model loss')\n",
    "plt.xlabel('epoch')\n",
    "plt.legend(['train', 'test'], loc='best')\n",
    "plt.show()"
   ]
  },
  {
   "cell_type": "code",
   "execution_count": null,
   "metadata": {},
   "outputs": [],
   "source": []
  }
 ],
 "metadata": {
  "kernelspec": {
   "display_name": "ml37",
   "language": "python",
   "name": "ml37"
  },
  "language_info": {
   "codemirror_mode": {
    "name": "ipython",
    "version": 3
   },
   "file_extension": ".py",
   "mimetype": "text/x-python",
   "name": "python",
   "nbconvert_exporter": "python",
   "pygments_lexer": "ipython3",
   "version": "3.7.7"
  }
 },
 "nbformat": 4,
 "nbformat_minor": 2
}
