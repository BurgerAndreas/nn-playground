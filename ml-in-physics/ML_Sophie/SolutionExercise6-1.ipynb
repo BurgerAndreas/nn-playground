{
 "cells": [
  {
   "cell_type": "markdown",
   "metadata": {},
   "source": [
    "# Exercise Sheet 6"
   ]
  },
  {
   "cell_type": "code",
   "execution_count": 1,
   "metadata": {},
   "outputs": [],
   "source": [
    "import numpy as np\n",
    "import matplotlib.pyplot as plt\n",
    "from sklearn import decomposition\n",
    "import tensorflow as tf\n",
    "from tensorflow.keras.models import *\n",
    "from tensorflow.keras.layers import *\n",
    "from tensorflow.keras.optimizers import *\n",
    "from tensorflow.keras import backend as K\n",
    "from tensorflow.keras.callbacks import TensorBoard"
   ]
  },
  {
   "cell_type": "code",
   "execution_count": 2,
   "metadata": {},
   "outputs": [
    {
     "name": "stdout",
     "output_type": "stream",
     "text": [
      "2.1.0\n"
     ]
    }
   ],
   "source": [
    "print(tf.__version__)"
   ]
  },
  {
   "cell_type": "markdown",
   "metadata": {},
   "source": [
    "Some general information on the `Model()` syntax can be found [here](https://keras.io/getting-started/functional-api-guide/)."
   ]
  },
  {
   "cell_type": "markdown",
   "metadata": {},
   "source": [
    "## 1 U-Net"
   ]
  },
  {
   "cell_type": "markdown",
   "metadata": {},
   "source": [
    "Re-implementing networks which are discussed in the literature is a vital skill. Here you re-build the architecture from [arXiv:1505.04597](https://arxiv.org/abs/1505.04597). A figure of the network is shown in Figure 1 of this paper.  \n",
    "You can check your results again via `model.compile()` and `model.summary()`.\n",
    "<img src=\"net.png\" style=\"width: 600px;\"/>"
   ]
  },
  {
   "cell_type": "markdown",
   "metadata": {},
   "source": [
    "### Solution"
   ]
  },
  {
   "cell_type": "code",
   "execution_count": 11,
   "metadata": {},
   "outputs": [
    {
     "name": "stdout",
     "output_type": "stream",
     "text": [
      "(None, 568, 568, 64)\n",
      "(None, 284, 284, 64)\n",
      "4: (None, 64, 64, 512)\n",
      "(None, 64, 64, 512)\n",
      "(None, 56, 56, 512)\n",
      "(None, 28, 28, 1024)\n",
      "Model: \"model_7\"\n",
      "__________________________________________________________________________________________________\n",
      "Layer (type)                    Output Shape         Param #     Connected to                     \n",
      "==================================================================================================\n",
      "input_8 (InputLayer)            [(None, 572, 572, 1) 0                                            \n",
      "__________________________________________________________________________________________________\n",
      "conv2d_133 (Conv2D)             (None, 570, 570, 64) 640         input_8[0][0]                    \n",
      "__________________________________________________________________________________________________\n",
      "conv2d_134 (Conv2D)             (None, 568, 568, 64) 36928       conv2d_133[0][0]                 \n",
      "__________________________________________________________________________________________________\n",
      "max_pooling2d_28 (MaxPooling2D) (None, 284, 284, 64) 0           conv2d_134[0][0]                 \n",
      "__________________________________________________________________________________________________\n",
      "conv2d_135 (Conv2D)             (None, 282, 282, 128 73856       max_pooling2d_28[0][0]           \n",
      "__________________________________________________________________________________________________\n",
      "conv2d_136 (Conv2D)             (None, 280, 280, 128 147584      conv2d_135[0][0]                 \n",
      "__________________________________________________________________________________________________\n",
      "max_pooling2d_29 (MaxPooling2D) (None, 140, 140, 128 0           conv2d_136[0][0]                 \n",
      "__________________________________________________________________________________________________\n",
      "conv2d_137 (Conv2D)             (None, 138, 138, 256 295168      max_pooling2d_29[0][0]           \n",
      "__________________________________________________________________________________________________\n",
      "conv2d_138 (Conv2D)             (None, 136, 136, 256 590080      conv2d_137[0][0]                 \n",
      "__________________________________________________________________________________________________\n",
      "max_pooling2d_30 (MaxPooling2D) (None, 68, 68, 256)  0           conv2d_138[0][0]                 \n",
      "__________________________________________________________________________________________________\n",
      "conv2d_139 (Conv2D)             (None, 66, 66, 512)  1180160     max_pooling2d_30[0][0]           \n",
      "__________________________________________________________________________________________________\n",
      "conv2d_140 (Conv2D)             (None, 64, 64, 512)  2359808     conv2d_139[0][0]                 \n",
      "__________________________________________________________________________________________________\n",
      "max_pooling2d_31 (MaxPooling2D) (None, 32, 32, 512)  0           conv2d_140[0][0]                 \n",
      "__________________________________________________________________________________________________\n",
      "conv2d_141 (Conv2D)             (None, 30, 30, 1024) 4719616     max_pooling2d_31[0][0]           \n",
      "__________________________________________________________________________________________________\n",
      "conv2d_142 (Conv2D)             (None, 28, 28, 1024) 9438208     conv2d_141[0][0]                 \n",
      "__________________________________________________________________________________________________\n",
      "conv2d_transpose_28 (Conv2DTran (None, 56, 56, 512)  2097664     conv2d_142[0][0]                 \n",
      "__________________________________________________________________________________________________\n",
      "cropping2d_31 (Cropping2D)      (None, 56, 56, 512)  0           conv2d_140[0][0]                 \n",
      "__________________________________________________________________________________________________\n",
      "concatenate_28 (Concatenate)    (None, 56, 56, 1024) 0           conv2d_transpose_28[0][0]        \n",
      "                                                                 cropping2d_31[0][0]              \n",
      "__________________________________________________________________________________________________\n",
      "conv2d_143 (Conv2D)             (None, 54, 54, 512)  4719104     concatenate_28[0][0]             \n",
      "__________________________________________________________________________________________________\n",
      "conv2d_144 (Conv2D)             (None, 52, 52, 512)  2359808     conv2d_143[0][0]                 \n",
      "__________________________________________________________________________________________________\n",
      "conv2d_transpose_29 (Conv2DTran (None, 104, 104, 256 524544      conv2d_144[0][0]                 \n",
      "__________________________________________________________________________________________________\n",
      "cropping2d_30 (Cropping2D)      (None, 104, 104, 256 0           conv2d_138[0][0]                 \n",
      "__________________________________________________________________________________________________\n",
      "concatenate_29 (Concatenate)    (None, 104, 104, 512 0           conv2d_transpose_29[0][0]        \n",
      "                                                                 cropping2d_30[0][0]              \n",
      "__________________________________________________________________________________________________\n",
      "conv2d_145 (Conv2D)             (None, 102, 102, 256 1179904     concatenate_29[0][0]             \n",
      "__________________________________________________________________________________________________\n",
      "conv2d_146 (Conv2D)             (None, 100, 100, 256 590080      conv2d_145[0][0]                 \n",
      "__________________________________________________________________________________________________\n",
      "conv2d_transpose_30 (Conv2DTran (None, 200, 200, 128 131200      conv2d_146[0][0]                 \n",
      "__________________________________________________________________________________________________\n",
      "cropping2d_29 (Cropping2D)      (None, 200, 200, 128 0           conv2d_136[0][0]                 \n",
      "__________________________________________________________________________________________________\n",
      "concatenate_30 (Concatenate)    (None, 200, 200, 256 0           conv2d_transpose_30[0][0]        \n",
      "                                                                 cropping2d_29[0][0]              \n",
      "__________________________________________________________________________________________________\n",
      "conv2d_147 (Conv2D)             (None, 198, 198, 128 295040      concatenate_30[0][0]             \n",
      "__________________________________________________________________________________________________\n",
      "conv2d_148 (Conv2D)             (None, 196, 196, 128 147584      conv2d_147[0][0]                 \n",
      "__________________________________________________________________________________________________\n",
      "conv2d_transpose_31 (Conv2DTran (None, 392, 392, 64) 32832       conv2d_148[0][0]                 \n",
      "__________________________________________________________________________________________________\n",
      "cropping2d_28 (Cropping2D)      (None, 392, 392, 64) 0           conv2d_134[0][0]                 \n",
      "__________________________________________________________________________________________________\n",
      "concatenate_31 (Concatenate)    (None, 392, 392, 128 0           conv2d_transpose_31[0][0]        \n",
      "                                                                 cropping2d_28[0][0]              \n",
      "__________________________________________________________________________________________________\n",
      "conv2d_149 (Conv2D)             (None, 390, 390, 64) 73792       concatenate_31[0][0]             \n",
      "__________________________________________________________________________________________________\n",
      "conv2d_150 (Conv2D)             (None, 388, 388, 64) 36928       conv2d_149[0][0]                 \n",
      "__________________________________________________________________________________________________\n",
      "conv2d_151 (Conv2D)             (None, 388, 388, 2)  130         conv2d_150[0][0]                 \n",
      "==================================================================================================\n",
      "Total params: 31,030,658\n",
      "Trainable params: 31,030,658\n",
      "Non-trainable params: 0\n",
      "__________________________________________________________________________________________________\n"
     ]
    }
   ],
   "source": [
    "# declare imput size\n",
    "inputs = Input((572,572,1))\n",
    "\n",
    "# define weight initializations according to what is suggested in the paper below eq. (2)\n",
    "init = tf.keras.initializers.VarianceScaling(scale=2.0, mode='fan_in', distribution='normal', seed=None)\n",
    "\n",
    "# first box of convolutional 3x3 layers with cropping to copy the layer later on and max pooling\n",
    "# later layers basically the same\n",
    "Contract1conv1 = Conv2D(64, (3, 3), activation='relu', kernel_initializer=init) (inputs)\n",
    "Contract1conv2 = Conv2D(64, (3, 3), activation='relu', kernel_initializer=init) (Contract1conv1)\n",
    "\n",
    "print(np.shape(Contract1conv2))\n",
    "Contract1crop = Cropping2D(cropping=((88, 88), (88, 88)))(Contract1conv2)\n",
    "Contract1pool = MaxPooling2D((2, 2)) (Contract1conv2)\n",
    "\n",
    "print(np.shape(Contract1pool))\n",
    "\n",
    "Contract2conv1 = Conv2D(128, (3, 3), activation='relu', kernel_initializer=init) (Contract1pool)\n",
    "Contract2conv2 = Conv2D(128, (3, 3), activation='relu', kernel_initializer=init) (Contract2conv1)\n",
    "Contract2crop = Cropping2D(cropping=((40, 40), (40, 40)))(Contract2conv2)\n",
    "Contract2pool = MaxPooling2D((2, 2)) (Contract2conv2)\n",
    "\n",
    "Contract3conv1 = Conv2D(256, (3, 3), activation='relu', kernel_initializer=init) (Contract2pool)\n",
    "Contract3conv2 = Conv2D(256, (3, 3), activation='relu', kernel_initializer=init) (Contract3conv1)\n",
    "Contract3crop = Cropping2D(cropping=((16, 16), (16, 16)))(Contract3conv2)\n",
    "Contract3pool = MaxPooling2D((2, 2)) (Contract3conv2)\n",
    "\n",
    "Contract4conv1 = Conv2D(512, (3, 3), activation='relu', kernel_initializer=init) (Contract3pool)\n",
    "Contract4conv2 = Conv2D(512, (3, 3), activation='relu', kernel_initializer=init) (Contract4conv1)\n",
    "\n",
    "print(f\"4: {np.shape(Contract4conv2)}\")\n",
    "\n",
    "Contract4crop = Cropping2D(cropping=((4, 4), (4, 4)))(Contract4conv2)\n",
    "Contract4pool = MaxPooling2D(pool_size=(2, 2)) (Contract4conv2)\n",
    "\n",
    "print(np.shape(Contract4conv2))\n",
    "print(np.shape(Contract4crop))\n",
    "\n",
    "Contract5conv1 = Conv2D(1024, (3, 3), activation='relu', kernel_initializer=init) (Contract4pool)\n",
    "Contract5conv2 = Conv2D(1024, (3, 3), activation='relu', kernel_initializer=init) (Contract5conv1)\n",
    "\n",
    "print(np.shape(Contract5conv2))\n",
    "\n",
    "# transpose convolution and concatenate with contracting path\n",
    "# followed by convolutions\n",
    "Expand4convtrans = Conv2DTranspose(512, (2, 2), strides=(2, 2), padding='same', kernel_initializer=init) (Contract5conv2)\n",
    "Expand4concat = concatenate([Expand4convtrans, Contract4crop])\n",
    "Expand4conv1 = Conv2D(512, (3, 3), activation='relu', kernel_initializer=init) (Expand4concat)\n",
    "Expand4conv2 = Conv2D(512, (3, 3), activation='relu', kernel_initializer=init) (Expand4conv1)\n",
    "\n",
    "Expand3convtrans = Conv2DTranspose(256, (2, 2), strides=(2, 2), padding='same', kernel_initializer=init) (Expand4conv2)\n",
    "Expand3concat = concatenate([Expand3convtrans, Contract3crop])\n",
    "Expand3conv1 = Conv2D(256, (3, 3), activation='relu', kernel_initializer=init) (Expand3concat)\n",
    "Expand3conv2 = Conv2D(256, (3, 3), activation='relu', kernel_initializer=init) (Expand3conv1)\n",
    "\n",
    "Expand2convtrans = Conv2DTranspose(128, (2, 2), strides=(2, 2), padding='same', kernel_initializer=init) (Expand3conv2)\n",
    "Expand2concat = concatenate([Expand2convtrans, Contract2crop])\n",
    "Expand2conv1 = Conv2D(128, (3, 3), activation='relu', kernel_initializer=init) (Expand2concat)\n",
    "Expand2conv2 = Conv2D(128, (3, 3), activation='relu', kernel_initializer=init) (Expand2conv1)\n",
    "\n",
    "Expand1convtrans = Conv2DTranspose(64, (2, 2), strides=(2, 2), padding='same', kernel_initializer=init) (Expand2conv2)\n",
    "Expand1concat = concatenate([Expand1convtrans, Contract1crop], axis=3)\n",
    "Expand1conv1 = Conv2D(64, (3, 3), activation='relu', kernel_initializer=init) (Expand1concat)\n",
    "Expand1conv2 = Conv2D(64, (3, 3), activation='relu', kernel_initializer=init) (Expand1conv1)\n",
    "\n",
    "# sigmoid = softmax for two classes\n",
    "outputs = Conv2D(2, (1, 1), activation='sigmoid', kernel_initializer=init) (Expand1conv2)\n",
    "\n",
    "unet = Model(inputs=inputs, outputs=outputs)\n",
    "unet.compile(optimizer='adam', loss='binary_crossentropy', metrics=[\"accuracy\"])\n",
    "unet.summary()"
   ]
  },
  {
   "cell_type": "markdown",
   "metadata": {},
   "source": [
    "For a neat visualization, we use tensorboard:"
   ]
  },
  {
   "cell_type": "code",
   "execution_count": 4,
   "metadata": {},
   "outputs": [
    {
     "ename": "RuntimeError",
     "evalue": "tf.summary.FileWriter is not compatible with eager execution. Use tf.contrib.summary instead.",
     "output_type": "error",
     "traceback": [
      "\u001b[1;31m---------------------------------------------------------------------------\u001b[0m",
      "\u001b[1;31mRuntimeError\u001b[0m                              Traceback (most recent call last)",
      "\u001b[1;32m<ipython-input-4-3e7818539ad9>\u001b[0m in \u001b[0;36m<module>\u001b[1;34m\u001b[0m\n\u001b[0;32m      6\u001b[0m \u001b[0mtb_path\u001b[0m \u001b[1;33m=\u001b[0m \u001b[1;34m\"logs_unet/\"\u001b[0m\u001b[1;33m\u001b[0m\u001b[1;33m\u001b[0m\u001b[0m\n\u001b[0;32m      7\u001b[0m \u001b[1;31m# writer = tf.summary.FileWriter(logdir=tb_path, graph=graph)\u001b[0m\u001b[1;33m\u001b[0m\u001b[1;33m\u001b[0m\u001b[1;33m\u001b[0m\u001b[0m\n\u001b[1;32m----> 8\u001b[1;33m \u001b[0mwriter\u001b[0m \u001b[1;33m=\u001b[0m \u001b[0mtf\u001b[0m\u001b[1;33m.\u001b[0m\u001b[0mcompat\u001b[0m\u001b[1;33m.\u001b[0m\u001b[0mv1\u001b[0m\u001b[1;33m.\u001b[0m\u001b[0msummary\u001b[0m\u001b[1;33m.\u001b[0m\u001b[0mFileWriter\u001b[0m\u001b[1;33m(\u001b[0m\u001b[0mlogdir\u001b[0m\u001b[1;33m=\u001b[0m\u001b[0mtb_path\u001b[0m\u001b[1;33m,\u001b[0m \u001b[0mgraph\u001b[0m\u001b[1;33m=\u001b[0m\u001b[0mgraph\u001b[0m\u001b[1;33m)\u001b[0m\u001b[1;33m\u001b[0m\u001b[1;33m\u001b[0m\u001b[0m\n\u001b[0m\u001b[0;32m      9\u001b[0m \u001b[0mK\u001b[0m\u001b[1;33m.\u001b[0m\u001b[0mclear_session\u001b[0m\u001b[1;33m(\u001b[0m\u001b[1;33m)\u001b[0m\u001b[1;33m\u001b[0m\u001b[1;33m\u001b[0m\u001b[0m\n",
      "\u001b[1;32m~\\Anaconda3\\envs\\ml37\\lib\\site-packages\\tensorflow_core\\python\\summary\\writer\\writer.py\u001b[0m in \u001b[0;36m__init__\u001b[1;34m(self, logdir, graph, max_queue, flush_secs, graph_def, filename_suffix, session)\u001b[0m\n\u001b[0;32m    358\u001b[0m     \u001b[1;32mif\u001b[0m \u001b[0mcontext\u001b[0m\u001b[1;33m.\u001b[0m\u001b[0mexecuting_eagerly\u001b[0m\u001b[1;33m(\u001b[0m\u001b[1;33m)\u001b[0m\u001b[1;33m:\u001b[0m\u001b[1;33m\u001b[0m\u001b[1;33m\u001b[0m\u001b[0m\n\u001b[0;32m    359\u001b[0m       raise RuntimeError(\n\u001b[1;32m--> 360\u001b[1;33m           \u001b[1;34m\"tf.summary.FileWriter is not compatible with eager execution. \"\u001b[0m\u001b[1;33m\u001b[0m\u001b[1;33m\u001b[0m\u001b[0m\n\u001b[0m\u001b[0;32m    361\u001b[0m           \"Use tf.contrib.summary instead.\")\n\u001b[0;32m    362\u001b[0m     \u001b[1;32mif\u001b[0m \u001b[0msession\u001b[0m \u001b[1;32mis\u001b[0m \u001b[1;32mnot\u001b[0m \u001b[1;32mNone\u001b[0m\u001b[1;33m:\u001b[0m\u001b[1;33m\u001b[0m\u001b[1;33m\u001b[0m\u001b[0m\n",
      "\u001b[1;31mRuntimeError\u001b[0m: tf.summary.FileWriter is not compatible with eager execution. Use tf.contrib.summary instead."
     ]
    }
   ],
   "source": [
    "# get session graph\n",
    "# graph = K.get_session().graph\n",
    "graph = tf.compat.v1.keras.backend.get_session().graph\n",
    "\n",
    "# write to file\n",
    "tb_path = \"logs_unet/\"\n",
    "# writer = tf.summary.FileWriter(logdir=tb_path, graph=graph)\n",
    "writer = tf.compat.v1.summary.FileWriter(logdir=tb_path, graph=graph)\n",
    "K.clear_session()"
   ]
  },
  {
   "cell_type": "code",
   "execution_count": null,
   "metadata": {},
   "outputs": [],
   "source": [
    "# run tensorboard in shell -> interrupt kernel to stop\n",
    "# you can click the link to see the graph of the network we built\n",
    "!tensorboard --logdir=logs_unet --port=6006"
   ]
  },
  {
   "cell_type": "markdown",
   "metadata": {},
   "source": [
    "If the above link does not work for some reason, you should find tensorboard at [localhost:6006](http://localhost:6006)"
   ]
  }
 ],
 "metadata": {
  "kernelspec": {
   "display_name": "ml37",
   "language": "python",
   "name": "ml37"
  },
  "language_info": {
   "codemirror_mode": {
    "name": "ipython",
    "version": 3
   },
   "file_extension": ".py",
   "mimetype": "text/x-python",
   "name": "python",
   "nbconvert_exporter": "python",
   "pygments_lexer": "ipython3",
   "version": "3.7.7"
  }
 },
 "nbformat": 4,
 "nbformat_minor": 2
}
