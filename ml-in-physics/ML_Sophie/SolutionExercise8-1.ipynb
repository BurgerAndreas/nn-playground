{
 "cells": [
  {
   "cell_type": "markdown",
   "metadata": {
    "colab_type": "text",
    "id": "pfbg_NxOEZ-k"
   },
   "source": [
    "# Exercise Sheet 8"
   ]
  },
  {
   "cell_type": "code",
   "execution_count": 2,
   "metadata": {
    "colab": {},
    "colab_type": "code",
    "id": "3HYjFWp2EZ-o"
   },
   "outputs": [
    {
     "name": "stderr",
     "output_type": "stream",
     "text": [
      "Using TensorFlow backend.\n"
     ]
    }
   ],
   "source": [
    "import numpy as np\n",
    "import matplotlib.pyplot as plt\n",
    "\n",
    "import tensorflow as tf\n",
    "# import tensorflow_probability as tfp\n",
    "from keras import backend as K\n",
    "\n",
    "from tensorflow.keras.models import Sequential\n",
    "from tensorflow.keras.layers import Dense, Input, Lambda, InputLayer, Flatten\n",
    "from tensorflow.keras import Model"
   ]
  },
  {
   "cell_type": "markdown",
   "metadata": {
    "colab_type": "text",
    "id": "dgzAZA0EEZ_A"
   },
   "source": [
    "## Variational Autoencoder"
   ]
  },
  {
   "cell_type": "markdown",
   "metadata": {
    "colab_type": "text",
    "id": "RDNkoCxqEZ_C"
   },
   "source": [
    "The aim of this exercise is to implement the variational autoencoder and to test it on the polynomial dataset from the previous exercise sheet.  \n",
    "* Implement the loss function of the variational autoencoder in your previous architecture.\n",
    "* Compare the performance and the latent space representations of the traditional autoencoder and your variational autoencoder.\n",
    "* $\\star$ There is a quicker way of implementing the variational autoencoder using the tensorflow probability package. Using this package implement your variational autoencoder. As indicated, this exercise is optional."
   ]
  },
  {
   "cell_type": "markdown",
   "metadata": {
    "colab_type": "text",
    "id": "mDcKpLVOEZ_D"
   },
   "source": [
    "### Solution"
   ]
  },
  {
   "cell_type": "markdown",
   "metadata": {
    "colab_type": "text",
    "id": "6VDYOzq2orTD"
   },
   "source": [
    "References from Monday's tutorial:  \n",
    "[Deep learning in the heterotic orbifold landscape](https://arxiv.org/pdf/1811.05993.pdf)  \n",
    "[Latent Constraints:\n",
    "Learning to Generate Conditionally from Unconditional Generative Models](https://arxiv.org/pdf/1711.05772.pdf)"
   ]
  },
  {
   "cell_type": "markdown",
   "metadata": {},
   "source": [
    "See also the [paper that introduced the VAEs](https://arxiv.org/abs/1312.6114)"
   ]
  },
  {
   "cell_type": "markdown",
   "metadata": {
    "colab_type": "text",
    "id": "yR_yEPECEZ_D"
   },
   "source": [
    "We copy the data generation and autoencoder architecture from the last sheet"
   ]
  },
  {
   "cell_type": "code",
   "execution_count": 3,
   "metadata": {
    "colab": {},
    "colab_type": "code",
    "id": "-3plvHMAEZ_H"
   },
   "outputs": [],
   "source": [
    "size = 40\n",
    "\n",
    "# Evaluate polynomial over grid of size 40x40\n",
    "\n",
    "def polynomial(degree):\n",
    "    coeff = np.random.normal(0,1,(degree+1, degree+1))\n",
    "    #coeff = np.random.uniform(-1,1,(degree+1, degree+1))\n",
    "    return [[sum([coeff[i,j]*((x/size)**i)*((y/size)**j)\n",
    "            for i in range(degree+1) for j in range(degree+1) if (i+j)<=degree]) \n",
    "            for x in range(size)] for y in range(size)]\n",
    "\n",
    "# Degree two polynomials\n",
    "\n",
    "Npoly = 3000\n",
    "deg2polydata = np.array([polynomial(2) for i in range(Npoly)])\n",
    "deg2polydata = deg2polydata.reshape(Npoly, size*size)\n",
    "deg2mean = np.mean(deg2polydata)\n",
    "deg2sdev = np.std(deg2polydata)\n",
    "deg2polydata = tf.keras.utils.normalize(deg2polydata)\n",
    "np.save('deg2polydata.npy', deg2polydata)"
   ]
  },
  {
   "cell_type": "code",
   "execution_count": 4,
   "metadata": {
    "colab": {},
    "colab_type": "code",
    "id": "voSfsk3kEZ_O"
   },
   "outputs": [
    {
     "name": "stdout",
     "output_type": "stream",
     "text": [
      "(3000, 1600)\n"
     ]
    }
   ],
   "source": [
    "deg2polydata = np.load('deg2polydata.npy')\n",
    "print(np.shape(deg2polydata))"
   ]
  },
  {
   "cell_type": "code",
   "execution_count": 4,
   "metadata": {
    "colab": {},
    "colab_type": "code",
    "id": "qswt-wCXEZ_R"
   },
   "outputs": [],
   "source": [
    "size = 40\n",
    "input_size = size**2\n",
    "hidden_size = 2\n",
    "output_size = size**2\n",
    "\n",
    "# Autoencoder with multiple hidden layers\n",
    "\n",
    "# Encoder\n",
    "\n",
    "AE2inputs = Input(shape=(input_size,))\n",
    "\n",
    "AE2compress1 = Dense(512, activation='relu')(AE2inputs)\n",
    "AE2compress2 = Dense(64, activation='relu')(AE2compress1)\n",
    "\n",
    "AE2encoded = Dense(2, activation='linear')(AE2compress2)\n",
    "\n",
    "# Decoder\n",
    "\n",
    "AE2decompress1 = Dense(64, activation='relu')(AE2encoded)\n",
    "AE2decompress2 = Dense(512, activation='relu')(AE2decompress1)\n",
    "AE2decoded = Dense(size**2, activation='linear')(AE2decompress2)\n",
    "\n",
    "AE2 = Model(AE2inputs, AE2decoded)"
   ]
  },
  {
   "cell_type": "code",
   "execution_count": 5,
   "metadata": {
    "colab": {},
    "colab_type": "code",
    "id": "7rP7pHvwEZ_T"
   },
   "outputs": [],
   "source": [
    "AE2.compile(optimizer='adam', loss='mse')"
   ]
  },
  {
   "cell_type": "markdown",
   "metadata": {},
   "source": [
    "Number of epochs should be large in order to see the appearance of clusters. 200 is a good number that does not take much time on a GPU."
   ]
  },
  {
   "cell_type": "code",
   "execution_count": null,
   "metadata": {
    "colab": {},
    "colab_type": "code",
    "id": "oxEKesCyEZ_V"
   },
   "outputs": [
    {
     "name": "stdout",
     "output_type": "stream",
     "text": [
      "Train on 3000 samples\n",
      "Epoch 1/200\n",
      "3000/3000 [==============================] - 5s 2ms/sample - loss: 4.9776e-04\n",
      "Epoch 2/200\n",
      "3000/3000 [==============================] - 1s 311us/sample - loss: 1.7467e-04\n",
      "Epoch 3/200\n",
      "3000/3000 [==============================] - 1s 271us/sample - loss: 1.0593e-04\n",
      "Epoch 4/200\n",
      "3000/3000 [==============================] - 1s 248us/sample - loss: 1.0171e-04\n",
      "Epoch 5/200\n",
      "3000/3000 [==============================] - 1s 411us/sample - loss: 1.0117e-04\n",
      "Epoch 6/200\n",
      "3000/3000 [==============================] - 1s 476us/sample - loss: 1.0138e-04\n",
      "Epoch 7/200\n",
      "3000/3000 [==============================] - 2s 594us/sample - loss: 1.0097e-04\n",
      "Epoch 8/200\n",
      "3000/3000 [==============================] - 1s 440us/sample - loss: 1.0108e-04\n",
      "Epoch 9/200\n",
      "3000/3000 [==============================] - 1s 469us/sample - loss: 1.0078e-04\n",
      "Epoch 10/200\n",
      "3000/3000 [==============================] - 1s 368us/sample - loss: 1.0047e-04\n",
      "Epoch 11/200\n",
      "3000/3000 [==============================] - 1s 372us/sample - loss: 1.0155e-04\n",
      "Epoch 12/200\n",
      "3000/3000 [==============================] - 2s 520us/sample - loss: 1.0119e-04\n",
      "Epoch 13/200\n",
      "3000/3000 [==============================] - 1s 378us/sample - loss: 1.0050e-04\n",
      "Epoch 14/200\n",
      "3000/3000 [==============================] - 1s 398us/sample - loss: 1.0060e-04s - loss\n",
      "Epoch 15/200\n",
      "3000/3000 [==============================] - 1s 438us/sample - loss: 1.0076e-04\n",
      "Epoch 16/200\n",
      "3000/3000 [==============================] - 1s 450us/sample - loss: 1.0105e-04\n",
      "Epoch 17/200\n",
      "3000/3000 [==============================] - 1s 498us/sample - loss: 1.0132e-04\n",
      "Epoch 18/200\n",
      "3000/3000 [==============================] - 1s 427us/sample - loss: 1.0067e-04\n",
      "Epoch 19/200\n",
      "3000/3000 [==============================] - 1s 376us/sample - loss: 1.0029e-04\n",
      "Epoch 20/200\n",
      "3000/3000 [==============================] - 1s 388us/sample - loss: 1.0010e-04\n",
      "Epoch 21/200\n",
      "3000/3000 [==============================] - 1s 374us/sample - loss: 1.0010e-04\n",
      "Epoch 22/200\n",
      "3000/3000 [==============================] - 1s 368us/sample - loss: 1.0043e-04\n",
      "Epoch 23/200\n",
      "3000/3000 [==============================] - 1s 381us/sample - loss: 9.8739e-05\n",
      "Epoch 24/200\n",
      "3000/3000 [==============================] - 1s 383us/sample - loss: 9.0867e-05\n",
      "Epoch 25/200\n",
      "3000/3000 [==============================] - 1s 387us/sample - loss: 7.0413e-05\n",
      "Epoch 26/200\n",
      "3000/3000 [==============================] - 1s 374us/sample - loss: 5.1032e-05\n",
      "Epoch 27/200\n",
      "3000/3000 [==============================] - 1s 377us/sample - loss: 4.0490e-05\n",
      "Epoch 28/200\n",
      "3000/3000 [==============================] - 1s 374us/sample - loss: 3.1131e-05\n",
      "Epoch 29/200\n",
      "3000/3000 [==============================] - 1s 376us/sample - loss: 2.5486e-05\n",
      "Epoch 30/200\n",
      "3000/3000 [==============================] - 1s 382us/sample - loss: 2.1581e-05\n",
      "Epoch 31/200\n",
      "3000/3000 [==============================] - 1s 380us/sample - loss: 2.0293e-05\n",
      "Epoch 32/200\n",
      "3000/3000 [==============================] - 1s 376us/sample - loss: 1.8613e-05\n",
      "Epoch 33/200\n",
      "3000/3000 [==============================] - 1s 386us/sample - loss: 1.7972e-05\n",
      "Epoch 34/200\n",
      "3000/3000 [==============================] - 1s 429us/sample - loss: 1.7023e-05\n",
      "Epoch 35/200\n",
      "3000/3000 [==============================] - 1s 404us/sample - loss: 1.6809e-05\n",
      "Epoch 36/200\n",
      "3000/3000 [==============================] - 1s 397us/sample - loss: 1.6538e-05\n",
      "Epoch 37/200\n",
      "3000/3000 [==============================] - 1s 412us/sample - loss: 1.6176e-05\n",
      "Epoch 38/200\n",
      "3000/3000 [==============================] - 1s 468us/sample - loss: 1.5553e-05\n",
      "Epoch 39/200\n",
      "3000/3000 [==============================] - 1s 445us/sample - loss: 1.5058e-05\n",
      "Epoch 40/200\n",
      "3000/3000 [==============================] - 1s 380us/sample - loss: 1.5056e-05\n",
      "Epoch 41/200\n",
      "3000/3000 [==============================] - 1s 460us/sample - loss: 1.4954e-05\n",
      "Epoch 42/200\n",
      "3000/3000 [==============================] - 2s 622us/sample - loss: 1.5039e-05\n",
      "Epoch 43/200\n",
      "3000/3000 [==============================] - 1s 382us/sample - loss: 1.4936e-05\n",
      "Epoch 44/200\n",
      "3000/3000 [==============================] - 1s 448us/sample - loss: 1.4690e-05\n",
      "Epoch 45/200\n",
      "3000/3000 [==============================] - 1s 459us/sample - loss: 1.4549e-05\n",
      "Epoch 46/200\n",
      "3000/3000 [==============================] - 1s 496us/sample - loss: 1.4657e-05\n",
      "Epoch 47/200\n",
      "3000/3000 [==============================] - 1s 457us/sample - loss: 1.4494e-05\n",
      "Epoch 48/200\n",
      "3000/3000 [==============================] - 1s 450us/sample - loss: 1.4387e-05\n",
      "Epoch 49/200\n",
      "3000/3000 [==============================] - 1s 428us/sample - loss: 1.4535e-05\n",
      "Epoch 50/200\n",
      "3000/3000 [==============================] - 2s 742us/sample - loss: 1.4516e-05\n",
      "Epoch 51/200\n",
      "3000/3000 [==============================] - 2s 550us/sample - loss: 1.4569e-05\n",
      "Epoch 52/200\n",
      "3000/3000 [==============================] - 2s 648us/sample - loss: 1.4771e-05\n",
      "Epoch 53/200\n",
      "3000/3000 [==============================] - 1s 349us/sample - loss: 1.4429e-05\n",
      "Epoch 54/200\n",
      "3000/3000 [==============================] - 1s 264us/sample - loss: 1.4239e-05\n",
      "Epoch 55/200\n",
      "3000/3000 [==============================] - 1s 289us/sample - loss: 1.4274e-05\n",
      "Epoch 56/200\n",
      "3000/3000 [==============================] - 1s 376us/sample - loss: 1.4281e-05\n",
      "Epoch 57/200\n",
      "3000/3000 [==============================] - 1s 353us/sample - loss: 1.4280e-05\n",
      "Epoch 58/200\n",
      "3000/3000 [==============================] - 1s 310us/sample - loss: 1.4418e-05\n",
      "Epoch 59/200\n",
      "3000/3000 [==============================] - 1s 290us/sample - loss: 1.4219e-05\n",
      "Epoch 60/200\n",
      "3000/3000 [==============================] - 2s 730us/sample - loss: 1.4705e-05\n",
      "Epoch 61/200\n",
      "3000/3000 [==============================] - 3s 957us/sample - loss: 1.4278e-05s - loss: 1.39\n",
      "Epoch 62/200\n",
      "3000/3000 [==============================] - 1s 457us/sample - loss: 1.4235e-05\n",
      "Epoch 63/200\n",
      "3000/3000 [==============================] - 1s 355us/sample - loss: 1.4083e-05\n",
      "Epoch 64/200\n",
      "3000/3000 [==============================] - 1s 308us/sample - loss: 1.4056e-05\n",
      "Epoch 65/200\n",
      "3000/3000 [==============================] - 1s 466us/sample - loss: 1.4058e-05\n",
      "Epoch 66/200\n",
      "3000/3000 [==============================] - 2s 571us/sample - loss: 1.4615e-05\n",
      "Epoch 67/200\n",
      "3000/3000 [==============================] - 2s 523us/sample - loss: 1.4544e-05\n",
      "Epoch 68/200\n",
      "3000/3000 [==============================] - 2s 566us/sample - loss: 1.4047e-05\n",
      "Epoch 69/200\n",
      "3000/3000 [==============================] - 2s 829us/sample - loss: 1.4161e-05\n",
      "Epoch 70/200\n",
      "3000/3000 [==============================] - 3s 1ms/sample - loss: 1.4140e-05\n",
      "Epoch 71/200\n",
      "3000/3000 [==============================] - 3s 1ms/sample - loss: 1.3912e-05\n",
      "Epoch 72/200\n",
      "3000/3000 [==============================] - 2s 708us/sample - loss: 1.3994e-05\n",
      "Epoch 73/200\n",
      "3000/3000 [==============================] - 2s 824us/sample - loss: 1.4079e-05\n",
      "Epoch 74/200\n",
      "3000/3000 [==============================] - 2s 694us/sample - loss: 1.4024e-05\n",
      "Epoch 75/200\n",
      "3000/3000 [==============================] - 2s 587us/sample - loss: 1.4244e-05\n",
      "Epoch 76/200\n",
      "3000/3000 [==============================] - 1s 432us/sample - loss: 1.4341e-05\n",
      "Epoch 77/200\n",
      "3000/3000 [==============================] - 1s 401us/sample - loss: 1.4173e-05\n",
      "Epoch 78/200\n",
      "3000/3000 [==============================] - 1s 485us/sample - loss: 1.4083e-05\n",
      "Epoch 79/200\n",
      "3000/3000 [==============================] - 1s 328us/sample - loss: 1.3982e-05\n",
      "Epoch 80/200\n",
      "3000/3000 [==============================] - 1s 423us/sample - loss: 1.4124e-05\n",
      "Epoch 81/200\n",
      "3000/3000 [==============================] - 1s 330us/sample - loss: 1.3944e-05\n",
      "Epoch 82/200\n",
      "3000/3000 [==============================] - 1s 407us/sample - loss: 1.3985e-05\n",
      "Epoch 83/200\n",
      "3000/3000 [==============================] - 1s 388us/sample - loss: 1.3972e-05\n",
      "Epoch 84/200\n",
      "3000/3000 [==============================] - 1s 396us/sample - loss: 1.3976e-05\n",
      "Epoch 85/200\n",
      "3000/3000 [==============================] - 1s 397us/sample - loss: 1.3997e-05s - lo\n",
      "Epoch 86/200\n",
      "3000/3000 [==============================] - 1s 383us/sample - loss: 1.4011e-05\n",
      "Epoch 87/200\n",
      "3000/3000 [==============================] - 1s 393us/sample - loss: 1.3828e-05\n",
      "Epoch 88/200\n",
      "3000/3000 [==============================] - 1s 368us/sample - loss: 1.4313e-05\n",
      "Epoch 89/200\n",
      "3000/3000 [==============================] - 1s 402us/sample - loss: 1.3981e-05\n",
      "Epoch 90/200\n",
      "3000/3000 [==============================] - 1s 396us/sample - loss: 1.3844e-05\n",
      "Epoch 91/200\n",
      "3000/3000 [==============================] - 1s 366us/sample - loss: 1.3989e-05\n",
      "Epoch 92/200\n",
      "3000/3000 [==============================] - 1s 379us/sample - loss: 1.3862e-05\n",
      "Epoch 93/200\n",
      "3000/3000 [==============================] - 1s 379us/sample - loss: 1.4143e-05\n",
      "Epoch 94/200\n",
      "3000/3000 [==============================] - 1s 333us/sample - loss: 1.4103e-05\n",
      "Epoch 95/200\n",
      "3000/3000 [==============================] - 1s 394us/sample - loss: 1.3808e-05\n",
      "Epoch 96/200\n",
      "3000/3000 [==============================] - 1s 375us/sample - loss: 1.3748e-05\n",
      "Epoch 97/200\n",
      "3000/3000 [==============================] - 1s 460us/sample - loss: 1.3828e-05\n",
      "Epoch 98/200\n",
      "3000/3000 [==============================] - 1s 413us/sample - loss: 1.3903e-05\n",
      "Epoch 99/200\n",
      "3000/3000 [==============================] - 1s 475us/sample - loss: 1.4155e-05\n",
      "Epoch 100/200\n",
      "3000/3000 [==============================] - 2s 705us/sample - loss: 1.3951e-05s - loss: 1.3603e-\n",
      "Epoch 101/200\n",
      "3000/3000 [==============================] - 2s 545us/sample - loss: 1.4127e-05\n",
      "Epoch 102/200\n",
      "3000/3000 [==============================] - 1s 449us/sample - loss: 1.4098e-05\n",
      "Epoch 103/200\n",
      "3000/3000 [==============================] - 1s 482us/sample - loss: 1.3788e-05s - loss: \n",
      "Epoch 104/200\n",
      "3000/3000 [==============================] - 1s 431us/sample - loss: 1.3857e-05s - l\n",
      "Epoch 105/200\n",
      "3000/3000 [==============================] - 1s 458us/sample - loss: 1.4162e-05\n",
      "Epoch 106/200\n",
      "3000/3000 [==============================] - 1s 447us/sample - loss: 1.3759e-05s - loss: 1.3419e-0\n",
      "Epoch 107/200\n",
      "3000/3000 [==============================] - 1s 470us/sample - loss: 1.3767e-05\n",
      "Epoch 108/200\n",
      "3000/3000 [==============================] - 1s 456us/sample - loss: 1.3912e-05\n",
      "Epoch 109/200\n",
      "3000/3000 [==============================] - 1s 478us/sample - loss: 1.3881e-05\n",
      "Epoch 110/200\n",
      "3000/3000 [==============================] - 1s 414us/sample - loss: 1.3878e-05\n",
      "Epoch 111/200\n",
      "3000/3000 [==============================] - 1s 415us/sample - loss: 1.3701e-05\n",
      "Epoch 112/200\n",
      "3000/3000 [==============================] - 1s 409us/sample - loss: 1.3742e-05\n",
      "Epoch 113/200\n",
      "3000/3000 [==============================] - 1s 416us/sample - loss: 1.3737e-05\n",
      "Epoch 114/200\n",
      "3000/3000 [==============================] - 1s 411us/sample - loss: 1.3906e-05\n",
      "Epoch 115/200\n",
      "3000/3000 [==============================] - 1s 395us/sample - loss: 1.4055e-05\n",
      "Epoch 116/200\n",
      "3000/3000 [==============================] - 1s 421us/sample - loss: 1.4003e-05\n",
      "Epoch 117/200\n",
      "3000/3000 [==============================] - 1s 398us/sample - loss: 1.3826e-05\n",
      "Epoch 118/200\n",
      "3000/3000 [==============================] - 1s 396us/sample - loss: 1.3861e-05\n",
      "Epoch 119/200\n",
      "3000/3000 [==============================] - 1s 437us/sample - loss: 1.3758e-05\n",
      "Epoch 120/200\n",
      "3000/3000 [==============================] - 1s 395us/sample - loss: 1.3722e-05\n",
      "Epoch 121/200\n",
      "3000/3000 [==============================] - 1s 413us/sample - loss: 1.4482e-05\n",
      "Epoch 122/200\n",
      "3000/3000 [==============================] - 1s 415us/sample - loss: 1.4038e-05\n",
      "Epoch 123/200\n",
      "3000/3000 [==============================] - 1s 433us/sample - loss: 1.3774e-05\n",
      "Epoch 124/200\n",
      "3000/3000 [==============================] - 1s 396us/sample - loss: 1.3814e-05\n",
      "Epoch 125/200\n",
      "3000/3000 [==============================] - 1s 407us/sample - loss: 1.3811e-05\n",
      "Epoch 126/200\n",
      "3000/3000 [==============================] - 1s 403us/sample - loss: 1.3872e-05\n",
      "Epoch 127/200\n",
      "3000/3000 [==============================] - 1s 435us/sample - loss: 1.3773e-05\n",
      "Epoch 128/200\n",
      "3000/3000 [==============================] - 1s 408us/sample - loss: 1.3898e-05\n",
      "Epoch 129/200\n",
      "3000/3000 [==============================] - 1s 403us/sample - loss: 1.4076e-05\n",
      "Epoch 130/200\n",
      "3000/3000 [==============================] - 1s 410us/sample - loss: 1.3831e-05\n",
      "Epoch 131/200\n",
      "3000/3000 [==============================] - 2s 501us/sample - loss: 1.3836e-05\n",
      "Epoch 132/200\n",
      "3000/3000 [==============================] - 1s 460us/sample - loss: 1.3915e-05\n",
      "Epoch 133/200\n",
      "3000/3000 [==============================] - 2s 631us/sample - loss: 1.3688e-05\n",
      "Epoch 134/200\n",
      "3000/3000 [==============================] - 1s 472us/sample - loss: 1.3721e-05\n",
      "Epoch 135/200\n",
      "3000/3000 [==============================] - 1s 347us/sample - loss: 1.3704e-05\n",
      "Epoch 136/200\n",
      "3000/3000 [==============================] - 1s 356us/sample - loss: 1.3661e-05\n",
      "Epoch 137/200\n",
      "3000/3000 [==============================] - 1s 353us/sample - loss: 1.3878e-05\n",
      "Epoch 138/200\n",
      "3000/3000 [==============================] - 1s 327us/sample - loss: 1.3856e-05\n",
      "Epoch 139/200\n",
      "3000/3000 [==============================] - 1s 333us/sample - loss: 1.3676e-05\n",
      "Epoch 140/200\n",
      "3000/3000 [==============================] - 1s 354us/sample - loss: 1.3841e-05\n",
      "Epoch 141/200\n",
      "3000/3000 [==============================] - 1s 410us/sample - loss: 1.3803e-05\n",
      "Epoch 142/200\n",
      "3000/3000 [==============================] - 1s 340us/sample - loss: 1.3761e-05\n",
      "Epoch 143/200\n",
      "3000/3000 [==============================] - 1s 436us/sample - loss: 1.3835e-05\n",
      "Epoch 144/200\n",
      "3000/3000 [==============================] - 1s 364us/sample - loss: 1.3863e-05\n",
      "Epoch 145/200\n",
      "3000/3000 [==============================] - 1s 356us/sample - loss: 1.3761e-05\n",
      "Epoch 146/200\n",
      "3000/3000 [==============================] - 1s 372us/sample - loss: 1.4092e-05\n",
      "Epoch 147/200\n",
      "3000/3000 [==============================] - 1s 477us/sample - loss: 1.4120e-05s - l\n",
      "Epoch 148/200\n",
      "3000/3000 [==============================] - 1s 405us/sample - loss: 1.3921e-05\n",
      "Epoch 149/200\n",
      "3000/3000 [==============================] - 1s 383us/sample - loss: 1.3890e-05\n",
      "Epoch 150/200\n",
      "3000/3000 [==============================] - 1s 377us/sample - loss: 1.4019e-05\n",
      "Epoch 151/200\n",
      "3000/3000 [==============================] - 1s 358us/sample - loss: 1.3798e-05\n",
      "Epoch 152/200\n",
      "3000/3000 [==============================] - 1s 391us/sample - loss: 1.3741e-05\n",
      "Epoch 153/200\n",
      "3000/3000 [==============================] - 1s 413us/sample - loss: 1.3716e-05s - loss: 1.3868e\n",
      "Epoch 154/200\n",
      "3000/3000 [==============================] - 1s 413us/sample - loss: 1.3673e-05\n",
      "Epoch 155/200\n",
      "1700/3000 [================>.............] - ETA: 0s - loss: 1.3169e-05"
     ]
    }
   ],
   "source": [
    "hist_large = AE2.fit(deg2polydata, deg2polydata, epochs=200, batch_size=100)"
   ]
  },
  {
   "cell_type": "markdown",
   "metadata": {
    "colab_type": "text",
    "id": "RuklBAaeEZ_Y"
   },
   "source": [
    "#### VAE using only Keras"
   ]
  },
  {
   "cell_type": "markdown",
   "metadata": {
    "colab_type": "text",
    "id": "vk9qMb2CxZgL"
   },
   "source": [
    "Code partially adapted from [Keras Documentation](https://keras.io/examples/variational_autoencoder/)"
   ]
  },
  {
   "cell_type": "code",
   "execution_count": null,
   "metadata": {
    "colab": {},
    "colab_type": "code",
    "id": "no6SqQuBEZ_Y"
   },
   "outputs": [],
   "source": [
    "# Implement reparametriation trick\n",
    "\n",
    "def sampling(args):\n",
    "    \"\"\"Reparameterization trick by sampling fr an isotropic unit Gaussian.\n",
    "\n",
    "    # Arguments\n",
    "        args (tensor): mean and log of variance of Q(z|X)\n",
    "\n",
    "    # Returns\n",
    "        z (tensor): sampled latent vector\n",
    "    \"\"\"\n",
    "\n",
    "    z_mean, z_log_var = args\n",
    "    batch = K.shape(z_mean)[0]\n",
    "    dim = K.int_shape(z_mean)[1]\n",
    "    # by default, random_normal has mean=0 and std=1.0\n",
    "    epsilon = K.random_normal(shape=(batch, dim))\n",
    "    return z_mean + K.exp(0.5 * z_log_var) * epsilon"
   ]
  },
  {
   "cell_type": "code",
   "execution_count": null,
   "metadata": {
    "colab": {},
    "colab_type": "code",
    "id": "Ur2J8BcREZ_a"
   },
   "outputs": [],
   "source": [
    "# VAE loss function\n",
    "\n",
    "def custom_loss(mean, var):\n",
    "    def loss(y_true, y_pred):\n",
    "        reconstruction_loss = tf.losses.mean_squared_error(y_true, y_pred)*size**2\n",
    "        kl_loss = 1 + var - K.square(mean) - K.exp(var)\n",
    "        kl_loss = K.sum(kl_loss, axis=-1)\n",
    "        kl_loss *= -0.5\n",
    "        beta = 1.0*10**-2\n",
    "        return K.mean(reconstruction_loss + beta*kl_loss)\n",
    "    return loss"
   ]
  },
  {
   "cell_type": "code",
   "execution_count": null,
   "metadata": {
    "colab": {},
    "colab_type": "code",
    "id": "IvKzsz1EEZ_b"
   },
   "outputs": [],
   "source": [
    "# build VAE - we separate encoder and decoder\n",
    "\n",
    "# Encoder\n",
    "\n",
    "VAEinputs = Input(shape=(input_size,))\n",
    "VAEcompress1 = Dense(512, activation='relu')(VAEinputs)\n",
    "VAEcompress2 = Dense(64, activation='relu')(VAEcompress1)\n",
    "VAEencoded_mean = Dense(2)(VAEcompress2)\n",
    "VAEencoded_var = Dense(2)(VAEcompress2)\n",
    "VAEencoded = Lambda(sampling, output_shape=(2,))([VAEencoded_mean, VAEencoded_var])\n",
    "encoder = Model(VAEinputs, [VAEencoded_mean, VAEencoded_var, VAEencoded])\n",
    "\n",
    "latent_inputs = Input(shape=(2,))\n",
    "\n",
    "# Decoder\n",
    "\n",
    "VAEdecompress1 = Dense(64, activation='relu')(latent_inputs)\n",
    "VAEdecompress2 = Dense(512, activation='relu')(VAEdecompress1)\n",
    "VAEdecoded = Dense(size**2, activation='linear')(VAEdecompress2)\n",
    "decoder = Model(latent_inputs, VAEdecoded)\n",
    "\n",
    "VAEoutputs = decoder(encoder(VAEinputs)[2])\n",
    "\n",
    "VAE = Model(VAEinputs, VAEoutputs)"
   ]
  },
  {
   "cell_type": "code",
   "execution_count": null,
   "metadata": {
    "colab": {},
    "colab_type": "code",
    "id": "hiNdhyhPh9DE"
   },
   "outputs": [],
   "source": [
    "VAE.compile(optimizer='adam', loss=custom_loss(VAEencoded_mean, VAEencoded_var))"
   ]
  },
  {
   "cell_type": "code",
   "execution_count": null,
   "metadata": {
    "colab": {},
    "colab_type": "code",
    "id": "Whr-F1MCEZ_e"
   },
   "outputs": [],
   "source": [
    "\n",
    "hist_VAE = VAE.fit(deg2polydata, deg2polydata, epochs=200, batch_size=100)"
   ]
  },
  {
   "cell_type": "code",
   "execution_count": null,
   "metadata": {
    "colab": {},
    "colab_type": "code",
    "id": "KpzpSvdUEZ_g"
   },
   "outputs": [],
   "source": [
    "fig, axes = plt.subplots(1,2, figsize=(15,5))\n",
    "\n",
    "AE2_latent = Model(AE2inputs, AE2encoded)\n",
    "AE2_encoded_data = AE2_latent.predict(deg2polydata)\n",
    "\n",
    "VAE_encoded_data = encoder.predict(deg2polydata)[2]\n",
    "\n",
    "axes[0].scatter(AE2_encoded_data[:,0], AE2_encoded_data[:,1], s=1)\n",
    "axes[0].set_title('Autoencoder latent dimensions')\n",
    "axes[1].scatter(VAE_encoded_data[:,0], VAE_encoded_data[:,1], s=1)\n",
    "_ = axes[1].set_title('VAE latent dimensions')"
   ]
  },
  {
   "cell_type": "markdown",
   "metadata": {
    "colab_type": "text",
    "id": "MIO7gZVtEZ_j"
   },
   "source": [
    "The right hand side is clustered around the origin and looks much more Gaussian than the LHS"
   ]
  },
  {
   "cell_type": "code",
   "execution_count": null,
   "metadata": {
    "colab": {},
    "colab_type": "code",
    "id": "9-lMw0w8EZ_k"
   },
   "outputs": [],
   "source": [
    "fig, axes = plt.subplots(1,2, figsize=(15,5))\n",
    "\n",
    "polynumber = 20\n",
    "\n",
    "axes[0].imshow(VAE.predict(deg2polydata)[polynumber].reshape(size,size))\n",
    "axes[1].imshow(deg2polydata[polynumber].reshape(size,size))"
   ]
  },
  {
   "cell_type": "markdown",
   "metadata": {
    "colab_type": "text",
    "id": "_kFLggA9EZ_m"
   },
   "source": [
    "We see that some samples are learned really well, up to some noise. Better results could probably achieved with more epochs and an annealing schedule for the relative importance of the reconstruction and KL losses."
   ]
  },
  {
   "cell_type": "markdown",
   "metadata": {
    "colab_type": "text",
    "id": "mdASMIaZEZ_n"
   },
   "source": [
    "#### VAE using TFP"
   ]
  },
  {
   "cell_type": "markdown",
   "metadata": {
    "colab_type": "text",
    "id": "6sUzlpklyiJU"
   },
   "source": [
    "See also [here](https://colab.research.google.com/github/tensorflow/probability/blob/master/tensorflow_probability/examples/jupyter_notebooks/Probabilistic_Layers_VAE.ipynb)"
   ]
  },
  {
   "cell_type": "code",
   "execution_count": null,
   "metadata": {
    "colab": {},
    "colab_type": "code",
    "id": "bHnMRNU5jbl1"
   },
   "outputs": [],
   "source": [
    "# Build VAE - we separate encoder and decoder\n",
    "\n",
    "tfd = tfp.distributions\n",
    "tfpl = tfp.layers\n",
    "\n",
    "# Define the reference distribution\n",
    "standardnormal = tfd.Independent(tfd.Normal(loc=tf.zeros(2), scale=1), reinterpreted_batch_ndims=1)\n",
    "\n",
    "# Encoder\n",
    "\n",
    "size = 40\n",
    "\n",
    "VAEinputs = Input(shape=(1600,))\n",
    "VAEcompress1 = Dense(512, activation='relu')(VAEinputs)\n",
    "VAEcompress2 = Dense(64, activation='relu')(VAEcompress1)\n",
    "# The purpose of the next layer is to shape the data in the right form for the MultivariateNormalTriL layer\n",
    "# The output should be interpreted as the ``square root'' of the covariance matrix Out.Out^T=Cov\n",
    "# Out is lower triangular. In our case this amounts to five parameters: 2 means, 3 matrix entries of Out\n",
    "VAEencoded1 = Dense(tfpl.MultivariateNormalTriL.params_size(2))(VAEcompress2)\n",
    "# The MultivariateNormalTriL layer does all the work. We have to pass the KL Divergence as a regularizer\n",
    "VAEencoded2 = tfpl.MultivariateNormalTriL(2, activity_regularizer=tfpl.KLDivergenceRegularizer(standardnormal, weight=10**-5))(VAEencoded1)\n",
    "encoder = Model(VAEinputs, VAEencoded2)\n",
    "\n",
    "latent_inputs = Input(shape=(2,))\n",
    "\n",
    "# Decoder\n",
    "\n",
    "VAEdecompress1 = Dense(64, activation='relu')(latent_inputs)\n",
    "VAEdecompress2 = Dense(512, activation='relu')(VAEdecompress1)\n",
    "VAEdecoded = Dense(size**2, activation='linear')(VAEdecompress2)\n",
    "decoder = Model(latent_inputs, VAEdecoded)\n",
    "\n",
    "VAEoutputs = decoder(encoder(VAEinputs))\n",
    "\n",
    "VAE = Model(VAEinputs, VAEoutputs)"
   ]
  },
  {
   "cell_type": "code",
   "execution_count": null,
   "metadata": {
    "colab": {},
    "colab_type": "code",
    "id": "VCLqxXoZFpJV"
   },
   "outputs": [],
   "source": [
    "VAE.compile(optimizer='adam', loss='mse')"
   ]
  },
  {
   "cell_type": "code",
   "execution_count": null,
   "metadata": {
    "colab": {},
    "colab_type": "code",
    "id": "unDplF01FkyE"
   },
   "outputs": [],
   "source": [
    "hist_VAE = VAE.fit(deg2polydata, deg2polydata, epochs=100, batch_size=100)"
   ]
  },
  {
   "cell_type": "code",
   "execution_count": null,
   "metadata": {
    "colab": {},
    "colab_type": "code",
    "id": "7nUTkLKCj0_M"
   },
   "outputs": [],
   "source": [
    "fig, axes = plt.subplots(1,2, figsize=(15,5))\n",
    "\n",
    "polynumber = 3\n",
    "\n",
    "axes[0].imshow(VAE.predict(deg2polydata)[polynumber].reshape(size,size))\n",
    "axes[1].imshow(deg2polydata[polynumber].reshape(size,size))"
   ]
  }
 ],
 "metadata": {
  "accelerator": "GPU",
  "colab": {
   "collapsed_sections": [],
   "name": "SolutionExercise8.ipynb",
   "provenance": [],
   "version": "0.3.2"
  },
  "kernelspec": {
   "display_name": "ml37",
   "language": "python",
   "name": "ml37"
  },
  "language_info": {
   "codemirror_mode": {
    "name": "ipython",
    "version": 3
   },
   "file_extension": ".py",
   "mimetype": "text/x-python",
   "name": "python",
   "nbconvert_exporter": "python",
   "pygments_lexer": "ipython3",
   "version": "3.7.7"
  }
 },
 "nbformat": 4,
 "nbformat_minor": 1
}
