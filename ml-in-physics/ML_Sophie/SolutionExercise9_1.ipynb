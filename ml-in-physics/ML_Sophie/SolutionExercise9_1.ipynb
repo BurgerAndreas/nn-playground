{
 "cells": [
  {
   "cell_type": "markdown",
   "metadata": {
    "colab_type": "text",
    "id": "pfbg_NxOEZ-k"
   },
   "source": [
    "# Exercise Sheet 9"
   ]
  },
  {
   "cell_type": "code",
   "execution_count": 2,
   "metadata": {
    "colab": {},
    "colab_type": "code",
    "id": "3HYjFWp2EZ-o",
    "scrolled": true
   },
   "outputs": [],
   "source": [
    "import numpy as np\n",
    "import itertools\n",
    "import scipy.misc\n",
    "import matplotlib.pyplot as plt\n",
    "import sympy as sym"
   ]
  },
  {
   "cell_type": "markdown",
   "metadata": {},
   "source": [
    "Link: [Branes with Brains: Exploring String Vacua with Deep Reinforcement Learning](https://arxiv.org/abs/1903.11616)"
   ]
  },
  {
   "cell_type": "markdown",
   "metadata": {
    "colab_type": "text",
    "id": "dgzAZA0EEZ_A"
   },
   "source": [
    "## Gridworld"
   ]
  },
  {
   "cell_type": "markdown",
   "metadata": {
    "colab_type": "text",
    "id": "RDNkoCxqEZ_C"
   },
   "source": [
    "* For a 5x5 Gridworld with no pitfalls and no exit, assume that we go up, down, left, right with equal probability. If we try to move over the boundary we remain at the same position. Write down the dynamics/transition probabilities explicitly.\n",
    "* Using these probabilities generate 10 sample episodes.\n",
    "* Calculate the reward $G_t$ for each of these samples (assuming that you get a reward of 5 in the central pixel and 1 in each corner).\n",
    "* Calculate $V(s)$ for all states using the Bellman equation and via dynamic programming.\n",
    "* How many non-vanishing entries can be found in each row of $P$ in a Markov Decision Process if the actions are deterministic?"
   ]
  },
  {
   "cell_type": "markdown",
   "metadata": {
    "colab_type": "text",
    "id": "mDcKpLVOEZ_D"
   },
   "source": [
    "### Solution"
   ]
  },
  {
   "cell_type": "code",
   "execution_count": 3,
   "metadata": {
    "scrolled": true
   },
   "outputs": [],
   "source": [
    "##Exercise 1 a)\n",
    "\n",
    "# random position in gridworld\n",
    "X = np.random.randint(0,5,2)\n",
    "\n",
    "# dynamics:\n",
    "def step(X, direction):\n",
    "    if (direction == 'north' and X[1] != 4):\n",
    "        X[1]+=1\n",
    "    if (direction == 'east' and X[0] != 4):\n",
    "        X[0]+=1\n",
    "    if (direction == 'south' and X[1] != 0):\n",
    "        X[1]-=1\n",
    "    if (direction == 'west' and X[0] != 0):\n",
    "        X[0]-=1\n",
    "    return X\n",
    "\n",
    "def randomdirection():\n",
    "    return np.random.choice(['north', 'east', 'south', 'west'])\n",
    "\n",
    "def localreward(X):\n",
    "    if (np.all(X==[0,0]) or np.all(X==[4,0]) or np.all(X==[0,4]) or np.all(X==[4,4])):\n",
    "        return 1\n",
    "    else:\n",
    "        if np.all(X==[2,2]):\n",
    "            return 5\n",
    "        else:\n",
    "            return 0\n",
    "\n",
    "def run(X, epochs):\n",
    "    hist = np.empty([epochs, 2])\n",
    "    for i in range(epochs):\n",
    "        hist[i] = X\n",
    "        X = step(X, randomdirection())\n",
    "    return hist\n",
    "\n",
    "def reward(hist, gamma=0.9):\n",
    "    return sum([localreward(X)*gamma**i for i, X in enumerate(hist)])"
   ]
  },
  {
   "cell_type": "code",
   "execution_count": 4,
   "metadata": {
    "scrolled": true
   },
   "outputs": [
    {
     "name": "stdout",
     "output_type": "stream",
     "text": [
      "[332.0, 392.0, 393.0, 384.0, 369.0, 389.0, 294.0, 390.0, 389.0, 314.0]\n",
      "\n",
      "[2.2368072248440645, 5.761941831211949, 1.5906685782459402, 2.261019597879168, 9.007424207766466, 8.510881502167194, 0.5764680436917781, 3.1783972279108927, 6.310584287826459, 5.013234330927414]\n"
     ]
    }
   ],
   "source": [
    "##Exercise 1 b)\n",
    "histories = [run(np.random.randint(0,5,2),1000) for i in range(10)]\n",
    "\n",
    "##Exercise 1 c)\n",
    "## gamma=1 or gamma=0.9 accepted\n",
    "rewards = [reward(hist,gamma=1.) for hist in histories]\n",
    "print(rewards)\n",
    "print()\n",
    "rewards = [reward(hist,gamma=.9) for hist in histories]\n",
    "print(rewards)"
   ]
  },
  {
   "cell_type": "markdown",
   "metadata": {},
   "source": [
    "##Exercise 1 d)\n",
    "\n",
    "##Two possible Solutions:"
   ]
  },
  {
   "cell_type": "markdown",
   "metadata": {},
   "source": [
    "Use Bellman equation"
   ]
  },
  {
   "cell_type": "code",
   "execution_count": 5,
   "metadata": {
    "scrolled": true
   },
   "outputs": [],
   "source": [
    "gamma = sym.Rational(9,10)\n",
    "p = sym.Rational(1,4)"
   ]
  },
  {
   "cell_type": "code",
   "execution_count": 6,
   "metadata": {
    "scrolled": true
   },
   "outputs": [],
   "source": [
    "V = sym.IndexedBase('V')\n",
    "i, j = sym.symbols('i j', cls=sym.Idx)"
   ]
  },
  {
   "cell_type": "code",
   "execution_count": 7,
   "metadata": {
    "scrolled": true
   },
   "outputs": [],
   "source": [
    "eqns = [0 for _ in range(25)]\n",
    "for k, (i, j) in enumerate(itertools.product(range(5), range(5))):\n",
    "    eqns[k] = V[i,j]-p*sum([localreward(step([i,j],direction))\n",
    "                            +gamma*V[tuple(step([i,j],direction))] \n",
    "                            for direction in ('north', 'east', 'south', 'west')])"
   ]
  },
  {
   "cell_type": "code",
   "execution_count": 8,
   "metadata": {
    "scrolled": true
   },
   "outputs": [
    {
     "data": {
      "text/plain": [
       "[11*V[0, 0]/20 - 9*V[0, 1]/40 - 9*V[1, 0]/40 - 1/2,\n",
       " -9*V[0, 0]/40 + 31*V[0, 1]/40 - 9*V[0, 2]/40 - 9*V[1, 1]/40 - 1/4,\n",
       " -9*V[0, 1]/40 + 31*V[0, 2]/40 - 9*V[0, 3]/40 - 9*V[1, 2]/40,\n",
       " -9*V[0, 2]/40 + 31*V[0, 3]/40 - 9*V[0, 4]/40 - 9*V[1, 3]/40 - 1/4,\n",
       " -9*V[0, 3]/40 + 11*V[0, 4]/20 - 9*V[1, 4]/40 - 1/2,\n",
       " -9*V[0, 0]/40 + 31*V[1, 0]/40 - 9*V[1, 1]/40 - 9*V[2, 0]/40 - 1/4,\n",
       " -9*V[0, 1]/40 - 9*V[1, 0]/40 + V[1, 1] - 9*V[1, 2]/40 - 9*V[2, 1]/40,\n",
       " -9*V[0, 2]/40 - 9*V[1, 1]/40 + V[1, 2] - 9*V[1, 3]/40 - 9*V[2, 2]/40 - 5/4,\n",
       " -9*V[0, 3]/40 - 9*V[1, 2]/40 + V[1, 3] - 9*V[1, 4]/40 - 9*V[2, 3]/40,\n",
       " -9*V[0, 4]/40 - 9*V[1, 3]/40 + 31*V[1, 4]/40 - 9*V[2, 4]/40 - 1/4,\n",
       " -9*V[1, 0]/40 + 31*V[2, 0]/40 - 9*V[2, 1]/40 - 9*V[3, 0]/40,\n",
       " -9*V[1, 1]/40 - 9*V[2, 0]/40 + V[2, 1] - 9*V[2, 2]/40 - 9*V[3, 1]/40 - 5/4,\n",
       " -9*V[1, 2]/40 - 9*V[2, 1]/40 + V[2, 2] - 9*V[2, 3]/40 - 9*V[3, 2]/40,\n",
       " -9*V[1, 3]/40 - 9*V[2, 2]/40 + V[2, 3] - 9*V[2, 4]/40 - 9*V[3, 3]/40 - 5/4,\n",
       " -9*V[1, 4]/40 - 9*V[2, 3]/40 + 31*V[2, 4]/40 - 9*V[3, 4]/40,\n",
       " -9*V[2, 0]/40 + 31*V[3, 0]/40 - 9*V[3, 1]/40 - 9*V[4, 0]/40 - 1/4,\n",
       " -9*V[2, 1]/40 - 9*V[3, 0]/40 + V[3, 1] - 9*V[3, 2]/40 - 9*V[4, 1]/40,\n",
       " -9*V[2, 2]/40 - 9*V[3, 1]/40 + V[3, 2] - 9*V[3, 3]/40 - 9*V[4, 2]/40 - 5/4,\n",
       " -9*V[2, 3]/40 - 9*V[3, 2]/40 + V[3, 3] - 9*V[3, 4]/40 - 9*V[4, 3]/40,\n",
       " -9*V[2, 4]/40 - 9*V[3, 3]/40 + 31*V[3, 4]/40 - 9*V[4, 4]/40 - 1/4,\n",
       " -9*V[3, 0]/40 + 11*V[4, 0]/20 - 9*V[4, 1]/40 - 1/2,\n",
       " -9*V[3, 1]/40 - 9*V[4, 0]/40 + 31*V[4, 1]/40 - 9*V[4, 2]/40 - 1/4,\n",
       " -9*V[3, 2]/40 - 9*V[4, 1]/40 + 31*V[4, 2]/40 - 9*V[4, 3]/40,\n",
       " -9*V[3, 3]/40 - 9*V[4, 2]/40 + 31*V[4, 3]/40 - 9*V[4, 4]/40 - 1/4,\n",
       " -9*V[3, 4]/40 - 9*V[4, 3]/40 + 11*V[4, 4]/20 - 1/2]"
      ]
     },
     "execution_count": 8,
     "metadata": {},
     "output_type": "execute_result"
    }
   ],
   "source": [
    "eqns"
   ]
  },
  {
   "cell_type": "markdown",
   "metadata": {},
   "source": [
    "Throw this at Mathematica or your favorite symbolic computation software...get:"
   ]
  },
  {
   "cell_type": "code",
   "execution_count": 9,
   "metadata": {
    "scrolled": true
   },
   "outputs": [
    {
     "name": "stdout",
     "output_type": "stream",
     "text": [
      "[[3.63686 3.33395 3.22976 3.33395 3.63686]\n",
      " [3.33395 3.50585 4.45684 3.50585 3.33395]\n",
      " [3.22976 4.45684 4.01116 4.45684 3.22976]\n",
      " [3.33395 3.50585 4.45684 3.50585 3.33395]\n",
      " [3.63686 3.33395 3.22976 3.33395 3.63686]]\n"
     ]
    }
   ],
   "source": [
    "V = np.array([[3.63686, 3.33395, 3.22976, 3.33395, 3.63686],[3.33395, 3.50585, 4.45684, 3.50585, 3.33395],[3.22976, 4.45684, 4.01116, 4.45684, 3.22976],[3.33395, 3.50585, 4.45684, 3.50585, 3.33395],[3.63686, 3.33395, 3.22976, 3.33395, 3.63686]])\n",
    "print(V)"
   ]
  },
  {
   "cell_type": "markdown",
   "metadata": {},
   "source": [
    "Dynamic Programming:"
   ]
  },
  {
   "cell_type": "code",
   "execution_count": 10,
   "metadata": {
    "scrolled": true
   },
   "outputs": [],
   "source": [
    "V = np.array(np.ones([5,5]))\n",
    "updates = np.array(np.ones([5,5]))\n",
    "gamma = 0.9"
   ]
  },
  {
   "cell_type": "code",
   "execution_count": 11,
   "metadata": {
    "scrolled": true
   },
   "outputs": [
    {
     "data": {
      "text/plain": [
       "array([[3.63686455, 3.33394556, 3.22976082, 3.33394556, 3.63686455],\n",
       "       [3.33394556, 3.50585377, 4.45684061, 3.50585377, 3.33394556],\n",
       "       [3.22976082, 4.45684061, 4.01115655, 4.45684061, 3.22976082],\n",
       "       [3.33394556, 3.50585377, 4.45684061, 3.50585377, 3.33394556],\n",
       "       [3.63686455, 3.33394556, 3.22976082, 3.33394556, 3.63686455]])"
      ]
     },
     "execution_count": 11,
     "metadata": {},
     "output_type": "execute_result"
    }
   ],
   "source": [
    "for _ in range(500):\n",
    "    for i, j in itertools.product(range(5), range(5)):\n",
    "        updates[i,j] =  p*sum([localreward(step([i,j],direction))+gamma*V[tuple(step([i,j],direction))]\n",
    "                        for direction in ('north', 'east', 'south', 'west')])\n",
    "    for i, j in itertools.product(range(5), range(5)):\n",
    "        V[i,j] = updates[i,j]\n",
    "\n",
    "V"
   ]
  },
  {
   "cell_type": "markdown",
   "metadata": {},
   "source": [
    "The two results coincide."
   ]
  }
 ],
 "metadata": {
  "accelerator": "GPU",
  "colab": {
   "collapsed_sections": [],
   "name": "SolutionExercise9.ipynb",
   "provenance": [],
   "version": "0.3.2"
  },
  "kernelspec": {
   "display_name": "Python 3",
   "language": "python",
   "name": "python3"
  },
  "language_info": {
   "codemirror_mode": {
    "name": "ipython",
    "version": 3
   },
   "file_extension": ".py",
   "mimetype": "text/x-python",
   "name": "python",
   "nbconvert_exporter": "python",
   "pygments_lexer": "ipython3",
   "version": "3.7.7"
  }
 },
 "nbformat": 4,
 "nbformat_minor": 1
}
