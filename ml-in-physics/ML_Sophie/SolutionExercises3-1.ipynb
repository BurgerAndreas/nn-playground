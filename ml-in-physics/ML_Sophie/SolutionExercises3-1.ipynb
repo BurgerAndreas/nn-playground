{
 "cells": [
  {
   "cell_type": "markdown",
   "metadata": {},
   "source": [
    "# Exercise Sheet 3"
   ]
  },
  {
   "cell_type": "code",
   "execution_count": 1,
   "metadata": {},
   "outputs": [],
   "source": [
    "# Import necessary libraries\n",
    "import time\n",
    "import numpy as np\n",
    "import matplotlib.pyplot as plt\n",
    "from sklearn import metrics\n",
    "from sklearn.datasets import fetch_openml # MNIST data\n",
    "from sklearn import linear_model\n",
    "from sklearn.preprocessing import StandardScaler\n",
    "from sklearn.model_selection import train_test_split\n",
    "from sklearn.utils import check_random_state\n",
    "%matplotlib inline"
   ]
  },
  {
   "cell_type": "markdown",
   "metadata": {},
   "source": [
    "## [1] MNIST - regression\n",
    "The aim of this exercise is to get some experience with logistic regression and regularisation. We\n",
    "shall use the implementations in sklearn for this exercise.\n",
    "* Using the SGDClassifer and the LogisticRegression, build classifers for the MNIST dataset.  \n",
    "* Find some handwritten digits which your classifers are not capable of classifying correctly. How do they differ from correctly classifed digits?  \n",
    "* Scan over hyper-parameters (i.e. l1, l2 regularisation, different optimisers) and compare the\n",
    "performance.  \n",
    "* Compare your results to results you would have obtained by pure random guessing."
   ]
  },
  {
   "cell_type": "markdown",
   "metadata": {},
   "source": [
    "### Solution"
   ]
  },
  {
   "cell_type": "code",
   "execution_count": 2,
   "metadata": {},
   "outputs": [],
   "source": [
    "# Code adapted from the \"A high-bias, low-variance introduction to Machine Learning for physicists\" review by Mehta et al.\n",
    "\n",
    "### load MNIST data from https://www.openml.org/d/554\n",
    "X, y = fetch_openml('mnist_784', version=1, return_X_y=True)"
   ]
  },
  {
   "cell_type": "code",
   "execution_count": 15,
   "metadata": {},
   "outputs": [
    {
     "name": "stdout",
     "output_type": "stream",
     "text": [
      "(70000, 784)\n"
     ]
    }
   ],
   "source": [
    "print(np.shape(X))"
   ]
  },
  {
   "cell_type": "markdown",
   "metadata": {},
   "source": [
    "Please have a look at the *excellent* [documentation of sklearn](https://scikit-learn.org/stable/modules/linear_model.html). There you will also find detailed information on the different solvers."
   ]
  },
  {
   "cell_type": "code",
   "execution_count": 3,
   "metadata": {},
   "outputs": [],
   "source": [
    "train_size = 10000\n",
    "test_size = 2000\n",
    "\n",
    "# shuffle data\n",
    "random_state = check_random_state(0)\n",
    "permutation = random_state.permutation(X.shape[0])\n",
    "X = X[permutation]\n",
    "y = y[permutation]\n",
    "\n",
    "# pick training and test data sets \n",
    "X_train, X_test, y_train, y_test = train_test_split(X, y, train_size=train_size, test_size=test_size)\n",
    "\n",
    "# scale data to have zero mean and unit variance [required by regressor]\n",
    "scaler = StandardScaler()\n",
    "X_train = scaler.fit_transform(X_train) # fit AND transform\n",
    "X_test = scaler.transform(X_test)"
   ]
  },
  {
   "cell_type": "code",
   "execution_count": 4,
   "metadata": {},
   "outputs": [],
   "source": [
    "def log_classify(reg_strength=1e4, multi_class='multinomial', penalty='l2', solver='sag', tol=1e-2):\n",
    "    t0 = time.time()\n",
    "    # apply logistic regressor with 'sag' solver, C is the inverse regularization strength\n",
    "    clf = linear_model.LogisticRegression(C=reg_strength, multi_class=multi_class, penalty=penalty, solver=solver, tol=tol)\n",
    "    # fit data\n",
    "    clf.fit(X_train, y_train)\n",
    "    # percentage of nonzero weights\n",
    "    sparsity = np.mean(clf.coef_ == 0) * 100\n",
    "    # compute accuracy\n",
    "    score = clf.score(X_test, y_test)\n",
    "\n",
    "    #display run time\n",
    "    run_time = time.time() - t0\n",
    "    print('Example run in %.3f s' % run_time)\n",
    "    print(\"Sparsity: %.2f%%\" % sparsity)\n",
    "    print(\"Testscore: %.4f\" % score)\n",
    "    return clf"
   ]
  },
  {
   "cell_type": "code",
   "execution_count": 5,
   "metadata": {},
   "outputs": [
    {
     "name": "stdout",
     "output_type": "stream",
     "text": [
      "Example run in 14.145 s\n",
      "Sparsity: 13.39%\n",
      "Testscore: 0.9115\n"
     ]
    }
   ],
   "source": [
    "log_model = log_classify()"
   ]
  },
  {
   "cell_type": "code",
   "execution_count": 6,
   "metadata": {},
   "outputs": [],
   "source": [
    "# SGDClassifier\n",
    "\n",
    "def SGD_classify():\n",
    "    t0 = time.time()\n",
    "    clf = linear_model.SGDClassifier(loss='log', max_iter=5, tol=1e-5)\n",
    "    clf.fit(X_train, y_train)\n",
    "    score = clf.score(X_test, y_test)\n",
    "    \n",
    "    #display run time\n",
    "    run_time = time.time() - t0\n",
    "    print('Example run in %.3f s' % run_time)\n",
    "    print(\"Testscore: %.4f\" % score)\n",
    "    return clf"
   ]
  },
  {
   "cell_type": "code",
   "execution_count": 7,
   "metadata": {},
   "outputs": [
    {
     "name": "stdout",
     "output_type": "stream",
     "text": [
      "Example run in 1.760 s\n",
      "Testscore: 0.8990\n"
     ]
    },
    {
     "name": "stderr",
     "output_type": "stream",
     "text": [
      "C:\\Users\\Sophie\\Anaconda3\\lib\\site-packages\\sklearn\\linear_model\\_stochastic_gradient.py:573: ConvergenceWarning: Maximum number of iteration reached before convergence. Consider increasing max_iter to improve the fit.\n",
      "  ConvergenceWarning)\n"
     ]
    }
   ],
   "source": [
    "SGD_model = SGD_classify()"
   ]
  },
  {
   "cell_type": "code",
   "execution_count": 8,
   "metadata": {
    "scrolled": false
   },
   "outputs": [
    {
     "data": {
      "image/png": "[encoded data removed]",
      "text/plain": [
       "<Figure size 720x360 with 10 Axes>"
      ]
     },
     "metadata": {},
     "output_type": "display_data"
    }
   ],
   "source": [
    "# Find examples that were not classified correctly:\n",
    "\n",
    "# We use a boolean mask to get those which were not classified correctly -> see 'SupplementaryMaterial3.ipynb'\n",
    "mask = (log_model.predict(X_test) != y_test)\n",
    "X_false = X_test[mask]\n",
    "\n",
    "\n",
    "#plot a few next to each other\n",
    "plt.figure(figsize=(10, 5))\n",
    "for i in range(10):\n",
    "    l2_plot = plt.subplot(2, 5, i + 1)\n",
    "    l2_plot.imshow(X_false[i].reshape(28, 28), interpolation='nearest',\n",
    "                   cmap=plt.cm.Greys)\n",
    "    l2_plot.set_xticks(())\n",
    "    l2_plot.set_yticks(())\n",
    "#plt.subplots_adjust(wspace=-0.8,hspace=0, left=0,right=0.5)"
   ]
  },
  {
   "cell_type": "code",
   "execution_count": 9,
   "metadata": {},
   "outputs": [
    {
     "data": {
      "image/png": "[encoded data removed]",
      "text/plain": [
       "<Figure size 720x360 with 10 Axes>"
      ]
     },
     "metadata": {},
     "output_type": "display_data"
    }
   ],
   "source": [
    "# Compare to correctly classified ones\n",
    "\n",
    "# We use a boolean mask to get those which were classified correctly\n",
    "mask = (log_model.predict(X_test) == y_test)\n",
    "X_true = X_test[mask]\n",
    "\n",
    "\n",
    "#plot a few next to each other\n",
    "plt.figure(figsize=(10, 5))\n",
    "for i in range(10):\n",
    "    l2_plot = plt.subplot(2, 5, i + 1)\n",
    "    l2_plot.imshow(X_true[i].reshape(28, 28), interpolation='nearest',\n",
    "                   cmap=plt.cm.Greys)\n",
    "    l2_plot.set_xticks(())\n",
    "    l2_plot.set_yticks(())"
   ]
  },
  {
   "cell_type": "markdown",
   "metadata": {},
   "source": [
    "We see that those numbers with a lot of straight lines are easier to classify than the ones with loops. The performance on the number 8 seems to be particularly bad. Let's quantify this:"
   ]
  },
  {
   "cell_type": "code",
   "execution_count": 10,
   "metadata": {
    "scrolled": false
   },
   "outputs": [
    {
     "data": {
      "image/png": "[encoded data removed]",
      "text/plain": [
       "<Figure size 432x288 with 4 Axes>"
      ]
     },
     "metadata": {
      "needs_background": "light"
     },
     "output_type": "display_data"
    },
    {
     "data": {
      "image/png": "[encoded data removed]",
      "text/plain": [
       "<Figure size 432x288 with 4 Axes>"
      ]
     },
     "metadata": {
      "needs_background": "light"
     },
     "output_type": "display_data"
    },
    {
     "data": {
      "image/png": "[encoded data removed]",
      "text/plain": [
       "<Figure size 432x288 with 2 Axes>"
      ]
     },
     "metadata": {
      "needs_background": "light"
     },
     "output_type": "display_data"
    }
   ],
   "source": [
    "# again we use boolean masking to extract the number of wrongly predited digits.\n",
    "\n",
    "plt.figure()\n",
    "for i in range(4):\n",
    "    prediction_per_class = log_model.predict(X_test)[y_test==str(i)]\n",
    "    unique, counts = np.unique(prediction_per_class, return_counts=True)\n",
    "    plt.subplot(2, 2, i+1)\n",
    "    plt.bar(unique[unique!=str(i)], 100*counts[unique!=str(i)]/len(prediction_per_class))\n",
    "    plt.title('Misclassification of ' + str(i) + ' in Percent')\n",
    "    plt.xlabel('Classified as')\n",
    "plt.tight_layout()\n",
    "\n",
    "plt.figure()\n",
    "for i in range(4,8):\n",
    "    prediction_per_class = log_model.predict(X_test)[y_test==str(i)]\n",
    "    unique, counts = np.unique(prediction_per_class, return_counts=True)\n",
    "    plt.subplot(2, 2, i-3)\n",
    "    plt.bar(unique[unique!=str(i)], 100*counts[unique!=str(i)]/len(prediction_per_class))\n",
    "    plt.title('Misclassification of ' + str(i) + ' in Percent')\n",
    "    plt.xlabel('Classified as')\n",
    "plt.tight_layout()\n",
    "\n",
    "plt.figure()\n",
    "for i in range(8,10):\n",
    "    prediction_per_class = log_model.predict(X_test)[y_test==str(i)]\n",
    "    unique, counts = np.unique(prediction_per_class, return_counts=True)\n",
    "    plt.subplot(2, 2, i-7)\n",
    "    plt.bar(unique[unique!=str(i)], 100*counts[unique!=str(i)]/len(prediction_per_class))\n",
    "    plt.title('Misclassification of ' + str(i) + ' in Percent')\n",
    "    plt.xlabel('Classified as')\n",
    "plt.tight_layout()"
   ]
  },
  {
   "cell_type": "markdown",
   "metadata": {},
   "source": [
    "We see that 9,8 and 5 are very problematic. 1 is the easiest to classify (intuitively obvious)."
   ]
  },
  {
   "cell_type": "markdown",
   "metadata": {},
   "source": [
    "Now try L1 regularization"
   ]
  },
  {
   "cell_type": "code",
   "execution_count": 11,
   "metadata": {},
   "outputs": [
    {
     "name": "stdout",
     "output_type": "stream",
     "text": [
      "Example run in 49.398 s\n",
      "Sparsity: 13.39%\n",
      "Testscore: 0.9080\n"
     ]
    },
    {
     "data": {
      "text/plain": [
       "LogisticRegression(C=10000.0, multi_class='multinomial', penalty='l1',\n",
       "                   solver='saga', tol=0.01)"
      ]
     },
     "execution_count": 11,
     "metadata": {},
     "output_type": "execute_result"
    }
   ],
   "source": [
    "# we use the saga solver because it supports l1 regularization\n",
    "log_classify(reg_strength=1e4, multi_class='multinomial', penalty='l1', solver='saga', tol=1e-2)"
   ]
  },
  {
   "cell_type": "markdown",
   "metadata": {},
   "source": [
    "We see that there is no significant difference. Let's try other choices of solvers. Supported are (‘newton-cg’, ‘lbfgs’, ‘liblinear’, ‘sag’, ‘saga’)"
   ]
  },
  {
   "cell_type": "code",
   "execution_count": 12,
   "metadata": {},
   "outputs": [
    {
     "name": "stdout",
     "output_type": "stream",
     "text": [
      "Example run in 102.223 s\n",
      "Sparsity: 13.39%\n",
      "Testscore: 0.8625\n"
     ]
    },
    {
     "data": {
      "text/plain": [
       "LogisticRegression(C=10000.0, multi_class='ovr', solver='liblinear', tol=0.01)"
      ]
     },
     "execution_count": 12,
     "metadata": {},
     "output_type": "execute_result"
    }
   ],
   "source": [
    "log_classify(reg_strength=1e4, multi_class='ovr', penalty='l2', solver='liblinear', tol=1e-2)"
   ]
  },
  {
   "cell_type": "markdown",
   "metadata": {},
   "source": [
    "Runtime is significantly longer. The result is also significantly worse."
   ]
  },
  {
   "cell_type": "code",
   "execution_count": 13,
   "metadata": {},
   "outputs": [
    {
     "name": "stdout",
     "output_type": "stream",
     "text": [
      "Example run in 19.414 s\n",
      "Sparsity: 13.39%\n",
      "Testscore: 0.8630\n"
     ]
    },
    {
     "data": {
      "text/plain": [
       "LogisticRegression(C=10000.0, multi_class='multinomial', solver='newton-cg',\n",
       "                   tol=0.01)"
      ]
     },
     "execution_count": 13,
     "metadata": {},
     "output_type": "execute_result"
    }
   ],
   "source": [
    "log_classify(reg_strength=1e4, multi_class='multinomial', penalty='l2', solver='newton-cg', tol=1e-2)"
   ]
  },
  {
   "cell_type": "markdown",
   "metadata": {},
   "source": [
    "Result is comparatively poor."
   ]
  },
  {
   "cell_type": "code",
   "execution_count": 14,
   "metadata": {},
   "outputs": [
    {
     "name": "stdout",
     "output_type": "stream",
     "text": [
      "Example run in 3.115 s\n",
      "Sparsity: 13.39%\n",
      "Testscore: 0.8675\n"
     ]
    },
    {
     "name": "stderr",
     "output_type": "stream",
     "text": [
      "C:\\Users\\Sophie\\Anaconda3\\lib\\site-packages\\sklearn\\linear_model\\_logistic.py:764: ConvergenceWarning: lbfgs failed to converge (status=1):\n",
      "STOP: TOTAL NO. of ITERATIONS REACHED LIMIT.\n",
      "\n",
      "Increase the number of iterations (max_iter) or scale the data as shown in:\n",
      "    https://scikit-learn.org/stable/modules/preprocessing.html\n",
      "Please also refer to the documentation for alternative solver options:\n",
      "    https://scikit-learn.org/stable/modules/linear_model.html#logistic-regression\n",
      "  extra_warning_msg=_LOGISTIC_SOLVER_CONVERGENCE_MSG)\n"
     ]
    },
    {
     "data": {
      "text/plain": [
       "LogisticRegression(C=10000.0, multi_class='multinomial', tol=0.01)"
      ]
     },
     "execution_count": 14,
     "metadata": {},
     "output_type": "execute_result"
    }
   ],
   "source": [
    "log_classify(reg_strength=1e4, multi_class='multinomial', penalty='l2', solver='lbfgs', tol=1e-2)"
   ]
  },
  {
   "cell_type": "markdown",
   "metadata": {},
   "source": [
    "This is quite fast but gives a poor result."
   ]
  },
  {
   "cell_type": "markdown",
   "metadata": {},
   "source": [
    "You are invited to also explore what happens if we change the tolerance and regularization strength. Looping over this should be quite straightforward given the function ``log_classify()``."
   ]
  },
  {
   "cell_type": "markdown",
   "metadata": {},
   "source": [
    "Of course we see that all of the results are much better than random guessing, which would have a 0.1 success rate."
   ]
  }
 ],
 "metadata": {
  "kernelspec": {
   "display_name": "ml37",
   "language": "python",
   "name": "ml37"
  },
  "language_info": {
   "codemirror_mode": {
    "name": "ipython",
    "version": 3
   },
   "file_extension": ".py",
   "mimetype": "text/x-python",
   "name": "python",
   "nbconvert_exporter": "python",
   "pygments_lexer": "ipython3",
   "version": "3.7.7"
  }
 },
 "nbformat": 4,
 "nbformat_minor": 2
}
