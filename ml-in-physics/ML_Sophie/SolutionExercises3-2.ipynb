{
 "cells": [
  {
   "cell_type": "markdown",
   "metadata": {},
   "source": [
    "# Exercise Sheet 3"
   ]
  },
  {
   "cell_type": "code",
   "execution_count": 1,
   "metadata": {},
   "outputs": [],
   "source": [
    "# Import necessary libraries\n",
    "import time\n",
    "import numpy as np\n",
    "import matplotlib.pyplot as plt\n",
    "from sklearn import metrics\n",
    "from sklearn.datasets import fetch_openml # MNIST data\n",
    "from sklearn import linear_model\n",
    "from sklearn.preprocessing import StandardScaler\n",
    "from sklearn.model_selection import train_test_split\n",
    "from sklearn.utils import check_random_state\n",
    "%matplotlib inline"
   ]
  },
  {
   "cell_type": "markdown",
   "metadata": {},
   "source": [
    "## [2] 1D Ising - Regression\n",
    "In the lecture we have shown different performances of linear regression on predicting the energy in\n",
    "the 1D Ising model depending on our choice of regularisation. The aim of this exercise is to analyse\n",
    "this performance a bit further.  \n",
    "* Instead of the built-in scoring function, plot the error $E_{out}$ for the choice of parameters used in\n",
    "the lecture.  \n",
    "* How does the performance change when changing the number of samples?  "
   ]
  },
  {
   "cell_type": "markdown",
   "metadata": {},
   "source": [
    "### Solution"
   ]
  },
  {
   "cell_type": "markdown",
   "metadata": {},
   "source": [
    "We copy the code from the lecture:"
   ]
  },
  {
   "cell_type": "code",
   "execution_count": 15,
   "metadata": {
    "scrolled": false
   },
   "outputs": [],
   "source": [
    "# Wrap the code from the lecture in to a function 'ising()' because we want to adjust the number of samples later. \n",
    "def ising(n_samples, L):\n",
    "    # create 10000 random Ising states\n",
    "    states = np.random.choice([-1, 1], size=(10000, L))\n",
    "\n",
    "    def ising_energies(states,L):\n",
    "        \"\"\"\n",
    "        This function calculates the energies of the states in the nn Ising Hamiltonian\n",
    "        \"\"\"\n",
    "        J = np.zeros((L,L),)\n",
    "        for i in range(L):\n",
    "            J[i,(i+1)%L] -= 1.0\n",
    "        # compute energies\n",
    "        E = np.einsum('...i,ij,...j->...',states,J,states)\n",
    "\n",
    "        return E\n",
    "    # calculate Ising energies\n",
    "    energies=ising_energies(states,L)\n",
    "\n",
    "    # reshape Ising states into RL samples: S_iS_j --> X_p\n",
    "    states = np.einsum('...i,...j->...ij', states, states)\n",
    "    shape = states.shape\n",
    "    states = states.reshape((shape[0],shape[1]*shape[2]))\n",
    "    # build final data set\n",
    "    Data = [states,energies]\n",
    "\n",
    "    # define train and test data sets\n",
    "    X_train = Data[0][:n_samples]\n",
    "    Y_train = Data[1][:n_samples] #+ np.random.normal(0,4.0,size=X_train.shape[0])\n",
    "    X_test = Data[0][n_samples:3*n_samples//2]\n",
    "    Y_test = Data[1][n_samples:3*n_samples//2] #+ np.random.normal(0,4.0,size=X_test.shape[0])\n",
    "\n",
    "    # set up Lasso and Ridge Regression models\n",
    "    leastsq=linear_model.LinearRegression()\n",
    "    ridge=linear_model.Ridge()\n",
    "    lasso = linear_model.Lasso()\n",
    "\n",
    "    # define error lists\n",
    "    test_errors_leastsq = []\n",
    "\n",
    "    test_errors_ridge = []\n",
    "\n",
    "    test_errors_lasso = []\n",
    "\n",
    "    # set regularisations trength values\n",
    "    lmbdas = np.logspace(-4, 5, 10)\n",
    "\n",
    "    #Initialize coeffficients for ridge regression and Lasso\n",
    "    coefs_leastsq = []\n",
    "    coefs_ridge = []\n",
    "    coefs_lasso = []\n",
    "\n",
    "    for lmbda in lmbdas:\n",
    "\n",
    "        ### ordinary least squares\n",
    "        leastsq.fit(X_train, Y_train) # fit model \n",
    "        coefs_leastsq.append(leastsq.coef_) # store weights\n",
    "        # use the coefficient of determination R^2 as the performance of prediction.\n",
    "        #train_errors_leastsq.append(leastsq.score(X_train, Y_train))\n",
    "        #test_errors_leastsq.append(leastsq.score(X_test,Y_test))\n",
    "\n",
    "        # use E_out as a measure of performance\n",
    "        test_errors_leastsq.append(metrics.mean_squared_error(leastsq.predict(X_test),Y_test))\n",
    "\n",
    "        ### apply Ridge regression\n",
    "        ridge.set_params(alpha = lmbda) # set regularisation parameter\n",
    "        ridge.fit(X_train, Y_train) # fit model \n",
    "        coefs_ridge.append(ridge.coef_) # store weights\n",
    "        # use the coefficient of determination R^2 as the performance of prediction.\n",
    "        #train_errors_ridge.append(ridge.score(X_train, Y_train))\n",
    "        #test_errors_ridge.append(ridge.score(X_test,Y_test))\n",
    "\n",
    "        # use E_out as a measure of performance\n",
    "        test_errors_ridge.append(metrics.mean_squared_error(ridge.predict(X_test),Y_test))\n",
    "\n",
    "        ### apply Ridge regression\n",
    "        lasso.set_params(alpha = lmbda) # set regularisation parameter\n",
    "        lasso.fit(X_train, Y_train) # fit model\n",
    "        coefs_lasso.append(lasso.coef_) # store weights\n",
    "        # use the coefficient of determination R^2 as the performance of prediction.\n",
    "        #train_errors_lasso.append(lasso.score(X_train, Y_train))\n",
    "        #test_errors_lasso.append(lasso.score(X_test,Y_test))\n",
    "\n",
    "        # use E_out as a measure of performance\n",
    "        test_errors_lasso.append(metrics.mean_squared_error(lasso.predict(X_test),Y_test))\n",
    "    return [test_errors_leastsq, test_errors_ridge, test_errors_lasso]\n",
    "\n",
    "\n",
    "# Plotting routine for visualizing Eout vs. regularization strength\n",
    "def plot_ising_error(plot_title, errors):\n",
    "    plt.figure()\n",
    "    lmbdas = np.logspace(-4, 5, 10)\n",
    "    plt.scatter(np.log(lmbdas), errors[0], label = 'leastsq', marker = 'x')\n",
    "    plt.scatter(np.log(lmbdas), errors[1], label = 'ridge')\n",
    "    plt.scatter(np.log(lmbdas), errors[2], label = 'lasso', marker = '+')\n",
    "    plt.legend()\n",
    "    plt.ylabel('$E_{out}$')\n",
    "    plt.title(plot_title)\n",
    "    plt.xlabel('log($\\lambda$) [regularization strength]')"
   ]
  },
  {
   "cell_type": "code",
   "execution_count": 16,
   "metadata": {},
   "outputs": [
    {
     "name": "stderr",
     "output_type": "stream",
     "text": [
      "/usr/local/lib/python3.6/site-packages/sklearn/linear_model/coordinate_descent.py:492: ConvergenceWarning: Objective did not converge. You might want to increase the number of iterations. Fitting data with very small alpha may cause precision problems.\n",
      "  ConvergenceWarning)\n",
      "/usr/local/lib/python3.6/site-packages/sklearn/linear_model/coordinate_descent.py:492: ConvergenceWarning: Objective did not converge. You might want to increase the number of iterations. Fitting data with very small alpha may cause precision problems.\n",
      "  ConvergenceWarning)\n",
      "/usr/local/lib/python3.6/site-packages/sklearn/linear_model/coordinate_descent.py:492: ConvergenceWarning: Objective did not converge. You might want to increase the number of iterations. Fitting data with very small alpha may cause precision problems.\n",
      "  ConvergenceWarning)\n",
      "/usr/local/lib/python3.6/site-packages/sklearn/linear_model/coordinate_descent.py:492: ConvergenceWarning: Objective did not converge. You might want to increase the number of iterations. Fitting data with very small alpha may cause precision problems.\n",
      "  ConvergenceWarning)\n",
      "/usr/local/lib/python3.6/site-packages/sklearn/linear_model/coordinate_descent.py:492: ConvergenceWarning: Objective did not converge. You might want to increase the number of iterations. Fitting data with very small alpha may cause precision problems.\n",
      "  ConvergenceWarning)\n"
     ]
    },
    {
     "data": {
      "image/png": "[encoded data removed]",
      "text/plain": [
       "<Figure size 432x288 with 1 Axes>"
      ]
     },
     "metadata": {
      "needs_background": "light"
     },
     "output_type": "display_data"
    },
    {
     "data": {
      "image/png": "[encoded data removed]",
      "text/plain": [
       "<Figure size 432x288 with 1 Axes>"
      ]
     },
     "metadata": {
      "needs_background": "light"
     },
     "output_type": "display_data"
    },
    {
     "data": {
      "image/png": "[encoded data removed]",
      "text/plain": [
       "<Figure size 432x288 with 1 Axes>"
      ]
     },
     "metadata": {
      "needs_background": "light"
     },
     "output_type": "display_data"
    }
   ],
   "source": [
    "plot_ising_error('100 samples', ising(100, 40))\n",
    "plot_ising_error('500 samples', ising(500, 40))\n",
    "plot_ising_error('1000 samples', ising(1000, 40))"
   ]
  },
  {
   "cell_type": "markdown",
   "metadata": {},
   "source": [
    "The best possible $E_{out}$ decreases drastically as a function of the number of samples for all methods. For ridge regression, the regularization strength should be sufficiently small (depending on the number of samples). For LASSO, there is an optimal value for the regularization strength, as the error does not behave monotonically. For the 500 samples it performs best among all methods, given that $\\lambda\\sim 10^{-5}$."
   ]
  }
 ],
 "metadata": {
  "kernelspec": {
   "display_name": "Python 3",
   "language": "python",
   "name": "python3"
  },
  "language_info": {
   "codemirror_mode": {
    "name": "ipython",
    "version": 3
   },
   "file_extension": ".py",
   "mimetype": "text/x-python",
   "name": "python",
   "nbconvert_exporter": "python",
   "pygments_lexer": "ipython3",
   "version": "3.7.7"
  }
 },
 "nbformat": 4,
 "nbformat_minor": 2
}
