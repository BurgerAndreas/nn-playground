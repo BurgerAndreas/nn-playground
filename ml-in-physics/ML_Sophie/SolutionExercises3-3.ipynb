{
 "cells": [
  {
   "cell_type": "markdown",
   "metadata": {},
   "source": [
    "# Exercise Sheet 3"
   ]
  },
  {
   "cell_type": "code",
   "execution_count": 1,
   "metadata": {},
   "outputs": [],
   "source": [
    "# Import necessary libraries\n",
    "import time\n",
    "import numpy as np\n",
    "import matplotlib.pyplot as plt\n",
    "from sklearn import metrics\n",
    "from sklearn.datasets import fetch_openml # MNIST data\n",
    "from sklearn import linear_model\n",
    "from sklearn.preprocessing import StandardScaler\n",
    "from sklearn.model_selection import train_test_split\n",
    "from sklearn.utils import check_random_state\n",
    "%matplotlib inline"
   ]
  },
  {
   "cell_type": "markdown",
   "metadata": {},
   "source": [
    "## [3] Perceptron - XOR and Shannon information content\n",
    "* Show that a single perceptron does not have the capability to realise the XOR function.  \n",
    "* $\\star$ How can this be avoided using multiple perceptrons?\n",
    "* For independent random variables ($P(X,Y) = P(X)P(Y)$) show that Shannon entropy is\n",
    "additive, i.e. $H(X,Y) = H(X) + H(Y)$.  \n",
    "* $\\star$ This is slightly off-topic but interesting nevertheless. Utilising information content (e.g. by\n",
    "making it explicit on your decision tree), think about a solution for the following problem. You\n",
    "are given 12 balls, all equal in weight except for one that is either heavier or lighter. You are\n",
    "given a two-pan balance to use. In each use of the balance you may put any number of 12 balls\n",
    "on the left pan, and the same number on the right pan. Your task is to design a strategy to\n",
    "determine which is the odd ball and whether it is heavier or lighter than the others in as few\n",
    "uses of the balance as possible."
   ]
  },
  {
   "cell_type": "markdown",
   "metadata": {},
   "source": [
    "### Solution"
   ]
  },
  {
   "cell_type": "markdown",
   "metadata": {},
   "source": [
    "The XOR function is defined by $$\\begin{pmatrix}0&0\\\\0&1\\\\1&0\\\\1&1\\end{pmatrix}\\to \\begin{pmatrix}0\\\\1\\\\1\\\\0\\end{pmatrix}$$  \n",
    "Hence for a single perceptron with weights $w_i$ and bias $b$ we would have to satisfy  \n",
    "$$\n",
    "\\begin{align}\n",
    "0\\cdot w_1+0\\cdot w_2+b&\\leq 0\\\\\n",
    "0\\cdot w_1+1\\cdot w_2+b&> 0\\\\\n",
    "1\\cdot w_1+0\\cdot w_2+b&> 0\\\\\n",
    "1\\cdot w_1+1\\cdot w_2+b&\\leq 0\n",
    "\\end{align}\n",
    "$$  \n",
    "which is easily seen to be self-contradictory.\n",
    "\n",
    "NOTE: A perceptron cannot realize any linearly inseperable problem."
   ]
  },
  {
   "cell_type": "markdown",
   "metadata": {},
   "source": [
    "## Bonus\n",
    "\n",
    "Consider four perceptrons. One is activated for each of the outputs and otherwise 0:\n",
    "$$\n",
    "\\begin{align}\n",
    "P_1(x=(0,0))=1\\\\\n",
    "P_2(x=(0,1))=1\\\\\n",
    "P_3(x=(1,0))=1\\\\\n",
    "P_4(x=(1,1))=1\n",
    "\\end{align}\n",
    "$$\n",
    "We act on this with a final perceptron $P$ with the following function:\n",
    "$$\n",
    "P(x)=0\\cdot P_1(x)+1\\cdot P_2(x)+1\\cdot P_3(x)+0\\cdot P_4(x)\n",
    "$$\n",
    "This function realises XOR, utilising multiple perceptrons."
   ]
  },
  {
   "cell_type": "markdown",
   "metadata": {},
   "source": [
    "### Solution"
   ]
  },
  {
   "cell_type": "markdown",
   "metadata": {},
   "source": [
    "$$\n",
    "\\begin{align}\n",
    "H(X,Y)&\\stackrel{\\text{def}}{=}E\\left[-\\log\\left(P(X,Y)\\right)\\right]\n",
    "=E\\left[-\\log\\left(P(X)P(Y)\\right)\\right]\\\\\n",
    "&=E\\left[-\\log\\left(P(X)\\right)\\right]+E\\left[-\\log\\left(P(Y)\\right)\\right]\n",
    "=H(X)+H(Y)\n",
    "\\end{align}\n",
    "$$"
   ]
  },
  {
   "cell_type": "markdown",
   "metadata": {},
   "source": [
    "The ball weighing problem has $24$ different outcomes ($12\\cdot2$, which ball & heavier vs lighter). So the total entropy in base $2$ is $H=\\log_2(24)\\approx 4.6$. We need to gain slightly more than $1.5$ bit per weighing and we can do it in three steps. This seems feasible and suggests working modulo $3$ in the first step.  \n",
    "  \n",
    "We split the balls into three sets of four $(A,B,C)$. We weigh set $A$ vs set $B$. There are three possible outcomes. $A>B$, $B>A$, $A=B$. This is a good first step because for any of the three results the information gain is $\\approx 1.6$ bits.  \n",
    "\n",
    "Note that if we had split into two sets, the information gain in the first step would only be $\\Delta H=1 \\text{bit}$\n",
    "  \n",
    "Let's explore option $A=B$: We know the odd ball is in set $C$ now. We label the balls in this set $1234$. From either set A or B take three reference balls R. If $123=R$ we know that $4$ is the odd ball and a third weighing against a reference ball gives us the heavier/lighter info. If $123>R$ we know that $4$ is normal and either one of $123$ is heavier. We weigh $1\\text{vs.}2$ to see which ball is the heavier one. $123<R$ works the same.  \n",
    "  \n",
    "If on the other hand we had determined $A>B$ in the beginning, we know that either there is a heavy ball in A or a light ball in B. Label $A=(1234)$, $B=(5678)$. We take a single reference ball $R$ from set $C$. We weigh $125\\text{vs.}36R$. If $125=36R$ we know that either $4$ is light or either one of $7,8$ is heavy. So we weigh $7\\text{vs.}8$ to determine the last piece of information needed.  \n",
    "  \n",
    "If $A>B$ and in the second step we get $125<36R$, the either $6$ is heavy or either one of $1,2$ is light. We weigh $1\\text{vs.}2$ to obtain the last piece of information.  \n",
    "$A<B$ works the same as $A>B$"
   ]
  }
 ],
 "metadata": {
  "kernelspec": {
   "display_name": "Python 3",
   "language": "python",
   "name": "python3"
  },
  "language_info": {
   "codemirror_mode": {
    "name": "ipython",
    "version": 3
   },
   "file_extension": ".py",
   "mimetype": "text/x-python",
   "name": "python",
   "nbconvert_exporter": "python",
   "pygments_lexer": "ipython3",
   "version": "3.7.7"
  }
 },
 "nbformat": 4,
 "nbformat_minor": 2
}
