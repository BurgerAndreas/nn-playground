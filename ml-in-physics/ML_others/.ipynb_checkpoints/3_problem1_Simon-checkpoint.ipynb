{
 "cells": [
  {
   "cell_type": "markdown",
   "metadata": {},
   "source": [
    "Before you turn this problem in, make sure everything runs as expected. First, **restart the kernel** (in the menubar, select Kernel$\\rightarrow$Restart) and then **run all cells** (in the menubar, select Cell$\\rightarrow$Run All).\n",
    "\n",
    "Make sure you fill in any place that says `YOUR CODE HERE` or \"YOUR ANSWER HERE\", as well as your name and collaborators below:"
   ]
  },
  {
   "cell_type": "code",
   "execution_count": 1,
   "metadata": {
    "collapsed": true
   },
   "outputs": [],
   "source": [
    "NAME = \"Simon Mathias Linsel\"\n",
    "COLLABORATORS = \"Marcus Culemann, Andreas Burger, Hannah Lange\""
   ]
  },
  {
   "cell_type": "markdown",
   "metadata": {},
   "source": [
    "---"
   ]
  },
  {
   "cell_type": "markdown",
   "metadata": {
    "deletable": false,
    "editable": false,
    "nbgrader": {
     "cell_type": "markdown",
     "checksum": "53af82819841ed44d132f793600cab24",
     "grade": false,
     "grade_id": "cell-f27f0f5f7a306629",
     "locked": true,
     "schema_version": 3,
     "solution": false,
     "task": false
    }
   },
   "source": [
    "# MNIST - Regression\n",
    "The aim of this exercise is to get some experience with logistic regression and regularisation. We\n",
    "shall use the implementations of SGCClassifier and the LogisticRegression in sklearn for this exercise.\n",
    "In this exercise we want to build a class can take a classifier object, training and test data and has the methods to fit the classifier to the dataset and predict labels. \n",
    "We will work with the MNIST dataset (classifying handwritten digits).\n",
    "\n",
    "* Using the SGCClassifier and the LogisticRegression, build classifiers for the MNIST dataset.\n",
    "* Find some handwritten digits which your classifiers are not capable of classifying correctly.\n",
    "How do they differ from correctly classified digits?\n",
    "* Scan over hyper-parameters (i.e. l1, l2 regularisation, different optimisers) and compare the\n",
    "performance.\n",
    "* Compare your results to results you would have obtained by pure random guessing.\n",
    "\n",
    "Please have a look at the excellent documentation of sklearn. There you will also find detailed information on the different solvers.\n",
    "\n",
    "To complete all this tasks fill in the class Classifier and follow the instructions.\n"
   ]
  },
  {
   "cell_type": "code",
   "execution_count": 44,
   "metadata": {
    "collapsed": true,
    "deletable": false,
    "editable": false,
    "nbgrader": {
     "cell_type": "code",
     "checksum": "b7d856b3b207c98083f822c336950ee1",
     "grade": false,
     "grade_id": "cell-c3f6b76069b20477",
     "locked": true,
     "schema_version": 3,
     "solution": false,
     "task": false
    }
   },
   "outputs": [],
   "source": [
    "# Import necessary libraries\n",
    "import time\n",
    "import numpy as np\n",
    "import matplotlib.pyplot as plt\n",
    "import tensorflow as tf\n",
    "from sklearn.linear_model import LogisticRegression, SGDClassifier\n",
    "\n"
   ]
  },
  {
   "cell_type": "code",
   "execution_count": 97,
   "metadata": {
    "collapsed": true,
    "deletable": false,
    "nbgrader": {
     "cell_type": "code",
     "checksum": "f276a3b145fb66d1a3be103268ccee4b",
     "grade": false,
     "grade_id": "cell-cca472fa34157058",
     "locked": false,
     "schema_version": 3,
     "solution": true,
     "task": false
    }
   },
   "outputs": [],
   "source": [
    "class Classifier:\n",
    "    def __init__(self, model, x_train, y_train, x_test, y_test):\n",
    "        self.y_test = y_test\n",
    "        self.x_test = x_test\n",
    "        self.y_train = y_train\n",
    "        self.x_train = x_train\n",
    "        self.model = model\n",
    "        self.run_time = None \n",
    "\n",
    "        self.score = None\n",
    "        self.prediction = None\n",
    "        \n",
    "    def reshape_x(self):\n",
    "        \"\"\" write a function that reshapes self.x_train and self.y_train into a 2D array such that they can be \n",
    "        processed by LinearRegression and SGDClassifier. \n",
    "        The original shape of the MNIST dataset is (number of samples, 28, 28). \n",
    "        The function should not return anything. \"\"\"\n",
    "       \n",
    "        self.x_train = np.array(self.x_train).reshape((60000,784))\n",
    "        self.x_test = np.array(self.x_test).reshape((10000,784))\n",
    "        \n",
    "        \n",
    "    def fit(self):\n",
    "        \"\"\"write a function that fits the classifier to the train set, \n",
    "        store the time that this takes in self.run_time\n",
    "        and the model score in self.score as (training score, test score). \n",
    "        The function should not return anything.\"\"\"\n",
    "        \n",
    "        self.reshape_x()\n",
    "        \n",
    "        # fit data\n",
    "        start = time.perf_counter()\n",
    "        self.model.fit(self.x_train[:10000], self.y_train[:10000])\n",
    "        end = time.perf_counter()\n",
    "        self.run_time = end-start\n",
    "\n",
    "        # compute accuracy\n",
    "        self.score = [self.model.score(self.x_train, self.y_train), self.model.score(self.x_test, self.y_test)]\n",
    "\n",
    "        \n",
    "    def predict(self):\n",
    "        \"\"\" write a function that predicts the labels of the images \n",
    "        in the test dataset and stores them in self.prediction. \n",
    "        self.prediction should be of the same shape as self.y_test.\n",
    "        The function should not return anything.\"\"\"\n",
    "        \n",
    "        self.prediction = self.model.predict(self.x_test)\n",
    "        \n",
    "    def find_incorrect_classified(self):\n",
    "        \"\"\" write a function that finds the incorrectly classified digits and returns \n",
    "        those images, the incorrectly predicted labels and the true labels\n",
    "        The images should be an ndarray of shape (number of incorrectly classified pictures, 28, 28)\"\"\"\n",
    "        \n",
    "        pictures = None\n",
    "        incorrect_labels = None\n",
    "        true_labels = None\n",
    "        \n",
    "        for i in range(self.prediction.size):\n",
    "            if self.prediction[i] == self.y_test[i]:\n",
    "                if true_labels is None:\n",
    "                    true_labels = [i]\n",
    "                else:\n",
    "                    true_labels = np.vstack((true_labels,i))\n",
    "            else:\n",
    "                if incorrect_labels is None:\n",
    "                    incorrect_labels = [i]\n",
    "                else:\n",
    "                    incorrect_labels = np.vstack((incorrect_labels,i))\n",
    "                if pictures is None:\n",
    "                    pictures = np.reshape(self.x_test[i],[1,28,28])\n",
    "                else:\n",
    "                    pictures = np.vstack((pictures,np.reshape(self.x_test[i],[1,28,28])))\n",
    "              \n",
    "        return pictures, incorrect_labels, true_labels\n",
    "        "
   ]
  },
  {
   "cell_type": "code",
   "execution_count": 46,
   "metadata": {
    "deletable": false,
    "editable": false,
    "nbgrader": {
     "cell_type": "code",
     "checksum": "19b44f7958c1d85f3816aeb121fc8a1c",
     "grade": false,
     "grade_id": "cell-9354cc8e5b2c76ff",
     "locked": true,
     "schema_version": 3,
     "solution": false,
     "task": false
    }
   },
   "outputs": [
    {
     "name": "stdout",
     "output_type": "stream",
     "text": [
      "(60000, 28, 28)\n",
      "(10000, 28, 28)\n"
     ]
    }
   ],
   "source": [
    "# fetching the mnist data set and preprocessing it\n",
    "mnist = tf.keras.datasets.mnist\n",
    "(x_train, y_train),(x_test, y_test) = mnist.load_data()\n",
    "x_train, x_test = x_train / 255.0, x_test / 255.0\n",
    "\n",
    "print(x_train.shape)\n",
    "print(x_test.shape)"
   ]
  },
  {
   "cell_type": "code",
   "execution_count": 47,
   "metadata": {
    "collapsed": true,
    "deletable": false,
    "editable": false,
    "nbgrader": {
     "cell_type": "code",
     "checksum": "63a8940d97f3d7c549b5848f5f711753",
     "grade": true,
     "grade_id": "cell-5f0b1fd8fdc26262",
     "locked": true,
     "points": 1,
     "schema_version": 3,
     "solution": false,
     "task": false
    }
   },
   "outputs": [],
   "source": [
    "# your solution is graded here"
   ]
  },
  {
   "cell_type": "code",
   "execution_count": 48,
   "metadata": {
    "collapsed": true,
    "deletable": false,
    "editable": false,
    "nbgrader": {
     "cell_type": "code",
     "checksum": "52ffe12b02b61c2b4cda9adc3e481a81",
     "grade": true,
     "grade_id": "cell-23591b6cd4ac157a",
     "locked": true,
     "points": 1,
     "schema_version": 3,
     "solution": false,
     "task": false
    }
   },
   "outputs": [],
   "source": [
    "# your solution is graded here"
   ]
  },
  {
   "cell_type": "code",
   "execution_count": 49,
   "metadata": {
    "collapsed": true,
    "deletable": false,
    "editable": false,
    "nbgrader": {
     "cell_type": "code",
     "checksum": "e5498f259783a7c8466604fe5d289304",
     "grade": true,
     "grade_id": "cell-6abb4e0c274f8f1e",
     "locked": true,
     "points": 1,
     "schema_version": 3,
     "solution": false,
     "task": false
    }
   },
   "outputs": [],
   "source": [
    "# your solution is graded here"
   ]
  },
  {
   "cell_type": "code",
   "execution_count": 50,
   "metadata": {
    "collapsed": true,
    "deletable": false,
    "editable": false,
    "nbgrader": {
     "cell_type": "code",
     "checksum": "1e9b257deeaa146c8efba9d2e2c5812d",
     "grade": true,
     "grade_id": "cell-a465c5d33701d3bf",
     "locked": true,
     "points": 1,
     "schema_version": 3,
     "solution": false,
     "task": false
    }
   },
   "outputs": [],
   "source": [
    "# your solution is graded here"
   ]
  },
  {
   "cell_type": "code",
   "execution_count": 51,
   "metadata": {
    "collapsed": true,
    "deletable": false,
    "editable": false,
    "nbgrader": {
     "cell_type": "code",
     "checksum": "39ef001c581fd95165a4964f59352244",
     "grade": true,
     "grade_id": "cell-4474a46908db5086",
     "locked": true,
     "points": 1,
     "schema_version": 3,
     "solution": false,
     "task": false
    }
   },
   "outputs": [],
   "source": [
    "# your solution is graded here\n"
   ]
  },
  {
   "cell_type": "markdown",
   "metadata": {
    "deletable": false,
    "editable": false,
    "nbgrader": {
     "cell_type": "markdown",
     "checksum": "c30e274e3bd2d0dbaa4527c110fcdc34",
     "grade": false,
     "grade_id": "cell-349fd2b4b8ee4122",
     "locked": true,
     "schema_version": 3,
     "solution": false,
     "task": false
    }
   },
   "source": [
    "Now use the classifier class to train a SGDClassifier and find some incorrectly classified digits. Use the find_incorrect_digit function to find the wrongly classified digits and store the pictures in an array called sgd_pictures, such that they can be plotted by the code snipped below your solution. (hint: training on all 6000 samples can take some time, if you're on a slow machine, so it is okay to use fewer samples)\n",
    "What kind of digits were not correctly recognised?"
   ]
  },
  {
   "cell_type": "code",
   "execution_count": 98,
   "metadata": {
    "deletable": false,
    "nbgrader": {
     "cell_type": "code",
     "checksum": "8717adfd7062b1386ba374ec386ddadd",
     "grade": false,
     "grade_id": "cell-38a1ab89565ab7da",
     "locked": false,
     "schema_version": 3,
     "solution": true,
     "task": false
    }
   },
   "outputs": [
    {
     "name": "stdout",
     "output_type": "stream",
     "text": [
      "(1100, 28, 28)\n",
      "(1100, 1)\n",
      "(8900, 1)\n"
     ]
    }
   ],
   "source": [
    "# use SGDClassifier here\n",
    "clf = SGDClassifier()\n",
    "sgdClassifier = Classifier(clf, x_train, y_train, x_test, y_test)\n",
    "sgdClassifier.fit()\n",
    "sgdClassifier.predict()\n",
    "sgd_pictures, incorrectlabels, truelabels = sgdClassifier.find_incorrect_classified()"
   ]
  },
  {
   "cell_type": "code",
   "execution_count": 99,
   "metadata": {
    "deletable": false,
    "editable": false,
    "nbgrader": {
     "cell_type": "code",
     "checksum": "501f9ea16274b26665696163bc0ffc1e",
     "grade": true,
     "grade_id": "cell-37a1a5a5f9c63866",
     "locked": true,
     "points": 1,
     "schema_version": 3,
     "solution": false,
     "task": false
    }
   },
   "outputs": [
    {
     "data": {
      "image/png": "[encoded data removed]",
      "text/plain": [
       "<Figure size 720x360 with 10 Axes>"
      ]
     },
     "metadata": {},
     "output_type": "display_data"
    }
   ],
   "source": [
    "#plot a few wrongly classified digits next to each other, you don't need to do anything here\n",
    "plt.figure(figsize=(10, 5))\n",
    "for i in range(10):\n",
    "    l2_plot = plt.subplot(2, 5, i + 1)\n",
    "    try: \n",
    "        l2_plot.imshow(sgd_pictures[i], cmap='gray')\n",
    "    except:\n",
    "        raise AssertionError\n",
    "    l2_plot.set_xticks(())\n",
    "    l2_plot.set_yticks(())\n"
   ]
  },
  {
   "cell_type": "markdown",
   "metadata": {
    "deletable": false,
    "editable": false,
    "nbgrader": {
     "cell_type": "markdown",
     "checksum": "6805744b730f4ebdab7169ad0b5a56d4",
     "grade": false,
     "grade_id": "cell-69205ebbf0fde19a",
     "locked": true,
     "schema_version": 3,
     "solution": false,
     "task": false
    }
   },
   "source": [
    "Now do the same for Logistic Regression (name the array logreg_pictures this time). Is there a difference to the images from before?\n"
   ]
  },
  {
   "cell_type": "code",
   "execution_count": 100,
   "metadata": {
    "collapsed": true,
    "deletable": false,
    "nbgrader": {
     "cell_type": "code",
     "checksum": "930d0eb0cd7fd0ce433e3baed3dbaf91",
     "grade": false,
     "grade_id": "cell-b998c19b8a040080",
     "locked": false,
     "schema_version": 3,
     "solution": true,
     "task": false
    }
   },
   "outputs": [],
   "source": [
    "# use LogisticRegression here\n",
    "clf = LogisticRegression(C=1e15, multi_class='multinomial', penalty='l2',solver='sag', tol=0.01)\n",
    "logisticClassifier = Classifier(clf, x_train, y_train, x_test, y_test)\n",
    "logisticClassifier.fit()\n",
    "logisticClassifier.predict()\n",
    "logreg_pictures, incorrect_labels, true_labels = logisticClassifier.find_incorrect_classified()\n"
   ]
  },
  {
   "cell_type": "code",
   "execution_count": 101,
   "metadata": {
    "deletable": false,
    "editable": false,
    "nbgrader": {
     "cell_type": "code",
     "checksum": "5826625775cc1eac3619a19a82ab97a3",
     "grade": true,
     "grade_id": "cell-d6c3207744e51b92",
     "locked": true,
     "points": 1,
     "schema_version": 3,
     "solution": false,
     "task": false
    }
   },
   "outputs": [
    {
     "data": {
      "image/png": "[encoded data removed]",
      "text/plain": [
       "<Figure size 720x360 with 10 Axes>"
      ]
     },
     "metadata": {},
     "output_type": "display_data"
    }
   ],
   "source": [
    "plt.figure(figsize=(10, 5))\n",
    "for i in range(10):\n",
    "    logreg_plot = plt.subplot(2, 5, i + 1)\n",
    "    try: \n",
    "        logreg_plot.imshow(logreg_pictures[i], cmap='gray')\n",
    "    except:\n",
    "        raise AssertionError\n",
    "    logreg_plot.set_xticks(())\n",
    "    logreg_plot.set_yticks(())\n"
   ]
  },
  {
   "cell_type": "markdown",
   "metadata": {
    "deletable": false,
    "editable": false,
    "nbgrader": {
     "cell_type": "markdown",
     "checksum": "9dc8b1128d62ffefffbde4979c5edb30",
     "grade": false,
     "grade_id": "cell-3d3ca1b8440a3785",
     "locked": true,
     "schema_version": 3,
     "solution": false,
     "task": false
    }
   },
   "source": [
    "* For LogisticRegression or SGDClassifier scan over hyper-parameters (i.e. l1, l2 regularisation, different optimisers) and compare the\n",
    "performance. Append the scores of the different models to the list logreg_scores. Scan over at least 4 different hyperparameter combinations.\n",
    "* Compare your results to results you would have obtained by pure random guessing."
   ]
  },
  {
   "cell_type": "code",
   "execution_count": 107,
   "metadata": {
    "deletable": false,
    "nbgrader": {
     "cell_type": "code",
     "checksum": "761d354a7f91f8703d503d942440047a",
     "grade": false,
     "grade_id": "cell-ce6142416b7a65b8",
     "locked": false,
     "schema_version": 3,
     "solution": true,
     "task": false
    }
   },
   "outputs": [
    {
     "data": {
      "text/plain": [
       "array([0.91241667, 0.9068    , 0.9122    , 0.9067    , 0.90101667,\n",
       "       0.8969    , 0.89788333, 0.8886    ])"
      ]
     },
     "execution_count": 107,
     "metadata": {},
     "output_type": "execute_result"
    }
   ],
   "source": [
    "logreg_scores = []\n",
    "\n",
    "logisticClassifier.model.set_params(penalty='l1', solver='saga')\n",
    "logisticClassifier.fit()\n",
    "logreg_scores = np.append(logreg_scores, logisticClassifier.score)\n",
    "\n",
    "logisticClassifier.model.set_params(penalty='l2', solver='saga')\n",
    "logisticClassifier.fit()\n",
    "logreg_scores = np.append(logreg_scores, logisticClassifier.score)\n",
    "\n",
    "logisticClassifier.model.set_params(penalty='l1', solver='liblinear', multi_class='auto')\n",
    "logisticClassifier.fit()\n",
    "logreg_scores = np.append(logreg_scores, logisticClassifier.score)\n",
    "\n",
    "logisticClassifier.model.set_params(penalty='l2', solver='liblinear', multi_class='auto')\n",
    "logisticClassifier.fit()\n",
    "logreg_scores = np.append(logreg_scores, logisticClassifier.score)\n",
    "\n",
    "logreg_scores\n"
   ]
  },
  {
   "cell_type": "code",
   "execution_count": null,
   "metadata": {
    "collapsed": true,
    "deletable": false,
    "editable": false,
    "nbgrader": {
     "cell_type": "code",
     "checksum": "3b636b50f2e70059f8f340ccb6d9c117",
     "grade": true,
     "grade_id": "cell-5edda0ee00d3b8d9",
     "locked": true,
     "points": 1,
     "schema_version": 3,
     "solution": false,
     "task": false
    }
   },
   "outputs": [],
   "source": [
    "# your solution is graded here"
   ]
  }
 ],
 "metadata": {
  "kernelspec": {
   "display_name": "Python 3",
   "language": "python",
   "name": "python3"
  },
  "language_info": {
   "codemirror_mode": {
    "name": "ipython",
    "version": 3
   },
   "file_extension": ".py",
   "mimetype": "text/x-python",
   "name": "python",
   "nbconvert_exporter": "python",
   "pygments_lexer": "ipython3",
   "version": "3.6.1"
  }
 },
 "nbformat": 4,
 "nbformat_minor": 5
}
