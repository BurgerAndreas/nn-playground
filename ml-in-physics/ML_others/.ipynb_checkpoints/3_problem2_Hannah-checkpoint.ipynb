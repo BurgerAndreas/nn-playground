{
 "cells": [
  {
   "cell_type": "markdown",
   "metadata": {},
   "source": [
    "Before you turn this problem in, make sure everything runs as expected. First, **restart the kernel** (in the menubar, select Kernel$\\rightarrow$Restart) and then **run all cells** (in the menubar, select Cell$\\rightarrow$Run All).\n",
    "\n",
    "Make sure you fill in any place that says `YOUR CODE HERE` or \"YOUR ANSWER HERE\", as well as your name and collaborators below:"
   ]
  },
  {
   "cell_type": "code",
   "execution_count": null,
   "metadata": {
    "collapsed": true
   },
   "outputs": [],
   "source": [
    "NAME = \"Hannah Lange\"\n",
    "COLLABORATORS = \"\""
   ]
  },
  {
   "cell_type": "markdown",
   "metadata": {},
   "source": [
    "---"
   ]
  },
  {
   "cell_type": "markdown",
   "metadata": {
    "deletable": false,
    "editable": false,
    "nbgrader": {
     "cell_type": "markdown",
     "checksum": "f326551e8f0818e2a6978113095b3c76",
     "grade": false,
     "grade_id": "cell-95dab0771aff374f",
     "locked": true,
     "schema_version": 3,
     "solution": false,
     "task": false
    }
   },
   "source": [
    "## 1D Ising – Regression\n",
    "\n",
    "In the lecture we have shown different performances of linear regression on predicting the energy in\n",
    "the 1D Ising model depending on our choice of regularisation. The aim of this exercise is to analyse\n",
    "this performance a bit further."
   ]
  },
  {
   "cell_type": "code",
   "execution_count": 1,
   "metadata": {
    "collapsed": true,
    "deletable": false,
    "editable": false,
    "nbgrader": {
     "cell_type": "code",
     "checksum": "e057d3c37d0f84ccfbb8bb5b1f1cff34",
     "grade": false,
     "grade_id": "cell-3a4399a512ba9fb5",
     "locked": true,
     "schema_version": 3,
     "solution": false,
     "task": false
    }
   },
   "outputs": [],
   "source": [
    "import matplotlib.pyplot as plt\n",
    "import numpy as np\n",
    "from sklearn.linear_model import LinearRegression, Ridge, Lasso\n",
    "from sklearn.metrics import mean_squared_error\n",
    "from sklearn.model_selection import train_test_split\n"
   ]
  },
  {
   "cell_type": "markdown",
   "metadata": {
    "deletable": false,
    "editable": false,
    "nbgrader": {
     "cell_type": "markdown",
     "checksum": "06e9f1650a7ec3e03c08b8be995f9f3f",
     "grade": false,
     "grade_id": "cell-c498c5881cc5ee8e",
     "locked": true,
     "schema_version": 3,
     "solution": false,
     "task": false
    }
   },
   "source": [
    "Fill in the class IsingData below as specified in the code. Consider the cell with the shape tests."
   ]
  },
  {
   "cell_type": "code",
   "execution_count": 18,
   "metadata": {
    "collapsed": true,
    "deletable": false,
    "nbgrader": {
     "cell_type": "code",
     "checksum": "3018f6cef23fb3a6478e0bc07e9a2130",
     "grade": false,
     "grade_id": "cell-14bdfd9b8c2deca8",
     "locked": false,
     "schema_version": 3,
     "solution": true,
     "task": false
    },
    "pycharm": {
     "name": "#%%\n"
    }
   },
   "outputs": [],
   "source": [
    "\n",
    "class IsingData:\n",
    "    def __init__(self, size=40, num_states=1000):\n",
    "        \"\"\"\n",
    "        Create Dataset of random 1D Ising states. For shapes of the np.ndarrays see test cell below.\n",
    "        \"\"\"\n",
    "        self.size = size\n",
    "        self.num_states = num_states\n",
    "\n",
    "        self.states = None\n",
    "        self.generate_random_states()\n",
    "        self.reshaped_states = None\n",
    "        self.reshape_states()\n",
    "\n",
    "        self.coupling = None\n",
    "        self.calculate_coupling()\n",
    "\n",
    "        self.energies = None\n",
    "        self.calculate_energies()\n",
    "\n",
    "        self.x_train = None\n",
    "        self.x_test = None\n",
    "        self.y_train = None\n",
    "        self.y_test = None\n",
    "\n",
    "        self.split_train_test()\n",
    "\n",
    "    def calculate_coupling(self):\n",
    "        \"\"\"\n",
    "        Calculate the nearest neighbour coupling of the 1D Ising model with coupling strength 1 and periodic \n",
    "        boundary conditions. Write the result to self.coupling. You should get a np.ndarray of shape \n",
    "        (self.size, self.size). The function must not return anything.\n",
    "        \"\"\"\n",
    "        # YOUR CODE HERE\n",
    "        coupling=np.zeros((self.size,self.size))\n",
    "        J = 1\n",
    "        for i in range(self.size):\n",
    "            coupling[i,(i+1)%self.size]-= J\n",
    "        self.coupling = coupling\n",
    "\n",
    "    def calculate_energies(self):\n",
    "        \"\"\"\n",
    "        Calculate the energies for all ising states and write them to self.energies. You should get a np.ndarray with\n",
    "        shape (self.num_states,)\n",
    "        \"\"\"\n",
    "        if type(self.coupling) != np.ndarray or self.coupling.shape != (self.size, self.size):\n",
    "            raise ValueError(\"The coupling has to be a numpy array of shape (self.size, self.size)\")\n",
    "        # YOUR CODE HERE\n",
    "        self.energies = np.einsum('ki,ij,kj->k',self.states, self.coupling, self.states)\n",
    "        self.energies.reshape((self.num_states,))\n",
    "        #print(self.energies.shape)\n",
    "        \n",
    "\n",
    "    def generate_random_states(self):\n",
    "        \"\"\"\n",
    "        Generate the random Ising states. Nothing for you to do here.\n",
    "        \"\"\"\n",
    "        self.states = np.random.choice([-1, 1], size=(self.num_states, self.size))\n",
    "\n",
    "    def split_train_test(self, test_fraction=0.25):\n",
    "        \"\"\"\n",
    "        Split the dataset (reshaped states) into train and test set and write the result to self.x_train, self.y_train,\n",
    "        self.x_test and self.y_test.\n",
    "        \"\"\"\n",
    "        # YOUR CODE HERE\n",
    "        num_train = int(self.num_states*(1-test_fraction))\n",
    "        self.x_train = self.reshaped_states[:num_train]\n",
    "        self.y_train = self.energies[:num_train]\n",
    "        self.x_test = self.reshaped_states[num_train :]\n",
    "        self.y_test = self.energies[num_train :]\n",
    "\n",
    "    def reshape_states(self):\n",
    "        \"\"\"\n",
    "        Reshape the Ising states so that the Regressors can handle them sensibly. Nothing for you to do here.\n",
    "        \"\"\"\n",
    "        ising_states = np.einsum('...i,...j->...ij', self.states, self.states)\n",
    "        shape = ising_states.shape\n",
    "        self.reshaped_states = ising_states.reshape((shape[0], -1))"
   ]
  },
  {
   "cell_type": "code",
   "execution_count": 19,
   "metadata": {
    "collapsed": true,
    "deletable": false,
    "editable": false,
    "nbgrader": {
     "cell_type": "code",
     "checksum": "521dedcf34388ac71c62cbcd45c0b8fe",
     "grade": true,
     "grade_id": "cell-9a16963cf487bb7f",
     "locked": true,
     "points": 0,
     "schema_version": 3,
     "solution": false,
     "task": false
    },
    "pycharm": {
     "name": "#%%\n"
    }
   },
   "outputs": [],
   "source": [
    "# You can check your shapes here!\n",
    "ising_data = IsingData()\n",
    "assert ising_data.states.shape == (ising_data.num_states, ising_data.size)\n",
    "assert ising_data.reshaped_states.shape == (ising_data.num_states, ising_data.size ** 2)\n",
    "assert ising_data.coupling.shape == (ising_data.size, ising_data.size)\n",
    "assert ising_data.energies.shape == (ising_data.num_states,)\n",
    "assert ising_data.x_test.shape[1] == ising_data.size ** 2\n",
    "assert ising_data.x_test.shape[0] < ising_data.num_states"
   ]
  },
  {
   "cell_type": "code",
   "execution_count": 20,
   "metadata": {
    "collapsed": true,
    "deletable": false,
    "editable": false,
    "nbgrader": {
     "cell_type": "code",
     "checksum": "316caf312c601bf2b06b05896729c9a8",
     "grade": true,
     "grade_id": "cell-89235472cdcd50ee",
     "locked": true,
     "points": 2,
     "schema_version": 3,
     "solution": false,
     "task": false
    },
    "pycharm": {
     "name": "#%%\n"
    }
   },
   "outputs": [],
   "source": [
    "# Your code will be autograded here!\n"
   ]
  },
  {
   "cell_type": "code",
   "execution_count": 21,
   "metadata": {
    "collapsed": true,
    "deletable": false,
    "editable": false,
    "nbgrader": {
     "cell_type": "code",
     "checksum": "2ce6f3eca5d8b101c675a4794dfa9972",
     "grade": true,
     "grade_id": "cell-b1371def0f2586de",
     "locked": true,
     "points": 2,
     "schema_version": 3,
     "solution": false,
     "task": false
    },
    "pycharm": {
     "name": "#%%\n"
    }
   },
   "outputs": [],
   "source": [
    "# Your code will be autograded here!"
   ]
  },
  {
   "cell_type": "markdown",
   "metadata": {
    "deletable": false,
    "editable": false,
    "nbgrader": {
     "cell_type": "markdown",
     "checksum": "bc7cc434f3638161c1f7ac673b60ffc1",
     "grade": false,
     "grade_id": "cell-ee372276e329077c",
     "locked": true,
     "schema_version": 3,
     "solution": false,
     "task": false
    }
   },
   "source": [
    "Fill in the class RegressionModel below as specified in the code. Consider the cell with the shape tests."
   ]
  },
  {
   "cell_type": "code",
   "execution_count": 22,
   "metadata": {
    "collapsed": true,
    "deletable": false,
    "nbgrader": {
     "cell_type": "code",
     "checksum": "ac382e88409789e3feb4582d5e28075c",
     "grade": false,
     "grade_id": "cell-107b951a27e9a13e",
     "locked": false,
     "schema_version": 3,
     "solution": true,
     "task": false
    },
    "pycharm": {
     "name": "#%%\n"
    }
   },
   "outputs": [],
   "source": [
    "class RegressionModel:\n",
    "    def __init__(self, data: IsingData, model_type, lbdas):\n",
    "        \"\"\"\n",
    "        Create Model class for the Regressor of a specific type. Nothing for you to do here.\n",
    "        \"\"\"\n",
    "        if model_type not in [\"ols\", \"ridge\", \"lasso\"]:\n",
    "            raise ValueError(\"model_type has to be 'ols', 'ridge', or 'lasso'\")\n",
    "        self.data = data\n",
    "\n",
    "        self.model_type = model_type\n",
    "        self.lbdas = lbdas\n",
    "\n",
    "        self.model = None\n",
    "\n",
    "        self.errors = []\n",
    "\n",
    "    def build_model(self, lbda):\n",
    "        \"\"\"\n",
    "        Build a model of type self.model_type and assign the regularization parameter where possible. self.model_type\n",
    "        can be \"ols\", \"ridge\", or \"lasso\". Use conditionals to get the correct class from sklearn for each case and\n",
    "        write the result to self.model.\n",
    "        \"\"\"\n",
    "        # YOUR CODE HERE\n",
    "        if self.model_type == \"ols\":\n",
    "            self.model = LinearRegression()\n",
    "        if self.model_type == \"ridge\":\n",
    "            self.model = Ridge(alpha = lbda)\n",
    "        if self.model_type == \"lasso\":\n",
    "            self.model = Lasso(alpha = lbda)\n",
    "            \n",
    "            \n",
    "    def fit_model(self):\n",
    "        \"\"\"\n",
    "        Fit the model.\n",
    "        \"\"\"\n",
    "        # YOUR CODE HERE\n",
    "        self.model.fit(self.data.x_train, self.data.y_train)\n",
    "\n",
    "    def predict_energies(self):\n",
    "        \"\"\"\n",
    "        Predict the energies, save the error to self.errors (hint: other method) and return the prediction.\n",
    "        \"\"\"\n",
    "        # YOUR CODE HERE\n",
    "        prediction = self.model.predict(self.data.x_test)\n",
    "        # errors? bisher in calculate_error()\n",
    "        return prediction\n",
    "        \n",
    "    def calculate_error(self, prediction):\n",
    "        \"\"\"\n",
    "        Calculate the Mean Squared Error for the prediction to evaluate the performance of\n",
    "        your model. Append the result to self.errors!\n",
    "        \"\"\"\n",
    "        # YOUR CODE HERE\n",
    "        self.errors.append(mean_squared_error(prediction, self.data.y_test))\n",
    "\n",
    "    def calculate_errors_for_lbdas(self):\n",
    "        \"\"\"\n",
    "        Calculate the model, the prediction and the error for all values in self.lbdas and store the errors in \n",
    "        self.errors (hint: use self.predict_energies() and self.calculate_error()).\n",
    "        \"\"\"\n",
    "        # YOUR CODE HERE\n",
    "        for lbda in self.lbdas:\n",
    "            self.build_model(lbda)\n",
    "            self.fit_model()\n",
    "            prediction = self.predict_energies()\n",
    "            self.calculate_error(prediction)\n",
    "\n",
    "    def plot_errors(self, new_figure=False, show_plot=False):\n",
    "        \"\"\"\n",
    "        We wrote the plotting for you so that you can concentrate on the content.\n",
    "        \"\"\"\n",
    "        if new_figure:\n",
    "            fig = plt.figure(figsize=(15, 15))\n",
    "            fig = plt.gcf()\n",
    "            fig.set_size_inches(10.0, 6.0)\n",
    "\n",
    "        plt.semilogx(self.lbdas, self.errors, label='E_out ' + self.model_type)\n",
    "\n",
    "        plt.legend(loc='lower left', fontsize=16)\n",
    "        plt.xlabel(r'$\\lambda$', fontsize=16)\n",
    "        plt.ylabel('MSE', fontsize=16)\n",
    "        plt.tick_params(labelsize=16)\n",
    "        plt.title('Performance for ' + str(self.data.num_states) + ' samples')\n",
    "        if show_plot:\n",
    "            plt.show()"
   ]
  },
  {
   "cell_type": "code",
   "execution_count": 23,
   "metadata": {
    "collapsed": true,
    "deletable": false,
    "editable": false,
    "nbgrader": {
     "cell_type": "code",
     "checksum": "6b675fbe90d44dbfd036e11e19738aba",
     "grade": true,
     "grade_id": "cell-601e5c6ce50966a9",
     "locked": true,
     "points": 0,
     "schema_version": 3,
     "solution": false,
     "task": false
    },
    "pycharm": {
     "name": "#%%\n"
    }
   },
   "outputs": [],
   "source": [
    "# Checks for your shapes\n",
    "data = IsingData()\n",
    "model = RegressionModel(data, \"ols\", np.array([1, 2]))\n",
    "assert type(model.data) == IsingData\n",
    "assert type(model.errors) == list\n",
    "assert len(model.errors) == 0\n",
    "model.calculate_errors_for_lbdas()\n",
    "assert len(model.errors) == len(model.lbdas)\n",
    "assert model.predict_energies().shape == model.data.y_test.shape\n"
   ]
  },
  {
   "cell_type": "code",
   "execution_count": 24,
   "metadata": {
    "collapsed": true,
    "deletable": false,
    "editable": false,
    "nbgrader": {
     "cell_type": "code",
     "checksum": "fd87e0c74aac7bb89187f121aa1c0670",
     "grade": true,
     "grade_id": "cell-f7da84a2a28218d9",
     "locked": true,
     "points": 2,
     "schema_version": 3,
     "solution": false,
     "task": false
    },
    "pycharm": {
     "name": "#%%\n"
    }
   },
   "outputs": [],
   "source": [
    "# Your code will be autograded here!"
   ]
  },
  {
   "cell_type": "code",
   "execution_count": 25,
   "metadata": {
    "collapsed": true,
    "deletable": false,
    "editable": false,
    "nbgrader": {
     "cell_type": "code",
     "checksum": "f5261a22efb781f29f9767281a2cf9f4",
     "grade": true,
     "grade_id": "cell-f4d36b81890c662c",
     "locked": true,
     "points": 1,
     "schema_version": 3,
     "solution": false,
     "task": false
    },
    "pycharm": {
     "name": "#%%\n"
    }
   },
   "outputs": [],
   "source": [
    "# Your code will be autograded here!"
   ]
  },
  {
   "cell_type": "code",
   "execution_count": 26,
   "metadata": {
    "collapsed": true,
    "deletable": false,
    "editable": false,
    "nbgrader": {
     "cell_type": "code",
     "checksum": "e3b242e4c9921a87e42a9adec9983853",
     "grade": true,
     "grade_id": "cell-7ac5f239f79c0910",
     "locked": true,
     "points": 3,
     "schema_version": 3,
     "solution": false,
     "task": false
    },
    "pycharm": {
     "name": "#%%\n"
    }
   },
   "outputs": [],
   "source": [
    "# Your code will be autograded here!"
   ]
  },
  {
   "cell_type": "markdown",
   "metadata": {
    "deletable": false,
    "editable": false,
    "nbgrader": {
     "cell_type": "markdown",
     "checksum": "1698f0191acb1455d35fad262dfca95f",
     "grade": false,
     "grade_id": "cell-de60b49eee397df3",
     "locked": true,
     "schema_version": 3,
     "solution": false,
     "task": false
    }
   },
   "source": [
    "Calculate and visualize the test error for the given regularizations and different data sizes [500, 1000, 2000] for all three types of regressor using the classes we have written above. Use the methods calculate_errors_for_lbdas() and plot_errors() to generate the relevant information. Generate one plot for each sample size with three lines (one per regressor) each."
   ]
  },
  {
   "cell_type": "code",
   "execution_count": 27,
   "metadata": {
    "deletable": false,
    "nbgrader": {
     "cell_type": "code",
     "checksum": "c83635046b9213a54600db61f486f662",
     "grade": false,
     "grade_id": "cell-38afb974873010d1",
     "locked": false,
     "schema_version": 3,
     "solution": true,
     "task": false
    },
    "pycharm": {
     "name": "#%%\n"
    }
   },
   "outputs": [
    {
     "name": "stderr",
     "output_type": "stream",
     "text": [
      "C:\\Users\\hanna\\anaconda3\\envs\\MLinPhysics\\lib\\site-packages\\sklearn\\linear_model\\_coordinate_descent.py:530: ConvergenceWarning: Objective did not converge. You might want to increase the number of iterations. Duality gap: 3.513469077469437, tolerance: 1.5462399999999996\n",
      "  model = cd_fast.enet_coordinate_descent(\n"
     ]
    },
    {
     "data": {
      "image/png": "[encoded data removed]",
      "text/plain": [
       "<Figure size 432x288 with 1 Axes>"
      ]
     },
     "metadata": {
      "needs_background": "light"
     },
     "output_type": "display_data"
    },
    {
     "name": "stderr",
     "output_type": "stream",
     "text": [
      "C:\\Users\\hanna\\anaconda3\\envs\\MLinPhysics\\lib\\site-packages\\sklearn\\linear_model\\_coordinate_descent.py:530: ConvergenceWarning: Objective did not converge. You might want to increase the number of iterations. Duality gap: 4.359732667129034, tolerance: 3.0527232000000004\n",
      "  model = cd_fast.enet_coordinate_descent(\n"
     ]
    },
    {
     "data": {
      "image/png": "[encoded data removed]",
      "text/plain": [
       "<Figure size 432x288 with 1 Axes>"
      ]
     },
     "metadata": {
      "needs_background": "light"
     },
     "output_type": "display_data"
    },
    {
     "data": {
      "image/png": "[encoded data removed]",
      "text/plain": [
       "<Figure size 432x288 with 1 Axes>"
      ]
     },
     "metadata": {
      "needs_background": "light"
     },
     "output_type": "display_data"
    }
   ],
   "source": [
    "figs = []\n",
    "\n",
    "lbdas = np.logspace(-4, 5, 10)\n",
    "sample_sizes = [500, 1000, 2000]\n",
    "\n",
    "\n",
    "for num_samples in sample_sizes:\n",
    "    fig = plt.figure()\n",
    "    # YOUR CODE HERE\n",
    "    data = IsingData(num_states = num_samples)\n",
    "    for model_type in [\"ols\", \"ridge\", \"lasso\"]:\n",
    "        model = RegressionModel(data, model_type, lbdas)\n",
    "        model.calculate_errors_for_lbdas()\n",
    "        model.plot_errors()\n",
    "        \n",
    "    figs.append(fig)\n",
    "    plt.show()\n"
   ]
  },
  {
   "cell_type": "markdown",
   "metadata": {
    "deletable": false,
    "editable": false,
    "nbgrader": {
     "cell_type": "markdown",
     "checksum": "f2523aa95128e20d4a6c570128111013",
     "grade": false,
     "grade_id": "cell-f2b5f6d289a50ed8",
     "locked": true,
     "schema_version": 3,
     "solution": false,
     "task": false
    },
    "pycharm": {
     "name": "#%% md\n"
    }
   },
   "source": [
    "Comment on your findings with the different sample sizes and different regularizations."
   ]
  },
  {
   "cell_type": "code",
   "execution_count": 23,
   "metadata": {
    "collapsed": true,
    "deletable": false,
    "editable": false,
    "nbgrader": {
     "cell_type": "code",
     "checksum": "69ae21f65909ba353997513c4e4a9119",
     "grade": true,
     "grade_id": "cell-7cbe3bdd4e026cf0",
     "locked": true,
     "points": 1,
     "schema_version": 3,
     "solution": false,
     "task": false
    },
    "pycharm": {
     "name": "#%%\n"
    }
   },
   "outputs": [],
   "source": [
    "# Your code will be autograded here!"
   ]
  },
  {
   "cell_type": "code",
   "execution_count": null,
   "metadata": {
    "collapsed": true
   },
   "outputs": [],
   "source": []
  }
 ],
 "metadata": {
  "kernelspec": {
   "display_name": "Python 3",
   "language": "python",
   "name": "python3"
  },
  "language_info": {
   "codemirror_mode": {
    "name": "ipython",
    "version": 3
   },
   "file_extension": ".py",
   "mimetype": "text/x-python",
   "name": "python",
   "nbconvert_exporter": "python",
   "pygments_lexer": "ipython3",
   "version": "3.6.1"
  }
 },
 "nbformat": 4,
 "nbformat_minor": 1
}
