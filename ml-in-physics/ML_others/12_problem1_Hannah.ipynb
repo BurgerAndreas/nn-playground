{
 "cells": [
  {
   "cell_type": "markdown",
   "id": "b263c990",
   "metadata": {},
   "source": [
    "Before you turn this problem in, make sure everything runs as expected. First, **restart the kernel** (in the menubar, select Kernel$\\rightarrow$Restart) and then **run all cells** (in the menubar, select Cell$\\rightarrow$Run All).\n",
    "\n",
    "Make sure you fill in any place that says `YOUR CODE HERE` or \"YOUR ANSWER HERE\", as well as your name and collaborators below:"
   ]
  },
  {
   "cell_type": "code",
   "execution_count": 1,
   "id": "b7321ae0",
   "metadata": {},
   "outputs": [],
   "source": [
    "NAME = \"Hannah Lange\"\n",
    "COLLABORATORS = \"\""
   ]
  },
  {
   "cell_type": "markdown",
   "id": "5ecb41f4",
   "metadata": {},
   "source": [
    "---"
   ]
  },
  {
   "cell_type": "code",
   "execution_count": 2,
   "id": "otherwise-communist",
   "metadata": {
    "deletable": false,
    "editable": false,
    "nbgrader": {
     "cell_type": "code",
     "checksum": "d4ea1c74088e49216c43b1b71dd50f46",
     "grade": false,
     "grade_id": "cell-9635ca01b4f315fe",
     "locked": true,
     "schema_version": 3,
     "solution": false,
     "task": false
    }
   },
   "outputs": [],
   "source": [
    "import numpy as np\n",
    "import operator\n",
    "import matplotlib.pyplot as plt\n",
    "from pprint import pprint\n",
    "import seaborn as sns\n",
    "\n",
    "%matplotlib inline"
   ]
  },
  {
   "cell_type": "markdown",
   "id": "concerned-grove",
   "metadata": {
    "deletable": false,
    "editable": false,
    "nbgrader": {
     "cell_type": "markdown",
     "checksum": "748169043d52b8f34628c6a206255935",
     "grade": false,
     "grade_id": "cell-98d9aa4804750ac3",
     "locked": true,
     "schema_version": 3,
     "solution": false,
     "task": false
    }
   },
   "source": [
    "# GridWorld\n",
    "\n",
    "We have two classes: one for the environment `GridWorld` and one for the agent `Agent`, which follows the Q-learning policy. The dimensions of the grid are 5x5, we have one pitfall at (1,3) and the exit is at (0,3). The Agent wins when it finds the exit (reward +10) and loses when it hits the pitfall (reward -10), in both cases the episode is terminated. Each step is punished by a negative reward of -1. Possible actions are UP, DOWN, RIGHT, LEFT. The gird stores all the rewards as given in the `__init__()`.\n",
    "\n",
    "* Complete the `make_step` method in the `GridWorld` class, that moves the agent in a specified direction. If agent is at a border, agent stays still but takes negative reward.\n",
    "\n",
    "* Write the functions `chose_action` and `learn` in the `Agent` class. Follow the instructions to implement Q-learning.\n",
    "\n"
   ]
  },
  {
   "cell_type": "code",
   "execution_count": 3,
   "id": "endangered-american",
   "metadata": {
    "deletable": false,
    "nbgrader": {
     "cell_type": "code",
     "checksum": "4888bbb18f8919deb6836d14e2a874ab",
     "grade": false,
     "grade_id": "cell-76884f9962d0298a",
     "locked": false,
     "schema_version": 3,
     "solution": true,
     "task": false
    }
   },
   "outputs": [],
   "source": [
    "class GridWorld:\n",
    "    ## Initialise starting data\n",
    "    def __init__(self, exit_reward=10, pitfall_reward=-10, step_reward=-1):\n",
    "        # Set information about the gridworld\n",
    "        self.height = 5\n",
    "        self.width = 5\n",
    "               \n",
    "        \n",
    "        # Set random start location for the agent\n",
    "        self.current_location = ( 4, np.random.randint(0,5))\n",
    "        \n",
    "        # Set locations for the bomb and the gold\n",
    "        self.pitfall_location = (1,3)\n",
    "        self.exit_location = (0,3)\n",
    "        self.terminal_states = [ self.pitfall_location, self.exit_location]\n",
    "        \n",
    "        # Set grid rewards for cells\n",
    "        self.grid = np.zeros(( self.height, self.width)) + step_reward # reward of -1 is given per step\n",
    "        self.grid[ self.pitfall_location[0], self.pitfall_location[1]] = pitfall_reward\n",
    "        self.grid[ self.exit_location[0], self.exit_location[1]] = exit_reward\n",
    "        # Set available actions\n",
    "        self.actions = ['UP', 'DOWN', 'LEFT', 'RIGHT']\n",
    "        \n",
    "    def reset(self):\n",
    "        \"\"\"resets the position of the agent to the bottom of the grid\"\"\"\n",
    "        self.current_location = ( 4, np.random.randint(0,5))\n",
    "        \n",
    "    def get_available_actions(self):\n",
    "        \"\"\"Returns possible actions\"\"\"\n",
    "        return self.actions\n",
    "    \n",
    "    def agent_on_map(self):\n",
    "        \"\"\"Prints out current location of the agent on the grid (used for debugging)\"\"\"\n",
    "        grid = np.zeros(( self.height, self.width))\n",
    "        grid[ self.current_location[0], self.current_location[1]] = 1\n",
    "        return grid\n",
    "    \n",
    "    def get_reward(self, new_location):\n",
    "        \"\"\"Returns the reward for an input position\"\"\"\n",
    "        return self.grid[ new_location[0], new_location[1]]\n",
    "        \n",
    "    \n",
    "    def make_step(self, action):\n",
    "        \"\"\"Moves the agent in the specified direction. If agent is at a border, agent stays still\n",
    "        but takes negative reward. Function returns the reward for the move. Make sure to update\n",
    "        the current location.\"\"\"\n",
    "        # YOUR CODE HERE\n",
    "        #print(self.current_location)\n",
    "        if action == \"UP\":\n",
    "            new_location = (self.current_location[0] - 1, self.current_location[1])\n",
    "        elif action == \"DOWN\":\n",
    "            new_location = (self.current_location[0] + 1, self.current_location[1])\n",
    "        elif action == \"LEFT\":\n",
    "            new_location = (self.current_location[0], self.current_location[1] - 1)\n",
    "        elif action == \"RIGHT\":\n",
    "            new_location = (self.current_location[0], self.current_location[1] + 1)\n",
    "        else:\n",
    "            print(\"Choose one of UP, DOWN, LEFT, RIGHT\")\n",
    "            new_location = self.current_location\n",
    "        if new_location[0] >= self.width or new_location[0] < 0:\n",
    "            new_location = self.current_location\n",
    "        if new_location[1] >= self.height or new_location[1] < 0:\n",
    "            new_location = self.current_location\n",
    "        reward = self.get_reward(new_location)\n",
    "        self.current_location = new_location\n",
    "        #print(self.current_location)\n",
    "        return reward\n",
    "    \n",
    "    def check_state(self):\n",
    "        \"\"\"Check if the agent is in a terminal state (exit or pitfall), if so return 'TERMINAL'\"\"\"\n",
    "        if self.current_location in self.terminal_states:\n",
    "            return 'TERMINAL'"
   ]
  },
  {
   "cell_type": "code",
   "execution_count": 3,
   "id": "corporate-buffer",
   "metadata": {
    "deletable": false,
    "editable": false,
    "nbgrader": {
     "cell_type": "code",
     "checksum": "08cfe6ea0101de8c199fff507311d076",
     "grade": true,
     "grade_id": "cell-7e07401611390624",
     "locked": true,
     "points": 1,
     "schema_version": 3,
     "solution": false,
     "task": false
    }
   },
   "outputs": [],
   "source": []
  },
  {
   "cell_type": "code",
   "execution_count": 4,
   "id": "cross-notebook",
   "metadata": {
    "deletable": false,
    "editable": false,
    "nbgrader": {
     "cell_type": "code",
     "checksum": "e9823c977329dc36932fb92cc4b5f141",
     "grade": true,
     "grade_id": "cell-df82fda1d418540d",
     "locked": true,
     "points": 1,
     "schema_version": 3,
     "solution": false,
     "task": false
    }
   },
   "outputs": [],
   "source": [
    "testenv = GridWorld(exit_reward=10, pitfall_reward=-10, step_reward=-1)\n",
    "testenv.current_location=(0,0)\n",
    "assert testenv.make_step('UP') == -1\n",
    "assert testenv.make_step('RIGHT') == -1\n",
    "assert testenv.make_step('LEFT') == -1\n",
    "assert testenv.make_step('DOWN') == -1"
   ]
  },
  {
   "cell_type": "code",
   "execution_count": 5,
   "id": "exempt-riverside",
   "metadata": {
    "deletable": false,
    "editable": false,
    "nbgrader": {
     "cell_type": "code",
     "checksum": "2042a7b31a244288d2e645d50afc8d18",
     "grade": true,
     "grade_id": "cell-3cacc812d1748c81",
     "locked": true,
     "points": 1,
     "schema_version": 3,
     "solution": false,
     "task": false
    }
   },
   "outputs": [],
   "source": [
    "testenv = GridWorld(exit_reward=10, pitfall_reward=-10, step_reward=-1)\n",
    "testenv.current_location=testenv.pitfall_location\n",
    "assert testenv.make_step('UP') == 10\n",
    "assert testenv.make_step('DOWN') == -10"
   ]
  },
  {
   "cell_type": "code",
   "execution_count": 6,
   "id": "juvenile-patch",
   "metadata": {
    "deletable": false,
    "nbgrader": {
     "cell_type": "code",
     "checksum": "ee43ece65d00b532d9cd4630690ee428",
     "grade": false,
     "grade_id": "cell-344b10e065d6b030",
     "locked": false,
     "schema_version": 3,
     "solution": true,
     "task": false
    }
   },
   "outputs": [],
   "source": [
    "class Agent():\n",
    "    \"\"\"Agent that runs on the Q-learning algorithm\"\"\"\n",
    "   \n",
    "    def __init__(self, environment, epsilon=0.05, alpha=0.1, gamma=1):\n",
    "        \"\"\" alpha: learning rate\n",
    "            gamma: discount factor\n",
    "            epsilon: exploration rate\n",
    "        \"\"\"\n",
    "        \n",
    "        self.environment = environment\n",
    "        self.q_table = dict() # Store all Q-values in dictionary of dictionaries \n",
    "        for x in range(environment.height): # Loop through all possible grid spaces, create sub-dictionary for each\n",
    "            for y in range(environment.width):\n",
    "                self.q_table[(x,y)] = {'UP':0, 'DOWN':0, 'LEFT':0, 'RIGHT':0} # Populate sub-dictionary with zero values for possible moves\n",
    "\n",
    "        self.epsilon = epsilon\n",
    "        self.alpha = alpha\n",
    "        self.gamma = gamma\n",
    "        \n",
    "    def choose_action(self):\n",
    "        \"\"\"Returns the next action the agent should take.\n",
    "        Will make an exploratory random action dependent on epsilon (epsilon-greedy) otherwise will \n",
    "        choose the optimal action from the q-value table. The optimal action is the one with the\n",
    "        maximum Q-Value.\n",
    "        If there are multiple optimal actions, chooses the action randomly from optimal actions. \"\"\"\n",
    "        # YOUR CODE HERE\n",
    "        possible_actions = self.environment.actions\n",
    "        p = np.random.random()\n",
    "        if p <= self.epsilon:\n",
    "            action = np.random.choice(possible_actions)\n",
    "        else:\n",
    "            q_table_values = np.array(list(self.q_table[self.environment.current_location].values()))\n",
    "            index = np.where(max(q_table_values) == q_table_values)[0]\n",
    "            if len(index) > 1:\n",
    "                choices = []\n",
    "                for i in index:\n",
    "                    choices.append(list(self.q_table[self.environment.current_location].keys())[i])\n",
    "                action = np.random.choice(choices)\n",
    "            else:\n",
    "                action = list(self.q_table[self.environment.current_location].keys())[index[0]]\n",
    "        return action\n",
    "    \n",
    "    def learn(self, old_state, reward, new_state, action):\n",
    "        \"\"\"Updates the Q-value table value self.q_table[old_state][action] by:\n",
    "        Q(s, a) = Q(s, a) + alpha*(R + gamma * max_a'(Q(s', a')) - Q(s, a))\"\"\"\n",
    "        # YOUR CODE HERE\n",
    "        qs = [self.q_table[new_state][a] for a in self.environment.actions]\n",
    "        q_old = self.q_table[old_state][action]\n",
    "        self.q_table[old_state][action] = q_old + self.alpha * (reward + self.gamma * (max(qs) - q_old))\n",
    "        \n",
    "        \n",
    "    def play(self, trials=500, max_steps_per_episode=1000):\n",
    "        \"\"\"The play function runs iterations and updates Q-values if desired.\"\"\"\n",
    "        reward_per_episode = [] # Initialise performance log\n",
    "\n",
    "        for trial in range(trials): # Run trials\n",
    "            cumulative_reward = 0 # Initialise values of each game\n",
    "            step = 0\n",
    "            game_over = False\n",
    "            while step < max_steps_per_episode and game_over != True: # Run until max steps or until game is finished\n",
    "                old_state = self.environment.current_location\n",
    "                action = self.choose_action() \n",
    "                reward = self.environment.make_step(action)\n",
    "                new_state = self.environment.current_location\n",
    "\n",
    "                # Update Q-values \n",
    "                self.learn(old_state, reward, new_state, action)\n",
    "\n",
    "                cumulative_reward += reward\n",
    "                step += 1\n",
    "\n",
    "                if self.environment.check_state() == 'TERMINAL': # If game is in terminal state, game over and start next trial\n",
    "                    self.environment.reset()\n",
    "                    game_over = True     \n",
    "\n",
    "            reward_per_episode.append(cumulative_reward) # Append reward for current trial to performance log\n",
    "\n",
    "        return reward_per_episode # Return performance log\n",
    "    \n",
    "    \n",
    "    def print_q_table(self):\n",
    "        pprint(dict(self.q_table))\n",
    "        \n",
    "    def plot_environment(self):\n",
    "        policy = []\n",
    "        for pos in self.q_table.values(): \n",
    "            if max(pos.values()) == min(pos.values()):\n",
    "                policy.append(None)\n",
    "            else:                 \n",
    "                policy.append(max(pos, key=pos.get))            \n",
    "        policy = np.asarray(policy).reshape((5,5))\n",
    "        #plt.figure()\n",
    "        #ax = sns.heatmap(policy, annot=True)\n",
    "        #ax.invert_yaxis()\n",
    "        #ax.set_ylim(-0.1, 3.1)\n",
    "        #plt.show()\n",
    "        print(policy)\n",
    "        "
   ]
  },
  {
   "cell_type": "code",
   "execution_count": 6,
   "id": "cosmetic-swimming",
   "metadata": {
    "deletable": false,
    "editable": false,
    "nbgrader": {
     "cell_type": "code",
     "checksum": "67e5a2a7a8683200e866376a15190db5",
     "grade": true,
     "grade_id": "cell-840f39dbbbd9c1c5",
     "locked": true,
     "points": 1,
     "schema_version": 3,
     "solution": false,
     "task": false
    }
   },
   "outputs": [],
   "source": []
  },
  {
   "cell_type": "code",
   "execution_count": 6,
   "id": "continuing-outdoors",
   "metadata": {
    "deletable": false,
    "editable": false,
    "nbgrader": {
     "cell_type": "code",
     "checksum": "a5529385b12ba76925af3d6ed279f0e1",
     "grade": true,
     "grade_id": "test_q_learning",
     "locked": true,
     "points": 2,
     "schema_version": 3,
     "solution": false,
     "task": false
    }
   },
   "outputs": [],
   "source": []
  },
  {
   "cell_type": "code",
   "execution_count": 6,
   "id": "phantom-frequency",
   "metadata": {
    "deletable": false,
    "editable": false,
    "nbgrader": {
     "cell_type": "code",
     "checksum": "79de5c66f1ecba373d4afb6b9c17e223",
     "grade": true,
     "grade_id": "cell-4c10c4294f385805",
     "locked": true,
     "points": 2,
     "schema_version": 3,
     "solution": false,
     "task": false
    }
   },
   "outputs": [],
   "source": []
  },
  {
   "cell_type": "markdown",
   "id": "neutral-symbol",
   "metadata": {},
   "source": [
    "\n",
    "## Agent\n",
    "\n",
    "*    Play around with the Agent, what happens for different rewards and parameters $\\alpha$, $\\epsilon$ and $\\gamma$\n",
    "*    Plot the performance and the q_table\n",
    "\n",
    "\n"
   ]
  },
  {
   "cell_type": "code",
   "execution_count": 7,
   "id": "pressed-means",
   "metadata": {},
   "outputs": [
    {
     "name": "stdout",
     "output_type": "stream",
     "text": [
      "[['UP' 'RIGHT' 'RIGHT' None 'LEFT']\n",
      " ['LEFT' 'RIGHT' 'UP' None 'UP']\n",
      " ['LEFT' 'RIGHT' 'UP' 'LEFT' 'UP']\n",
      " ['RIGHT' 'RIGHT' 'UP' 'LEFT' 'LEFT']\n",
      " ['RIGHT' 'UP' 'UP' 'UP' 'UP']]\n"
     ]
    },
    {
     "data": {
      "text/plain": "<Figure size 432x288 with 1 Axes>",
      "image/png": "[encoded data removed]"
     },
     "metadata": {
      "needs_background": "light"
     },
     "output_type": "display_data"
    }
   ],
   "source": [
    "environment = GridWorld(exit_reward=10, pitfall_reward=-10, step_reward=-1)\n",
    "agentQ = Agent(environment)\n",
    "\n",
    "# Note the learn=True argument!\n",
    "reward_per_episode = agentQ.play(trials=500,max_steps_per_episode=500)\n",
    "\n",
    "# Simple learning curve\n",
    "plt.plot(reward_per_episode)\n",
    "agentQ.plot_environment()"
   ]
  },
  {
   "cell_type": "code",
   "execution_count": 7,
   "id": "departmental-tobago",
   "metadata": {},
   "outputs": [],
   "source": []
  },
  {
   "cell_type": "code",
   "execution_count": 7,
   "id": "injured-balance",
   "metadata": {},
   "outputs": [],
   "source": []
  }
 ],
 "metadata": {
  "kernelspec": {
   "name": "pycharm-c4f24b27",
   "language": "python",
   "display_name": "PyCharm (MLinPhysics)"
  },
  "language_info": {
   "codemirror_mode": {
    "name": "ipython",
    "version": 3
   },
   "file_extension": ".py",
   "mimetype": "text/x-python",
   "name": "python",
   "nbconvert_exporter": "python",
   "pygments_lexer": "ipython3",
   "version": "3.8.8"
  }
 },
 "nbformat": 4,
 "nbformat_minor": 5
}