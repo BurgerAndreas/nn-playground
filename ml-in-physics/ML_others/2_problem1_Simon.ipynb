{
 "cells": [
  {
   "cell_type": "markdown",
   "metadata": {},
   "source": [
    "Before you turn this problem in, make sure everything runs as expected. First, **restart the kernel** (in the menubar, select Kernel$\\rightarrow$Restart) and then **run all cells** (in the menubar, select Cell$\\rightarrow$Run All).\n",
    "\n",
    "Make sure you fill in any place that says `YOUR CODE HERE` or \"YOUR ANSWER HERE\", as well as your name and collaborators below:"
   ]
  },
  {
   "cell_type": "code",
   "execution_count": 1,
   "metadata": {
    "collapsed": true
   },
   "outputs": [],
   "source": [
    "NAME = \"Simon Mathias Linsel\"\n",
    "COLLABORATORS = \"Marcus Culemann, Andreas Burger, Hannah Lange\""
   ]
  },
  {
   "cell_type": "markdown",
   "metadata": {},
   "source": [
    "---"
   ]
  },
  {
   "cell_type": "markdown",
   "metadata": {
    "deletable": false,
    "editable": false,
    "nbgrader": {
     "cell_type": "markdown",
     "checksum": "de2da8abed8c6f3e25e322c406ba2651",
     "grade": false,
     "grade_id": "cell-8a5cfff54df74676",
     "locked": true,
     "schema_version": 3,
     "solution": false,
     "task": false
    }
   },
   "source": [
    "## 1 Bias vs variance trade-off\n",
    "In this lecture we have discussed two schematic plots:  \n",
    "· Number of data points vs. Error.  \n",
    "· Model complexity vs. Error.  \n",
    "Perform an experiment with polynomials which shows this behaviour. To do this you just need to follow the instructions below:"
   ]
  },
  {
   "cell_type": "code",
   "execution_count": 2,
   "metadata": {
    "collapsed": true,
    "deletable": false,
    "editable": false,
    "nbgrader": {
     "cell_type": "code",
     "checksum": "aff21ccf3cdcb6002c76f1ad0caeffbd",
     "grade": false,
     "grade_id": "cell-a0f318c649b7b8f9",
     "locked": true,
     "schema_version": 3,
     "solution": false,
     "task": false
    }
   },
   "outputs": [],
   "source": [
    "# Import necessary libraries\n",
    "import numpy as np\n",
    "from sklearn import linear_model\n",
    "from sklearn.preprocessing import PolynomialFeatures\n",
    "from sklearn.model_selection import train_test_split\n",
    "from sklearn import metrics\n",
    "import matplotlib.pyplot as plt\n",
    "from matplotlib.colors import LogNorm\n",
    "#%matplotlib notebook"
   ]
  },
  {
   "cell_type": "code",
   "execution_count": 3,
   "metadata": {
    "collapsed": true,
    "deletable": false,
    "editable": false,
    "nbgrader": {
     "cell_type": "code",
     "checksum": "65a79d5d23914b206153393168cb093f",
     "grade": false,
     "grade_id": "cell-50f98b4d512126c5",
     "locked": true,
     "schema_version": 3,
     "solution": false,
     "task": false
    }
   },
   "outputs": [],
   "source": [
    "# We define a polynomial that we want to work with\n",
    "poly = lambda x: 7.2 - 3.1 * x + 20 * x**3 - 1.3 * x**4 + 0.2 * x**5\n",
    "\n",
    "# training and testing data\n",
    "def create_data(npoints, sigma):\n",
    "    x = np.linspace(-7, 8, npoints)\n",
    "    # use sklearn for easy splitting of data, default is 25% test data\n",
    "    x = train_test_split(x)\n",
    "    xtest = x[1]\n",
    "    xtrain = x[0]\n",
    "    # add Gaussian noise\n",
    "    ytrain = poly(xtrain) + np.random.normal(0, sigma, xtrain.size)\n",
    "    ytest = poly(xtest) + np.random.normal(0, sigma, xtest.size)\n",
    "    return [xtrain, ytrain, xtest, ytest]\n",
    "\n",
    "\n",
    "# Seed random generator for repeatable results\n",
    "np.random.seed(11041991)\n",
    "\n",
    "# Noise on data\n",
    "sigma = 500\n",
    "\n",
    "# Create a dataset\n",
    "data = create_data(100, sigma)"
   ]
  },
  {
   "cell_type": "markdown",
   "metadata": {
    "deletable": false,
    "editable": false,
    "nbgrader": {
     "cell_type": "markdown",
     "checksum": "0fba24da08e6c8109a98278d1099b758",
     "grade": false,
     "grade_id": "cell-f91336eeaa737d77",
     "locked": true,
     "schema_version": 3,
     "solution": false,
     "task": false
    }
   },
   "source": [
    "#### Complexity vs. Error\n",
    "create a model of varying complexity (polynomial degrees) to fit the data and plot Error vs. model complexity"
   ]
  },
  {
   "cell_type": "code",
   "execution_count": 4,
   "metadata": {
    "collapsed": true,
    "deletable": false,
    "nbgrader": {
     "cell_type": "code",
     "checksum": "b56d620aa3326bf6ef92223a1e6025f5",
     "grade": false,
     "grade_id": "cell-b661e15bb3216861",
     "locked": false,
     "schema_version": 3,
     "solution": true,
     "task": false
    }
   },
   "outputs": [],
   "source": [
    "# complexity vs. error\n",
    "\n",
    "# Fit a linear regression model of given complexity (here: polynomial degree deg) to the given dataset and \n",
    "# return predictions for training and test set\n",
    "def fit_model(data, deg):\n",
    "    \n",
    "    poly = PolynomialFeatures(deg)\n",
    "    xFit1 = poly.fit_transform(data[0][:,np.newaxis])\n",
    "    xFit2 = poly.fit_transform(data[2][:,np.newaxis])\n",
    "    model = linear_model.LinearRegression()\n",
    "    model.fit(xFit1, data[1])\n",
    "    train_prediction = model.predict(xFit1)\n",
    "    test_prediction = model.predict(xFit2)\n",
    "    \n",
    "    return [data[0], train_prediction , data[2], test_prediction]"
   ]
  },
  {
   "cell_type": "code",
   "execution_count": 5,
   "metadata": {
    "collapsed": true,
    "deletable": false,
    "editable": false,
    "nbgrader": {
     "cell_type": "code",
     "checksum": "c64f536863f1754a539e3e37da919c43",
     "grade": true,
     "grade_id": "cell-7bd7754e0ef4a30d",
     "locked": true,
     "points": 1,
     "schema_version": 3,
     "solution": false,
     "task": false
    }
   },
   "outputs": [],
   "source": [
    "# your code is autograded in this cell"
   ]
  },
  {
   "cell_type": "markdown",
   "metadata": {
    "deletable": false,
    "editable": false,
    "nbgrader": {
     "cell_type": "markdown",
     "checksum": "c2c45e6e5d97c6a0cc77c3161c49fe99",
     "grade": false,
     "grade_id": "cell-ffdc1fa2646eaeba",
     "locked": true,
     "schema_version": 3,
     "solution": false,
     "task": false
    }
   },
   "source": [
    "To properly plot the out_of_sample error, we have to average about a couple of fit instances for each polynomial degree on different datasets (calling the create_dataset function in a loop). Use mean squared error (sklearn.metrics.mean_squared_error) to calculate the out of sample error. Store the average MSE for each polynomial degree in the list E_out. "
   ]
  },
  {
   "cell_type": "code",
   "execution_count": 6,
   "metadata": {
    "deletable": false,
    "nbgrader": {
     "cell_type": "code",
     "checksum": "7ea1cfe349f76357d1c63796bfb98872",
     "grade": false,
     "grade_id": "cell-e44f4bcf49afd0d2",
     "locked": false,
     "schema_version": 3,
     "solution": true,
     "task": false
    }
   },
   "outputs": [],
   "source": [
    "degrees = range(3,12) # degrees aka complexity of model \n",
    "num_rep = 500 # number of repetitions to calculate the mean error from \n",
    "\n",
    "E_out = []\n",
    "\n",
    "for deg in degrees:\n",
    "    mse = 0\n",
    "    for i in range(num_rep):\n",
    "        dataset = create_data(100, sigma)\n",
    "        fit = fit_model(dataset, deg)\n",
    "        mse += metrics.mean_squared_error(dataset[3], fit[3])\n",
    "    mse /= num_rep\n",
    "    E_out = np.append(E_out, [mse])\n"
   ]
  },
  {
   "cell_type": "code",
   "execution_count": 7,
   "metadata": {},
   "outputs": [
    {
     "name": "stdout",
     "output_type": "stream",
     "text": [
      "[ 347811.48529272  313220.00767232  274826.36304052  281269.51909343\n",
      "  276692.19063497  294379.96916052  306362.35833005  302507.36487324\n",
      "  372969.22354323]\n"
     ]
    }
   ],
   "source": [
    "print(E_out)"
   ]
  },
  {
   "cell_type": "code",
   "execution_count": 8,
   "metadata": {
    "collapsed": true,
    "deletable": false,
    "editable": false,
    "nbgrader": {
     "cell_type": "code",
     "checksum": "6b2ca09da5f09d1e92e43bb2573bf5f4",
     "grade": true,
     "grade_id": "cell-bb2f57866b30b1cd",
     "locked": true,
     "points": 1,
     "schema_version": 3,
     "solution": false,
     "task": false
    }
   },
   "outputs": [],
   "source": [
    "# your code is autograded in this cell\n"
   ]
  },
  {
   "cell_type": "markdown",
   "metadata": {
    "deletable": false,
    "editable": false,
    "nbgrader": {
     "cell_type": "markdown",
     "checksum": "04ea4cbd995397d03360546afe1b80de",
     "grade": false,
     "grade_id": "cell-5d5d76b45172c14d",
     "locked": true,
     "schema_version": 3,
     "solution": false,
     "task": false
    }
   },
   "source": [
    "Now visualize your results using a scatter plot with the complexity (polynomial degree of the fitting function) on the x-axis and the out-of-sample error on the y-axis:"
   ]
  },
  {
   "cell_type": "code",
   "execution_count": 9,
   "metadata": {
    "deletable": false,
    "nbgrader": {
     "cell_type": "code",
     "checksum": "438d3633cbdcc1271069f815385cf357",
     "grade": false,
     "grade_id": "cell-e07802f1502bbe73",
     "locked": false,
     "schema_version": 3,
     "solution": true,
     "task": false
    }
   },
   "outputs": [
    {
     "data": {
      "image/png": "[encoded data removed]",
      "text/plain": [
       "<matplotlib.figure.Figure at 0x12c4e7628d0>"
      ]
     },
     "metadata": {},
     "output_type": "display_data"
    }
   ],
   "source": [
    "#plotting your results\n",
    "xlabel = 'Model Complexity'\n",
    "ylabel = 'MSE'\n",
    "fig = plt.figure()\n",
    "ax = fig.add_subplot(111)\n",
    "\n",
    "plt.scatter(degrees, E_out)\n",
    "plt.show()"
   ]
  },
  {
   "cell_type": "code",
   "execution_count": 10,
   "metadata": {
    "deletable": false,
    "editable": false,
    "nbgrader": {
     "cell_type": "code",
     "checksum": "3a47632f4975e9db699c353242c6fe55",
     "grade": true,
     "grade_id": "cell-130ffa96fcf8b556",
     "locked": true,
     "points": 1,
     "schema_version": 3,
     "solution": false,
     "task": false
    }
   },
   "outputs": [
    {
     "ename": "ModuleNotFoundError",
     "evalue": "No module named 'plotchecker'",
     "output_type": "error",
     "traceback": [
      "\u001b[1;31m---------------------------------------------------------------------------\u001b[0m",
      "\u001b[1;31mModuleNotFoundError\u001b[0m                       Traceback (most recent call last)",
      "\u001b[1;32m<ipython-input-10-81c45e1a8da6>\u001b[0m in \u001b[0;36m<module>\u001b[1;34m()\u001b[0m\n\u001b[0;32m      1\u001b[0m \u001b[1;31m# your code is autograded in this cell\u001b[0m\u001b[1;33m\u001b[0m\u001b[1;33m\u001b[0m\u001b[0m\n\u001b[1;32m----> 2\u001b[1;33m \u001b[1;32mfrom\u001b[0m \u001b[0mplotchecker\u001b[0m \u001b[1;32mimport\u001b[0m \u001b[0mScatterPlotChecker\u001b[0m\u001b[1;33m\u001b[0m\u001b[0m\n\u001b[0m\u001b[0;32m      3\u001b[0m \u001b[0mpc\u001b[0m \u001b[1;33m=\u001b[0m \u001b[0mScatterPlotChecker\u001b[0m\u001b[1;33m(\u001b[0m\u001b[0max\u001b[0m\u001b[1;33m)\u001b[0m\u001b[1;33m\u001b[0m\u001b[0m\n\u001b[0;32m      4\u001b[0m \u001b[0mpc\u001b[0m\u001b[1;33m.\u001b[0m\u001b[0massert_x_data_equal\u001b[0m\u001b[1;33m(\u001b[0m\u001b[0mdegrees\u001b[0m\u001b[1;33m)\u001b[0m\u001b[1;33m\u001b[0m\u001b[0m\n\u001b[0;32m      5\u001b[0m \u001b[0mpc\u001b[0m\u001b[1;33m.\u001b[0m\u001b[0massert_y_data_equal\u001b[0m\u001b[1;33m(\u001b[0m\u001b[0mE_out\u001b[0m\u001b[1;33m)\u001b[0m\u001b[1;33m\u001b[0m\u001b[0m\n",
      "\u001b[1;31mModuleNotFoundError\u001b[0m: No module named 'plotchecker'"
     ]
    }
   ],
   "source": [
    "# your code is autograded in this cell\n",
    "from plotchecker import ScatterPlotChecker\n",
    "pc = ScatterPlotChecker(ax)\n",
    "pc.assert_x_data_equal(degrees)\n",
    "pc.assert_y_data_equal(E_out)"
   ]
  },
  {
   "cell_type": "markdown",
   "metadata": {
    "deletable": false,
    "editable": false,
    "nbgrader": {
     "cell_type": "markdown",
     "checksum": "60949a6db5e937c8d69c63670ea0891c",
     "grade": false,
     "grade_id": "cell-e1ebe0aca4cda0f5",
     "locked": true,
     "schema_version": 3,
     "solution": false,
     "task": false
    }
   },
   "source": [
    "### Number of data points vs. Error\n",
    "To show how the error depends on the number of datapoints, we use fit_model to fit datasets of varying size and then plot training and test error vs. the number of datapoints used to generate the fit of fixed complexity. Same as before, average the errors over a couple of repetitions to get a smoother result."
   ]
  },
  {
   "cell_type": "code",
   "execution_count": 11,
   "metadata": {
    "collapsed": true,
    "deletable": false,
    "nbgrader": {
     "cell_type": "code",
     "checksum": "41ef8ef8d0876930aba260274fba7819",
     "grade": false,
     "grade_id": "cell-d34bc71c8b4905e8",
     "locked": false,
     "schema_version": 3,
     "solution": true,
     "task": false
    }
   },
   "outputs": [],
   "source": [
    "Nmin = 35 # minimum points in dataset\n",
    "Nmax = 100 #maximal points in dataset\n",
    "\n",
    "degree = 5 # polynomial degree of the model\n",
    "\n",
    "num_rep = 100 # number of repetitions to loop over\n",
    "\n",
    "E_out = []\n",
    "E_in = []\n",
    "\n",
    "for ndata in range(Nmin, Nmax):\n",
    "    mse_in = 0\n",
    "    mse_out = 0\n",
    "    for i in range(num_rep):\n",
    "        dataset = create_data(ndata, sigma)\n",
    "        fit = fit_model(dataset, degree)\n",
    "        mse_in += metrics.mean_squared_error(dataset[1], fit[1])\n",
    "        mse_out += metrics.mean_squared_error(dataset[3], fit[3])\n",
    "    mse_in /= num_rep\n",
    "    mse_out /= num_rep\n",
    "    E_in = np.append(E_in, [mse_in])\n",
    "    E_out = np.append(E_out, [mse_out])"
   ]
  },
  {
   "cell_type": "code",
   "execution_count": 12,
   "metadata": {},
   "outputs": [
    {
     "name": "stdout",
     "output_type": "stream",
     "text": [
      "[ 391381.77556993  343126.88220052  418492.99960732  331347.19717257\n",
      "  357270.94639375  308404.31240293  325705.98241995  348804.62624267\n",
      "  322445.55752471  353667.56717511  375722.48156455  322927.64155614\n",
      "  320908.67511241  313854.01586645  307233.23219302  306277.76498483\n",
      "  320448.29540122  307450.44711894  332726.69865301  307212.19060584\n",
      "  303702.52042293  290647.25621326  283394.74027276  288484.0484134\n",
      "  304097.82389194  303220.57169481  288008.49921323  295770.48979483\n",
      "  287612.78858943  274246.11671343  288173.61939419  279842.01053653\n",
      "  316576.2233352   291013.31376603  292551.84134494  284195.30262103\n",
      "  269273.33331532  281826.86542638  298369.75411258  282816.57148494\n",
      "  286180.64823943  272283.0914544   283788.71887614  289633.90197132\n",
      "  268117.66569873  271990.95719594  293719.28574207  269333.89598215\n",
      "  272815.37923388  285947.74400044  273923.840024    282626.51583176\n",
      "  274974.68119177  287178.15088977  264034.88807087  272502.69437967\n",
      "  291816.08084664  258637.68697007  282690.10868923  277446.4339026\n",
      "  277683.01843334  266368.12783099  277457.606537    276848.38634477\n",
      "  277821.80913184]\n",
      "65\n",
      "[ 194452.08279855  199327.46771863  200292.66041134  195234.90257238\n",
      "  182197.51063113  200656.19617913  200132.17192617  197753.16405916\n",
      "  206796.93018754  207963.52132568  193590.44891443  206425.58316624\n",
      "  204159.59486983  204539.15016302  202006.37288737  212727.83767993\n",
      "  210210.40155723  209822.09428352  224078.66235539  222517.74390466\n",
      "  214749.46843676  214164.92043314  210409.08249446  217762.29131736\n",
      "  214202.05296933  222184.73952925  214829.30137047  218896.4099001\n",
      "  218130.14424288  224761.92988749  222526.3513147   222394.82579434\n",
      "  221022.16390812  228312.32607938  218061.2885263   215444.42885049\n",
      "  217960.36049823  213634.47075149  222640.95462288  224689.54740386\n",
      "  215276.99614593  223640.66275698  223624.3521415   218097.86506553\n",
      "  220432.32052233  219136.53829219  214986.48641027  224626.23117636\n",
      "  230105.19138721  231352.21497808  231162.35127516  222148.5944601\n",
      "  217470.24813681  223659.08093233  227780.60448491  235430.89001565\n",
      "  227822.00450704  228470.29483682  229643.49650446  219191.25162654\n",
      "  223253.30093043  224350.79995904  232137.40096805  233892.48206478\n",
      "  232833.37333125]\n",
      "65\n"
     ]
    }
   ],
   "source": [
    "print(E_out)\n",
    "print(len(E_out))\n",
    "\n",
    "print(E_in)\n",
    "print(len(E_in))"
   ]
  },
  {
   "cell_type": "code",
   "execution_count": 13,
   "metadata": {
    "collapsed": true,
    "deletable": false,
    "editable": false,
    "nbgrader": {
     "cell_type": "code",
     "checksum": "96e021dde7a81525abb7cb69474ba9b2",
     "grade": true,
     "grade_id": "learning_curve_test",
     "locked": true,
     "points": 1,
     "schema_version": 3,
     "solution": false,
     "task": false
    }
   },
   "outputs": [],
   "source": [
    "# your code is autograded in this cell\n"
   ]
  },
  {
   "cell_type": "code",
   "execution_count": 14,
   "metadata": {
    "deletable": false,
    "nbgrader": {
     "cell_type": "code",
     "checksum": "6b98d406b70309d1b3b18342b4c0beb6",
     "grade": false,
     "grade_id": "learning_curve_plot",
     "locked": false,
     "schema_version": 3,
     "solution": true,
     "task": false
    }
   },
   "outputs": [
    {
     "data": {
      "image/png": "[encoded data removed]",
      "text/plain": [
       "<matplotlib.figure.Figure at 0x12c4e762780>"
      ]
     },
     "metadata": {},
     "output_type": "display_data"
    }
   ],
   "source": [
    "#plotting your results\n",
    "xlabel = 'Number of datapoints'\n",
    "ylabel = 'MSE'\n",
    "fig = plt.figure()\n",
    "ax2 = fig.add_subplot(111)\n",
    "\n",
    "plt.scatter(list(range(Nmin, Nmax)), E_out, label='E_out')\n",
    "plt.scatter(list(range(Nmin, Nmax)), E_in, label='E_in')\n",
    "plt.legend()\n",
    "plt.show()\n",
    "\n"
   ]
  },
  {
   "cell_type": "code",
   "execution_count": 15,
   "metadata": {
    "deletable": false,
    "editable": false,
    "nbgrader": {
     "cell_type": "code",
     "checksum": "3e3d21c604b7e80e3cedcce59910f008",
     "grade": true,
     "grade_id": "grade_learning_curve_plot",
     "locked": true,
     "points": 1,
     "schema_version": 3,
     "solution": false,
     "task": false
    }
   },
   "outputs": [
    {
     "ename": "NameError",
     "evalue": "name 'ScatterPlotChecker' is not defined",
     "output_type": "error",
     "traceback": [
      "\u001b[1;31m---------------------------------------------------------------------------\u001b[0m",
      "\u001b[1;31mNameError\u001b[0m                                 Traceback (most recent call last)",
      "\u001b[1;32m<ipython-input-15-e278d40fd66b>\u001b[0m in \u001b[0;36m<module>\u001b[1;34m()\u001b[0m\n\u001b[0;32m      1\u001b[0m \u001b[1;31m# your code is autograded in this cell\u001b[0m\u001b[1;33m\u001b[0m\u001b[1;33m\u001b[0m\u001b[0m\n\u001b[1;32m----> 2\u001b[1;33m \u001b[0mpc\u001b[0m \u001b[1;33m=\u001b[0m \u001b[0mScatterPlotChecker\u001b[0m\u001b[1;33m(\u001b[0m\u001b[0max2\u001b[0m\u001b[1;33m)\u001b[0m\u001b[1;33m\u001b[0m\u001b[0m\n\u001b[0m\u001b[0;32m      3\u001b[0m \u001b[0mx_data\u001b[0m \u001b[1;33m=\u001b[0m \u001b[0mlist\u001b[0m\u001b[1;33m(\u001b[0m\u001b[0mrange\u001b[0m\u001b[1;33m(\u001b[0m\u001b[0mNmin\u001b[0m\u001b[1;33m,\u001b[0m \u001b[0mNmax\u001b[0m\u001b[1;33m)\u001b[0m\u001b[1;33m)\u001b[0m\u001b[1;33m\u001b[0m\u001b[0m\n\u001b[0;32m      4\u001b[0m \u001b[0mx_data\u001b[0m\u001b[1;33m.\u001b[0m\u001b[0mextend\u001b[0m\u001b[1;33m(\u001b[0m\u001b[0mx_data\u001b[0m\u001b[1;33m)\u001b[0m\u001b[1;33m\u001b[0m\u001b[0m\n\u001b[0;32m      5\u001b[0m \u001b[0mpc\u001b[0m\u001b[1;33m.\u001b[0m\u001b[0massert_x_data_allclose\u001b[0m\u001b[1;33m(\u001b[0m\u001b[0mx_data\u001b[0m\u001b[1;33m)\u001b[0m\u001b[1;33m\u001b[0m\u001b[0m\n",
      "\u001b[1;31mNameError\u001b[0m: name 'ScatterPlotChecker' is not defined"
     ]
    }
   ],
   "source": [
    "# your code is autograded in this cell\n",
    "pc = ScatterPlotChecker(ax2)\n",
    "x_data = list(range(Nmin, Nmax))\n",
    "x_data.extend(x_data)\n",
    "pc.assert_x_data_allclose(x_data)\n",
    "y_data = E_out\n",
    "y_data.extend(E_in)\n",
    "pc.assert_y_data_allclose(y_data)\n"
   ]
  }
 ],
 "metadata": {
  "kernelspec": {
   "display_name": "Python 3",
   "language": "python",
   "name": "python3"
  },
  "language_info": {
   "codemirror_mode": {
    "name": "ipython",
    "version": 3
   },
   "file_extension": ".py",
   "mimetype": "text/x-python",
   "name": "python",
   "nbconvert_exporter": "python",
   "pygments_lexer": "ipython3",
   "version": "3.6.1"
  }
 },
 "nbformat": 4,
 "nbformat_minor": 5
}
