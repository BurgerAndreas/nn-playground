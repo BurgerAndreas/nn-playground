{
 "cells": [
  {
   "cell_type": "markdown",
   "id": "34212b4a",
   "metadata": {},
   "source": [
    "Before you turn this problem in, make sure everything runs as expected. First, **restart the kernel** (in the menubar, select Kernel$\\rightarrow$Restart) and then **run all cells** (in the menubar, select Cell$\\rightarrow$Run All).\n",
    "\n",
    "Make sure you fill in any place that says `YOUR CODE HERE` or \"YOUR ANSWER HERE\", as well as your name and collaborators below:"
   ]
  },
  {
   "cell_type": "code",
   "execution_count": 1,
   "id": "c1269493",
   "metadata": {},
   "outputs": [],
   "source": [
    "NAME = \"Simon Mathias Linsel\"\n",
    "COLLABORATORS = \"Marcus Culemann, Andreas Burger, Hannah Lange\""
   ]
  },
  {
   "cell_type": "markdown",
   "id": "cffd60b6",
   "metadata": {},
   "source": [
    "---"
   ]
  },
  {
   "cell_type": "markdown",
   "id": "historic-amazon",
   "metadata": {
    "deletable": false,
    "editable": false,
    "nbgrader": {
     "cell_type": "markdown",
     "checksum": "5c1704f4b5732e2ec659a72f6a3012e5",
     "grade": false,
     "grade_id": "cell-11fdac9c166e69a7",
     "locked": true,
     "schema_version": 3,
     "solution": false,
     "task": false
    }
   },
   "source": [
    "# U-Net\n",
    "Re-implementing networks which are discussed in the literature is a vital skill. Here you re-build the\n",
    "architecture from arXiv:1505.04597. Write a function `build_unet()` that implements the architecture from the paper using the layers from tensorflow. A figure of the network is shown in Figure 1 of this paper.\n",
    "You can check your results again via model.compile() and model.summary().\n"
   ]
  },
  {
   "cell_type": "code",
   "execution_count": 2,
   "id": "horizontal-contact",
   "metadata": {
    "deletable": false,
    "editable": false,
    "nbgrader": {
     "cell_type": "code",
     "checksum": "8a4a13d22efe684f74b5a36eec837f3a",
     "grade": false,
     "grade_id": "cell-6824c59440f19bb4",
     "locked": true,
     "schema_version": 3,
     "solution": false,
     "task": false
    }
   },
   "outputs": [],
   "source": [
    "from tensorflow.keras import *\n",
    "from tensorflow.keras.layers import *"
   ]
  },
  {
   "cell_type": "code",
   "execution_count": 91,
   "id": "purple-nomination",
   "metadata": {
    "deletable": false,
    "nbgrader": {
     "cell_type": "code",
     "checksum": "fcf930b7054509b166fa66d6c6ac09f5",
     "grade": false,
     "grade_id": "cell-7cd0092d3673f6a8",
     "locked": false,
     "schema_version": 3,
     "solution": true,
     "task": false
    }
   },
   "outputs": [],
   "source": [
    "def build_unet():\n",
    "    \n",
    "    # Define input: 572x572 images with 1 feature (gray scale)\n",
    "    input_shape = (572, 572, 1) \n",
    "    \n",
    "    input_network = Input(shape=input_shape)\n",
    "    \n",
    "    x = Conv2D(filters=64, kernel_size=3, activation='relu')(input_network)\n",
    "    x = Conv2D(filters=64, kernel_size=3, activation='relu')(x)\n",
    "    crop1 = Cropping2D(cropping=88)(x)\n",
    "    \n",
    "    x =  MaxPooling2D(pool_size=2)(x)\n",
    "    x = Conv2D(filters=128, kernel_size=3, activation='relu')(x)\n",
    "    x = Conv2D(filters=128, kernel_size=3, activation='relu')(x)\n",
    "    crop2 = Cropping2D(cropping=40)(x)\n",
    "    \n",
    "    x =  MaxPooling2D(pool_size=2)(x)\n",
    "    x = Conv2D(filters=256, kernel_size=3, activation='relu')(x)\n",
    "    x = Conv2D(filters=256, kernel_size=3, activation='relu')(x)\n",
    "    crop3 = Cropping2D(cropping=16)(x)\n",
    "    \n",
    "    x =  MaxPooling2D(pool_size=2)(x)\n",
    "    x = Conv2D(filters=512, kernel_size=3, activation='relu')(x)\n",
    "    x = Conv2D(filters=512, kernel_size=3, activation='relu')(x)\n",
    "    crop4 = Cropping2D(cropping=4)(x)\n",
    "    \n",
    "    \n",
    "    x =  MaxPooling2D(pool_size=2)(x)\n",
    "    x = Conv2D(filters=1024, kernel_size=3, activation='relu')(x)\n",
    "    x = Conv2D(filters=1024, kernel_size=3, activation='relu')(x)\n",
    "  \n",
    "\n",
    "    x = Conv2DTranspose(filters=512, kernel_size=2, strides=2)(x)\n",
    "    x = concatenate([crop4, x])\n",
    "    x = Conv2D(filters=512, kernel_size=3, activation='relu')(x)\n",
    "    x = Conv2D(filters=512, kernel_size=3, activation='relu')(x)\n",
    "    \n",
    "    x = Conv2DTranspose(filters=256, kernel_size=2, strides=2)(x)\n",
    "    x = concatenate([crop3, x])\n",
    "    x = Conv2D(filters=256, kernel_size=3, activation='relu')(x)\n",
    "    x = Conv2D(filters=256, kernel_size=3, activation='relu')(x)\n",
    "    \n",
    "    x = Conv2DTranspose(filters=128, kernel_size=2, strides=2)(x)\n",
    "    x = concatenate([crop2, x])\n",
    "    x = Conv2D(filters=128, kernel_size=3, activation='relu')(x)\n",
    "    x = Conv2D(filters=128, kernel_size=3, activation='relu')(x)\n",
    "    \n",
    "    x = Conv2DTranspose(filters=64, kernel_size=2, strides=2)(x)\n",
    "    x = concatenate([crop1, x])\n",
    "    x = Conv2D(filters=64, kernel_size=3, activation='relu')(x)\n",
    "    x = Conv2D(filters=64, kernel_size=3, activation='relu')(x)\n",
    "    \n",
    "    output_network = Conv2D(filters=2, kernel_size=1)(x)\n",
    "    \n",
    "    model = Model(inputs=input_network, outputs=output_network)\n",
    "    \n",
    "    model.summary()\n",
    "    \n",
    "    return model"
   ]
  },
  {
   "cell_type": "code",
   "execution_count": 92,
   "id": "monetary-attitude",
   "metadata": {},
   "outputs": [
    {
     "name": "stdout",
     "output_type": "stream",
     "text": [
      "Model: \"model_2\"\n",
      "__________________________________________________________________________________________________\n",
      "Layer (type)                    Output Shape         Param #     Connected to                     \n",
      "==================================================================================================\n",
      "input_43 (InputLayer)           [(None, 572, 572, 1) 0                                            \n",
      "__________________________________________________________________________________________________\n",
      "conv2d_348 (Conv2D)             (None, 570, 570, 64) 640         input_43[0][0]                   \n",
      "__________________________________________________________________________________________________\n",
      "conv2d_349 (Conv2D)             (None, 568, 568, 64) 36928       conv2d_348[0][0]                 \n",
      "__________________________________________________________________________________________________\n",
      "max_pooling2d_110 (MaxPooling2D (None, 284, 284, 64) 0           conv2d_349[0][0]                 \n",
      "__________________________________________________________________________________________________\n",
      "conv2d_350 (Conv2D)             (None, 282, 282, 128 73856       max_pooling2d_110[0][0]          \n",
      "__________________________________________________________________________________________________\n",
      "conv2d_351 (Conv2D)             (None, 280, 280, 128 147584      conv2d_350[0][0]                 \n",
      "__________________________________________________________________________________________________\n",
      "max_pooling2d_111 (MaxPooling2D (None, 140, 140, 128 0           conv2d_351[0][0]                 \n",
      "__________________________________________________________________________________________________\n",
      "conv2d_352 (Conv2D)             (None, 138, 138, 256 295168      max_pooling2d_111[0][0]          \n",
      "__________________________________________________________________________________________________\n",
      "conv2d_353 (Conv2D)             (None, 136, 136, 256 590080      conv2d_352[0][0]                 \n",
      "__________________________________________________________________________________________________\n",
      "max_pooling2d_112 (MaxPooling2D (None, 68, 68, 256)  0           conv2d_353[0][0]                 \n",
      "__________________________________________________________________________________________________\n",
      "conv2d_354 (Conv2D)             (None, 66, 66, 512)  1180160     max_pooling2d_112[0][0]          \n",
      "__________________________________________________________________________________________________\n",
      "conv2d_355 (Conv2D)             (None, 64, 64, 512)  2359808     conv2d_354[0][0]                 \n",
      "__________________________________________________________________________________________________\n",
      "max_pooling2d_113 (MaxPooling2D (None, 32, 32, 512)  0           conv2d_355[0][0]                 \n",
      "__________________________________________________________________________________________________\n",
      "conv2d_356 (Conv2D)             (None, 30, 30, 1024) 4719616     max_pooling2d_113[0][0]          \n",
      "__________________________________________________________________________________________________\n",
      "conv2d_357 (Conv2D)             (None, 28, 28, 1024) 9438208     conv2d_356[0][0]                 \n",
      "__________________________________________________________________________________________________\n",
      "cropping2d_123 (Cropping2D)     (None, 56, 56, 512)  0           conv2d_355[0][0]                 \n",
      "__________________________________________________________________________________________________\n",
      "conv2d_transpose_40 (Conv2DTran (None, 56, 56, 512)  2097664     conv2d_357[0][0]                 \n",
      "__________________________________________________________________________________________________\n",
      "concatenate_39 (Concatenate)    (None, 56, 56, 1024) 0           cropping2d_123[0][0]             \n",
      "                                                                 conv2d_transpose_40[0][0]        \n",
      "__________________________________________________________________________________________________\n",
      "conv2d_358 (Conv2D)             (None, 54, 54, 512)  4719104     concatenate_39[0][0]             \n",
      "__________________________________________________________________________________________________\n",
      "conv2d_359 (Conv2D)             (None, 52, 52, 512)  2359808     conv2d_358[0][0]                 \n",
      "__________________________________________________________________________________________________\n",
      "cropping2d_122 (Cropping2D)     (None, 104, 104, 256 0           conv2d_353[0][0]                 \n",
      "__________________________________________________________________________________________________\n",
      "conv2d_transpose_41 (Conv2DTran (None, 104, 104, 256 524544      conv2d_359[0][0]                 \n",
      "__________________________________________________________________________________________________\n",
      "concatenate_40 (Concatenate)    (None, 104, 104, 512 0           cropping2d_122[0][0]             \n",
      "                                                                 conv2d_transpose_41[0][0]        \n",
      "__________________________________________________________________________________________________\n",
      "conv2d_360 (Conv2D)             (None, 102, 102, 256 1179904     concatenate_40[0][0]             \n",
      "__________________________________________________________________________________________________\n",
      "conv2d_361 (Conv2D)             (None, 100, 100, 256 590080      conv2d_360[0][0]                 \n",
      "__________________________________________________________________________________________________\n",
      "cropping2d_121 (Cropping2D)     (None, 200, 200, 128 0           conv2d_351[0][0]                 \n",
      "__________________________________________________________________________________________________\n",
      "conv2d_transpose_42 (Conv2DTran (None, 200, 200, 128 131200      conv2d_361[0][0]                 \n",
      "__________________________________________________________________________________________________\n",
      "concatenate_41 (Concatenate)    (None, 200, 200, 256 0           cropping2d_121[0][0]             \n",
      "                                                                 conv2d_transpose_42[0][0]        \n",
      "__________________________________________________________________________________________________\n",
      "conv2d_362 (Conv2D)             (None, 198, 198, 128 295040      concatenate_41[0][0]             \n",
      "__________________________________________________________________________________________________\n",
      "conv2d_363 (Conv2D)             (None, 196, 196, 128 147584      conv2d_362[0][0]                 \n",
      "__________________________________________________________________________________________________\n",
      "cropping2d_120 (Cropping2D)     (None, 392, 392, 64) 0           conv2d_349[0][0]                 \n",
      "__________________________________________________________________________________________________\n",
      "conv2d_transpose_43 (Conv2DTran (None, 392, 392, 64) 32832       conv2d_363[0][0]                 \n",
      "__________________________________________________________________________________________________\n",
      "concatenate_42 (Concatenate)    (None, 392, 392, 128 0           cropping2d_120[0][0]             \n",
      "                                                                 conv2d_transpose_43[0][0]        \n",
      "__________________________________________________________________________________________________\n",
      "conv2d_364 (Conv2D)             (None, 390, 390, 64) 73792       concatenate_42[0][0]             \n",
      "__________________________________________________________________________________________________\n",
      "conv2d_365 (Conv2D)             (None, 388, 388, 64) 36928       conv2d_364[0][0]                 \n",
      "__________________________________________________________________________________________________\n",
      "conv2d_366 (Conv2D)             (None, 388, 388, 2)  130         conv2d_365[0][0]                 \n",
      "==================================================================================================\n",
      "Total params: 31,030,658\n",
      "Trainable params: 31,030,658\n",
      "Non-trainable params: 0\n",
      "__________________________________________________________________________________________________\n"
     ]
    }
   ],
   "source": [
    "#Build the unet model\n",
    "Unet = build_unet()"
   ]
  },
  {
   "cell_type": "code",
   "execution_count": 66,
   "id": "sweet-resistance",
   "metadata": {
    "deletable": false,
    "editable": false,
    "nbgrader": {
     "cell_type": "code",
     "checksum": "474034ddf745303f196cf55cf6457f97",
     "grade": true,
     "grade_id": "cell-f07c54d09d9a08f2",
     "locked": true,
     "points": 1,
     "schema_version": 3,
     "solution": false,
     "task": false
    }
   },
   "outputs": [],
   "source": [
    "# Your solution is autograded here!"
   ]
  },
  {
   "cell_type": "code",
   "execution_count": null,
   "id": "above-turkish",
   "metadata": {
    "deletable": false,
    "editable": false,
    "nbgrader": {
     "cell_type": "code",
     "checksum": "0d49e24f08d0b7fb0c61f19f8268c73f",
     "grade": true,
     "grade_id": "cell-8b7225fdead9257b",
     "locked": true,
     "points": 1,
     "schema_version": 3,
     "solution": false,
     "task": false
    }
   },
   "outputs": [],
   "source": [
    "# Your solution is autograded here!"
   ]
  },
  {
   "cell_type": "code",
   "execution_count": null,
   "id": "computational-recommendation",
   "metadata": {
    "deletable": false,
    "editable": false,
    "nbgrader": {
     "cell_type": "code",
     "checksum": "2477f6a0836747b20dd8ef3e00e69590",
     "grade": true,
     "grade_id": "cell-56ee8ab56779d748",
     "locked": true,
     "points": 1,
     "schema_version": 3,
     "solution": false,
     "task": false
    }
   },
   "outputs": [],
   "source": [
    "# Your solution is autograded here!"
   ]
  }
 ],
 "metadata": {
  "kernelspec": {
   "display_name": "Python 3",
   "language": "python",
   "name": "python3"
  },
  "language_info": {
   "codemirror_mode": {
    "name": "ipython",
    "version": 3
   },
   "file_extension": ".py",
   "mimetype": "text/x-python",
   "name": "python",
   "nbconvert_exporter": "python",
   "pygments_lexer": "ipython3",
   "version": "3.8.8"
  }
 },
 "nbformat": 4,
 "nbformat_minor": 5
}
