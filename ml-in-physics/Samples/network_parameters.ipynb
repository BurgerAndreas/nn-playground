{
 "cells": [
  {
   "cell_type": "code",
   "execution_count": 1,
   "metadata": {
    "collapsed": true
   },
   "outputs": [
    {
     "name": "stdout",
     "output_type": "stream",
     "text": [
      "Model: \"inputOutput1\"\n",
      "_________________________________________________________________\n",
      "Layer (type)                 Output Shape              Param #   \n",
      "=================================================================\n",
      "input_1 (InputLayer)         [(None, 10, 10)]          0         \n",
      "_________________________________________________________________\n",
      "flatten (Flatten)            (None, 100)               0         \n",
      "_________________________________________________________________\n",
      "dense (Dense)                (None, 512)               51712     \n",
      "_________________________________________________________________\n",
      "dense_1 (Dense)              (None, 512)               262656    \n",
      "_________________________________________________________________\n",
      "dense_2 (Dense)              (None, 512)               262656    \n",
      "_________________________________________________________________\n",
      "dense_3 (Dense)              (None, 512)               262656    \n",
      "_________________________________________________________________\n",
      "dense_4 (Dense)              (None, 512)               262656    \n",
      "_________________________________________________________________\n",
      "dense_5 (Dense)              (None, 100)               51300     \n",
      "=================================================================\n",
      "Total params: 1,153,636\n",
      "Trainable params: 1,153,636\n",
      "Non-trainable params: 0\n",
      "_________________________________________________________________\n"
     ]
    }
   ],
   "source": [
    "import numpy as np\n",
    "import tensorflow as tf\n",
    "import matplotlib.pyplot as plt\n",
    "\n",
    "from tensorflow.keras.datasets import mnist #to import our dataset\n",
    "from tensorflow.keras.models import Sequential, Model # imports our type of network\n",
    "from tensorflow.keras.layers import Dense, Flatten, Input, Dropout,Conv2D, MaxPooling2D, BatchNormalization # imports our layers we want to use\n",
    "\n",
    "from tensorflow.keras.losses import categorical_crossentropy #loss function\n",
    "from tensorflow.keras.optimizers import Adam, SGD #optimisers\n",
    "from tensorflow.keras.utils import to_categorical #some function for data preparation\n",
    "\n",
    "\n",
    "\n",
    "num_classes = 100\n",
    "neurons = 512\n",
    "\n",
    "\n",
    "input_network = Input(shape=(10,10))\n",
    "x1 = Flatten()(input_network)\n",
    "x = Dense(neurons, activation='relu')(x1)\n",
    "x = Dense(neurons, activation='relu')(x)\n",
    "x = Dense(neurons, activation='relu')(x)\n",
    "x = Dense(neurons, activation='relu')(x)\n",
    "x = Dense(neurons, activation='relu')(x)\n",
    "output = Dense(num_classes, activation='softmax')(x)\n",
    "\n",
    "model = Model(input_network,outputs=output, name=\"inputOutput1\")\n",
    "\n",
    "model.compile(loss=categorical_crossentropy,optimizer=Adam(), metrics=['accuracy'])\n",
    "model.summary()"
   ]
  },
  {
   "cell_type": "code",
   "execution_count": 7,
   "outputs": [
    {
     "name": "stdout",
     "output_type": "stream",
     "text": [
      "Model: \"inputOutput2\"\n",
      "_________________________________________________________________\n",
      "Layer (type)                 Output Shape              Param #   \n",
      "=================================================================\n",
      "input_5 (InputLayer)         [(None, 10, 10)]          0         \n",
      "_________________________________________________________________\n",
      "flatten_6 (Flatten)          (None, 100)               0         \n",
      "_________________________________________________________________\n",
      "dense_22 (Dense)             (None, 1000)              101000    \n",
      "_________________________________________________________________\n",
      "dense_23 (Dense)             (None, 1000)              1001000   \n",
      "_________________________________________________________________\n",
      "dense_24 (Dense)             (None, 100)               100100    \n",
      "=================================================================\n",
      "Total params: 1,202,100\n",
      "Trainable params: 1,202,100\n",
      "Non-trainable params: 0\n",
      "_________________________________________________________________\n"
     ]
    }
   ],
   "source": [
    "num_classes = 100\n",
    "neurons = 1000\n",
    "\n",
    "input_network = Input(shape=(10,10))\n",
    "x1 = Flatten()(input_network)\n",
    "x = Dense(neurons, activation='relu')(x1)\n",
    "x = Dense(neurons, activation='relu')(x)\n",
    "\n",
    "output = Dense(num_classes, activation='softmax')(x)\n",
    "\n",
    "model = Model(input_network,outputs=output, name=\"inputOutput2\")\n",
    "\n",
    "model.compile(loss=categorical_crossentropy,optimizer=Adam(), metrics=['accuracy'])\n",
    "model.summary()"
   ],
   "metadata": {
    "collapsed": false,
    "pycharm": {
     "name": "#%%\n"
    }
   }
  },
  {
   "cell_type": "code",
   "execution_count": 8,
   "outputs": [
    {
     "ename": "ValueError",
     "evalue": "This model has not yet been built. Build the model first by calling `build()` or calling `fit()` with some data, or specify an `input_shape` argument in the first layer(s) for automatic build.",
     "output_type": "error",
     "traceback": [
      "\u001B[1;31m---------------------------------------------------------------------------\u001B[0m",
      "\u001B[1;31mValueError\u001B[0m                                Traceback (most recent call last)",
      "\u001B[1;32m<ipython-input-8-d4eab0d8ffc0>\u001B[0m in \u001B[0;36m<module>\u001B[1;34m\u001B[0m\n\u001B[0;32m     19\u001B[0m \u001B[1;33m\u001B[0m\u001B[0m\n\u001B[0;32m     20\u001B[0m \u001B[0mmodel\u001B[0m\u001B[1;33m.\u001B[0m\u001B[0mcompile\u001B[0m\u001B[1;33m(\u001B[0m\u001B[0mloss\u001B[0m\u001B[1;33m=\u001B[0m\u001B[0mcategorical_crossentropy\u001B[0m\u001B[1;33m,\u001B[0m\u001B[0moptimizer\u001B[0m\u001B[1;33m=\u001B[0m\u001B[0mAdam\u001B[0m\u001B[1;33m(\u001B[0m\u001B[1;33m)\u001B[0m\u001B[1;33m,\u001B[0m \u001B[0mmetrics\u001B[0m\u001B[1;33m=\u001B[0m\u001B[1;33m[\u001B[0m\u001B[1;34m'accuracy'\u001B[0m\u001B[1;33m]\u001B[0m\u001B[1;33m)\u001B[0m\u001B[1;33m\u001B[0m\u001B[1;33m\u001B[0m\u001B[0m\n\u001B[1;32m---> 21\u001B[1;33m \u001B[0mmodel\u001B[0m\u001B[1;33m.\u001B[0m\u001B[0msummary\u001B[0m\u001B[1;33m(\u001B[0m\u001B[1;33m)\u001B[0m\u001B[1;33m\u001B[0m\u001B[1;33m\u001B[0m\u001B[0m\n\u001B[0m",
      "\u001B[1;32mC:\\ProgramData\\Miniconda3\\envs\\MLinPhysics38\\lib\\site-packages\\tensorflow\\python\\keras\\engine\\training.py\u001B[0m in \u001B[0;36msummary\u001B[1;34m(self, line_length, positions, print_fn)\u001B[0m\n\u001B[0;32m   2349\u001B[0m     \"\"\"\n\u001B[0;32m   2350\u001B[0m     \u001B[1;32mif\u001B[0m \u001B[1;32mnot\u001B[0m \u001B[0mself\u001B[0m\u001B[1;33m.\u001B[0m\u001B[0mbuilt\u001B[0m\u001B[1;33m:\u001B[0m\u001B[1;33m\u001B[0m\u001B[1;33m\u001B[0m\u001B[0m\n\u001B[1;32m-> 2351\u001B[1;33m       raise ValueError('This model has not yet been built. '\n\u001B[0m\u001B[0;32m   2352\u001B[0m                        \u001B[1;34m'Build the model first by calling `build()` or calling '\u001B[0m\u001B[1;33m\u001B[0m\u001B[1;33m\u001B[0m\u001B[0m\n\u001B[0;32m   2353\u001B[0m                        \u001B[1;34m'`fit()` with some data, or specify '\u001B[0m\u001B[1;33m\u001B[0m\u001B[1;33m\u001B[0m\u001B[0m\n",
      "\u001B[1;31mValueError\u001B[0m: This model has not yet been built. Build the model first by calling `build()` or calling `fit()` with some data, or specify an `input_shape` argument in the first layer(s) for automatic build."
     ]
    }
   ],
   "source": [
    "num_classes = 100\n",
    "neurons = 256\n",
    "\n",
    "model = Sequential(name=\"ExperimentalModel\")\n",
    "model.add(Flatten())\n",
    "# shape: 10x10 = 100\n",
    "model.add(Dense(neurons, activation='relu'))\n",
    "# each neuron: (wx + b) = (shape(x) + 1) params\n",
    "# params: (shape + 1)*neurons = (100 + 1)*256 = 25,856\n",
    "# shape: neurons\n",
    "model.add(Dense(neurons, activation='relu'))\n",
    "# params: (shape + 1)*neurons = (256 + 1)*256 = 65,792\n",
    "# shape: neurons\n",
    "\n",
    "\n",
    "\n",
    "model.add(Dense(num_classes, activation='softmax'))\n",
    "# params: (shape + 1)*num_classes = (256 + 1)*100 = 25,700\n",
    "\n",
    "model.compile(loss=categorical_crossentropy,optimizer=Adam(), metrics=['accuracy'])\n",
    "model.summary()"
   ],
   "metadata": {
    "collapsed": false,
    "pycharm": {
     "name": "#%%\n"
    }
   }
  },
  {
   "cell_type": "code",
   "execution_count": 10,
   "outputs": [
    {
     "name": "stdout",
     "output_type": "stream",
     "text": [
      "Model: \"inputOutput2\"\n",
      "_________________________________________________________________\n",
      "Layer (type)                 Output Shape              Param #   \n",
      "=================================================================\n",
      "input_6 (InputLayer)         [(None, 10, 10)]          0         \n",
      "_________________________________________________________________\n",
      "flatten_9 (Flatten)          (None, 100)               0         \n",
      "_________________________________________________________________\n",
      "dense_31 (Dense)             (None, 256)               25856     \n",
      "_________________________________________________________________\n",
      "dropout_1 (Dropout)          (None, 256)               0         \n",
      "_________________________________________________________________\n",
      "dense_32 (Dense)             (None, 256)               65792     \n",
      "_________________________________________________________________\n",
      "dense_33 (Dense)             (None, 100)               25700     \n",
      "=================================================================\n",
      "Total params: 117,348\n",
      "Trainable params: 117,348\n",
      "Non-trainable params: 0\n",
      "_________________________________________________________________\n"
     ]
    }
   ],
   "source": [
    "# simple dropout\n",
    "num_classes = 100\n",
    "neurons = 256\n",
    "\n",
    "\n",
    "input_network = Input(shape=(10,10))\n",
    "x1 = Flatten()(input_network)\n",
    "x = Dense(neurons, activation='relu')(x1)\n",
    "x = Dropout(rate=0.2)(x)\n",
    "x = Dense(neurons, activation='relu')(x)\n",
    "\n",
    "output = Dense(num_classes, activation='softmax')(x)\n",
    "\n",
    "model = Model(input_network,outputs=output, name=\"droput\")\n",
    "\n",
    "model.compile(loss=categorical_crossentropy,optimizer=Adam(), metrics=['accuracy'])\n",
    "model.summary()\n"
   ],
   "metadata": {
    "collapsed": false,
    "pycharm": {
     "name": "#%%\n"
    }
   }
  },
  {
   "cell_type": "code",
   "execution_count": null,
   "outputs": [],
   "source": [],
   "metadata": {
    "collapsed": false,
    "pycharm": {
     "name": "#%%\n"
    }
   }
  }
 ],
 "metadata": {
  "kernelspec": {
   "name": "pycharm-c4f24b27",
   "language": "python",
   "display_name": "PyCharm (MLinPhysics)"
  },
  "language_info": {
   "codemirror_mode": {
    "name": "ipython",
    "version": 2
   },
   "file_extension": ".py",
   "mimetype": "text/x-python",
   "name": "python",
   "nbconvert_exporter": "python",
   "pygments_lexer": "ipython2",
   "version": "2.7.6"
  }
 },
 "nbformat": 4,
 "nbformat_minor": 0
}