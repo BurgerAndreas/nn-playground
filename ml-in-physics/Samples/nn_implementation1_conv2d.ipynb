{
 "cells": [
  {
   "cell_type": "code",
   "execution_count": 12,
   "metadata": {
    "collapsed": true
   },
   "outputs": [],
   "source": [
    "# NN implementation with right dimensions\n",
    "# uses conv2d\n",
    "\n",
    "import numpy as np\n",
    "\n",
    "from tensorflow.keras.datasets import mnist #to import our dataset\n",
    "from tensorflow.keras.models import Sequential, Model # imports our type of network\n",
    "from tensorflow.keras.layers import Dense, Flatten,Conv2D, MaxPooling2D, Input, Lambda, Layer, ReLU # imports our layers we want to use\n"
   ]
  },
  {
   "cell_type": "code",
   "execution_count": 19,
   "outputs": [
    {
     "name": "stdout",
     "output_type": "stream",
     "text": [
      "Model: \"test_model\"\n",
      "_________________________________________________________________\n",
      "Layer (type)                 Output Shape              Param #   \n",
      "=================================================================\n",
      "input_12 (InputLayer)        [(None, 32, 32, 3)]       0         \n",
      "_________________________________________________________________\n",
      "conv2d_28 (Conv2D)           (None, 29, 29, 32)        1568      \n",
      "_________________________________________________________________\n",
      "max_pooling2d_17 (MaxPooling (None, 14, 14, 32)        0         \n",
      "_________________________________________________________________\n",
      "conv2d_29 (Conv2D)           (None, 12, 12, 64)        18496     \n",
      "_________________________________________________________________\n",
      "max_pooling2d_18 (MaxPooling (None, 6, 6, 64)          0         \n",
      "_________________________________________________________________\n",
      "conv2d_30 (Conv2D)           (None, 4, 4, 64)          36928     \n",
      "_________________________________________________________________\n",
      "flatten_9 (Flatten)          (None, 1024)              0         \n",
      "_________________________________________________________________\n",
      "dense_12 (Dense)             (None, 64)                65600     \n",
      "_________________________________________________________________\n",
      "test_model (Dense)           (None, 10)                650       \n",
      "=================================================================\n",
      "Total params: 123,242\n",
      "Trainable params: 123,242\n",
      "Non-trainable params: 0\n",
      "_________________________________________________________________\n"
     ]
    }
   ],
   "source": [
    "input_shape = (32, 32, 3)\n",
    "num_classes = 10\n",
    "\n",
    "input_network = Input(shape=input_shape) #(length,width,channels)\n",
    "x = Conv2D(filters=32,kernel_size=(3,3), strides=(1,1), activation='relu',use_bias=True,padding='valid')(input_network)\n",
    "# shape = ( , , filters)\n",
    "# padding=\"same\" preserves length/width\n",
    "# padding=\"valid\"   3,3 kernel = -2 | 4,4 = -3 | 5,5 = -4\n",
    "x = MaxPooling2D()(x)\n",
    "# halves length/width\n",
    "\n",
    "x = Conv2D(filters=64,kernel_size=(3,3), strides=(1,1), padding=\"valid\",activation='relu',use_bias=True)(x)\n",
    "x = MaxPooling2D()(x)\n",
    "\n",
    "x = Conv2D(filters=64,kernel_size=(3,3), strides=(1,1), padding=\"valid\",activation='relu',use_bias=True)(x)\n",
    "\n",
    "x = Flatten()(x)\n",
    "x = Dense(64)(x)\n",
    "\n",
    "output = Dense(num_classes, activation='softmax', name=\"test_model\")(x)\n",
    "\n",
    "model= Model(input_network,outputs=output, name=\"test_model\")\n",
    "model.summary()"
   ],
   "metadata": {
    "collapsed": false,
    "pycharm": {
     "name": "#%%\n"
    }
   }
  },
  {
   "cell_type": "code",
   "execution_count": 14,
   "outputs": [],
   "source": [
    "model = Sequential(name=\"sequential\")\n",
    "\n",
    "model.add(Dense(32, activation=\"relu\", input_shape=input_shape)) # shouldn't have\n",
    "model.add(Conv2D(2, kernel_size=(3,3), activation=\"relu\"))\n",
    "#model.add(Conv2D(10, kernel_size=(3,3), activation=\"relu\", padding=\"same\", input_shape=self.input_shape))\n",
    "\n",
    "model.add(Flatten())\n",
    "model.add(Dense(num_classes, activation=\"softmax\"))\n",
    "\n",
    "model.compile(loss=\"categorical_crossentropy\", optimizer=\"adam\", metrics=[\"accuracy\"])"
   ],
   "metadata": {
    "collapsed": false,
    "pycharm": {
     "name": "#%%\n"
    }
   }
  }
 ],
 "metadata": {
  "kernelspec": {
   "name": "pycharm-c4f24b27",
   "language": "python",
   "display_name": "PyCharm (MLinPhysics)"
  },
  "language_info": {
   "codemirror_mode": {
    "name": "ipython",
    "version": 2
   },
   "file_extension": ".py",
   "mimetype": "text/x-python",
   "name": "python",
   "nbconvert_exporter": "python",
   "pygments_lexer": "ipython2",
   "version": "2.7.6"
  }
 },
 "nbformat": 4,
 "nbformat_minor": 0
}