{
 "cells": [
  {
   "cell_type": "code",
   "execution_count": 25,
   "metadata": {
    "collapsed": true
   },
   "outputs": [],
   "source": [
    "# ODE solver\n",
    "# with and without boundary conditions\n",
    "\n",
    "import numpy as np\n",
    "import matplotlib.pyplot as plt\n",
    "import tensorflow as tf\n",
    "\n",
    "from tensorflow import keras\n",
    "from tensorflow.keras.layers import Input, Dense, Lambda\n",
    "from tensorflow.keras.models import Model"
   ]
  },
  {
   "cell_type": "code",
   "execution_count": 26,
   "outputs": [
    {
     "name": "stdout",
     "output_type": "stream",
     "text": [
      "Model: \"functional_11\"\n",
      "_________________________________________________________________\n",
      "Layer (type)                 Output Shape              Param #   \n",
      "=================================================================\n",
      "input_6 (InputLayer)         [(None, 1)]               0         \n",
      "_________________________________________________________________\n",
      "dense_15 (Dense)             (None, 100)               200       \n",
      "_________________________________________________________________\n",
      "dense_16 (Dense)             (None, 100)               10100     \n",
      "_________________________________________________________________\n",
      "dense_17 (Dense)             (None, 1)                 101       \n",
      "=================================================================\n",
      "Total params: 10,401\n",
      "Trainable params: 10,401\n",
      "Non-trainable params: 0\n",
      "_________________________________________________________________\n"
     ]
    }
   ],
   "source": [
    "# our Neural network model\n",
    "\n",
    "tf.keras.backend.set_floatx('float64')\n",
    "\n",
    "inp = Input(shape=(1,))\n",
    "x = Dense(100,activation='tanh')(inp)\n",
    "x = Dense(100,activation='tanh')(x)\n",
    "out = Dense(1)(x)\n",
    "\n",
    "model = Model(inputs=inp,outputs=out)\n",
    "model.summary()"
   ],
   "metadata": {
    "collapsed": false,
    "pycharm": {
     "name": "#%%\n"
    }
   }
  },
  {
   "cell_type": "code",
   "execution_count": 26,
   "outputs": [],
   "source": [],
   "metadata": {
    "collapsed": false,
    "pycharm": {
     "name": "#%%\n"
    }
   }
  },
  {
   "cell_type": "code",
   "execution_count": 27,
   "outputs": [],
   "source": [
    "# define training\n",
    "\n",
    "optimizer = tf.keras.optimizers.Adam(1e-4)\n",
    "\n",
    "a = tf.constant(1.,dtype=\"float64\")\n",
    "b = tf.constant(10.,dtype=\"float64\")\n",
    "\n",
    "# differential equation u''(x) + a u'(x) + b u(x)=0\n",
    "\n",
    "# alpha is relative weight between normal loss and boundary condition loss\n",
    "def train_step(samples,alpha=1., verbose=False):\n",
    "    #bu0= tf.constant(1.,dtype='float64') # boundary condition\n",
    "    #bdu0_dx=tf.constant(0.,dtype='float64') # boundary condition\n",
    "    #alpha_b=tf.constant(alpha,dtype='float64') # boundary condition\n",
    "\n",
    "    train_data = np.random.uniform(0,40,size=(samples,1))\n",
    "    #train_data = np.random.normal(loc=0, scale=1, size=100) # gaussian\n",
    "    #  # rescale to [-1,1] interval\n",
    "    x = tf.Variable(train_data)\n",
    "    #x0 = tf.Variable(np.zeros(shape=(samples,1))) # boundary condition\n",
    "    with tf.GradientTape() as t3:\n",
    "        with tf.GradientTape() as t2:\n",
    "            with tf.GradientTape() as t1:\n",
    "                u = model(x,training=True)\n",
    "            #with tf.GradientTape() as t0: # boundary condition\n",
    "                #u0 = model(x0,training=True) # boundary condition\n",
    "            du_dx=t1.gradient(u,x)\n",
    "            #du0_dx=t0.gradient(u0,x0) # boundary condition\n",
    "        d2u_dx=t2.gradient(du_dx,x)\n",
    "        loss = (d2u_dx + a*du_dx + b*u)**2\n",
    "        #loss2 = (u0 - bu0)**2 + (du0_dx - bdu0_dx)**2 # boundary condition\n",
    "        #loss = (d2u_dx + a*du_dx + b*u)**2 + alpha*loss2 # boundary condition\n",
    "    gradients_of_nn = t3.gradient(loss,model.trainable_variables)\n",
    "    optimizer.apply_gradients(zip(gradients_of_nn, model.trainable_variables))\n",
    "    if verbose:\n",
    "        print(np.mean(loss))\n",
    "\n",
    "def train(epochs,print_every=100,alpha=1):\n",
    "    for epoch in range(epochs):\n",
    "        if epoch%print_every==0:\n",
    "            print('Loss at epoch: '+str(epoch))\n",
    "            train_step(300,alpha=alpha, verbose=True)\n",
    "        else:\n",
    "            train_step(300,alpha=alpha)"
   ],
   "metadata": {
    "collapsed": false,
    "pycharm": {
     "name": "#%%\n"
    }
   }
  },
  {
   "cell_type": "code",
   "execution_count": 28,
   "outputs": [
    {
     "name": "stdout",
     "output_type": "stream",
     "text": [
      "Loss at epoch: 0\n",
      "23.90114680003005\n",
      "Loss at epoch: 100\n",
      "0.058115513334042274\n",
      "Loss at epoch: 200\n",
      "0.011648152075187058\n",
      "Loss at epoch: 300\n",
      "0.0029554880655612743\n"
     ]
    },
    {
     "data": {
      "text/plain": "[<matplotlib.lines.Line2D at 0x1bec9f5b160>]"
     },
     "execution_count": 28,
     "metadata": {},
     "output_type": "execute_result"
    },
    {
     "data": {
      "text/plain": "<Figure size 432x288 with 1 Axes>",
      "image/png": "[encoded data removed]"
     },
     "metadata": {
      "needs_background": "light"
     },
     "output_type": "display_data"
    }
   ],
   "source": [
    "train(400)\n",
    "\n",
    "preds = model.predict(np.arange(0,40,0.1))\n",
    "plt.plot(np.arange(0,40,0.1),preds)\n"
   ],
   "metadata": {
    "collapsed": false,
    "pycharm": {
     "name": "#%%\n"
    }
   }
  },
  {
   "cell_type": "code",
   "execution_count": 29,
   "outputs": [
    {
     "name": "stdout",
     "output_type": "stream",
     "text": [
      "Loss at epoch: 0\n",
      "0.0017113561135089714\n",
      "Loss at epoch: 100\n",
      "0.0011255455571700776\n",
      "Loss at epoch: 200\n",
      "0.0009634587173739797\n",
      "Loss at epoch: 300\n",
      "0.0007945653813736564\n"
     ]
    },
    {
     "data": {
      "text/plain": "[<matplotlib.lines.Line2D at 0x1beca586af0>]"
     },
     "execution_count": 29,
     "metadata": {},
     "output_type": "execute_result"
    },
    {
     "data": {
      "text/plain": "<Figure size 432x288 with 1 Axes>",
      "image/png": "[encoded data removed]"
     },
     "metadata": {
      "needs_background": "light"
     },
     "output_type": "display_data"
    }
   ],
   "source": [
    "train(400)\n",
    "\n",
    "preds = model.predict(np.arange(0,40,0.1))\n",
    "plt.plot(np.arange(0,40,0.1),preds)"
   ],
   "metadata": {
    "collapsed": false,
    "pycharm": {
     "name": "#%%\n"
    }
   }
  }
 ],
 "metadata": {
  "kernelspec": {
   "name": "pycharm-c4f24b27",
   "language": "python",
   "display_name": "PyCharm (MLinPhysics)"
  },
  "language_info": {
   "codemirror_mode": {
    "name": "ipython",
    "version": 2
   },
   "file_extension": ".py",
   "mimetype": "text/x-python",
   "name": "python",
   "nbconvert_exporter": "python",
   "pygments_lexer": "ipython2",
   "version": "2.7.6"
  }
 },
 "nbformat": 4,
 "nbformat_minor": 0
}