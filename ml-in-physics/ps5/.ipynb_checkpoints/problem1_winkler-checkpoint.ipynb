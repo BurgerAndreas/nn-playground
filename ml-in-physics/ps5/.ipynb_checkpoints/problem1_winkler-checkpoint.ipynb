{
 "cells": [
  {
   "cell_type": "markdown",
   "metadata": {},
   "source": [
    "# Kernel methods"
   ]
  },
  {
   "cell_type": "markdown",
   "metadata": {},
   "source": [
    "#### Hey reader! I hope this code is comfortable to read for you. I want to mention that some of my answers are written in the \"Markdown\" cells with LaTeX but also there are some ordinary python print - outputs wich are also part of my solution.\n",
    "#### Apart from that I hope you enjoy the lecture! :)"
   ]
  },
  {
   "cell_type": "markdown",
   "metadata": {},
   "source": [
    "The aim of this exercise is to familiarise yourself with the dual optimisation problem"
   ]
  },
  {
   "cell_type": "markdown",
   "metadata": {},
   "source": [
    " $\\bullet$ We optain the solution to a linear regression with respect to our weights $w$ as previously discussed in the lectures.\n",
    "$$C(w) = \\frac{1}{2} \\underset{n=1}{\\overset{N}{\\sum}} (\\mathbf{w}^T x_n - y_n)^2 + \\frac{\\lambda}{2}\\mathbf{w}^T\\mathbf{w}$$\n",
    "To implement this, consider the underlying model $y = 2x$. Generate data with some Gaussian noise (100 datapoints). Solve the optimisation problem for $\\lambda = 0,0.1,1$ as described in the lectures."
   ]
  },
  {
   "cell_type": "markdown",
   "metadata": {},
   "source": [
    "### Answer"
   ]
  },
  {
   "cell_type": "markdown",
   "metadata": {},
   "source": [
    "The above formula referrs to the Ridge-Regularisation wich means as optimisation problem:\n",
    "$$ \\underset{w}{min} \\vert\\vert Xw - y \\vert\\vert^{2}_2 + \\lambda\\vert\\vert w \\vert\\vert^2_2$$"
   ]
  },
  {
   "cell_type": "code",
   "execution_count": 1,
   "metadata": {
    "collapsed": true
   },
   "outputs": [],
   "source": [
    "import numpy as np\n",
    "import matplotlib.pyplot as plt\n",
    "from sklearn import linear_model\n",
    "#from sklearn.model_selection import train_test_split"
   ]
  },
  {
   "cell_type": "code",
   "execution_count": 2,
   "metadata": {},
   "outputs": [
    {
     "data": {
      "image/png": "[encoded data removed]",
      "text/plain": [
       "<matplotlib.figure.Figure at 0x15b3a59a0b8>"
      ]
     },
     "metadata": {},
     "output_type": "display_data"
    },
    {
     "name": "stdout",
     "output_type": "stream",
     "text": [
      "We get an w values for $\\lambda$ in  [0, 0.1, 1]  of:\n",
      "[1.8897006821401208, 1.8896984142752362, 1.8896780037362348]\n"
     ]
    }
   ],
   "source": [
    "# Generating Data\n",
    "def data(number):\n",
    "    x = np.linspace(1,100,number)\n",
    "    noise = np.random.normal(0,30,100)\n",
    "    y = 2*x + noise\n",
    "    return [x,y]\n",
    "\n",
    "def makeFigure():\n",
    "    plt.figure(figsize=(6,6))\n",
    "    plt.title(\"Data\")\n",
    "    plt.ylabel(\"y\")\n",
    "    plt.xlabel(\"x\")\n",
    "    plt.grid() \n",
    "'''\n",
    "def split(data):\n",
    "    samples = train_test_split(data,test_size=0.5)\n",
    "    return samples\n",
    "print(split(data(100)))\n",
    "'''\n",
    "def showData(data):    \n",
    "    plt.scatter(data[0],data[1],c='r',s=35,alpha=0.7);   \n",
    "    \n",
    "# Ordinary Fitting:\n",
    "def fitRidge(training_samples,lmbdas):\n",
    "    x = training_samples[0].reshape((len(training_samples[0]),1))\n",
    "    y = training_samples[1]\n",
    "    predictions = []\n",
    "    w_parameter = []\n",
    "    for lmbda in lmbdas:\n",
    "        model = linear_model.Ridge(alpha=lmbda)    \n",
    "        model.fit(x,y)\n",
    "        prediction = model.predict(x)\n",
    "        label = 'Ridge $\\lambda = $' + str(lmbda)\n",
    "        plt.plot(x,prediction,label=label)\n",
    "        predictions.append(prediction)\n",
    "        slope = (prediction[len(training_samples[0])-1]-prediction[0])/len(training_samples[0])\n",
    "        w_parameter.append(slope)\n",
    "    return w_parameter\n",
    "            \n",
    "number_samples = 100\n",
    "lmbdas = [0,0.1,1]\n",
    "\n",
    "data = data(number_samples)\n",
    "makeFigure()\n",
    "showData(data)\n",
    "w_parameter = fitRidge(data,lmbdas)\n",
    "plt.legend()\n",
    "plt.show()\n",
    "\n",
    "print(\"We get an w values for $\\lambda$ in \",lmbdas,\" of:\")\n",
    "print(w_parameter)"
   ]
  },
  {
   "cell_type": "markdown",
   "metadata": {},
   "source": [
    "$\\bullet$ We  now introduce a kernel $\\phi(x) = (x,x^2)$. Solve again the problem for the underlying model $y =2x$. Note that this time you need to recalculate the target values $t_n$ appropriately."
   ]
  },
  {
   "cell_type": "markdown",
   "metadata": {},
   "source": [
    "### Answer"
   ]
  },
  {
   "cell_type": "markdown",
   "metadata": {},
   "source": [
    "Define:\n",
    "$$\\phi(x) = (\\phi_1,\\phi_2) = (x,x^2)$$\n",
    "such that the weights now are a 2 vector and are mapped due to the inner product to\n",
    "$$t_n = w_1\\cdot\\phi_1 + w_2\\cdot \\phi_2$$\n",
    "with the target \n",
    "$$t_n = y_n + y_n^2$$"
   ]
  },
  {
   "cell_type": "code",
   "execution_count": 3,
   "metadata": {},
   "outputs": [
    {
     "ename": "NameError",
     "evalue": "name 'training_samples' is not defined",
     "output_type": "error",
     "traceback": [
      "\u001b[1;31m---------------------------------------------------------------------------\u001b[0m",
      "\u001b[1;31mNameError\u001b[0m                                 Traceback (most recent call last)",
      "\u001b[1;32m<ipython-input-3-324862f2296b>\u001b[0m in \u001b[0;36m<module>\u001b[1;34m()\u001b[0m\n\u001b[0;32m     25\u001b[0m \u001b[0mmakeFigure\u001b[0m\u001b[1;33m(\u001b[0m\u001b[1;33m)\u001b[0m\u001b[1;33m\u001b[0m\u001b[0m\n\u001b[0;32m     26\u001b[0m \u001b[0mshowData\u001b[0m\u001b[1;33m(\u001b[0m\u001b[0mdata\u001b[0m\u001b[1;33m)\u001b[0m\u001b[1;33m\u001b[0m\u001b[0m\n\u001b[1;32m---> 27\u001b[1;33m \u001b[0mnewRidge\u001b[0m\u001b[1;33m(\u001b[0m\u001b[0mfeatures_flat\u001b[0m\u001b[1;33m,\u001b[0m\u001b[0mtargets_flat\u001b[0m\u001b[1;33m,\u001b[0m\u001b[0mlmbdas\u001b[0m\u001b[1;33m)\u001b[0m\u001b[1;33m\u001b[0m\u001b[0m\n\u001b[0m\u001b[0;32m     28\u001b[0m \u001b[0mplt\u001b[0m\u001b[1;33m.\u001b[0m\u001b[0mlegend\u001b[0m\u001b[1;33m(\u001b[0m\u001b[1;33m)\u001b[0m\u001b[1;33m\u001b[0m\u001b[0m\n\u001b[0;32m     29\u001b[0m \u001b[0mplt\u001b[0m\u001b[1;33m.\u001b[0m\u001b[0mshow\u001b[0m\u001b[1;33m(\u001b[0m\u001b[1;33m)\u001b[0m\u001b[1;33m\u001b[0m\u001b[0m\n",
      "\u001b[1;32m<ipython-input-3-324862f2296b>\u001b[0m in \u001b[0;36mnewRidge\u001b[1;34m(feature_samples, target_samples, lmbdas)\u001b[0m\n\u001b[0;32m     19\u001b[0m         \u001b[0mplt\u001b[0m\u001b[1;33m.\u001b[0m\u001b[0mplot\u001b[0m\u001b[1;33m(\u001b[0m\u001b[0mfeature_samples\u001b[0m\u001b[1;33m,\u001b[0m\u001b[0mprediction\u001b[0m\u001b[1;33m,\u001b[0m\u001b[0mlabel\u001b[0m\u001b[1;33m=\u001b[0m\u001b[0mlabel\u001b[0m\u001b[1;33m)\u001b[0m\u001b[1;33m\u001b[0m\u001b[0m\n\u001b[0;32m     20\u001b[0m         \u001b[0mpredictions\u001b[0m\u001b[1;33m.\u001b[0m\u001b[0mappend\u001b[0m\u001b[1;33m(\u001b[0m\u001b[0mprediction\u001b[0m\u001b[1;33m)\u001b[0m\u001b[1;33m\u001b[0m\u001b[0m\n\u001b[1;32m---> 21\u001b[1;33m         \u001b[0mslope\u001b[0m \u001b[1;33m=\u001b[0m \u001b[1;33m(\u001b[0m\u001b[0mprediction\u001b[0m\u001b[1;33m[\u001b[0m\u001b[0mlen\u001b[0m\u001b[1;33m(\u001b[0m\u001b[0mtraining_samples\u001b[0m\u001b[1;33m[\u001b[0m\u001b[1;36m0\u001b[0m\u001b[1;33m]\u001b[0m\u001b[1;33m)\u001b[0m\u001b[1;33m-\u001b[0m\u001b[1;36m1\u001b[0m\u001b[1;33m]\u001b[0m\u001b[1;33m-\u001b[0m\u001b[0mprediction\u001b[0m\u001b[1;33m[\u001b[0m\u001b[1;36m0\u001b[0m\u001b[1;33m]\u001b[0m\u001b[1;33m)\u001b[0m\u001b[1;33m/\u001b[0m\u001b[0mlen\u001b[0m\u001b[1;33m(\u001b[0m\u001b[0mtraining_samples\u001b[0m\u001b[1;33m[\u001b[0m\u001b[1;36m0\u001b[0m\u001b[1;33m]\u001b[0m\u001b[1;33m)\u001b[0m\u001b[1;33m\u001b[0m\u001b[0m\n\u001b[0m\u001b[0;32m     22\u001b[0m         \u001b[0mw_parameter\u001b[0m\u001b[1;33m.\u001b[0m\u001b[0mappend\u001b[0m\u001b[1;33m(\u001b[0m\u001b[0mslope\u001b[0m\u001b[1;33m)\u001b[0m\u001b[1;33m\u001b[0m\u001b[0m\n\u001b[0;32m     23\u001b[0m     \u001b[1;32mreturn\u001b[0m \u001b[0mw_parameter\u001b[0m\u001b[1;33m\u001b[0m\u001b[0m\n",
      "\u001b[1;31mNameError\u001b[0m: name 'training_samples' is not defined"
     ]
    }
   ],
   "source": [
    "phi_1 = data[0]\n",
    "phi_2 = data[0]**2\n",
    "t_n = data[1] + data[1]**2 \n",
    "new_data = [phi_1,phi_2,t_n]\n",
    "features = np.asarray([new_data[0],new_data[1]])\n",
    "features_flat = features.reshape((len(new_data[0]),2))\n",
    "targets_flat = np.asarray(new_data[2])\n",
    "\n",
    "def newRidge(feature_samples,target_samples,lmbdas):\n",
    "    #x = training_samples[0].reshape((len(training_samples[0]),1))\n",
    "    #y = training_samples[1]\n",
    "    predictions = []\n",
    "    w_parameter = []\n",
    "    for lmbda in lmbdas:\n",
    "        model = linear_model.Ridge(alpha=lmbda)    \n",
    "        model.fit(feature_samples,target_samples)\n",
    "        prediction = model.predict(feature_samples)\n",
    "        label = 'Ridge $\\lambda = $' + str(lmbda)\n",
    "        plt.plot(feature_samples,prediction,label=label)\n",
    "        predictions.append(prediction)\n",
    "        slope = (prediction[len(training_samples[0])-1]-prediction[0])/len(training_samples[0])\n",
    "        w_parameter.append(slope)\n",
    "    return w_parameter\n",
    "\n",
    "makeFigure()\n",
    "showData(data)\n",
    "newRidge(features_flat,targets_flat,lmbdas)\n",
    "plt.legend()\n",
    "plt.show()"
   ]
  },
  {
   "cell_type": "markdown",
   "metadata": {},
   "source": [
    "$\\bullet$ Calculate the kernel function $k(x_n,x_m) =  \\phi(x_n)^T\\phi(x_m)$."
   ]
  },
  {
   "cell_type": "markdown",
   "metadata": {},
   "source": [
    "### Answer"
   ]
  },
  {
   "cell_type": "markdown",
   "metadata": {},
   "source": [
    "The indices $m$ and $n$ are refering to the samples. The kernel matrix has with the $\\phi$ from above the form\n",
    "$$k(x_n,x_m) = \\phi_1(x_n)\\phi_1(x_m) + \\phi_2(x_n)\\phi_2(x_m) = x_n x_m  + x_n^2 x_m^2 = : k_{nm}$$"
   ]
  },
  {
   "cell_type": "code",
   "execution_count": null,
   "metadata": {},
   "outputs": [],
   "source": [
    "# Computing Kernel Matrix\n",
    "k = []\n",
    "for n in range(0,len(data[0])):\n",
    "    k_nm = []\n",
    "    for m in range(0,len(data[0])):\n",
    "        entry = data[0][n]*data[0][m] + data[0][n]**2 * data[0][m]**2\n",
    "        k_nm.append(entry)\n",
    "    k.append(k_nm)\n",
    "    \n",
    "print(\"Shape of Kernel matrix:\", np.shape(k))"
   ]
  },
  {
   "cell_type": "markdown",
   "metadata": {},
   "source": [
    "$\\bullet$ Using this kernel function solve the optimisation problem for the dual variables $a$."
   ]
  },
  {
   "cell_type": "markdown",
   "metadata": {},
   "source": [
    "#### Answer"
   ]
  },
  {
   "cell_type": "markdown",
   "metadata": {},
   "source": [
    "The gerneral solution for the dual parameters $a^i$ for the Linear Ridge Regression is like in the lecture\n",
    "$$a = (k + \\lambda \\mathbb{E}_{100})^{-1}y$$\n",
    "or written with indices\n",
    "$$a^i = ((k + \\lambda \\mathbb{E}_{100})^{-1})^{ij}y^{j}$$\n",
    "where the indices refering to the sample numbers $i,j \\in \\{0...99\\}$."
   ]
  },
  {
   "cell_type": "code",
   "execution_count": null,
   "metadata": {},
   "outputs": [],
   "source": [
    "# Doing above formula. First get matrix in brackets:\n",
    "lmbda = 50\n",
    "matrix = k + lmbda * np.eye(100)\n",
    "\n",
    "# Now invert matrix:\n",
    "matrix_inverse = np.linalg.pinv(matrix)\n",
    "'''\n",
    "print(np.allclose(np.dot(k_inverse,k), np.eye(100)))\n",
    "print(np.linalg.cond(matrix))\n",
    "'''\n",
    "\n",
    "# Now multiply with target values:\n",
    "a = []\n",
    "for j in range(0,len(matrix[1])):\n",
    "    a_i = matrix_inverse[1][j]*data[1][j]\n",
    "    a.append(a_i)\n",
    "    \n",
    "print(\"Proof of vector shape of a:\", np.shape(a))"
   ]
  },
  {
   "cell_type": "markdown",
   "metadata": {},
   "source": [
    "$\\bullet$ Show that both solutions agree by obtaining $\\mathbf{w}$ from your solution $a$"
   ]
  },
  {
   "cell_type": "markdown",
   "metadata": {},
   "source": [
    "### Answer"
   ]
  },
  {
   "cell_type": "markdown",
   "metadata": {},
   "source": [
    "Calculating $w$ from $a$ we get:\n",
    "$$w = \\overset{\\# samples}{\\underset{i =1}{\\sum}}a^i x^i$$"
   ]
  },
  {
   "cell_type": "code",
   "execution_count": null,
   "metadata": {},
   "outputs": [],
   "source": [
    "# Calculation formula above:\n",
    "w = 0\n",
    "for i in range(0,len(a)):\n",
    "    value = a[i] * data[0][i]\n",
    "    w += value\n",
    "print(\"Through the dual optimalisation we got:\")\n",
    "print(\"w = \",w)\n",
    "print(\"And the w from the point 1) Ridge-Regression was:\")\n",
    "print(\"w = \",w_parameter[0])"
   ]
  }
 ],
 "metadata": {
  "kernelspec": {
   "display_name": "Python 3",
   "language": "python",
   "name": "python3"
  },
  "language_info": {
   "codemirror_mode": {
    "name": "ipython",
    "version": 3
   },
   "file_extension": ".py",
   "mimetype": "text/x-python",
   "name": "python",
   "nbconvert_exporter": "python",
   "pygments_lexer": "ipython3",
   "version": "3.6.1"
  }
 },
 "nbformat": 4,
 "nbformat_minor": 5
}
