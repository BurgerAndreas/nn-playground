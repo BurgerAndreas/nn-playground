{
 "cells": [
  {
   "cell_type": "markdown",
   "metadata": {
    "collapsed": true
   },
   "source": [
    "# KL divergence, information content"
   ]
  },
  {
   "cell_type": "code",
   "execution_count": 4,
   "metadata": {
    "collapsed": true
   },
   "outputs": [],
   "source": [
    "import numpy as np"
   ]
  },
  {
   "attachments": {},
   "cell_type": "markdown",
   "metadata": {},
   "source": [
    "..."
   ]
  },
  {
   "cell_type": "markdown",
   "metadata": {},
   "source": [
    "## (1) \n",
    "\n",
    "For independent random variables (P(X, Y ) = P(X)P(Y )) show that Shannon entropy is additive, i.e.\n",
    "\n",
    "H(X, Y ) = H(X) + H(Y )."
   ]
  },
  {
   "cell_type": "markdown",
   "metadata": {},
   "source": [
    "### Solution\n",
    "I write $\\log$ instead of $\\log_2$.\n",
    "\n",
    "$$\n",
    "H(X,Y) = \\sum_{x,y} P(X,Y) \\log\\frac{1}{P(X,Y)}\n",
    "$$\n",
    "\n",
    "<br>\n",
    "since $P(X, Y ) = P(X)P(Y )$ are independent\n",
    "<br>\n",
    "\n",
    "$$\n",
    "H(X,Y) = \\sum_{x} \\sum_{y} P(X)P(Y) \\log\\frac{1}{P(X)P(Y)}\n",
    "$$\n",
    "<br>\n",
    "using\n",
    "<br>\n",
    "\n",
    "$$\n",
    "\\log\\frac{1}{P(X)P(Y)} = - \\log P(X)P(Y) = -(\\log P(X) + \\log P(Y) ) = \\log\\frac{1}{P(X)} + \\log\\frac{1}{P(Y)}\n",
    "$$\n",
    "\n",
    "<br>\n",
    "$H(X,Y)$ becomes\n",
    "<br>\n",
    "\n",
    "$$\n",
    "H(X,Y) = \\sum_{x} P(X) \\log\\frac{1}{P(X)} + \\sum_{y} P(Y) \\log\\frac{1}{P(Y)} \\\\\n",
    "H(X,Y) = H(X) + H(Y)\n",
    "$$\n",
    "\n",
    "<br>\n",
    "q.e.d <br>\n",
    "<br>"
   ]
  },
  {
   "cell_type": "markdown",
   "metadata": {},
   "source": [
    "## (2) \n",
    "\n",
    "A source produces a character x from the \n",
    "\n",
    "alphabet A = {0, 1, . . . , 9, a, b, . . . , z}; \n",
    "\n",
    "with probability 1/3, x is a digit (0, . . . , 9), \n",
    "\n",
    "with probabiblity 1/3 it is a vowel, \n",
    "\n",
    "and with probability 1/3 it is one of the 21 consonants. \n",
    "\n",
    "All numerals are equiprobable, and the same goes for the vowels and consonants. \n",
    "\n",
    "Calculate the entropy of X."
   ]
  },
  {
   "cell_type": "markdown",
   "metadata": {},
   "source": [
    "### Solution\n",
    "\n",
    "$$ \n",
    "H(A) =\n",
    "$$ \n",
    "\n",
    "$$ \n",
    "= \\sum_{x\\ \\in\\ digit} P(x\\ is\\ digit)\\ P(x\\ that\\ digit) \\cdot \\log\\frac{1}{P(x\\ is\\ digit)\\ P(x\\ that\\ digit)} \n",
    "$$\n",
    "$$\n",
    "+ \\sum_{x\\ \\in\\ vowel}  P(x\\ is\\ vowel)\\ P(x\\ that\\ vowel) \\cdot  \\log\\frac{1}{ P(x\\ is\\ vowel)\\ P(x\\ that\\ vowel)} \n",
    "$$\n",
    "$$\n",
    "+ \\sum_{x\\ \\in\\ cons}  P(x\\ is\\ cons)\\ P(x\\ that\\ cons) \\cdot \\log\\frac{1}{ P(x\\ is\\ cons)\\ P(x\\ that\\ cons)} \n",
    "$$ \n",
    "\n",
    "<br>\n",
    "The probability for x to be a digit or vowel or consonant is $=\\frac{1}{3}$ respectively\n",
    "<br>\n",
    "\n",
    "$$ \n",
    "= \\sum_{x\\ \\in\\ digit} \\frac{1}{3}P(x\\ that\\ digit) \\cdot \\log\\frac{1}{\\frac{1}{3}P(x\\ that\\ digit)} \n",
    "$$\n",
    "$$\n",
    "+ \\sum_{x\\ \\in\\ vowel} \\frac{1}{3}P(x\\ that\\ vowel) \\cdot  \\log\\frac{1}{\\frac{1}{3}P(x\\ that\\ vowel)} \n",
    "$$\n",
    "$$\n",
    "+ \\sum_{x\\ \\in\\ cons} \\frac{1}{3}P(x\\ that\\ cons) \\cdot \\log\\frac{1}{\\frac{1}{3}P(x\\ that\\ cons)} \n",
    "$$\n",
    "\n",
    "<br>\n",
    "$x$ is equaly likely to be any one of 10 numbers. So we plug in $P(x\\ that\\ digit) = \\frac{1}{10}$. <br>\n",
    "Similarly $P(x\\ that\\ vowel) = \\frac{1}{5}$ and $P(x\\ that\\ cons) = \\frac{1}{21}$.\n",
    "\n",
    "$$\n",
    "= \\sum_{x\\ \\in\\ digit}  \\frac{1}{10} \\frac{1}{3}(\\log(3\\cdot10) + \\sum_{x\\ \\in\\ vowel}  \\frac{1}{5} \\log(3\\cdot5) + \\sum_{x\\ \\in\\ cons}  \\frac{1}{21} \\log(3\\cdot21)) \n",
    "$$\n",
    "\n",
    "<br>\n",
    "The sums immidiately cancel the  $P(x)$ outside the $\\log$.\n",
    "<br>\n",
    "Thus we get\n",
    "<br>\n",
    "\n",
    "$$\n",
    "= \\frac{1}{3} \\log(3\\cdot10) + \\frac{1}{3} \\log(3\\cdot5) + \\frac{1}{3} \\log(3\\cdot21) \\approx 4.93\n",
    "$$"
   ]
  },
  {
   "cell_type": "code",
   "execution_count": 5,
   "metadata": {},
   "outputs": [
    {
     "name": "stdout",
     "output_type": "stream",
     "text": [
      "4.9303537049056505\n"
     ]
    }
   ],
   "source": [
    "# test\n",
    "print( 1/3 * ( np.log2(30) + np.log2(15) + np.log2(3*21)) )"
   ]
  }
 ],
 "metadata": {
  "kernelspec": {
   "display_name": "Python 3",
   "language": "python",
   "name": "python3"
  },
  "language_info": {
   "codemirror_mode": {
    "name": "ipython",
    "version": 3
   },
   "file_extension": ".py",
   "mimetype": "text/x-python",
   "name": "python",
   "nbconvert_exporter": "python",
   "pygments_lexer": "ipython3",
   "version": "3.6.1"
  }
 },
 "nbformat": 4,
 "nbformat_minor": 1
}
