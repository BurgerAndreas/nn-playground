{
 "cells": [
  {
   "cell_type": "markdown",
   "metadata": {
    "collapsed": true
   },
   "source": [
    "# Kernel methods"
   ]
  },
  {
   "cell_type": "code",
   "execution_count": 1,
   "metadata": {
    "collapsed": true
   },
   "outputs": [],
   "source": [
    "# imports\n",
    "import numpy as np\n",
    "import matplotlib.pyplot as plt\n",
    "from sklearn import linear_model\n",
    "from sklearn.kernel_ridge import KernelRidge"
   ]
  },
  {
   "cell_type": "markdown",
   "metadata": {},
   "source": [
    "..."
   ]
  },
  {
   "cell_type": "markdown",
   "metadata": {},
   "source": [
    "## (1)\n",
    "\n",
    "We obtain the solution to a linear regression with respect to our weights w as previously\n",
    "discussed in the lectures.\n",
    "\n",
    "$$C(w) = \\frac{1}{2}\\sum_{n=1}^{N}(w^T x_n-y_n)^2+\\frac{\\lambda}{2}w^Tw$$\n",
    "\n",
    "To implement this, consider the underlying model y = 2x. Generate data with some Gaussian\n",
    "noise (100 datapoints). <br>\n",
    "Solve the optimisation problem for λ = 0, 0.1, 1 as described in the\n",
    "lectures."
   ]
  },
  {
   "cell_type": "markdown",
   "metadata": {
    "collapsed": true
   },
   "source": [
    "Minimum: <br>\n",
    "$$0 = \\frac{\\partial C}{\\partial w}=\\sum_{n=1}^{N}(w^T x_n-y_n)x_m+\\lambda w = x^T x w+\\lambda w - x^T y$$\n",
    "<br> with the solution <br>\n",
    "$$w_R = \\frac{x^T y}{x^T x+\\lambda}$$"
   ]
  },
  {
   "cell_type": "code",
   "execution_count": 2,
   "metadata": {
    "collapsed": true
   },
   "outputs": [],
   "source": [
    "# generate data\n",
    "x = np.linspace(1,100,100)\n",
    "noise = np.random.normal(scale=1, size = 100)\n",
    "\n",
    "# model is y = 2x\n",
    "y = 2*x + noise\n",
    "\n",
    "\n",
    "\n",
    "\n",
    "# calculate weights via formula above\n",
    "# probably better with einsum\n",
    "def calculate_w(lamb, _x, _y):\n",
    "    \n",
    "    xTx = _x.transpose().dot(_x)\n",
    "    _m = xTx + lamb\n",
    "    xTy = _x.transpose().dot(_y)\n",
    "    w = xTy/_m\n",
    "    \n",
    "    return w"
   ]
  },
  {
   "cell_type": "code",
   "execution_count": 3,
   "metadata": {},
   "outputs": [
    {
     "data": {
      "image/png": "[encoded data removed]",
      "text/plain": [
       "<matplotlib.figure.Figure at 0x25dff889d68>"
      ]
     },
     "metadata": {},
     "output_type": "display_data"
    },
    {
     "name": "stdout",
     "output_type": "stream",
     "text": [
      "w_formula for lambda = 0, 0.1, 1:\n",
      "[1.998495583012847, 1.9984949923537685, 1.9984896764377726]\n",
      "w_ridge for lambda = 0, 0.1, 1:\n",
      "[array([1.99849558]), array([1.99849499]), array([1.99848968])]\n"
     ]
    }
   ],
   "source": [
    "lambdas = [0, 0.1, 1] # lambda\n",
    "\n",
    "\n",
    "ridge = linear_model.Ridge(fit_intercept=False) # Set up ridge regression\n",
    "\n",
    "w_ridge = [] # weights via ridge regression\n",
    "\n",
    "w_formula = [] # weights via formula\n",
    "\n",
    "\n",
    "\n",
    "\n",
    "# calculate weights\n",
    "for lam in lambdas:\n",
    "    \n",
    "    # w_ridge\n",
    "    ridge.set_params(alpha=lam) # set regularisation parameter\n",
    "    ridge.fit(x[:, np.newaxis], y) # fit model \n",
    "    w_ridge.append(ridge.coef_) # store weights\n",
    "    \n",
    "    # w_formula\n",
    "    w_formula.append(calculate_w(lam, x, y))\n",
    "    \n",
    "    label = \"lambda = \"+str(lam)\n",
    "    plt.plot(x, calculate_w(lam, x, y)*x, linewidth=1, label = label)\n",
    "    \n",
    "    \n",
    "    \n",
    "# plot w_formula\n",
    "plt.scatter(x,y, s=1, c = \"red\", label = \"data points\")\n",
    "plt.legend()\n",
    "plt.title(\" \")\n",
    "plt.show()\n",
    "\n",
    "\n",
    "# compare w_formula to w_ridge\n",
    "print(\"w_formula for lambda = 0, 0.1, 1:\")\n",
    "print(w_formula)\n",
    "print(\"w_ridge for lambda = 0, 0.1, 1:\")\n",
    "print(w_ridge)\n",
    "    "
   ]
  },
  {
   "cell_type": "markdown",
   "metadata": {},
   "source": [
    "<br>\n",
    "There is virtually no difference between the $\\lambda $\n",
    "<br>"
   ]
  },
  {
   "cell_type": "markdown",
   "metadata": {},
   "source": [
    "## (2)\n",
    "\n",
    "We now introduce a kernel $φ(x) = (x, x^2)$. Solve again the problem for the underlying model\n",
    "y = 2x. <br>\n",
    "Note that this time you need to recalculate the target values $t_n$ appropriately.\n"
   ]
  },
  {
   "cell_type": "markdown",
   "metadata": {},
   "source": [
    "Same formula, but with the kernel <br>\n",
    "$$\n",
    "C(w) = \\frac{1}{2}\\sum_{n=1}^{N}(w^T \\phi(x_n)-t_n)^2+\\frac{\\lambda}{2}w^T w\n",
    "$$\n",
    "<br> and <br>\n",
    "$$\n",
    "w_R = (\\phi^T \\phi + \\lambda \\ 1_{2x2})^{-1} \\phi^T \\ t_n\n",
    " $$"
   ]
  },
  {
   "cell_type": "code",
   "execution_count": 4,
   "metadata": {
    "collapsed": true
   },
   "outputs": [],
   "source": [
    "# calculate new phi and target values\n",
    "phi_n = []\n",
    "t_n_lin = []\n",
    "t_n_squ = []\n",
    "\n",
    "\n",
    "for i in range(len(x)):\n",
    "    phi_n.append([x[i], x[i]**2])\n",
    "    \n",
    "    t_n_squ.append([y[i] + y[i]**2]) # for some reason doesn't work  \n",
    "    t_n_lin.append([y[i]]) # for some reason does work\n",
    "    \n",
    "    \n",
    "# turn into np arrays\n",
    "phi_n = np.array(phi_n)\n",
    "t_n_lin = np.array(t_n_lin)\n",
    "t_n_squ = np.array(t_n_squ)\n",
    "\n",
    "# choose one\n",
    "t_n = t_n_lin\n",
    "#t_n = t_n_squ\n",
    "\n",
    "\n",
    "# calculate weights from formula with kernel\n",
    "# probably better with np.einsum\n",
    "def calc_w_kernel(l, t):\n",
    "\n",
    "    # matrix in bracket in formula\n",
    "    _m = phi_n.transpose().dot(phi_n) + np.array([[l, 0], [0, l]])\n",
    "    _m_inv = np.linalg.inv(_m)\n",
    "    \n",
    "    w_kernel = _m_inv.dot( phi_n.transpose().dot(t) )\n",
    "    \n",
    "    return w_kernel\n",
    "\n",
    "\n",
    "\n",
    "# kernel function used for KernelRidge\n",
    "# probably better with np.einsum\n",
    "def calc_kernel(x_1, x_2):\n",
    "\n",
    "    phi_i = np.array([x_1, x_1**2])\n",
    "    phi_iT = phi_i.transpose()\n",
    "    phi_j = np.array([x_2, x_2**2])\n",
    "    k_ij = phi_iT.dot(phi_j)\n",
    "    \n",
    "    return k_ij"
   ]
  },
  {
   "cell_type": "code",
   "execution_count": 5,
   "metadata": {},
   "outputs": [
    {
     "name": "stderr",
     "output_type": "stream",
     "text": [
      "C:\\ProgramData\\Anaconda3\\lib\\site-packages\\sklearn\\linear_model\\ridge.py:154: UserWarning: Singular matrix in solving dual problem. Using least-squares solution instead.\n",
      "  warnings.warn(\"Singular matrix in solving dual problem. Using \"\n"
     ]
    },
    {
     "ename": "NameError",
     "evalue": "name 'm_inv' is not defined",
     "output_type": "error",
     "traceback": [
      "\u001b[1;31m---------------------------------------------------------------------------\u001b[0m",
      "\u001b[1;31mNameError\u001b[0m                                 Traceback (most recent call last)",
      "\u001b[1;32m<ipython-input-5-cdb983e23685>\u001b[0m in \u001b[0;36m<module>\u001b[1;34m()\u001b[0m\n\u001b[0;32m     33\u001b[0m \u001b[1;33m\u001b[0m\u001b[0m\n\u001b[0;32m     34\u001b[0m     \u001b[1;31m# calculate weights from formula with kernel\u001b[0m\u001b[1;33m\u001b[0m\u001b[1;33m\u001b[0m\u001b[0m\n\u001b[1;32m---> 35\u001b[1;33m     \u001b[0mw_kernel_formula\u001b[0m\u001b[1;33m.\u001b[0m\u001b[0mappend\u001b[0m\u001b[1;33m(\u001b[0m \u001b[0mcalc_w_kernel\u001b[0m\u001b[1;33m(\u001b[0m\u001b[0mlam\u001b[0m\u001b[1;33m,\u001b[0m \u001b[0mt_n\u001b[0m\u001b[1;33m)\u001b[0m \u001b[1;33m)\u001b[0m\u001b[1;33m\u001b[0m\u001b[0m\n\u001b[0m\u001b[0;32m     36\u001b[0m \u001b[1;33m\u001b[0m\u001b[0m\n\u001b[0;32m     37\u001b[0m     \u001b[1;31m# prediction from formula\u001b[0m\u001b[1;33m\u001b[0m\u001b[1;33m\u001b[0m\u001b[0m\n",
      "\u001b[1;32m<ipython-input-4-3bc3a9ae2c02>\u001b[0m in \u001b[0;36mcalc_w_kernel\u001b[1;34m(l, t)\u001b[0m\n\u001b[0;32m     30\u001b[0m     \u001b[0m_m_inv\u001b[0m \u001b[1;33m=\u001b[0m \u001b[0mnp\u001b[0m\u001b[1;33m.\u001b[0m\u001b[0mlinalg\u001b[0m\u001b[1;33m.\u001b[0m\u001b[0minv\u001b[0m\u001b[1;33m(\u001b[0m\u001b[0m_m\u001b[0m\u001b[1;33m)\u001b[0m\u001b[1;33m\u001b[0m\u001b[0m\n\u001b[0;32m     31\u001b[0m \u001b[1;33m\u001b[0m\u001b[0m\n\u001b[1;32m---> 32\u001b[1;33m     \u001b[0mw_kernel\u001b[0m \u001b[1;33m=\u001b[0m \u001b[0mm_inv\u001b[0m\u001b[1;33m.\u001b[0m\u001b[0mdot\u001b[0m\u001b[1;33m(\u001b[0m \u001b[0mphi_n\u001b[0m\u001b[1;33m.\u001b[0m\u001b[0mtranspose\u001b[0m\u001b[1;33m(\u001b[0m\u001b[1;33m)\u001b[0m\u001b[1;33m.\u001b[0m\u001b[0mdot\u001b[0m\u001b[1;33m(\u001b[0m\u001b[0mt\u001b[0m\u001b[1;33m)\u001b[0m \u001b[1;33m)\u001b[0m\u001b[1;33m\u001b[0m\u001b[0m\n\u001b[0m\u001b[0;32m     33\u001b[0m \u001b[1;33m\u001b[0m\u001b[0m\n\u001b[0;32m     34\u001b[0m     \u001b[1;32mreturn\u001b[0m \u001b[0mw_kernel\u001b[0m\u001b[1;33m\u001b[0m\u001b[0m\n",
      "\u001b[1;31mNameError\u001b[0m: name 'm_inv' is not defined"
     ]
    }
   ],
   "source": [
    "\n",
    "w_kernel_formula = [] # weights via formula with kernel\n",
    "w_kernelRidge = [] # weights via KernelRidge\n",
    "\n",
    "pred_kernel_formula = [] # predictions\n",
    "pred_kernelRidge = []\n",
    "\n",
    "\n",
    "# set up KernelRidge\n",
    "#kernel_ridge = KernelRidge( kernel='x^2')\n",
    "kernel_ridge = KernelRidge(kernel = calc_kernel, degree = 2)\n",
    "\n",
    "\n",
    "# data in right shape\n",
    "x1 = x[:, np.newaxis]\n",
    "y1 = y[:, np.newaxis]\n",
    "\n",
    "\n",
    "j = 0 # counter for w_kernel_formula elements\n",
    "\n",
    "for lam in lambdas:\n",
    "    \n",
    "    # KernelRidge\n",
    "    kernel_ridge.set_params(alpha=lam)\n",
    "    kernel_ridge.fit(x1, y1)\n",
    "    #w_kernelRidge.append(kernel_ridge.coef_) # store weights\n",
    "    w_kernelRidge.append(kernel_ridge.dual_coef_) # weight vector(s) in kernel space\n",
    "    \n",
    "    # prediction from KernelRidge\n",
    "    pred_kernelRidge.append(kernel_ridge.predict(x1))\n",
    "    \n",
    "    \n",
    "    \n",
    "    # calculate weights from formula with kernel\n",
    "    w_kernel_formula.append( calc_w_kernel(lam, t_n) ) \n",
    "    \n",
    "    # prediction from formula\n",
    "    pred_kernel_formula.append(w_kernel_formula[j].transpose().dot(phi_n.transpose()))\n",
    "    j += 1\n",
    "    \n",
    "    # plot predictions from formula\n",
    "    plt.plot(x1, pred_kernel_formula[0].transpose(), label = \"lambda = \"+str(lam) )\n",
    "    \n",
    "    \n",
    "# plot predictions from formula\n",
    "plt.scatter(x,y, s=1, c = \"red\", label = \"data points\")\n",
    "plt.title(\" \")\n",
    "plt.legend()\n",
    "plt.show()\n",
    "    \n",
    "    \n",
    "#compare the results \n",
    "print(\"norm(pred_kernelRidge - pred_kernel_formula) for lambda = 0, 0.1, 1:\")\n",
    "for j in range(3):\n",
    "    print( np.linalg.norm( pred_kernel_formula[j] - pred_kernelRidge[j].transpose() ) )"
   ]
  },
  {
   "cell_type": "markdown",
   "metadata": {},
   "source": [
    "<br>\n",
    "For t_n_lin: <br>\n",
    "KernelRidge and Kernel formula give the same result.\n",
    "\n",
    "Again there is virtually no difference between the $\\lambda $.\n",
    "<br>"
   ]
  },
  {
   "cell_type": "markdown",
   "metadata": {},
   "source": [
    "## (3)\n",
    "\n",
    "Calculate the kernel function $ k(x_n, x_m) = φ(x_n)^T φ(x_m)$"
   ]
  },
  {
   "cell_type": "code",
   "execution_count": null,
   "metadata": {
    "collapsed": true
   },
   "outputs": [],
   "source": [
    "# 100 x 100 matrix?\n",
    "\n",
    "kernel = phi_n.dot( np.transpose(phi_n) )\n",
    "print(kernel)"
   ]
  },
  {
   "cell_type": "markdown",
   "metadata": {},
   "source": [
    "## (4)\n",
    "\n",
    "Using this kernel function solve the optimisation problem for the dual variables a."
   ]
  },
  {
   "cell_type": "markdown",
   "metadata": {},
   "source": [
    "With $w = \\phi^T a $ one gets <br>\n",
    "$$C(a)=\\frac{1}{2}a^T K K a - a^T K t + \\frac{1}{2} t^T t+\\frac{\\lambda}{2} a^T K a$$\n",
    "<br>\n",
    "which is minimized for <br>\n",
    "$$a= ( K+\\lambda \\ 1_{100x100})^{-1} \\ t $$"
   ]
  },
  {
   "cell_type": "code",
   "execution_count": null,
   "metadata": {
    "collapsed": true
   },
   "outputs": [],
   "source": [
    "# a = (k + Lambda)^-1 * t_n\n",
    "\n",
    "a = []\n",
    "\n",
    "# calculate a\n",
    "for lam in lambdas:\n",
    "    \n",
    "    # matrix in bracket in formula for a\n",
    "    m = kernel + np.identity(len(x))*lam\n",
    "    m_inv = np.linalg.inv(m)\n",
    "    \n",
    "    \n",
    "    a_lam = m_inv.dot(t_n) \n",
    "    \n",
    "    \n",
    "    a.append(a_lam)\n",
    "    \n",
    "    print(\"\\nfor lambda = \"+str(lam)+\":\")\n",
    "    print(a_lam)"
   ]
  },
  {
   "cell_type": "markdown",
   "metadata": {},
   "source": [
    "## (5)\n",
    "\n",
    "Show that both solutions agree by obtaining w from your solution a."
   ]
  },
  {
   "cell_type": "code",
   "execution_count": null,
   "metadata": {
    "collapsed": true
   },
   "outputs": [],
   "source": [
    "w_dual = []\n",
    "\n",
    "# weights from a\n",
    "\n",
    "for a_lam in a:\n",
    "    w_froma = phi_n.transpose().dot(a_lam)\n",
    "    w_dual.append(w_froma)\n",
    "    \n",
    "print(\"compare results:\\n\")\n",
    "print(\"from Kernel via formula:\")\n",
    "print(w_kernel_formula)\n",
    "print(\"\\nfrom a:\")\n",
    "print(w_dual)"
   ]
  },
  {
   "cell_type": "markdown",
   "metadata": {},
   "source": [
    "For t_n_linear and t_n_squared: <br> \n",
    "$\\ $ Results for $ \\lambda = 0 $ disagree. <br>\n",
    "$\\ $ Results for $ \\lambda = 0.1, 1 $ agree. \n",
    " "
   ]
  }
 ],
 "metadata": {
  "kernelspec": {
   "display_name": "Python 3",
   "language": "python",
   "name": "python3"
  },
  "language_info": {
   "codemirror_mode": {
    "name": "ipython",
    "version": 3
   },
   "file_extension": ".py",
   "mimetype": "text/x-python",
   "name": "python",
   "nbconvert_exporter": "python",
   "pygments_lexer": "ipython3",
   "version": "3.6.1"
  }
 },
 "nbformat": 4,
 "nbformat_minor": 1
}
