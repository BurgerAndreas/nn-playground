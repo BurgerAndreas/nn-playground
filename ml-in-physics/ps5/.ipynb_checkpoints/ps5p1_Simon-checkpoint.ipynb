{
 "cells": [
  {
   "cell_type": "markdown",
   "metadata": {},
   "source": [
    "# Machine Learning in Fundamental Physics"
   ]
  },
  {
   "cell_type": "markdown",
   "metadata": {},
   "source": [
    "## Exercise Sheet 5, Exercise 1\n"
   ]
  },
  {
   "cell_type": "code",
   "execution_count": 12,
   "metadata": {
    "collapsed": true
   },
   "outputs": [],
   "source": [
    "import numpy as np\n",
    "from sklearn.linear_model import Ridge\n",
    "from sklearn.kernel_ridge import KernelRidge"
   ]
  },
  {
   "cell_type": "code",
   "execution_count": 13,
   "metadata": {
    "collapsed": true
   },
   "outputs": [],
   "source": [
    "#Generate the data: 100 Data Points in the range (0,100), y= 2*x + gaussian_noise(mean=0, std=1.0)\n",
    "x = np.linspace(1,100,100)\n",
    "y = 2*x+np.random.normal(loc=0.0, scale=1.0, size=(100))\n",
    "\n",
    "#Lambdas from the problem set\n",
    "lmbdas = [0, 0.1, 1]"
   ]
  },
  {
   "cell_type": "markdown",
   "metadata": {},
   "source": [
    "### Ridge Regression without kernel\n"
   ]
  },
  {
   "cell_type": "markdown",
   "metadata": {},
   "source": [
    "We use $w_\\textrm{optimal} = \\frac{x^T y}{x^T x+\\lambda}$."
   ]
  },
  {
   "cell_type": "code",
   "execution_count": 14,
   "metadata": {},
   "outputs": [
    {
     "name": "stdout",
     "output_type": "stream",
     "text": [
      "Weights for lambda = 0, 0.1, 1.0:\n",
      "[2.0022045686043732, 2.0022039768490973, 2.0021986510673524]\n"
     ]
    }
   ],
   "source": [
    "#Create empty array to store the weights\n",
    "weights = []\n",
    "\n",
    "for lmbda in lmbdas:\n",
    "    w = 1/(np.dot(x,x) + lmbda) * np.dot(x,y)\n",
    "    weights.append(w)\n",
    "    \n",
    "print('Weights for lambda = 0, 0.1, 1.0:')\n",
    "print(weights)\n",
    "    \n",
    "#inverse = np.linalg.inv(np.dot(x,x) + lamda * np.identity(100))"
   ]
  },
  {
   "cell_type": "markdown",
   "metadata": {},
   "source": [
    "Unsurprisingly, the weights are all very close to $2$ as they should be. "
   ]
  },
  {
   "cell_type": "markdown",
   "metadata": {},
   "source": [
    "### Ridge Regression with kernel\n"
   ]
  },
  {
   "cell_type": "markdown",
   "metadata": {},
   "source": [
    "We use $w_\\textrm{optimal} = (\\phi^T \\phi + \\lambda \\ 1_{2x2})^{-1} \\phi^T \\ t_n$."
   ]
  },
  {
   "cell_type": "code",
   "execution_count": 15,
   "metadata": {},
   "outputs": [
    {
     "name": "stdout",
     "output_type": "stream",
     "text": [
      "Weights for lambda = 0, 0.1, 1.0:\n",
      "[array([ 2.00230507e+00, -1.33337173e-06]), array([ 2.00229560e+00, -1.21558565e-06]), array([ 2.00221038e+00, -1.55560889e-07])]\n"
     ]
    }
   ],
   "source": [
    "#Calculate phi_transpose and phi\n",
    "phi_transpose = np.array([x,np.square(x)])\n",
    "phi = np.transpose(phi_transpose)\n",
    "\n",
    "#Create empty array to store the weights\n",
    "weights = []\n",
    "        \n",
    "for lmbda in lmbdas:\n",
    "    t = y\n",
    "    w = np.matmul(np.matmul(np.linalg.pinv(np.matmul(phi_transpose, phi) + lmbda * np.identity(2)), phi_transpose), t)\n",
    "    weights.append(w)\n",
    "\n",
    "print('Weights for lambda = 0, 0.1, 1.0:')\n",
    "print(weights)"
   ]
  },
  {
   "cell_type": "markdown",
   "metadata": {},
   "source": [
    "The first value (corresponding to $x$) is close to $2$ and the second value (corresponding to $x^2$) is close to $0$."
   ]
  },
  {
   "cell_type": "markdown",
   "metadata": {},
   "source": [
    "### Ridge Regression with kernel in dual formulation\n"
   ]
  },
  {
   "cell_type": "markdown",
   "metadata": {},
   "source": [
    "We use $a_\\textrm{optimal} = ( K+\\lambda \\ 1_{100x100})^{-1} \\ t $ and $w = \\phi^T a $."
   ]
  },
  {
   "cell_type": "code",
   "execution_count": 16,
   "metadata": {},
   "outputs": [
    {
     "name": "stdout",
     "output_type": "stream",
     "text": [
      "Weights for lambda = 0, 0.1, 1.0:\n",
      "[array([ 2.00230507e+00, -1.33337171e-06]), array([ 2.00229560e+00, -1.24354847e-06]), array([ 2.00221038e+00, -1.58017428e-07])]\n"
     ]
    }
   ],
   "source": [
    "#Calculate phi_transpose (needed to calculate weights from dual weights)\n",
    "phi_transpose = np.array([x,np.square(x)])\n",
    "phi = np.transpose(phi_transpose)\n",
    "\n",
    "#Calculate kernel for the kernel function (x, x^2)\n",
    "kernel = np.matmul(phi, phi_transpose)\n",
    "        \n",
    "#Create empty array to store the weights\n",
    "weights = []\n",
    "        \n",
    "for lmbda in lmbdas:\n",
    "    y = t\n",
    "    a = np.matmul(np.linalg.pinv(kernel + lmbda * np.identity(100)), t)\n",
    "    w = np.matmul(phi_transpose,a)\n",
    "    weights.append(w)\n",
    "\n",
    "print('Weights for lambda = 0, 0.1, 1.0:')\n",
    "print(weights)"
   ]
  },
  {
   "cell_type": "markdown",
   "metadata": {},
   "source": [
    "The values are identical to the ones above. The first value (corresponding to $x$) is close to $2$ and the second value (corresponding to $x^2$) is close to $0$. "
   ]
  },
  {
   "cell_type": "code",
   "execution_count": null,
   "metadata": {
    "collapsed": true
   },
   "outputs": [],
   "source": []
  },
  {
   "cell_type": "code",
   "execution_count": null,
   "metadata": {
    "collapsed": true
   },
   "outputs": [],
   "source": []
  }
 ],
 "metadata": {
  "kernelspec": {
   "display_name": "Python 3",
   "language": "python",
   "name": "python3"
  },
  "language_info": {
   "codemirror_mode": {
    "name": "ipython",
    "version": 3
   },
   "file_extension": ".py",
   "mimetype": "text/x-python",
   "name": "python",
   "nbconvert_exporter": "python",
   "pygments_lexer": "ipython3",
   "version": "3.6.1"
  }
 },
 "nbformat": 4,
 "nbformat_minor": 5
}
