{
 "cells": [
  {
   "cell_type": "code",
   "execution_count": 2,
   "id": "483350f0",
   "metadata": {},
   "outputs": [],
   "source": [
    "import numpy as np"
   ]
  },
  {
   "cell_type": "markdown",
   "id": "f64e2e0e",
   "metadata": {},
   "source": [
    "**Show that: H(X,Y) = H(X) + H(Y)**  \n",
    "**if P(X,Y) = P(X) + P(Y)**"
   ]
  },
  {
   "cell_type": "markdown",
   "id": "f82d5331",
   "metadata": {},
   "source": [
    "We start from:\n",
    "\n",
    "$H(X,Y) = - \\sum_{i,j}p(x_i,y_j)\\cdot\\log(p(x_i,y_j))$\n",
    "\n",
    "Using $p(x_i,y_j) = p(x_i)p(y_j)$, because of statistical independency. Hence:  \n",
    "\n",
    "\n",
    "$H(X,Y) = - \\sum_{i,j}p(x_i)p(y_j)\\cdot(\\log(p(x_i))+\\log(p(y_j))$  \n",
    "<br>\n",
    "$\\qquad\\quad \\ = - \\sum_{i}\\sum_{j}(p(y_j)p(x_i)\\log(p(x_i)) + p(x_i)p(y_j)\\log(p(y_j)))$  \n",
    "<br>\n",
    "$\\qquad\\quad \\ = [\\sum_{j}p(y_j)]\\cdot[\\sum_{i}p(x_i)\\log(p(x_i))] + [\\sum_{i}p(x_i)]\\cdot[\\sum_{j}p(y_j)\\log(p(y_j))]$\n",
    "\n",
    "Additionally we know that for the probabilties it holds that:\n",
    "$\\sum_{i}p(x_i) = 1$ and $\\sum_{j}p(y_j) = 1$  \n",
    "Therefore:  \n",
    "<br>\n",
    "$H(X,Y) = [1]\\cdot[\\sum_{i}p(x_i)\\log(p(x_i))] + [1]\\cdot[\\sum_{j}p(y_j)\\log(p(y_j))]$  \n",
    "<br>\n",
    "$\\qquad\\quad \\ = [\\sum_{i}p(x_i)\\log(p(x_i))] + [\\sum_{j}p(y_j)\\log(p(y_j))]$  \n",
    "<br>\n",
    "$\\qquad\\quad \\ = H(X) + H(Y)$  \n",
    "<br>\n",
    "Where we used that:  \n",
    "<br>\n",
    "$H(X) = - \\sum_{i}(p(x_i)\\cdot\\log(p(x_i))$  \n",
    "<br>\n",
    "$H(Y) = - \\sum_{j}(p(y_j)\\cdot\\log(p(y_j))$\n"
   ]
  },
  {
   "cell_type": "markdown",
   "id": "dfae4ce4",
   "metadata": {},
   "source": [
    "## Calculate the Entropy"
   ]
  },
  {
   "cell_type": "code",
   "execution_count": 10,
   "id": "3151e668",
   "metadata": {},
   "outputs": [],
   "source": [
    "n_con = 21\n",
    "n_vow = 5\n",
    "n_num = 10"
   ]
  },
  {
   "cell_type": "markdown",
   "id": "automotive-triple",
   "metadata": {},
   "source": [
    "**Probabilities:**"
   ]
  },
  {
   "cell_type": "code",
   "execution_count": 11,
   "id": "14e03120",
   "metadata": {},
   "outputs": [],
   "source": [
    "p_con = (1/3)/n_con\n",
    "p_vow = (1/3)/n_vow\n",
    "p_num = (1/3)/n_num"
   ]
  },
  {
   "cell_type": "markdown",
   "id": "cleared-croatia",
   "metadata": {},
   "source": [
    "**Shannon Entropy**"
   ]
  },
  {
   "cell_type": "code",
   "execution_count": 12,
   "id": "a64ab393",
   "metadata": {},
   "outputs": [],
   "source": [
    "H_x = -p_con*n_con*np.log2(p_con) - p_vow*n_vow*np.log2(p_vow) - p_num*n_num*np.log2(p_num)"
   ]
  },
  {
   "cell_type": "code",
   "execution_count": 13,
   "id": "strange-thing",
   "metadata": {},
   "outputs": [
    {
     "data": {
      "text/plain": [
       "4.9303537049056505"
      ]
     },
     "execution_count": 13,
     "metadata": {},
     "output_type": "execute_result"
    }
   ],
   "source": [
    "H_x"
   ]
  }
 ],
 "metadata": {
  "kernelspec": {
   "display_name": "Python 3",
   "language": "python",
   "name": "python3"
  },
  "language_info": {
   "codemirror_mode": {
    "name": "ipython",
    "version": 3
   },
   "file_extension": ".py",
   "mimetype": "text/x-python",
   "name": "python",
   "nbconvert_exporter": "python",
   "pygments_lexer": "ipython3",
   "version": "3.8.8"
  }
 },
 "nbformat": 4,
 "nbformat_minor": 5
}
