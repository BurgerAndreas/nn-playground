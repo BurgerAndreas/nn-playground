{
 "cells": [
  {
   "cell_type": "markdown",
   "metadata": {
    "collapsed": true
   },
   "source": [
    "# Kernel methods"
   ]
  },
  {
   "cell_type": "code",
   "execution_count": 1,
   "metadata": {
    "collapsed": true
   },
   "outputs": [],
   "source": [
    "# imports\n",
    "import numpy as np\n",
    "import matplotlib.pyplot as plt\n",
    "from sklearn import linear_model\n",
    "from sklearn.kernel_ridge import KernelRidge"
   ]
  },
  {
   "cell_type": "markdown",
   "metadata": {},
   "source": [
    "..."
   ]
  },
  {
   "cell_type": "markdown",
   "metadata": {},
   "source": [
    "## (1) Ridge Regression without kernel\n",
    "\n",
    "We obtain the solution to a linear regression with respect to our weights w as previously\n",
    "discussed in the lectures.\n",
    "\n",
    "$$C(w) = \\frac{1}{2}\\sum_{n=1}^{N}(w^T x_n-y_n)^2+\\frac{\\lambda}{2}w^Tw$$\n",
    "\n",
    "To implement this, consider the underlying model y = 2x. Generate data with some Gaussian\n",
    "noise (100 datapoints). <br>\n",
    "Solve the optimisation problem for λ = 0, 0.1, 1 as described in the\n",
    "lectures."
   ]
  },
  {
   "cell_type": "markdown",
   "metadata": {
    "collapsed": true
   },
   "source": [
    "Minimum: <br>\n",
    "$$0 = \\frac{\\partial C}{\\partial w}=\\sum_{n=1}^{N}(w^T x_n-y_n)x_m+\\lambda w = x^T x w+\\lambda w - x^T y$$\n",
    "<br> with the solution <br>\n",
    "$$w_\\textrm{optimal} = \\frac{x^T y}{x^T x+\\lambda}$$"
   ]
  },
  {
   "cell_type": "code",
   "execution_count": 2,
   "metadata": {
    "collapsed": true
   },
   "outputs": [],
   "source": [
    "# generate data\n",
    "x = np.linspace(1,100,100)\n",
    "noise = np.random.normal(scale=1, size = 100)\n",
    "y = 2*x + noise\n",
    "\n",
    "\"\"\"\n",
    "def generate_data(num_samples=100):\n",
    "    x = np.linspace(-1, 1, num_samples)\n",
    "    # To illustrate the equivalence we set the variance of the noise rather low. It works just\n",
    "    # as well for nosier data, but 100 samples are a bit too few to see it well.\n",
    "    y = 2 * x + np.random.normal(size=num_samples, scale=0.1)\n",
    "    return x, y\n",
    "\"\"\"\n",
    "\n",
    "# lambda\n",
    "lambdas = [0, 0.1, 1] "
   ]
  },
  {
   "cell_type": "markdown",
   "metadata": {},
   "source": [
    "### Directly via formula"
   ]
  },
  {
   "cell_type": "code",
   "execution_count": 3,
   "metadata": {},
   "outputs": [
    {
     "data": {
      "image/png": "[encoded data removed]",
      "text/plain": [
       "<matplotlib.figure.Figure at 0x2c04cc94c50>"
      ]
     },
     "metadata": {},
     "output_type": "display_data"
    }
   ],
   "source": [
    "# calculate weights via formula\n",
    "w_formula = [] # weights via formula\n",
    "\n",
    "for lam in lambdas:\n",
    "        \n",
    "    # w_formula\n",
    "    w = 1/(np.dot(x,x) + lam) * np.dot(x,y)\n",
    "    w_formula.append(w)\n",
    "    \n",
    "    label = \"lambda = \"+str(lam)\n",
    "    plt.plot(x, w*x, linewidth=1, label = label)\n",
    "    \n",
    "    \n",
    "# plot w_formula\n",
    "plt.scatter(x,y, s=1, c = \"red\", label = \"data points\")\n",
    "plt.legend()\n",
    "plt.title(\"Predictions via formula, no kernel\")\n",
    "plt.show()"
   ]
  },
  {
   "cell_type": "markdown",
   "metadata": {},
   "source": [
    "### Via sklearn Ridge ( not needed )"
   ]
  },
  {
   "cell_type": "code",
   "execution_count": 4,
   "metadata": {},
   "outputs": [
    {
     "name": "stdout",
     "output_type": "stream",
     "text": [
      "w_formula for lambda = 0, 0.1, 1:\n",
      "[1.9975033885883677, 1.9975027982225342, 1.9974974849457343]\n",
      "\n",
      "w_ridge for lambda = 0, 0.1, 1:\n",
      "[array([1.99750339]), array([1.9975028]), array([1.99749748])]\n"
     ]
    }
   ],
   "source": [
    "# calculate weights via Ridge \n",
    "ridge = linear_model.Ridge(fit_intercept=False) \n",
    "w_ridge = [] \n",
    "\n",
    "for lam in lambdas:\n",
    "    \n",
    "    # w_ridge\n",
    "    ridge.set_params(alpha=lam) # set regularisation parameter\n",
    "    ridge.fit(x[:, np.newaxis], y) # fit model \n",
    "    w_ridge.append(ridge.coef_) # store weights\n",
    "\n",
    "    \n",
    "\n",
    "# compare w_formula to w_ridge\n",
    "print(\"w_formula for lambda = 0, 0.1, 1:\")\n",
    "print(w_formula)\n",
    "print(\"\\nw_ridge for lambda = 0, 0.1, 1:\")\n",
    "print(w_ridge)\n",
    "    "
   ]
  },
  {
   "cell_type": "markdown",
   "metadata": {},
   "source": [
    "<br>\n",
    "All good :) <br>\n",
    "\n",
    "Both methods give the same result: the weights are all very close to $2$. <br>\n",
    "\n",
    "There is virtually no difference between the $ \\lambda $\n",
    "<br>"
   ]
  },
  {
   "cell_type": "markdown",
   "metadata": {},
   "source": [
    "## (2) Ridge Regression with kernel\n",
    "\n",
    "We now introduce a kernel $φ(x) = (x, x^2)$. <br>\n",
    "Solve again the problem for the underlying model $y = 2x$. <br>\n",
    "Note that this time you need to recalculate the target values $t_n$ appropriately.\n"
   ]
  },
  {
   "cell_type": "markdown",
   "metadata": {},
   "source": [
    "Now with the kernel <br>\n",
    "$$ C(w) = \\frac{1}{2}\\sum_{n=1}^{N}(w^T \\phi(x_n)-t_n)^2+\\frac{\\lambda}{2} w^T w $$\n",
    "<br> and <br>\n",
    "$$ w_\\textrm{optimal} = ( \\phi^T \\phi + \\lambda \\ 1_{2x2} )^{-1} \\phi^T \\ t_n $$"
   ]
  },
  {
   "cell_type": "markdown",
   "metadata": {},
   "source": [
    "### Via formula"
   ]
  },
  {
   "cell_type": "code",
   "execution_count": 5,
   "metadata": {},
   "outputs": [
    {
     "data": {
      "image/png": "[encoded data removed]",
      "text/plain": [
       "<matplotlib.figure.Figure at 0x2c04ccb4128>"
      ]
     },
     "metadata": {},
     "output_type": "display_data"
    }
   ],
   "source": [
    "# phi_transpose and phi\n",
    "phi_transpose = np.array([x,np.square(x)])\n",
    "phi = np.transpose(phi_transpose)\n",
    "t = y # does work\n",
    "#t = y + y**2 # doesn't work\n",
    "\n",
    "\n",
    "w_kernel_formula = []\n",
    "pred_kernel_formula = [] # predictions\n",
    "\n",
    "        \n",
    "j = 0 # counter\n",
    "\n",
    "for lam in lambdas:\n",
    "    \n",
    "    # formula\n",
    "    w = np.matmul(np.matmul(np.linalg.pinv(np.matmul(phi_transpose, phi) + lam * np.identity(2)), phi_transpose), t)\n",
    "    w_kernel_formula.append(w)\n",
    "    \n",
    "    # prediction\n",
    "    pred_kernel_formula.append( w_kernel_formula[j].transpose().dot(phi_transpose) )\n",
    "    j += 1\n",
    "    \n",
    "    # plot predictions \n",
    "    plt.plot(x[:, np.newaxis], pred_kernel_formula[0].transpose(), label = \"lambda = \"+str(lam) )\n",
    "\n",
    "    \n",
    "# plot predictions \n",
    "plt.scatter(x,y, s=1, c = \"red\", label = \"data points\")\n",
    "plt.title(\"Predictions via formula, with kernel\")\n",
    "plt.legend()\n",
    "plt.show()"
   ]
  },
  {
   "cell_type": "markdown",
   "metadata": {},
   "source": [
    "### Via sklearn KernelRidge ( not needed )"
   ]
  },
  {
   "cell_type": "code",
   "execution_count": 6,
   "metadata": {},
   "outputs": [
    {
     "name": "stdout",
     "output_type": "stream",
     "text": [
      "Weights via formula for kernel for lambda = 0, 0.1, 1.0:\n",
      "[array([1.98708069e+00, 1.38281288e-04]), array([1.98707130e+00, 1.38398178e-04]), array([1.98698672e+00, 1.39450142e-04])]\n",
      "\n",
      "Compare predictions (kernel_formula - kernelRidge)\n",
      "5.581029627407266e-10\n",
      "2.390033188047894e-06\n",
      "2.816460409108151e-07\n"
     ]
    },
    {
     "name": "stderr",
     "output_type": "stream",
     "text": [
      "C:\\ProgramData\\Anaconda3\\lib\\site-packages\\sklearn\\linear_model\\ridge.py:154: UserWarning: Singular matrix in solving dual problem. Using least-squares solution instead.\n",
      "  warnings.warn(\"Singular matrix in solving dual problem. Using \"\n"
     ]
    }
   ],
   "source": [
    "phi_n = []\n",
    "t_n = []\n",
    "\n",
    "\n",
    "for i in range(len(x)):\n",
    "    phi_n.append([x[i], x[i]**2])\n",
    "    t_n.append([y[i]]) \n",
    "    \n",
    "    \n",
    "# turn into np arrays\n",
    "phi_n = np.array(phi_n)\n",
    "t_n = np.array(t_n)\n",
    "\n",
    "\n",
    "# kernel function used for KernelRidge\n",
    "def calc_kernel(x_1, x_2):\n",
    "\n",
    "    phi_i = np.array([x_1, x_1**2])\n",
    "    phi_iT = phi_i.transpose()\n",
    "    phi_j = np.array([x_2, x_2**2])\n",
    "    k_ij = phi_iT.dot(phi_j)\n",
    "    \n",
    "    return k_ij\n",
    "\n",
    "\n",
    "# data in right shape\n",
    "x1 = x[:, np.newaxis]\n",
    "y1 = y[:, np.newaxis]\n",
    "\n",
    "\n",
    "kernel_ridge = KernelRidge(kernel = calc_kernel, degree = 2)\n",
    "w_kernelRidge = []\n",
    "pred_kernelRidge = []\n",
    "\n",
    "for lam in lambdas:\n",
    "    \n",
    "    # KernelRidge\n",
    "    kernel_ridge.set_params(alpha=lam)\n",
    "    kernel_ridge.fit(x1, y1)\n",
    "    w_kernelRidge.append(kernel_ridge.dual_coef_) # weight vector(s) in kernel space\n",
    "    \n",
    "    # prediction from KernelRidge\n",
    "    pred_kernelRidge.append(kernel_ridge.predict(x1)) # not used\n",
    "    \n",
    "    \n",
    "print('Weights via formula for kernel for lambda = 0, 0.1, 1.0:')\n",
    "print(w_kernel_formula)\n",
    "\n",
    "print('\\nCompare predictions (kernel_formula - kernelRidge)')\n",
    "for j in range(3):\n",
    "    print( np.linalg.norm( pred_kernel_formula[j] - pred_kernelRidge[j].transpose() ) )"
   ]
  },
  {
   "cell_type": "markdown",
   "metadata": {},
   "source": [
    "<br>\n",
    "All good :) <br>\n",
    "\n",
    "The first value ($x$) is close to $2$ <br>\n",
    "The second value ($x^2$) is close to $0$. <br>\n",
    "\n",
    "The predictions from the formula & kernelRidge match <br>\n",
    "\n",
    "Again there is virtually no difference between the $\\lambda $.\n",
    "<br>"
   ]
  },
  {
   "cell_type": "markdown",
   "metadata": {},
   "source": [
    "## (3) Kernel\n",
    "\n",
    "Calculate the kernel function $ k(x_n, x_m) = φ(x_n)^T φ(x_m)$"
   ]
  },
  {
   "cell_type": "code",
   "execution_count": 7,
   "metadata": {},
   "outputs": [
    {
     "name": "stdout",
     "output_type": "stream",
     "text": [
      "[[2.0000000e+00 6.0000000e+00 1.2000000e+01 ... 9.7020000e+03\n",
      "  9.9000000e+03 1.0100000e+04]\n",
      " [6.0000000e+00 2.0000000e+01 4.2000000e+01 ... 3.8612000e+04\n",
      "  3.9402000e+04 4.0200000e+04]\n",
      " [1.2000000e+01 4.2000000e+01 9.0000000e+01 ... 8.6730000e+04\n",
      "  8.8506000e+04 9.0300000e+04]\n",
      " ...\n",
      " [9.7020000e+03 3.8612000e+04 8.6730000e+04 ... 9.2246420e+07\n",
      "  9.4138506e+07 9.6049800e+07]\n",
      " [9.9000000e+03 3.9402000e+04 8.8506000e+04 ... 9.4138506e+07\n",
      "  9.6069402e+07 9.8019900e+07]\n",
      " [1.0100000e+04 4.0200000e+04 9.0300000e+04 ... 9.6049800e+07\n",
      "  9.8019900e+07 1.0001000e+08]]\n"
     ]
    }
   ],
   "source": [
    "# kernel\n",
    "kernel = np.matmul(phi, phi_transpose)\n",
    "\n",
    "print(kernel)"
   ]
  },
  {
   "cell_type": "markdown",
   "metadata": {},
   "source": [
    "## (4) Kernel in dual formulation\n",
    "\n",
    "Using this kernel function solve the optimisation problem for the dual variables a."
   ]
  },
  {
   "cell_type": "markdown",
   "metadata": {},
   "source": [
    "With $w = \\phi^T a $ one gets <br>\n",
    "$$C(a)=\\frac{1}{2}a^T K K a - a^T K t + \\frac{1}{2} t^T t+\\frac{\\lambda}{2} a^T K a$$\n",
    "<br>\n",
    "which is minimized for <br>\n",
    "$$a= ( K+\\lambda \\ 1_{100x100})^{-1} \\ t $$"
   ]
  },
  {
   "cell_type": "code",
   "execution_count": 8,
   "metadata": {
    "collapsed": true
   },
   "outputs": [],
   "source": [
    "# a = (k + Lambda)^-1 * t_n\n",
    "\n",
    "a = []\n",
    "w_dual = []\n",
    "        \n",
    "for lam in lambdas:\n",
    "    \n",
    "    _a = np.matmul(np.linalg.pinv(kernel + lam * np.identity(100)), t)\n",
    "    w = np.matmul(phi_transpose, _a)\n",
    "    \n",
    "    w_dual.append(w)\n",
    "    a.append(_a)\n",
    "\n"
   ]
  },
  {
   "cell_type": "markdown",
   "metadata": {},
   "source": [
    "## (5) Confirmation\n",
    "\n",
    "Show that both solutions agree by obtaining w from your solution a."
   ]
  },
  {
   "cell_type": "code",
   "execution_count": 9,
   "metadata": {},
   "outputs": [
    {
     "name": "stdout",
     "output_type": "stream",
     "text": [
      "compare results:\n",
      "\n",
      "from Kernel via formula:\n",
      "[array([1.98708069e+00, 1.38281288e-04]), array([1.98707130e+00, 1.38398178e-04]), array([1.98698672e+00, 1.39450142e-04])]\n",
      "\n",
      "from dual formulation:\n",
      "[array([1.98708069e+00, 1.38281288e-04]), array([1.98707130e+00, 1.38378142e-04]), array([1.98698672e+00, 1.39449900e-04])]\n"
     ]
    }
   ],
   "source": [
    "\n",
    "    \n",
    "print(\"compare results:\\n\")\n",
    "print(\"from Kernel via formula:\")\n",
    "print(w_kernel_formula)\n",
    "print(\"\\nfrom dual formulation:\")\n",
    "print(w_dual)"
   ]
  },
  {
   "cell_type": "markdown",
   "metadata": {},
   "source": [
    "All good :) <br>\n",
    "\n",
    "The values are identical to the ones above. <br>\n",
    "The first value (corresponding to $x$) is close to $2$ and the second value (corresponding to $x^2$) is close to $0$. \n",
    " "
   ]
  }
 ],
 "metadata": {
  "kernelspec": {
   "display_name": "Python 3",
   "language": "python",
   "name": "python3"
  },
  "language_info": {
   "codemirror_mode": {
    "name": "ipython",
    "version": 3
   },
   "file_extension": ".py",
   "mimetype": "text/x-python",
   "name": "python",
   "nbconvert_exporter": "python",
   "pygments_lexer": "ipython3",
   "version": "3.6.1"
  }
 },
 "nbformat": 4,
 "nbformat_minor": 1
}