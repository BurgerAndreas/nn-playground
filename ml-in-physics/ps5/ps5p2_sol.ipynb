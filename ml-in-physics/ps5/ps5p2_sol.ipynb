{
 "cells": [
  {
   "cell_type": "markdown",
   "metadata": {},
   "source": [
    "# KL divergence, information content (peer correction)\n",
    "a) For independent random variables $(P(X,Y)=P(X)P(Y))$ show that Shannon entropy is additive, i.e. $H(X,Y)=H(X)+H(Y).$\n",
    "\n",
    "b) A source produces a character $x$ from the alphabet ${\\cal A}=\\{0,1,\\ldots,9,a,b,\\ldots,z\\}$; with probability $1/3$, $x$ is a digit $(0,\\ldots,9),$ with probabiblity $1/3$ it is a vowel, and with probability $1/3$ it is one of the $21$ consonants. All numerals are equiprobable, and the same goes for the vowels and consonants. Calculate the entropy of $X.$\n",
    "\n"
   ]
  },
  {
   "cell_type": "markdown",
   "metadata": {},
   "source": [
    "a) Solution: <br>\n",
    "Shannon entropy is defined as $ H(X)=-\\sum_{X}P(X)\\log P(X)$ <br>\n",
    "$$ H(X, Y)=-\\sum_{X, Y}P(X, Y)\\log P(X, Y) =-\\sum_{X, Y}P(X)P(Y)\\log P(X)P(Y)=-\\sum_{X, Y}P(X)P(Y)[\\log P(X)+ \\log P(Y)] = -\\sum_{X, Y}P(X)P(Y)\\log P(X)- \\sum_{X, Y} P(X)P(Y)\\log P(Y)= -\\sum_{X}P(X)\\log P(X)- \\sum_{Y} P(Y)\\log P(Y)= H(X)+H(Y) $$"
   ]
  },
  {
   "cell_type": "markdown",
   "metadata": {},
   "source": [
    "b) Solution:<br>\n",
    "Since drawing characters from this alphabet is an independent process and Shannon entropy is additive for independent random variables:<br>\n",
    "$$ H(X)=-\\sum_{X}P(X)\\log P(X) = -[10*\\frac{1}{3}\\frac{1}{10}\\log (\\frac{1}{3}\\frac{1}{10}) + 5* \\frac{1}{3}\\frac{1}{5} \\log (\\frac{1}{3}\\frac{1}{5}) + 21* \\frac{1}{3}\\frac{1}{21} \\log (\\frac{1}{3}\\frac{1}{21})] = -\\frac{1}{3}[ 3*\\log \\frac{1}{3}+ \\log \\frac{1}{10}+\\frac{1}{5}+\\frac{1}{21}] = \\log 3+ \\frac{1}{3}[\\log 10 + \\log 5 +\\log 21] $$ \n"
   ]
  }
 ],
 "metadata": {
  "kernelspec": {
   "display_name": "Python 3",
   "language": "python",
   "name": "python3"
  },
  "language_info": {
   "codemirror_mode": {
    "name": "ipython",
    "version": 3
   },
   "file_extension": ".py",
   "mimetype": "text/x-python",
   "name": "python",
   "nbconvert_exporter": "python",
   "pygments_lexer": "ipython3",
   "version": "3.7.9"
  }
 },
 "nbformat": 4,
 "nbformat_minor": 4
}