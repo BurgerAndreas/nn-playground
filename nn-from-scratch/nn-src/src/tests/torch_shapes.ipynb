{
 "cells": [
  {
   "cell_type": "code",
   "execution_count": 57,
   "metadata": {},
   "outputs": [],
   "source": [
    "import torch"
   ]
  },
  {
   "cell_type": "code",
   "execution_count": 58,
   "metadata": {},
   "outputs": [
    {
     "name": "stdout",
     "output_type": "stream",
     "text": [
      "/Users/a-burger-zeb/Coding/nn-from-scratch/src\n"
     ]
    }
   ],
   "source": [
    "# adding to the system path\n",
    "import os\n",
    "import sys\n",
    "# d = os.path.dirname(os.path.dirname(os.path.abspath(__file__)))\n",
    "d = os.path.dirname(os.getcwd())\n",
    "sys.path.insert(0, d)\n",
    "# export PYTHONPATH=’path/to/directory’\n",
    "print(d)"
   ]
  },
  {
   "cell_type": "code",
   "execution_count": 59,
   "metadata": {},
   "outputs": [],
   "source": [
    "from helpers.get_data import create_linear_data, train_test_split, create_random_data"
   ]
  },
  {
   "cell_type": "code",
   "execution_count": 60,
   "metadata": {},
   "outputs": [],
   "source": [
    "dim = 5"
   ]
  },
  {
   "cell_type": "code",
   "execution_count": 61,
   "metadata": {},
   "outputs": [
    {
     "name": "stdout",
     "output_type": "stream",
     "text": [
      "torch.Size([10, 5]) torch.Size([10])\n"
     ]
    }
   ],
   "source": [
    "x, y = create_random_data(num_samples=10, dim=dim, binary=True) # (samples, dim), (samples,)\n",
    "print(x.shape, y.shape)"
   ]
  },
  {
   "cell_type": "code",
   "execution_count": 62,
   "metadata": {},
   "outputs": [
    {
     "name": "stdout",
     "output_type": "stream",
     "text": [
      "torch.Size([5, 1])\n",
      "torch.Size([1])\n"
     ]
    }
   ],
   "source": [
    "w = torch.rand(size=[dim, 1], requires_grad=True) # (dim, 1)\n",
    "b = torch.rand(size=[1], requires_grad=True) # (1,)\n",
    "print(w.shape)\n",
    "print(b.shape)"
   ]
  },
  {
   "cell_type": "code",
   "execution_count": 63,
   "metadata": {},
   "outputs": [
    {
     "name": "stdout",
     "output_type": "stream",
     "text": [
      "torch.Size([10, 1])\n",
      "tensor([[0.6946],\n",
      "        [0.9195],\n",
      "        [0.7543],\n",
      "        [0.8958],\n",
      "        [0.8467],\n",
      "        [0.8895],\n",
      "        [0.7968],\n",
      "        [0.8699],\n",
      "        [0.8722],\n",
      "        [0.7890]], grad_fn=<SigmoidBackward0>)\n"
     ]
    }
   ],
   "source": [
    "out = torch.sigmoid(x @ w + b) # (samples, 1)\n",
    "print(out.shape)\n",
    "print(out)"
   ]
  },
  {
   "attachments": {},
   "cell_type": "markdown",
   "metadata": {},
   "source": [
    "# ints"
   ]
  },
  {
   "cell_type": "code",
   "execution_count": 64,
   "metadata": {},
   "outputs": [],
   "source": [
    "len_context = 8\n",
    "size_group = 2"
   ]
  },
  {
   "cell_type": "code",
   "execution_count": 66,
   "metadata": {},
   "outputs": [
    {
     "name": "stdout",
     "output_type": "stream",
     "text": [
      "3.0\n",
      "3\n",
      "<class 'float'>\n",
      "True\n"
     ]
    }
   ],
   "source": [
    "import math as m\n",
    "\n",
    "t = m.log(len_context, size_group)\n",
    "\n",
    "print(t)\n",
    "print(int(3))\n",
    "print(type(t))\n",
    "print(int(t) == t)"
   ]
  },
  {
   "cell_type": "code",
   "execution_count": 71,
   "metadata": {},
   "outputs": [
    {
     "name": "stdout",
     "output_type": "stream",
     "text": [
      "[1, 2, 3, 4, 5, 6, 7, 8, 9, 10, 11, 12, 13, 14]\n"
     ]
    }
   ],
   "source": [
    "mylist = [1, 2, 3, 4, 5, 6, 7, 8, 9, 10]\n",
    "mylist.append(11)\n",
    "mylist += [12, 13, 14]\n",
    "\n",
    "print(mylist)"
   ]
  }
 ],
 "metadata": {
  "kernelspec": {
   "display_name": "nn_p10",
   "language": "python",
   "name": "python3"
  },
  "language_info": {
   "codemirror_mode": {
    "name": "ipython",
    "version": 3
   },
   "file_extension": ".py",
   "mimetype": "text/x-python",
   "name": "python",
   "nbconvert_exporter": "python",
   "pygments_lexer": "ipython3",
   "version": "3.10.9"
  },
  "orig_nbformat": 4,
  "vscode": {
   "interpreter": {
    "hash": "4cfd53eaee0be597304b88a4f339e1f5d45f9cab7dc565919ba4fdda7e90d79f"
   }
  }
 },
 "nbformat": 4,
 "nbformat_minor": 2
}
