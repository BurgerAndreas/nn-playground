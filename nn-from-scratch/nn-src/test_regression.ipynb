{
 "cells": [
  {
   "cell_type": "code",
   "execution_count": 5,
   "metadata": {},
   "outputs": [
    {
     "name": "stdout",
     "output_type": "stream",
     "text": [
      "[0, 1, 2, 3, 4]\n",
      "6.273600000000001\n"
     ]
    }
   ],
   "source": [
    "gamma = 0.8\n",
    "\n",
    "reward = [-3, 5, 2, 7, 1]\n",
    "tend = 5 # number of time steps\n",
    "\n",
    "timesteps = list(range(tend))\n",
    "print(timesteps)\n",
    "\n",
    "# compute from scratch\n",
    "g0 = 0\n",
    "for t in timesteps:\n",
    "    g0 += gamma**(t) * reward[t]\n",
    "print(g0)"
   ]
  },
  {
   "cell_type": "code",
   "execution_count": 6,
   "metadata": {},
   "outputs": [
    {
     "name": "stdout",
     "output_type": "stream",
     "text": [
      "6.2736\n"
     ]
    }
   ],
   "source": [
    "# compute backwards\n",
    "g0_back = 0\n",
    "for t in reversed(timesteps):\n",
    "    g0_back = (g0_back*gamma) + reward[t]\n",
    "print(g0_back)\n"
   ]
  }
 ],
 "metadata": {
  "kernelspec": {
   "display_name": "nn_p10",
   "language": "python",
   "name": "python3"
  },
  "language_info": {
   "codemirror_mode": {
    "name": "ipython",
    "version": 3
   },
   "file_extension": ".py",
   "mimetype": "text/x-python",
   "name": "python",
   "nbconvert_exporter": "python",
   "pygments_lexer": "ipython3",
   "version": "3.10.9"
  },
  "orig_nbformat": 4
 },
 "nbformat": 4,
 "nbformat_minor": 2
}
